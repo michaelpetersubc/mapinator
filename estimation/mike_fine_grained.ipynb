{
 "cells": [
  {
   "cell_type": "markdown",
   "id": "8f5de8b0-b496-4117-b8c7-70090b23f855",
   "metadata": {},
   "source": [
    "## Assign Scores - Universities\n",
    "\n",
    "This worksheet is designed to give some sense of how well individual universities fit in a tier.\n",
    "This is done by counting up the placements (and hires) of a university, computing the likelihood of those placements (or hires) given the estimated tier placement rates, then creating a score for each univerity by taking a weighted sum of the placements with the weights being equal to the estimated mean value of offers from those universities.  The value of hires is a weighted sum of all hires with the weights be equal to the estimated value of the graduates hired.\n",
    "\n",
    "There is a bias in this method because tier 1 is oversampled.  All its values will be higher just because we were more likely to find its placements."
   ]
  },
  {
   "cell_type": "code",
   "execution_count": 1,
   "id": "bfe993b6-e220-46d4-a5ea-eb801a03eba9",
   "metadata": {},
   "outputs": [
    {
     "data": {
      "text/plain": [
       "Dict{String, Any} with 7 entries:\n",
       "  \"data_loaded\"              => DateTime(\"2024-08-31T23:13:46.046\")\n",
       "  \"row_labels\"               => Any[\"TYPE 1 (20 insts)\", \"TYPE 2 (62 insts)\", \"…\n",
       "  \"unmatched_index\"          => 10\n",
       "  \"number_of_academic_types\" => 5\n",
       "  \"institution_counts\"       => [20, 62, 179, 352, 568, 159, 255, 635, 443, 1, …\n",
       "  \"algorithm_run_id\"         => 6\n",
       "  \"num_years\"                => 24"
      ]
     },
     "execution_count": 1,
     "metadata": {},
     "output_type": "execute_result"
    }
   ],
   "source": [
    "using HTTP, JSON, PrettyTables, JLD, DotEnv, Distributions, LinearAlgebra, Dates, MySQL\n",
    "cfg = DotEnv.config(\"../.env\")\n",
    "files_path = cfg[\"files_path\"]\n",
    "#adjacency = load(files_path*\"placement_rates.jld\")[\"placement_rates\"]\n",
    "classification_properties = load(files_path*\"classification_properties.jld\")[\"classification_properties\"]\n",
    "rep = JSON.parsefile(files_path*\"likelihood_ratios.json\");\n",
    "refresh_mysql_db = false\n",
    "classification_properties"
   ]
  },
  {
   "cell_type": "code",
   "execution_count": 2,
   "id": "053380c2-00a0-4ced-b146-d951c29a50b7",
   "metadata": {},
   "outputs": [
    {
     "data": {
      "text/plain": [
       "value_quantiles (generic function with 1 method)"
      ]
     },
     "execution_count": 2,
     "metadata": {},
     "output_type": "execute_result"
    }
   ],
   "source": [
    "function value_quantiles(a, value)\n",
    "    # a is a vector of variable length, value is a real number\n",
    "    # returns the proportion of values in the array that are less than or equal to value\n",
    "    # dists[t][:,1] is the array of hire values for each member of tier t\n",
    "    # dists[t][:,2] is the array of placement values for each member of tier t\n",
    "       return length(a[a .<= value])/length(a)\n",
    "end\n"
   ]
  },
  {
   "cell_type": "code",
   "execution_count": 3,
   "id": "074e467d-355c-473f-8807-0fb477c4dbb3",
   "metadata": {},
   "outputs": [
    {
     "ename": "LoadError",
     "evalue": "BoundsError: attempt to access 179×2 Matrix{Float64} at index [359]",
     "output_type": "error",
     "traceback": [
      "BoundsError: attempt to access 179×2 Matrix{Float64} at index [359]",
      "",
      "Stacktrace:",
      " [1] setindex!(A::Matrix{Float64}, x::Float64, i1::Int64)",
      "   @ Base ./array.jl:966",
      " [2] top-level scope",
      "   @ ./In[3]:11"
     ]
    }
   ],
   "source": [
    "# creates an array conntaining matrices of different sizes\n",
    "# dists[t][:,1] is an array of values of hires by each member of tier t\n",
    "# dists[t][:,2] is an array of values of the placements of each member of the tier\n",
    "dists = Array{Any}(nothing,5)\n",
    "for k in 1:classification_properties[\"number_of_academic_types\"]\n",
    "    dist = zeros(classification_properties[\"institution_counts\"][k],2)\n",
    "    n = 1\n",
    "    for r in rep\n",
    "        if r[\"tier\"]==k\n",
    "            dist[n] = r[\"hiring_value\"]\n",
    "            dist[n+classification_properties[\"institution_counts\"][k]] = r[\"placement_value\"]\n",
    "            n += 1\n",
    "        end\n",
    "    end\n",
    "    dists[k] = dist\n",
    "end"
   ]
  },
  {
   "cell_type": "code",
   "execution_count": 4,
   "id": "cce39235-95c8-47e9-8bd2-4d2aa9a19cd4",
   "metadata": {},
   "outputs": [
    {
     "data": {
      "text/plain": [
       "distribution (generic function with 1 method)"
      ]
     },
     "execution_count": 4,
     "metadata": {},
     "output_type": "execute_result"
    }
   ],
   "source": [
    "#length(a[a .< x])/length(a)\n",
    "function distribution(a)\n",
    "    b = Any[]\n",
    "    for (index,value) in enumerate(a)\n",
    "        push!(b,length(a[a .<= value])/length(a))\n",
    "    end\n",
    "    return b\n",
    "end\n",
    "            "
   ]
  },
  {
   "cell_type": "code",
   "execution_count": 5,
   "id": "3b425930-ec30-4ac0-9319-419a0367f939",
   "metadata": {},
   "outputs": [
    {
     "ename": "LoadError",
     "evalue": "MethodError: no method matching getindex(::Nothing, ::Colon, ::Int64)",
     "output_type": "error",
     "traceback": [
      "MethodError: no method matching getindex(::Nothing, ::Colon, ::Int64)",
      "",
      "Stacktrace:",
      " [1] top-level scope",
      "   @ In[5]:9"
     ]
    }
   ],
   "source": [
    "# display hiring values for each tier\n",
    "using Plots\n",
    "y = distribution(sort(dists[1][:,1]))\n",
    "x = sort(dists[1][:,1])\n",
    "plot(x,y)\n",
    "y = distribution(sort(dists[2][:,1]))\n",
    "x = sort(dists[2][:,1])\n",
    "plot!(x,y)\n",
    "y = distribution(sort(dists[3][:,1]))\n",
    "x = sort(dists[3][:,1])\n",
    "plot!(x,y)\n",
    "y = distribution(sort(dists[4][:,1]))\n",
    "x = sort(dists[4][:,1])\n",
    "plot!(x,y)\n",
    "y = distribution(sort(dists[5][:,1]))\n",
    "x = sort(dists[5][:,1])\n",
    "plot!(x,y)\n",
    "            \n"
   ]
  },
  {
   "cell_type": "code",
   "execution_count": 6,
   "id": "c68e3df2-7dc6-4974-9cc5-ef71b21e4b26",
   "metadata": {},
   "outputs": [
    {
     "ename": "LoadError",
     "evalue": "MethodError: no method matching getindex(::Nothing, ::Colon, ::Int64)",
     "output_type": "error",
     "traceback": [
      "MethodError: no method matching getindex(::Nothing, ::Colon, ::Int64)",
      "",
      "Stacktrace:",
      " [1] top-level scope",
      "   @ In[6]:8"
     ]
    }
   ],
   "source": [
    "# display offer values for each tier\n",
    "y = distribution(sort(dists[1][:,2]))\n",
    "x = sort(dists[1][:,2])\n",
    "plot(x,y)\n",
    "y = distribution(sort(dists[2][:,2]))\n",
    "x = sort(dists[2][:,2])\n",
    "plot!(x,y)\n",
    "y = distribution(sort(dists[3][:,2]))\n",
    "x = sort(dists[3][:,2])\n",
    "plot!(x,y)\n",
    "y = distribution(sort(dists[4][:,2]))\n",
    "x = sort(dists[4][:,2])\n",
    "plot!(x,y)\n",
    "y = distribution(sort(dists[5][:,2]))\n",
    "x = sort(dists[5][:,2])\n",
    "plot!(x,y)\n",
    "  "
   ]
  },
  {
   "cell_type": "code",
   "execution_count": 7,
   "id": "49099765-7936-445f-94d7-a9d49b03c74e",
   "metadata": {},
   "outputs": [],
   "source": [
    "refresh_mysql_db = false\n",
    "if refresh_mysql_db == true\n",
    "    d = DBInterface.connect(MySQL.Connection,cfg[\"host\"], cfg[\"user\"], cfg[\"password\"], \n",
    "        db =cfg[\"database\"], port = parse(Int64,cfg[\"port\"]));\n",
    "    q = \"\"\"\n",
    "    delete from t_distribution where algorithm_run_id=?\n",
    "    \"\"\"\n",
    "    delete_statement = DBInterface.prepare(d, q)\n",
    "    DBInterface.execute(delete_statement,[classification_properties[\"algorithm_run_id\"]])\n",
    "    \n",
    "    query = \"\"\"\n",
    "        insert into econjobmarket_research.t_distribution (type,institution_id,created,algorithm_run_id, properties)\n",
    "        values(?,?,?,?,?)\n",
    "    \"\"\"\n",
    "    insert_statement =  DBInterface.prepare(d, query);\n",
    "    function save_type(insert_statement,t,institution_id,run_id,json_data)\n",
    "        #values would be the rep dict\n",
    "        DBInterface.execute(insert_statement, [t,institution_id,now(),run_id,JSON.json(json_data)])\n",
    "    end\n",
    "\n",
    "end"
   ]
  },
  {
   "cell_type": "code",
   "execution_count": 8,
   "id": "5d200938-70b5-4b8b-a12a-05dc04e47ef4",
   "metadata": {},
   "outputs": [
    {
     "ename": "LoadError",
     "evalue": "MethodError: no method matching getindex(::Nothing, ::Colon, ::Int64)",
     "output_type": "error",
     "traceback": [
      "MethodError: no method matching getindex(::Nothing, ::Colon, ::Int64)",
      "",
      "Stacktrace:",
      " [1] top-level scope",
      "   @ ./In[8]:3"
     ]
    }
   ],
   "source": [
    "new_rep = []\n",
    "for r in rep\n",
    "    r[\"placement_quantile\"] = value_quantiles(dists[r[\"tier\"]][:,2],r[\"placement_value\"])\n",
    "    r[\"hiring_quantile\"] = value_quantiles(dists[r[\"tier\"]][:,1], r[\"hiring_value\"] )\n",
    "    push!(new_rep, r)\n",
    "    if refresh_mysql_db == true\n",
    "        try\n",
    "            save_type(insert_statement,r[\"tier\"],parse(Int64,r[\"id\"]),\n",
    "            classification_properties[\"algorithm_run_id\"],r)\n",
    "        catch e\n",
    "            rethrow(e)\n",
    "        end\n",
    "    end\n",
    "end\n",
    "open(files_path*\"likelihood_ratios.json\", \"w\") do f\n",
    "    write(f, JSON.json(new_rep))\n",
    "end\n",
    "if refresh_mysql_db == true\n",
    "    DBInterface.close!(d)\n",
    "end\n"
   ]
  },
  {
   "cell_type": "code",
   "execution_count": 9,
   "id": "64dce71f-de1a-48a6-bb9c-5c500df5d48f",
   "metadata": {},
   "outputs": [],
   "source": [
    "id = 57\n",
    "for r in new_rep\n",
    "    if r[\"id\"] == string(id)\n",
    "        for (key,value) in r\n",
    "            println(key, \" => \", value)\n",
    "        end\n",
    "    end\n",
    "end"
   ]
  },
  {
   "cell_type": "code",
   "execution_count": 10,
   "id": "417a2b45-5ed2-4ae9-99d1-fdc0d35a9842",
   "metadata": {},
   "outputs": [
    {
     "data": {
      "text/plain": [
       "0.5645161290322581"
      ]
     },
     "execution_count": 10,
     "metadata": {},
     "output_type": "execute_result"
    }
   ],
   "source": [
    "value_quantiles(dists[2][:,2], 33)"
   ]
  }
 ],
 "metadata": {
  "kernelspec": {
   "display_name": "Julia 1.8.5",
   "language": "julia",
   "name": "julia-1.8"
  },
  "language_info": {
   "file_extension": ".jl",
   "mimetype": "application/julia",
   "name": "julia",
   "version": "1.8.5"
  }
 },
 "nbformat": 4,
 "nbformat_minor": 5
}
