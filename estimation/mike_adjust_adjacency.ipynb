{
 "cells": [
  {
   "cell_type": "code",
   "execution_count": 1,
   "id": "32408292-9fa7-4ee6-a6f4-4d3e065d5dc5",
   "metadata": {},
   "outputs": [
    {
     "data": {
      "text/plain": [
       "\"/home/peters/code/mapinator/estimation/current_estimates_and_files/\""
      ]
     },
     "execution_count": 1,
     "metadata": {},
     "output_type": "execute_result"
    }
   ],
   "source": [
    "using HTTP, JSON, PrettyTables, JLD, MySQL, DotEnv, DataFrames, LinearAlgebra\n",
    "include(\"functions/type_allocation_flexible.jl\")\n",
    "cfg = DotEnv.config(\"../.env\")\n",
    "#if you want to refresh the adjustment information set refresh to true\n",
    "# to load saved data instead (which means you'll just be reading previously saved \n",
    "# adjustments, set refresh to false\n",
    "refresh = true\n",
    "files_path = cfg[\"files_path\"]"
   ]
  },
  {
   "cell_type": "markdown",
   "id": "6884b1dd-956d-4520-a9f4-e507da4c891e",
   "metadata": {},
   "source": [
    "The point of this worksheet is to adjust the size of the placements adjacency matrix\n",
    "to accommodate the fact that the highest tiers are oversampled.  Eventually this should not be needed,\n",
    "but at this point it is the only way to produce a reasonable set of estimates.\n",
    "\n",
    "This first part of the file is just reading in classification information."
   ]
  },
  {
   "cell_type": "code",
   "execution_count": 2,
   "id": "1c971be2-bb59-4f5b-8b73-b2e92e82d1ce",
   "metadata": {},
   "outputs": [
    {
     "name": "stdout",
     "output_type": "stream",
     "text": [
      "\u001b[32mnames and placement matrix dimensions match\u001b[39m\n"
     ]
    }
   ],
   "source": [
    "#load adjacency matrix and custom row titles from create classification\n",
    "placement_rates = load(files_path*\"placement_rates.jld\")[\"placement_rates\"]\n",
    "row_names = load(files_path*\"row_names.jld\")[\"names\"]\n",
    "#recreate constants from create classification in order to build new latex table\n",
    "numtotal = size(placement_rates)[1]\n",
    "NUM_TYPES = size(placement_rates)[2]\n",
    "NUM_SINKS = numtotal - NUM_TYPES\n",
    "if numtotal !== length(row_names) \n",
    "    throw(DomainError(length(row_names), \"row_names doesn't match dimensions of the placements matrix\"))\n",
    "else\n",
    "printstyled(\"names and placement matrix dimensions match\\n\"; color = :green)\n",
    "end\n"
   ]
  },
  {
   "cell_type": "markdown",
   "id": "b6e54f7c-d2ac-41f3-8428-d21febc38125",
   "metadata": {},
   "source": [
    "This next part of the file is an attempt to compute the corrections.  \n",
    "\n",
    "The first part attempts to find the coverage by tiers using information from econjobmarket \n",
    "registrations data.\n",
    "\n",
    "Set refresh equal to false at the top of the worksheet if you just want to see the current corrections."
   ]
  },
  {
   "cell_type": "code",
   "execution_count": 3,
   "id": "1f6ce3a5-340c-4ae0-bf8d-1ebce72fef2c",
   "metadata": {},
   "outputs": [],
   "source": [
    "if refresh\n",
    "    query = \"\"\"\n",
    "    select t.type,count(*) as count from ftrecruiter.applicants a join ftrecruiter.organizations o \n",
    "    join ftrecruiter.institutions i join t_distribution t on a.degreeinst_oid=o.oid and \n",
    "    o.institution_id=i.institution_id and t.institution_id=i.institution_id \n",
    "    where a.degreetype=? and a.degreeendyear>=? and a.degreeendyear<=? \n",
    "    and t.algorithm_run_id=? group by type\n",
    "    \"\"\"\n",
    "    params = [\"Phd\", \"2017\", \"2023\", 5]\n",
    "    registrations = SBM_flexible.db_query(query, params)\n",
    "    regs = registrations[:,:count]\n",
    "    query = \"\"\"\n",
    "    select t.type,count(*) as count from ftrecruiter.applicants a join ftrecruiter.organizations o \n",
    "    join ftrecruiter.institutions i join t_distribution t on a.degreeinst_oid=o.oid \n",
    "    and i.institution_id=o.institution_id and t.institution_id=i.institution_id \n",
    "    where year(enrolldate)>=? and year(enrolldate)<=? and degreetype=? \n",
    "    and t.algorithm_run_id=? and aid not in (select aid from applicant_results) group by t.type\n",
    "    \"\"\"\n",
    "    params = [\"2018\", \"2023\", \"Phd\", 5]\n",
    "    ms = SBM_flexible.db_query(query, params)\n",
    "    miss = ms[:, :count]\n",
    "    proportion_missing = ms[!,\"count\"]./registrations[!, \"count\"]\n",
    "    s = []\n",
    "    for x in proportion_missing\n",
    "        push!(s,1/(1-x))\n",
    "    end\n",
    "    data = hcat(regs, miss, s)\n",
    "    save(files_path*\"adjustment_matrix.jld\", \"data\", data)\n",
    "else\n",
    "    data = load(files_path*\"adjustment_matrix.jld\")[\"data\"]\n",
    "    s = data[:,3]\n",
    "    adjusted_placement_rates = round.(Int,placement_rates*Diagonal(I*s))\n",
    "   \n",
    "end"
   ]
  },
  {
   "cell_type": "code",
   "execution_count": 4,
   "id": "c09dc01f-5b8f-4a20-a960-44a56604580a",
   "metadata": {},
   "outputs": [
    {
     "data": {
      "text/html": [
       "<div><div style = \"float: left;\"><span>5×2 DataFrame</span></div><div style = \"clear: both;\"></div></div><div class = \"data-frame\" style = \"overflow-x: scroll;\"><table class = \"data-frame\" style = \"margin-bottom: 6px;\"><thead><tr class = \"header\"><th class = \"rowNumber\" style = \"font-weight: bold; text-align: right;\">Row</th><th style = \"text-align: left;\">type</th><th style = \"text-align: left;\">count</th></tr><tr class = \"subheader headerLastRow\"><th class = \"rowNumber\" style = \"font-weight: bold; text-align: right;\"></th><th title = \"Union{Missing, Int32}\" style = \"text-align: left;\">Int32?</th><th title = \"Int64\" style = \"text-align: left;\">Int64</th></tr></thead><tbody><tr><td class = \"rowNumber\" style = \"font-weight: bold; text-align: right;\">1</td><td style = \"text-align: right;\">1</td><td style = \"text-align: right;\">2664</td></tr><tr><td class = \"rowNumber\" style = \"font-weight: bold; text-align: right;\">2</td><td style = \"text-align: right;\">2</td><td style = \"text-align: right;\">3635</td></tr><tr><td class = \"rowNumber\" style = \"font-weight: bold; text-align: right;\">3</td><td style = \"text-align: right;\">3</td><td style = \"text-align: right;\">4481</td></tr><tr><td class = \"rowNumber\" style = \"font-weight: bold; text-align: right;\">4</td><td style = \"text-align: right;\">4</td><td style = \"text-align: right;\">2284</td></tr><tr><td class = \"rowNumber\" style = \"font-weight: bold; text-align: right;\">5</td><td style = \"text-align: right;\">5</td><td style = \"text-align: right;\">1348</td></tr></tbody></table></div>"
      ],
      "text/latex": [
       "\\begin{tabular}{r|cc}\n",
       "\t& type & count\\\\\n",
       "\t\\hline\n",
       "\t& Int32? & Int64\\\\\n",
       "\t\\hline\n",
       "\t1 & 1 & 2664 \\\\\n",
       "\t2 & 2 & 3635 \\\\\n",
       "\t3 & 3 & 4481 \\\\\n",
       "\t4 & 4 & 2284 \\\\\n",
       "\t5 & 5 & 1348 \\\\\n",
       "\\end{tabular}\n"
      ],
      "text/plain": [
       "\u001b[1m5×2 DataFrame\u001b[0m\n",
       "\u001b[1m Row \u001b[0m│\u001b[1m type   \u001b[0m\u001b[1m count \u001b[0m\n",
       "     │\u001b[90m Int32? \u001b[0m\u001b[90m Int64 \u001b[0m\n",
       "─────┼───────────────\n",
       "   1 │      1   2664\n",
       "   2 │      2   3635\n",
       "   3 │      3   4481\n",
       "   4 │      4   2284\n",
       "   5 │      5   1348"
      ]
     },
     "execution_count": 4,
     "metadata": {},
     "output_type": "execute_result"
    }
   ],
   "source": [
    "registrations"
   ]
  },
  {
   "cell_type": "code",
   "execution_count": 5,
   "id": "625e1f0b-4069-454b-90e6-dba8df37743a",
   "metadata": {},
   "outputs": [
    {
     "data": {
      "text/plain": [
       "5×3 Matrix{Any}:\n",
       " 2664   348  1.15026\n",
       " 3635   825  1.29359\n",
       " 4481  1750  1.64079\n",
       " 2284  1169  2.04843\n",
       " 1348   744  2.23179"
      ]
     },
     "execution_count": 5,
     "metadata": {},
     "output_type": "execute_result"
    }
   ],
   "source": [
    "data"
   ]
  },
  {
   "cell_type": "code",
   "execution_count": 6,
   "id": "9d87af90-5b68-415a-af94-83c723bee04e",
   "metadata": {},
   "outputs": [
    {
     "name": "stdout",
     "output_type": "stream",
     "text": [
      "┌────────────────────────────────┬─────────┬─────────┬─────────┬─────────┬─────────┐\n",
      "│\u001b[1m                                \u001b[0m│\u001b[1m  Type 1 \u001b[0m│\u001b[1m  Type 2 \u001b[0m│\u001b[1m  Type 3 \u001b[0m│\u001b[1m  Type 4 \u001b[0m│\u001b[1m  Type 5 \u001b[0m│\n",
      "├────────────────────────────────┼─────────┼─────────┼─────────┼─────────┼─────────┤\n",
      "│\u001b[1m        Registrations - 2018-23 \u001b[0m│    2664 │    3635 │    4481 │    2284 │    1348 │\n",
      "│\u001b[1m Registrants without placements \u001b[0m│     348 │     825 │    1750 │    1169 │     744 │\n",
      "│\u001b[1m                     Adjustment \u001b[0m│ 1.15026 │ 1.29359 │ 1.64079 │ 2.04843 │ 2.23179 │\n",
      "└────────────────────────────────┴─────────┴─────────┴─────────┴─────────┴─────────┘\n"
     ]
    }
   ],
   "source": [
    "#head = [\"Tier 1\", \"Tier 2\", \"Tier 3\", \"Tier 4\", \"Tier 5\"]\n",
    "head = []\n",
    "for i in 1:NUM_TYPES\n",
    "    push!(head, string(\"Type \", i))\n",
    "end\n",
    "rowh = [\"Registrations - 2018-23\", \"Registrants without placements\", \"Adjustment\"]\n",
    "\n",
    "pretty_table(transpose(data), header= head, row_labels=rowh, backend = Val(:text))"
   ]
  },
  {
   "cell_type": "code",
   "execution_count": 7,
   "id": "78cfcba7-bc27-44f6-914e-2283bb42cc81",
   "metadata": {},
   "outputs": [],
   "source": [
    "if refresh\n",
    "    open(files_path*\"adjustment_table.tex\", \"w\") do f\n",
    "    SBM_flexible.pretty_table(\n",
    "        f,\n",
    "        data',\n",
    "        header = head,\n",
    "        row_labels = rowh,\n",
    "        backend = Val(:latex)\n",
    "        )\n",
    "    end\n",
    "end\n"
   ]
  },
  {
   "cell_type": "code",
   "execution_count": 8,
   "id": "dfd27fca-1c4e-4906-b21d-763d1fa49f0a",
   "metadata": {},
   "outputs": [
    {
     "data": {
      "text/plain": [
       "12×5 Matrix{Int64}:\n",
       " 1417   476   299   100    0\n",
       " 1139  1270   530   250   18\n",
       " 1232  1863  1682   320   74\n",
       "  323   733   758   965   96\n",
       "    9    61    84    90  362\n",
       "  664   775   481   143   45\n",
       "  910   594   415   158   62\n",
       "  100   206   235   133   65\n",
       "   40    94   125   102  121\n",
       "  470   965  1559  1188  984\n",
       "  244   233   161    72   20\n",
       "  269   485   697   367  156"
      ]
     },
     "execution_count": 8,
     "metadata": {},
     "output_type": "execute_result"
    }
   ],
   "source": [
    "Diagonal(I*s)\n",
    "adjusted_placement_rates = round.(Int,placement_rates*Diagonal(I*s))"
   ]
  },
  {
   "cell_type": "code",
   "execution_count": 9,
   "id": "1a1776f0-ac33-45c1-b8cd-c4e544b976b4",
   "metadata": {},
   "outputs": [],
   "source": [
    "if refresh\n",
    "    save(files_path*\"adjusted_placement_rates.jld\", \"adjusted_placement_rates\", adjusted_placement_rates)\n",
    "end  "
   ]
  },
  {
   "cell_type": "code",
   "execution_count": 10,
   "id": "024f50ab-bc19-474c-ba0e-9141e4bf4ebf",
   "metadata": {},
   "outputs": [
    {
     "name": "stdout",
     "output_type": "stream",
     "text": [
      "┌───────────────────────────────────┬────────┬────────┬────────┬────────┬────────┬────────────┐\n",
      "│\u001b[1m                                   \u001b[0m│\u001b[1m Tier 1 \u001b[0m│\u001b[1m Tier 2 \u001b[0m│\u001b[1m Tier 3 \u001b[0m│\u001b[1m Tier 4 \u001b[0m│\u001b[1m Tier 5 \u001b[0m│\u001b[1m Row Totals \u001b[0m│\n",
      "├───────────────────────────────────┼────────┼────────┼────────┼────────┼────────┼────────────┤\n",
      "│\u001b[1m                 TYPE 1 (20 insts) \u001b[0m│   1417 │    476 │    299 │    100 │      0 │       2292 │\n",
      "│\u001b[1m                 TYPE 2 (62 insts) \u001b[0m│   1139 │   1270 │    530 │    250 │     18 │       3207 │\n",
      "│\u001b[1m                TYPE 3 (179 insts) \u001b[0m│   1232 │   1863 │   1682 │    320 │     74 │       5171 │\n",
      "│\u001b[1m                TYPE 4 (352 insts) \u001b[0m│    323 │    733 │    758 │    965 │     96 │       2875 │\n",
      "│\u001b[1m                TYPE 5 (568 insts) \u001b[0m│      9 │     61 │     84 │     90 │    362 │        606 │\n",
      "│\u001b[1m         Public Sector (159 insts) \u001b[0m│    664 │    775 │    481 │    143 │     45 │       2108 │\n",
      "│\u001b[1m        Private Sector (255 insts) \u001b[0m│    910 │    594 │    415 │    158 │     62 │       2139 │\n",
      "│\u001b[1m              Postdocs (635 insts) \u001b[0m│    100 │    206 │    235 │    133 │     65 │        739 │\n",
      "│\u001b[1m             Lecturers (443 insts) \u001b[0m│     40 │     94 │    125 │    102 │    121 │        482 │\n",
      "│\u001b[1m               Unmatched (1 insts) \u001b[0m│    470 │    965 │   1559 │   1188 │    984 │       5166 │\n",
      "│\u001b[1m           Other Groups (39 insts) \u001b[0m│    244 │    233 │    161 │     72 │     20 │        730 │\n",
      "│\u001b[1m Teaching Universities (663 insts) \u001b[0m│    269 │    485 │    697 │    367 │    156 │       1974 │\n",
      "│\u001b[1m                     Column Totals \u001b[0m│   6817 │   7755 │   7026 │   3888 │   2003 │      27489 │\n",
      "└───────────────────────────────────┴────────┴────────┴────────┴────────┴────────┴────────────┘\n"
     ]
    }
   ],
   "source": [
    "SBM_flexible.nice_adjacency_table(adjusted_placement_rates,row_names)"
   ]
  },
  {
   "cell_type": "code",
   "execution_count": 11,
   "id": "87d6fd18-55ac-40fa-884c-3f59c8101fb7",
   "metadata": {},
   "outputs": [],
   "source": [
    "if refresh\n",
    "    SBM_flexible.nice_adjacency_table(adjusted_placement_rates, row_names, files_path*\"adjusted_adjacency_table.tex\")\n",
    "end"
   ]
  }
 ],
 "metadata": {
  "kernelspec": {
   "display_name": "Julia 1.8.5",
   "language": "julia",
   "name": "julia-1.8"
  },
  "language_info": {
   "file_extension": ".jl",
   "mimetype": "application/julia",
   "name": "julia",
   "version": "1.8.5"
  }
 },
 "nbformat": 4,
 "nbformat_minor": 5
}
