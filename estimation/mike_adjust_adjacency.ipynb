{
 "cells": [
  {
   "cell_type": "code",
   "execution_count": 1,
   "id": "32408292-9fa7-4ee6-a6f4-4d3e065d5dc5",
   "metadata": {},
   "outputs": [
    {
     "data": {
      "text/plain": [
       "\"/home/peters/code/mapinator/estimation/current_estimates_and_files/\""
      ]
     },
     "execution_count": 1,
     "metadata": {},
     "output_type": "execute_result"
    }
   ],
   "source": [
    "using HTTP, JSON, PrettyTables, JLD, MySQL, DotEnv, DataFrames, LinearAlgebra\n",
    "include(\"functions/type_allocation_flexible.jl\")\n",
    "cfg = DotEnv.config(path=\"../.env\")\n",
    "#if you want to refresh the adjustment information set refresh to true\n",
    "# to load saved data instead (which means you'll just be reading previously saved \n",
    "# adjustments, set refresh to false\n",
    "refresh = false\n",
    "files_path = cfg[\"files_path\"]"
   ]
  },
  {
   "cell_type": "markdown",
   "id": "6884b1dd-956d-4520-a9f4-e507da4c891e",
   "metadata": {},
   "source": [
    "The point of this worksheet is to adjust the size of the placements adjacency matrix\n",
    "to accommodate the fact that the highest tiers are oversampled.  Eventually this should not be needed,\n",
    "but at this point it is the only way to produce a reasonable set of estimates.\n",
    "\n",
    "This first part of the file is just reading in classification information."
   ]
  },
  {
   "cell_type": "code",
   "execution_count": 2,
   "id": "1c971be2-bb59-4f5b-8b73-b2e92e82d1ce",
   "metadata": {},
   "outputs": [
    {
     "name": "stdout",
     "output_type": "stream",
     "text": [
      "\u001b[32mnames and placement matrix dimensions match\u001b[39m\n"
     ]
    }
   ],
   "source": [
    "#load adjacency matrix and custom row titles from create classification\n",
    "placement_rates = load(files_path*\"placement_rates.jld\")[\"placement_rates\"]\n",
    "row_names = load(files_path*\"row_names.jld\")[\"names\"]\n",
    "#recreate constants from create classification in order to build new latex table\n",
    "numtotal = size(placement_rates,1)\n",
    "NUM_TYPES = size(placement_rates,2)\n",
    "NUM_SINKS = numtotal - NUM_TYPES\n",
    "if numtotal !== length(row_names) \n",
    "    throw(DomainError(length(row_names), \"row_names doesn't match dimensions of the placements matrix\"))\n",
    "else\n",
    "printstyled(\"names and placement matrix dimensions match\\n\"; color = :green)\n",
    "end\n"
   ]
  },
  {
   "cell_type": "markdown",
   "id": "b6e54f7c-d2ac-41f3-8428-d21febc38125",
   "metadata": {},
   "source": [
    "This next part of the file is an attempt to compute the corrections.  \n",
    "\n",
    "The first part attempts to find the coverage by tiers using information from econjobmarket \n",
    "registrations data.\n",
    "\n",
    "Set refresh equal to false at the top of the worksheet if you just want to see the current corrections."
   ]
  },
  {
   "cell_type": "code",
   "execution_count": 3,
   "id": "1f6ce3a5-340c-4ae0-bf8d-1ebce72fef2c",
   "metadata": {},
   "outputs": [
    {
     "data": {
      "text/plain": [
       "12×5 Matrix{Int64}:\n",
       "  928   168    85    14   12\n",
       " 1010   684   297    94   20\n",
       " 1425  1935  1173   224   60\n",
       "  388   670   661   642   64\n",
       "    0    29    51     0  196\n",
       "  800   877   602   231  100\n",
       " 1041   649   515   177  112\n",
       " 1031  1446  1694  1519  572\n",
       "  177   346   441   458  380\n",
       "    9    15    33    18   12\n",
       "  594   817  1094  1003  749\n",
       "  558  1073  1563  1010  636"
      ]
     },
     "execution_count": 3,
     "metadata": {},
     "output_type": "execute_result"
    }
   ],
   "source": [
    "if refresh\n",
    "    query = \"\"\"\n",
    "    select t.type,count(*) as count from ftrecruiter.applicants a join ftrecruiter.organizations o \n",
    "    join ftrecruiter.institutions i join t_distribution t on a.degreeinst_oid=o.oid and \n",
    "    o.institution_id=i.institution_id and t.institution_id=i.institution_id \n",
    "    where a.degreetype=? and a.degreeendyear>=? and a.degreeendyear<=? \n",
    "    and t.algorithm_run_id=? group by type\n",
    "    \"\"\"\n",
    "    params = [\"Phd\", \"2017\", \"2023\", 4]\n",
    "    registrations = SBM_flexible.db_query(query, params)\n",
    "    regs = registrations[:,:count]\n",
    "    query = \"\"\"\n",
    "    select t.type,count(*) as count from ftrecruiter.applicants a join ftrecruiter.organizations o \n",
    "    join ftrecruiter.institutions i join t_distribution t on a.degreeinst_oid=o.oid \n",
    "    and i.institution_id=o.institution_id and t.institution_id=i.institution_id \n",
    "    where year(enrolldate)>=? and year(enrolldate)<=? and degreetype=? \n",
    "    and t.algorithm_run_id=? and aid not in (select aid from applicant_results) group by t.type\n",
    "    \"\"\"\n",
    "    params = [\"2018\", \"2023\", \"Phd\", 4]\n",
    "    missing = SBM_flexible.db_query(query, params)\n",
    "    miss = missing[:, :count]\n",
    "    proportion_missing = missing[!,\"count\"]./registrations[!, \"count\"]\n",
    "    s = []\n",
    "    for x in proportion_missing\n",
    "        push!(s,1/(1-x))\n",
    "    end\n",
    "    data = hcat(regs, miss, s)\n",
    "    save(files_path*\"adjustment_matrix.jld\", \"data\", data)\n",
    "else\n",
    "    data = load(files_path*\"adjustment_matrix.jld\")[\"data\"]\n",
    "    s = data[:,3]\n",
    "    adjusted_placement_rates = round.(Int,placement_rates*Diagonal(I*s))\n",
    "   \n",
    "end"
   ]
  },
  {
   "cell_type": "code",
   "execution_count": null,
   "id": "625e1f0b-4069-454b-90e6-dba8df37743a",
   "metadata": {},
   "outputs": [],
   "source": []
  },
  {
   "cell_type": "code",
   "execution_count": 4,
   "id": "9d87af90-5b68-415a-af94-83c723bee04e",
   "metadata": {},
   "outputs": [
    {
     "name": "stdout",
     "output_type": "stream",
     "text": [
      "┌────────────────────────────────┬─────────┬─────────┬─────────┬─────────┬─────────┐\n",
      "│\u001b[1m                                \u001b[0m│\u001b[1m  Type 1 \u001b[0m│\u001b[1m  Type 2 \u001b[0m│\u001b[1m  Type 3 \u001b[0m│\u001b[1m  Type 4 \u001b[0m│\u001b[1m  Type 5 \u001b[0m│\n",
      "├────────────────────────────────┼─────────┼─────────┼─────────┼─────────┼─────────┤\n",
      "│\u001b[1m        Registrations - 2018-23 \u001b[0m│    2591 │    3304 │    4102 │    2508 │    1357 │\n",
      "│\u001b[1m Registrants without placements \u001b[0m│     933 │    1574 │    2501 │    1813 │    1018 │\n",
      "│\u001b[1m                     Adjustment \u001b[0m│ 1.56273 │ 1.90983 │ 2.56215 │ 3.60863 │ 4.00295 │\n",
      "└────────────────────────────────┴─────────┴─────────┴─────────┴─────────┴─────────┘\n"
     ]
    }
   ],
   "source": [
    "#head = [\"Tier 1\", \"Tier 2\", \"Tier 3\", \"Tier 4\", \"Tier 5\"]\n",
    "head = []\n",
    "for i in 1:NUM_TYPES\n",
    "    push!(head, string(\"Type \", i))\n",
    "end\n",
    "rowh = [\"Registrations - 2018-23\", \"Registrants without placements\", \"Adjustment\"]\n",
    "pretty_table(data', header= head, row_names=rowh)"
   ]
  },
  {
   "cell_type": "code",
   "execution_count": 5,
   "id": "78cfcba7-bc27-44f6-914e-2283bb42cc81",
   "metadata": {},
   "outputs": [],
   "source": [
    "if refresh\n",
    "    open(files_path*\"adjustment_table.tex\", \"w\") do f\n",
    "    SBM_flexible.pretty_table(\n",
    "        f,\n",
    "        data',\n",
    "        header = head,\n",
    "        row_names = rowh,\n",
    "        backend = Val(:latex)\n",
    "        )\n",
    "    end\n",
    "end\n"
   ]
  },
  {
   "cell_type": "code",
   "execution_count": 6,
   "id": "dfd27fca-1c4e-4906-b21d-763d1fa49f0a",
   "metadata": {},
   "outputs": [
    {
     "data": {
      "text/plain": [
       "12×5 Matrix{Int64}:\n",
       "  928   168    85    14   12\n",
       " 1010   684   297    94   20\n",
       " 1425  1935  1173   224   60\n",
       "  388   670   661   642   64\n",
       "    0    29    51     0  196\n",
       "  800   877   602   231  100\n",
       " 1041   649   515   177  112\n",
       " 1031  1446  1694  1519  572\n",
       "  177   346   441   458  380\n",
       "    9    15    33    18   12\n",
       "  594   817  1094  1003  749\n",
       "  558  1073  1563  1010  636"
      ]
     },
     "execution_count": 6,
     "metadata": {},
     "output_type": "execute_result"
    }
   ],
   "source": [
    "Diagonal(I*s)\n",
    "adjusted_placement_rates = round.(Int,placement_rates*Diagonal(I*s))"
   ]
  },
  {
   "cell_type": "code",
   "execution_count": 7,
   "id": "1a1776f0-ac33-45c1-b8cd-c4e544b976b4",
   "metadata": {},
   "outputs": [],
   "source": [
    "if refresh\n",
    "    save(files_path*\"adjusted_placement_rates.jld\", \"adjusted_placement_rates\", adjusted_placement_rates)\n",
    "end  "
   ]
  },
  {
   "cell_type": "code",
   "execution_count": 8,
   "id": "024f50ab-bc19-474c-ba0e-9141e4bf4ebf",
   "metadata": {},
   "outputs": [
    {
     "name": "stdout",
     "output_type": "stream",
     "text": [
      "┌───────────────────────────────────┬────────┬────────┬────────┬────────┬────────┬────────────┐\n",
      "│\u001b[1m                                   \u001b[0m│\u001b[1m Tier 1 \u001b[0m│\u001b[1m Tier 2 \u001b[0m│\u001b[1m Tier 3 \u001b[0m│\u001b[1m Tier 4 \u001b[0m│\u001b[1m Tier 5 \u001b[0m│\u001b[1m Row Totals \u001b[0m│\n",
      "├───────────────────────────────────┼────────┼────────┼────────┼────────┼────────┼────────────┤\n",
      "│\u001b[1m                 TYPE 1 (19 insts) \u001b[0m│    928 │    168 │     85 │     14 │     12 │       1207 │\n",
      "│\u001b[1m                 TYPE 2 (51 insts) \u001b[0m│   1010 │    684 │    297 │     94 │     20 │       2105 │\n",
      "│\u001b[1m                TYPE 3 (159 insts) \u001b[0m│   1425 │   1935 │   1173 │    224 │     60 │       4817 │\n",
      "│\u001b[1m                TYPE 4 (313 insts) \u001b[0m│    388 │    670 │    661 │    642 │     64 │       2425 │\n",
      "│\u001b[1m                TYPE 5 (486 insts) \u001b[0m│      0 │     29 │     51 │      0 │    196 │        276 │\n",
      "│\u001b[1m         Public Sector (141 insts) \u001b[0m│    800 │    877 │    602 │    231 │    100 │       2610 │\n",
      "│\u001b[1m        Private Sector (200 insts) \u001b[0m│   1041 │    649 │    515 │    177 │    112 │       2494 │\n",
      "│\u001b[1m              Postdocs (555 insts) \u001b[0m│   1031 │   1446 │   1694 │   1519 │    572 │       6262 │\n",
      "│\u001b[1m             Lecturers (368 insts) \u001b[0m│    177 │    346 │    441 │    458 │    380 │       1802 │\n",
      "│\u001b[1m               Unmatched (1 insts) \u001b[0m│      9 │     15 │     33 │     18 │     12 │         87 │\n",
      "│\u001b[1m           Other Groups (36 insts) \u001b[0m│    594 │    817 │   1094 │   1003 │    749 │       4257 │\n",
      "│\u001b[1m Teaching Universities (599 insts) \u001b[0m│    558 │   1073 │   1563 │   1010 │    636 │       4840 │\n",
      "│\u001b[1m                     Column Totals \u001b[0m│   7961 │   8709 │   8209 │   5390 │   2913 │      33182 │\n",
      "└───────────────────────────────────┴────────┴────────┴────────┴────────┴────────┴────────────┘\n"
     ]
    }
   ],
   "source": [
    "SBM_flexible.nice_adjacency_table(adjusted_placement_rates,row_names)"
   ]
  },
  {
   "cell_type": "code",
   "execution_count": 9,
   "id": "87d6fd18-55ac-40fa-884c-3f59c8101fb7",
   "metadata": {},
   "outputs": [],
   "source": [
    "if refresh\n",
    "    SBM_flexible.nice_adjacency_table(adjusted_placement_rates, row_names, files_path*\"adjusted_adjacency_table.tex\")\n",
    "end"
   ]
  }
 ],
 "metadata": {
  "kernelspec": {
   "display_name": "Julia 1.8.5",
   "language": "julia",
   "name": "julia-1.8"
  },
  "language_info": {
   "file_extension": ".jl",
   "mimetype": "application/julia",
   "name": "julia",
   "version": "1.8.5"
  }
 },
 "nbformat": 4,
 "nbformat_minor": 5
}
