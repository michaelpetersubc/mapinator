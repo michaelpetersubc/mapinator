{
 "cells": [
  {
   "cell_type": "code",
   "execution_count": 1,
   "id": "32408292-9fa7-4ee6-a6f4-4d3e065d5dc5",
   "metadata": {},
   "outputs": [
    {
     "data": {
      "text/plain": [
       "\"/home/peters/code/mapinator/estimation/current_estimates_and_files/\""
      ]
     },
     "execution_count": 1,
     "metadata": {},
     "output_type": "execute_result"
    }
   ],
   "source": [
    "using HTTP, JSON, PrettyTables, JLD, MySQL, DotEnv, DataFrames, LinearAlgebra\n",
    "include(\"functions/type_allocation_flexible.jl\")\n",
    "cfg = DotEnv.config(\"../.env\")\n",
    "#if you want to refresh the adjustment information set refresh to true\n",
    "# to load saved data instead (which means you'll just be reading previously saved \n",
    "# adjustments, set refresh to false\n",
    "refresh = true\n",
    "files_path = cfg[\"files_path\"]"
   ]
  },
  {
   "cell_type": "markdown",
   "id": "6884b1dd-956d-4520-a9f4-e507da4c891e",
   "metadata": {},
   "source": [
    "The point of this worksheet is to adjust the size of the placements adjacency matrix\n",
    "to accommodate the fact that the highest tiers are oversampled.  Eventually this should not be needed,\n",
    "but at this point it is the only way to produce a reasonable set of estimates.\n",
    "\n",
    "This first part of the file is just reading in classification information."
   ]
  },
  {
   "cell_type": "code",
   "execution_count": 2,
   "id": "1c971be2-bb59-4f5b-8b73-b2e92e82d1ce",
   "metadata": {},
   "outputs": [
    {
     "name": "stdout",
     "output_type": "stream",
     "text": [
      "\u001b[32mnames and placement matrix dimensions match\u001b[39m\n"
     ]
    }
   ],
   "source": [
    "#load adjacency matrix and custom row titles from create classification\n",
    "placement_rates = load(files_path*\"placement_rates.jld\")[\"placement_rates\"]\n",
    "row_names = load(files_path*\"row_names.jld\")[\"names\"]\n",
    "#recreate constants from create classification in order to build new latex table\n",
    "numtotal = size(placement_rates)[1]\n",
    "NUM_TYPES = size(placement_rates)[2]\n",
    "NUM_SINKS = numtotal - NUM_TYPES\n",
    "if numtotal !== length(row_names) \n",
    "    throw(DomainError(length(row_names), \"row_names doesn't match dimensions of the placements matrix\"))\n",
    "else\n",
    "printstyled(\"names and placement matrix dimensions match\\n\"; color = :green)\n",
    "end\n"
   ]
  },
  {
   "cell_type": "markdown",
   "id": "b6e54f7c-d2ac-41f3-8428-d21febc38125",
   "metadata": {},
   "source": [
    "This next part of the file is an attempt to compute the corrections.  \n",
    "\n",
    "The first part attempts to find the coverage by tiers using information from econjobmarket \n",
    "registrations data.\n",
    "\n",
    "Set refresh equal to false at the top of the worksheet if you just want to see the current corrections."
   ]
  },
  {
   "cell_type": "code",
   "execution_count": 11,
   "id": "1f6ce3a5-340c-4ae0-bf8d-1ebce72fef2c",
   "metadata": {},
   "outputs": [],
   "source": [
    "if refresh\n",
    "    query = \"\"\"\n",
    "    select t.type,count(*) as count from ftrecruiter.applicants a join ftrecruiter.organizations o \n",
    "    join ftrecruiter.institutions i join t_distribution t on a.degreeinst_oid=o.oid and \n",
    "    o.institution_id=i.institution_id and t.institution_id=i.institution_id \n",
    "    where a.degreetype=? and a.degreeendyear>=? and a.degreeendyear<=? \n",
    "    and t.algorithm_run_id=? group by type\n",
    "    \"\"\"\n",
    "    params = [\"Phd\", \"2017\", \"2023\", 5]\n",
    "    registrations = SBM_flexible.db_query(query, params)\n",
    "    regs = registrations[:,:count]\n",
    "    query = \"\"\"\n",
    "    select t.type,count(*) as count from ftrecruiter.applicants a join ftrecruiter.organizations o \n",
    "    join ftrecruiter.institutions i join t_distribution t on a.degreeinst_oid=o.oid \n",
    "    and i.institution_id=o.institution_id and t.institution_id=i.institution_id \n",
    "    where year(enrolldate)>=? and year(enrolldate)<=? and degreetype=? \n",
    "    and t.algorithm_run_id=? and aid not in (select aid from applicant_results) group by t.type\n",
    "    \"\"\"\n",
    "    params = [\"2018\", \"2023\", \"Phd\", 5]\n",
    "    ms = SBM_flexible.db_query(query, params)\n",
    "    miss = ms[:, :count]\n",
    "    proportion_missing = ms[!,\"count\"]./registrations[!, \"count\"]\n",
    "    s = []\n",
    "    for x in proportion_missing\n",
    "        push!(s,1/(1-x))\n",
    "    end\n",
    "    data = hcat(regs, miss, s)\n",
    "    save(files_path*\"adjustment_matrix.jld\", \"data\", data)\n",
    "else\n",
    "    data = load(files_path*\"adjustment_matrix.jld\")[\"data\"]\n",
    "    s = data[:,3]\n",
    "    adjusted_placement_rates = round.(Int,placement_rates*Diagonal(I*s))\n",
    "   \n",
    "end"
   ]
  },
  {
   "cell_type": "code",
   "execution_count": 12,
   "id": "c09dc01f-5b8f-4a20-a960-44a56604580a",
   "metadata": {},
   "outputs": [
    {
     "data": {
      "text/html": [
       "<div><div style = \"float: left;\"><span>5×2 DataFrame</span></div><div style = \"clear: both;\"></div></div><div class = \"data-frame\" style = \"overflow-x: scroll;\"><table class = \"data-frame\" style = \"margin-bottom: 6px;\"><thead><tr class = \"header\"><th class = \"rowNumber\" style = \"font-weight: bold; text-align: right;\">Row</th><th style = \"text-align: left;\">type</th><th style = \"text-align: left;\">count</th></tr><tr class = \"subheader headerLastRow\"><th class = \"rowNumber\" style = \"font-weight: bold; text-align: right;\"></th><th title = \"Union{Missing, Int32}\" style = \"text-align: left;\">Int32?</th><th title = \"Int64\" style = \"text-align: left;\">Int64</th></tr></thead><tbody><tr><td class = \"rowNumber\" style = \"font-weight: bold; text-align: right;\">1</td><td style = \"text-align: right;\">1</td><td style = \"text-align: right;\">2664</td></tr><tr><td class = \"rowNumber\" style = \"font-weight: bold; text-align: right;\">2</td><td style = \"text-align: right;\">2</td><td style = \"text-align: right;\">3632</td></tr><tr><td class = \"rowNumber\" style = \"font-weight: bold; text-align: right;\">3</td><td style = \"text-align: right;\">3</td><td style = \"text-align: right;\">4472</td></tr><tr><td class = \"rowNumber\" style = \"font-weight: bold; text-align: right;\">4</td><td style = \"text-align: right;\">4</td><td style = \"text-align: right;\">2282</td></tr><tr><td class = \"rowNumber\" style = \"font-weight: bold; text-align: right;\">5</td><td style = \"text-align: right;\">5</td><td style = \"text-align: right;\">1339</td></tr></tbody></table></div>"
      ],
      "text/latex": [
       "\\begin{tabular}{r|cc}\n",
       "\t& type & count\\\\\n",
       "\t\\hline\n",
       "\t& Int32? & Int64\\\\\n",
       "\t\\hline\n",
       "\t1 & 1 & 2664 \\\\\n",
       "\t2 & 2 & 3632 \\\\\n",
       "\t3 & 3 & 4472 \\\\\n",
       "\t4 & 4 & 2282 \\\\\n",
       "\t5 & 5 & 1339 \\\\\n",
       "\\end{tabular}\n"
      ],
      "text/plain": [
       "\u001b[1m5×2 DataFrame\u001b[0m\n",
       "\u001b[1m Row \u001b[0m│\u001b[1m type   \u001b[0m\u001b[1m count \u001b[0m\n",
       "     │\u001b[90m Int32? \u001b[0m\u001b[90m Int64 \u001b[0m\n",
       "─────┼───────────────\n",
       "   1 │      1   2664\n",
       "   2 │      2   3632\n",
       "   3 │      3   4472\n",
       "   4 │      4   2282\n",
       "   5 │      5   1339"
      ]
     },
     "execution_count": 12,
     "metadata": {},
     "output_type": "execute_result"
    }
   ],
   "source": [
    "registrations"
   ]
  },
  {
   "cell_type": "code",
   "execution_count": 14,
   "id": "625e1f0b-4069-454b-90e6-dba8df37743a",
   "metadata": {},
   "outputs": [
    {
     "data": {
      "text/plain": [
       "5×3 Matrix{Any}:\n",
       " 2664   431  1.19301\n",
       " 3632  1016  1.38838\n",
       " 4472  2113  1.89572\n",
       " 2282  1388  2.55257\n",
       " 1339   863  2.81303"
      ]
     },
     "execution_count": 14,
     "metadata": {},
     "output_type": "execute_result"
    }
   ],
   "source": [
    "data"
   ]
  },
  {
   "cell_type": "code",
   "execution_count": 25,
   "id": "9d87af90-5b68-415a-af94-83c723bee04e",
   "metadata": {},
   "outputs": [
    {
     "name": "stdout",
     "output_type": "stream",
     "text": [
      "┌────────────────────────────────┬─────────┬─────────┬─────────┬─────────┬─────────┐\n",
      "│\u001b[1m                                \u001b[0m│\u001b[1m  Type 1 \u001b[0m│\u001b[1m  Type 2 \u001b[0m│\u001b[1m  Type 3 \u001b[0m│\u001b[1m  Type 4 \u001b[0m│\u001b[1m  Type 5 \u001b[0m│\n",
      "├────────────────────────────────┼─────────┼─────────┼─────────┼─────────┼─────────┤\n",
      "│\u001b[1m        Registrations - 2018-23 \u001b[0m│    2664 │    3632 │    4472 │    2282 │    1339 │\n",
      "│\u001b[1m Registrants without placements \u001b[0m│     431 │    1016 │    2113 │    1388 │     863 │\n",
      "│\u001b[1m                     Adjustment \u001b[0m│ 1.19301 │ 1.38838 │ 1.89572 │ 2.55257 │ 2.81303 │\n",
      "└────────────────────────────────┴─────────┴─────────┴─────────┴─────────┴─────────┘\n"
     ]
    }
   ],
   "source": [
    "#head = [\"Tier 1\", \"Tier 2\", \"Tier 3\", \"Tier 4\", \"Tier 5\"]\n",
    "head = []\n",
    "for i in 1:NUM_TYPES\n",
    "    push!(head, string(\"Type \", i))\n",
    "end\n",
    "rowh = [\"Registrations - 2018-23\", \"Registrants without placements\", \"Adjustment\"]\n",
    "\n",
    "pretty_table(transpose(data), header= head, row_labels=rowh, backend = Val(:text))"
   ]
  },
  {
   "cell_type": "code",
   "execution_count": 26,
   "id": "78cfcba7-bc27-44f6-914e-2283bb42cc81",
   "metadata": {},
   "outputs": [],
   "source": [
    "if refresh\n",
    "    open(files_path*\"adjustment_table.tex\", \"w\") do f\n",
    "    SBM_flexible.pretty_table(\n",
    "        f,\n",
    "        data',\n",
    "        header = head,\n",
    "        row_labels = rowh,\n",
    "        backend = Val(:latex)\n",
    "        )\n",
    "    end\n",
    "end\n"
   ]
  },
  {
   "cell_type": "code",
   "execution_count": 27,
   "id": "dfd27fca-1c4e-4906-b21d-763d1fa49f0a",
   "metadata": {},
   "outputs": [
    {
     "data": {
      "text/plain": [
       "12×5 Matrix{Int64}:\n",
       " 1424   469   326   110   11\n",
       " 1133  1184   595   232   28\n",
       " 1280  1917  1869   373   96\n",
       "  322   703   855  1044   93\n",
       "    0    58   100    71  459\n",
       "  678   757   540   145   65\n",
       "  927   612   436   140   73\n",
       "  103   180   256   143   76\n",
       "   41    82   131   105  135\n",
       "  438   832  1426  1054  959\n",
       "  251   229   157    82   25\n",
       "  286   523   796   406  194"
      ]
     },
     "execution_count": 27,
     "metadata": {},
     "output_type": "execute_result"
    }
   ],
   "source": [
    "Diagonal(I*s)\n",
    "adjusted_placement_rates = round.(Int,placement_rates*Diagonal(I*s))"
   ]
  },
  {
   "cell_type": "code",
   "execution_count": 28,
   "id": "1a1776f0-ac33-45c1-b8cd-c4e544b976b4",
   "metadata": {},
   "outputs": [],
   "source": [
    "if refresh\n",
    "    save(files_path*\"adjusted_placement_rates.jld\", \"adjusted_placement_rates\", adjusted_placement_rates)\n",
    "end  "
   ]
  },
  {
   "cell_type": "code",
   "execution_count": 29,
   "id": "024f50ab-bc19-474c-ba0e-9141e4bf4ebf",
   "metadata": {},
   "outputs": [
    {
     "name": "stdout",
     "output_type": "stream",
     "text": [
      "┌───────────────────────────────────┬────────┬────────┬────────┬────────┬────────┬────────────┐\n",
      "│\u001b[1m                                   \u001b[0m│\u001b[1m Tier 1 \u001b[0m│\u001b[1m Tier 2 \u001b[0m│\u001b[1m Tier 3 \u001b[0m│\u001b[1m Tier 4 \u001b[0m│\u001b[1m Tier 5 \u001b[0m│\u001b[1m Row Totals \u001b[0m│\n",
      "├───────────────────────────────────┼────────┼────────┼────────┼────────┼────────┼────────────┤\n",
      "│\u001b[1m                 TYPE 1 (20 insts) \u001b[0m│   1424 │    469 │    326 │    110 │     11 │       2340 │\n",
      "│\u001b[1m                 TYPE 2 (58 insts) \u001b[0m│   1133 │   1184 │    595 │    232 │     28 │       3172 │\n",
      "│\u001b[1m                TYPE 3 (180 insts) \u001b[0m│   1280 │   1917 │   1869 │    373 │     96 │       5535 │\n",
      "│\u001b[1m                TYPE 4 (334 insts) \u001b[0m│    322 │    703 │    855 │   1044 │     93 │       3017 │\n",
      "│\u001b[1m                TYPE 5 (522 insts) \u001b[0m│      0 │     58 │    100 │     71 │    459 │        688 │\n",
      "│\u001b[1m         Public Sector (152 insts) \u001b[0m│    678 │    757 │    540 │    145 │     65 │       2185 │\n",
      "│\u001b[1m        Private Sector (227 insts) \u001b[0m│    927 │    612 │    436 │    140 │     73 │       2188 │\n",
      "│\u001b[1m              Postdocs (598 insts) \u001b[0m│    103 │    180 │    256 │    143 │     76 │        758 │\n",
      "│\u001b[1m             Lecturers (413 insts) \u001b[0m│     41 │     82 │    131 │    105 │    135 │        494 │\n",
      "│\u001b[1m               Unmatched (1 insts) \u001b[0m│    438 │    832 │   1426 │   1054 │    959 │       4709 │\n",
      "│\u001b[1m           Other Groups (38 insts) \u001b[0m│    251 │    229 │    157 │     82 │     25 │        744 │\n",
      "│\u001b[1m Teaching Universities (642 insts) \u001b[0m│    286 │    523 │    796 │    406 │    194 │       2205 │\n",
      "│\u001b[1m                     Column Totals \u001b[0m│   6883 │   7546 │   7487 │   3905 │   2214 │      28035 │\n",
      "└───────────────────────────────────┴────────┴────────┴────────┴────────┴────────┴────────────┘\n"
     ]
    }
   ],
   "source": [
    "SBM_flexible.nice_adjacency_table(adjusted_placement_rates,row_names)"
   ]
  },
  {
   "cell_type": "code",
   "execution_count": 30,
   "id": "87d6fd18-55ac-40fa-884c-3f59c8101fb7",
   "metadata": {},
   "outputs": [],
   "source": [
    "if refresh\n",
    "    SBM_flexible.nice_adjacency_table(adjusted_placement_rates, row_names, files_path*\"adjusted_adjacency_table.tex\")\n",
    "end"
   ]
  }
 ],
 "metadata": {
  "kernelspec": {
   "display_name": "Julia 1.8.5",
   "language": "julia",
   "name": "julia-1.8"
  },
  "language_info": {
   "file_extension": ".jl",
   "mimetype": "application/julia",
   "name": "julia",
   "version": "1.8.5"
  }
 },
 "nbformat": 4,
 "nbformat_minor": 5
}
