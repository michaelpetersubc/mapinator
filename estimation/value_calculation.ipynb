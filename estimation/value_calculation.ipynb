{
 "cells": [
  {
   "cell_type": "code",
   "execution_count": 1,
   "id": "ca2167a5-c275-4906-b731-ea0bb2744baf",
   "metadata": {},
   "outputs": [
    {
     "data": {
      "text/plain": [
       "\"/home/peters/code/mapinator/estimation/current_estimates_and_files/\""
      ]
     },
     "execution_count": 1,
     "metadata": {},
     "output_type": "execute_result"
    }
   ],
   "source": [
    "using HTTP, JSON, PrettyTables, JLD, MySQL, DotEnv, DataFrames, LinearAlgebra, Dates\n",
    "include(\"functions/type_allocation_flexible.jl\")\n",
    "cfg = DotEnv.config(\"../.env\")\n",
    "#if you want to refresh the adjustment information set refresh to true\n",
    "# to load saved data instead (which means you'll just be reading previously saved \n",
    "# adjustments, set refresh to false\n",
    "refresh = true\n",
    "files_path = cfg[\"files_path\"]"
   ]
  },
  {
   "cell_type": "code",
   "execution_count": 2,
   "id": "9f0353da-2da7-42a8-8ddd-7169f6d2c5f1",
   "metadata": {},
   "outputs": [
    {
     "data": {
      "text/plain": [
       "12×5 Matrix{Int64}:\n",
       " 1424   469   326   110   11\n",
       " 1133  1184   595   232   28\n",
       " 1280  1917  1869   373   96\n",
       "  322   703   855  1044   93\n",
       "    0    58   100    71  459\n",
       "  678   757   540   145   65\n",
       "  927   612   436   140   73\n",
       "  103   180   256   143   76\n",
       "   41    82   131   105  135\n",
       "  438   832  1426  1054  959\n",
       "  251   229   157    82   25\n",
       "  286   523   796   406  194"
      ]
     },
     "execution_count": 2,
     "metadata": {},
     "output_type": "execute_result"
    }
   ],
   "source": [
    "adjusted_placement_rates = load(files_path*\"adjusted_placement_rates.jld\")[\"adjusted_placement_rates\"]"
   ]
  },
  {
   "cell_type": "code",
   "execution_count": 3,
   "id": "6361a3aa-8276-4ca6-9f48-2afa385aef60",
   "metadata": {},
   "outputs": [
    {
     "data": {
      "text/plain": [
       "12×5 Matrix{Float64}:\n",
       " 0.206887   0.0621521   0.0435421  0.028169   0.00496838\n",
       " 0.164608   0.156904    0.0794711  0.059411   0.0126468\n",
       " 0.185965   0.254042    0.249633   0.0955186  0.0433604\n",
       " 0.0467819  0.0931619   0.114198   0.26735    0.0420054\n",
       " 0.0        0.00768619  0.0133565  0.0181818  0.207317\n",
       " 0.0985036  0.100318    0.072125   0.0371319  0.0293586\n",
       " 0.13468    0.0811026   0.0582343  0.0358515  0.032972\n",
       " 0.0149644  0.0238537   0.0341926  0.0366197  0.034327\n",
       " 0.0059567  0.0108667   0.017497   0.0268886  0.0609756\n",
       " 0.063635   0.110257    0.190463   0.26991    0.433153\n",
       " 0.0364667  0.0303472   0.0209697  0.0209987  0.0112918\n",
       " 0.0415516  0.0693082   0.106318   0.103969   0.0876242"
      ]
     },
     "execution_count": 3,
     "metadata": {},
     "output_type": "execute_result"
    }
   ],
   "source": [
    " A = adjusted_placement_rates./sum(adjusted_placement_rates,dims = 1)"
   ]
  },
  {
   "cell_type": "code",
   "execution_count": 4,
   "id": "d59025d3-9ff0-4b7e-aaa0-2e6435daec70",
   "metadata": {},
   "outputs": [
    {
     "data": {
      "text/plain": [
       "Dict{String, Any} with 7 entries:\n",
       "  \"data_loaded\"              => DateTime(\"2024-06-18T18:21:53.103\")\n",
       "  \"row_labels\"               => Any[\"TYPE 1 (20 insts)\", \"TYPE 2 (58 insts)\", \"…\n",
       "  \"unmatched_index\"          => 10\n",
       "  \"number_of_academic_types\" => 5\n",
       "  \"institution_counts\"       => [20, 58, 180, 334, 522, 152, 227, 598, 413, 1, …\n",
       "  \"algorithm_run_id\"         => 5\n",
       "  \"num_years\"                => 24"
      ]
     },
     "execution_count": 4,
     "metadata": {},
     "output_type": "execute_result"
    }
   ],
   "source": [
    "classification_properties = load(files_path*\"classification_properties.jld\")[\"classification_properties\"]"
   ]
  },
  {
   "cell_type": "code",
   "execution_count": 5,
   "id": "713a7d0e-404b-4320-86e5-42275e9197a3",
   "metadata": {},
   "outputs": [
    {
     "data": {
      "text/plain": [
       "11-element Vector{Any}:\n",
       " 0.6070839143953419\n",
       " 0.48690836585935493\n",
       " 0.40754303886040527\n",
       " 0.1635911209966943\n",
       " 0.006460048111407303\n",
       " 0.43583456388151104\n",
       " 0.47712510196411917\n",
       " 0.24272356619594543\n",
       " 0.1279962497856872\n",
       " 0.41923816133868286\n",
       " 0.2434478627925604"
      ]
     },
     "execution_count": 5,
     "metadata": {},
     "output_type": "execute_result"
    }
   ],
   "source": [
    "expected_offers = load(files_path*\"expected_offers.jld\")[\"expected_offers\"]"
   ]
  },
  {
   "cell_type": "code",
   "execution_count": 6,
   "id": "ed4fe4e9-5906-4b8a-943b-c32ce186d584",
   "metadata": {},
   "outputs": [],
   "source": [
    "\n",
    "offer_values = []\n",
    "for j in 1:length(expected_offers)\n",
    "    if j < classification_properties[\"unmatched_index\"]-1\n",
    "        push!(offer_values, expected_offers[j])\n",
    "    elseif j == classification_properties[\"unmatched_index\"]-1\n",
    "        push!(offer_values, expected_offers[j])\n",
    "        push!(offer_values, 0.0)\n",
    "    else\n",
    "        push!(offer_values,expected_offers[j-1])\n",
    "    end\n",
    "end\n"
   ]
  },
  {
   "cell_type": "code",
   "execution_count": 7,
   "id": "d99bd99b-b112-45ea-ae74-e6407909468c",
   "metadata": {},
   "outputs": [
    {
     "data": {
      "text/plain": [
       "1×5 transpose(::Vector{Any}) with eltype Any:\n",
       " 0.422861  0.355493  0.302648  0.220705  0.117901"
      ]
     },
     "execution_count": 7,
     "metadata": {},
     "output_type": "execute_result"
    }
   ],
   "source": [
    "transpose(offer_values)*A"
   ]
  },
  {
   "cell_type": "code",
   "execution_count": 8,
   "id": "71a7ce9d-d4f5-4335-a68d-afc4f0ee3dbf",
   "metadata": {},
   "outputs": [
    {
     "data": {
      "text/plain": [
       "12×5 Matrix{Int32}:\n",
       " 1194   338  172   43    4\n",
       "  950   853  314   91   10\n",
       " 1073  1381  986  146   34\n",
       "  270   506  451  409   33\n",
       "    0    42   53   28  163\n",
       "  568   545  285   57   23\n",
       "  777   441  230   55   26\n",
       "   86   130  135   56   27\n",
       "   34    59   69   41   48\n",
       "  367   599  752  413  341\n",
       "  210   165   83   32    9\n",
       "  240   377  420  159   69"
      ]
     },
     "execution_count": 8,
     "metadata": {},
     "output_type": "execute_result"
    }
   ],
   "source": [
    "placement_rates = load(files_path*\"placement_rates.jld\")[\"placement_rates\"]"
   ]
  },
  {
   "cell_type": "code",
   "execution_count": 10,
   "id": "f7976668-4223-4e13-8763-fafef01b01d7",
   "metadata": {},
   "outputs": [
    {
     "data": {
      "text/plain": [
       "12-element Vector{Any}:\n",
       " \"TYPE 1 (20 insts)\"\n",
       " \"TYPE 2 (58 insts)\"\n",
       " \"TYPE 3 (180 insts)\"\n",
       " \"TYPE 4 (334 insts)\"\n",
       " \"TYPE 5 (522 insts)\"\n",
       " \"Public Sector (152 insts)\"\n",
       " \"Private Sector (227 insts)\"\n",
       " \"Postdocs (598 insts)\"\n",
       " \"Lecturers (413 insts)\"\n",
       " \"Unmatched (1 insts)\"\n",
       " \"Other Groups (38 insts)\"\n",
       " \"Teaching Universities (642 insts)\""
      ]
     },
     "execution_count": 10,
     "metadata": {},
     "output_type": "execute_result"
    }
   ],
   "source": [
    "row_names = load(files_path*\"row_names.jld\")[\"names\"]"
   ]
  },
  {
   "cell_type": "code",
   "execution_count": 16,
   "id": "8265b6f3-0f6d-4b79-a51a-8fa843a46ec6",
   "metadata": {},
   "outputs": [
    {
     "name": "stdout",
     "output_type": "stream",
     "text": [
      "|                                   | **Tier 1** | **Tier 2** | **Tier 3** | **Tier 4** | **Tier 5** | **Row Totals** |\n",
      "|----------------------------------:|-----------:|-----------:|-----------:|-----------:|-----------:|---------------:|\n",
      "| TYPE 1 (20 insts)                 | 1194       | 338        | 172        | 43         | 4          | 1751           |\n",
      "| TYPE 2 (58 insts)                 | 950        | 853        | 314        | 91         | 10         | 2218           |\n",
      "| TYPE 3 (180 insts)                | 1073       | 1381       | 986        | 146        | 34         | 3620           |\n",
      "| TYPE 4 (334 insts)                | 270        | 506        | 451        | 409        | 33         | 1669           |\n",
      "| TYPE 5 (522 insts)                | 0          | 42         | 53         | 28         | 163        | 286            |\n",
      "| Public Sector (152 insts)         | 568        | 545        | 285        | 57         | 23         | 1478           |\n",
      "| Private Sector (227 insts)        | 777        | 441        | 230        | 55         | 26         | 1529           |\n",
      "| Postdocs (598 insts)              | 86         | 130        | 135        | 56         | 27         | 434            |\n",
      "| Lecturers (413 insts)             | 34         | 59         | 69         | 41         | 48         | 251            |\n",
      "| Unmatched (1 insts)               | 367        | 599        | 752        | 413        | 341        | 2472           |\n",
      "| Other Groups (38 insts)           | 210        | 165        | 83         | 32         | 9          | 499            |\n",
      "| Teaching Universities (642 insts) | 240        | 377        | 420        | 159        | 69         | 1265           |\n",
      "| Column Totals                     | 5769       | 5436       | 3950       | 1530       | 787        | 17472          |\n"
     ]
    }
   ],
   "source": [
    "column_sums = sum(placement_rates, dims=1)\n",
    "    row_sums = sum(placement_rates, dims=2)\n",
    "    row_sums_augmented = vcat(row_sums, sum(row_sums))\n",
    "    part = vcat(placement_rates,column_sums)\n",
    "    adjacency = hcat(part, row_sums_augmented)\n",
    "    num = size(placement_rates, 2)\n",
    "    headers = []\n",
    "    for i=1:num\n",
    "        push!(headers, \"Tier $i\")\n",
    "    end\n",
    "    \n",
    "    #println(headers)\n",
    "\n",
    "    push!(headers, \"Row Totals\")\n",
    "    push!(row_names, \"Column Totals\")\n",
    "pretty_table(adjacency, header= headers, row_labels=row_names, backend = Val(:markdown))"
   ]
  }
 ],
 "metadata": {
  "kernelspec": {
   "display_name": "Julia 1.8.5",
   "language": "julia",
   "name": "julia-1.8"
  },
  "language_info": {
   "file_extension": ".jl",
   "mimetype": "application/julia",
   "name": "julia",
   "version": "1.8.5"
  }
 },
 "nbformat": 4,
 "nbformat_minor": 5
}
