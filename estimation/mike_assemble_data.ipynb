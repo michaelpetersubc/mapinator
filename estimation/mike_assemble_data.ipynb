{
 "cells": [
  {
   "cell_type": "markdown",
   "id": "1df38490-2393-47db-bfb5-00af0a53a813",
   "metadata": {},
   "source": [
    "# Worksheet 1 Assemble all the data\n",
    "\n",
    "This worksheet assembles all the data used in the classification by calling the public api at https://support.econjobmarket.org.\n",
    "\n",
    "By default the data is saved and can be reloaded from disk for later estimation.  This ensures that a fixed data set is used during all estimation.  The data should be reloaded from the api when a new estimation round is being done.\n",
    "\n",
    "Yet to be done: generated labels that identify the data set that was used for each step of the estimation.\n",
    "\n",
    "This is the first in a series of files that can be run to get both the classification and the value estimates."
   ]
  },
  {
   "cell_type": "code",
   "execution_count": 3,
   "id": "ed878f3a-cf9d-494e-a9f3-ccfdcb07ddc6",
   "metadata": {},
   "outputs": [
    {
     "data": {
      "text/plain": [
       "2024-06-18T18:21:53.103"
      ]
     },
     "execution_count": 3,
     "metadata": {},
     "output_type": "execute_result"
    }
   ],
   "source": [
    "using Dates\n"
   ]
  },
  {
   "cell_type": "code",
   "execution_count": 1,
   "id": "943ac98b-dab8-4a7a-a8e4-4abc3046eccf",
   "metadata": {},
   "outputs": [
    {
     "data": {
      "text/plain": [
       "5"
      ]
     },
     "execution_count": 1,
     "metadata": {},
     "output_type": "execute_result"
    }
   ],
   "source": [
    "# only need to run this to refresh data\n",
    "# all the estimation stuff relies on files that are saved here\n",
    "using HTTP, JSON, PrettyTables, DotEnv\n",
    "DEBUG_LEVEL = 1\n",
    "function matches(keywords, phrase)\n",
    "    # checks if any of the keywords are in the phrase\n",
    "    for keyword in keywords\n",
    "        if occursin(keyword, phrase)\n",
    "            return true\n",
    "        end\n",
    "    end\n",
    "    return false\n",
    "end\n",
    "cfg = DotEnv.config(\"../.env\")\n",
    "files_path = cfg[\"files_path\"]\n",
    "## set the algorithm run id to try to ensure that the saved estimation files are all consistent\n",
    "algorithm_run_id = 5"
   ]
  },
  {
   "cell_type": "code",
   "execution_count": 2,
   "id": "32dcdf23-4424-4275-bb03-af7a4b83cb0b",
   "metadata": {},
   "outputs": [
    {
     "data": {
      "text/plain": [
       "27504-element Vector{Any}:\n",
       " Dict{String, Any}(\"disappeared\" => nothing, \"to_shortname\" => \"Economics, Tsinghua University\", \"created_at\" => \"2019-07-02 15:40:46\", \"to_name\" => \"Tsinghua University\", \"to_department\" => \"Department of Economics, School of Economics and Management\", \"to_latitude\" => 39.999567, \"name\" => \"Development; Growth\", \"category_id\" => 1, \"from_shortname\" => \"Economics, Univ of Michigan\", \"to_oid\" => 623…)\n",
       " Dict{String, Any}(\"disappeared\" => nothing, \"to_shortname\" => \"Economics, Amherst College\", \"created_at\" => \"2019-07-02 19:38:17\", \"to_name\" => \"Amherst College\", \"to_department\" => \"Economics\", \"to_latitude\" => 42.3709104, \"name\" => \"Development; Growth\", \"category_id\" => 1, \"from_shortname\" => \"Economics, Univ of Michigan\", \"to_oid\" => 3503…)\n",
       " Dict{String, Any}(\"disappeared\" => nothing, \"to_shortname\" => \"Int Food Policy Res Institute\", \"created_at\" => \"2019-07-02 19:40:39\", \"to_name\" => \"International Food Policy Research Institute (IFPRI)\", \"to_department\" => \"All departments\", \"to_latitude\" => 38.9015167, \"name\" => \"Development; Growth\", \"category_id\" => 1, \"from_shortname\" => \"Economics, Univ of Michigan\", \"to_oid\" => 2600…)\n",
       " Dict{String, Any}(\"disappeared\" => nothing, \"to_shortname\" => \"Economics, Colby College\", \"created_at\" => \"2019-07-02 19:41:08\", \"to_name\" => \"Colby College\", \"to_department\" => \"Economics Department\", \"to_latitude\" => 44.5638691, \"name\" => \"Development; Growth\", \"category_id\" => 1, \"from_shortname\" => \"Economics, Univ of Michigan\", \"to_oid\" => 316…)\n",
       " Dict{String, Any}(\"disappeared\" => nothing, \"to_shortname\" => \"Economics, Univ of Maryland\", \"created_at\" => \"2019-07-03 00:42:14\", \"to_name\" => \"University of Maryland\", \"to_department\" => \"Economics\", \"to_latitude\" => 38.98478051412362, \"name\" => \"Development; Growth\", \"category_id\" => 1, \"from_shortname\" => \"Economics, Univ of Michigan\", \"to_oid\" => 20…)\n",
       " Dict{String, Any}(\"disappeared\" => nothing, \"to_shortname\" => \"Economics, Univ of Maryland\", \"created_at\" => \"2019-07-03 00:43:11\", \"to_name\" => \"University of Maryland\", \"to_department\" => \"Economics\", \"to_latitude\" => 38.98478051412362, \"name\" => \"Development; Growth\", \"category_id\" => 1, \"from_shortname\" => \"Economics, Univ of Michigan\", \"to_oid\" => 20…)\n",
       " Dict{String, Any}(\"disappeared\" => nothing, \"to_shortname\" => \"Economics, Northwestern Univ\", \"created_at\" => \"2019-07-03 00:42:41\", \"to_name\" => \"Northwestern University\", \"to_department\" => \"Economics\", \"to_latitude\" => 42.0571538, \"name\" => \"Development; Growth\", \"category_id\" => 1, \"from_shortname\" => \"Economics, Univ of Michigan\", \"to_oid\" => 25…)\n",
       " Dict{String, Any}(\"disappeared\" => nothing, \"to_shortname\" => \"Center for Global Development\", \"created_at\" => \"2019-07-03 00:41:47\", \"to_name\" => \"Center for Global Development\", \"to_department\" => \"All departments\", \"to_latitude\" => 38.9041209, \"name\" => \"Development; Growth\", \"category_id\" => 1, \"from_shortname\" => \"Economics, Univ of Michigan\", \"to_oid\" => 2156…)\n",
       " Dict{String, Any}(\"disappeared\" => nothing, \"to_shortname\" => \"Applied Econ, Oregon State U\", \"created_at\" => \"2019-07-03 13:51:52\", \"to_name\" => \"Oregon State University\", \"to_department\" => \"Applied Economics\", \"to_latitude\" => 44.5637806, \"name\" => \"Development; Growth\", \"category_id\" => 1, \"from_shortname\" => \"Economics, Univ of Michigan\", \"to_oid\" => 2054…)\n",
       " Dict{String, Any}(\"disappeared\" => nothing, \"to_shortname\" => \"Applied Econ, Oregon State U\", \"created_at\" => \"2019-07-03 13:52:22\", \"to_name\" => \"Oregon State University\", \"to_department\" => \"Applied Economics\", \"to_latitude\" => 44.5637806, \"name\" => \"Development; Growth\", \"category_id\" => 1, \"from_shortname\" => \"Economics, Univ of Michigan\", \"to_oid\" => 2054…)\n",
       " Dict{String, Any}(\"disappeared\" => nothing, \"to_shortname\" => \"Business, U Adolfo Ibáñez\", \"created_at\" => \"2019-07-03 13:52:46\", \"to_name\" => \"Universidad Adolfo Ibáñez\", \"to_department\" => \"Business School\", \"to_latitude\" => -33.4871046, \"name\" => \"Development; Growth\", \"category_id\" => 1, \"from_shortname\" => \"Economics, Univ of Michigan\", \"to_oid\" => 899…)\n",
       " Dict{String, Any}(\"disappeared\" => nothing, \"to_shortname\" => \"Economics, Nat Univ of Singapore\", \"created_at\" => \"2019-07-05 00:27:17\", \"to_name\" => \"National University of Singapore\", \"to_department\" => \"Department of Economics\", \"to_latitude\" => 1.2951813580022289, \"name\" => \"Development; Growth\", \"category_id\" => 1, \"from_shortname\" => \"Economics, Univ of Michigan\", \"to_oid\" => 507…)\n",
       " Dict{String, Any}(\"disappeared\" => nothing, \"to_shortname\" => \"Economics, Colorado College\", \"created_at\" => \"2019-07-05 01:05:37\", \"to_name\" => \"Colorado College\", \"to_department\" => \"Economics and Business Department\", \"to_latitude\" => 38.846594, \"name\" => \"Development; Growth\", \"category_id\" => 1, \"from_shortname\" => \"Economics, Univ of Michigan\", \"to_oid\" => 1012…)\n",
       " ⋮\n",
       " Dict{String, Any}(\"disappeared\" => 0, \"to_shortname\" => \"Mathematics, Georgia Inst Tech\", \"created_at\" => \"2023-05-12 17:28:47\", \"to_name\" => \"Georgia Institute of Technology\", \"to_department\" => \"School of Mathematics\", \"to_latitude\" => nothing, \"name\" => \"Statistics\", \"category_id\" => 34, \"from_shortname\" => \"Mathematics, U S California\", \"to_oid\" => 11526…)\n",
       " Dict{String, Any}(\"disappeared\" => 0, \"to_shortname\" => \"Statistics, Rutgers University\", \"created_at\" => \"2024-05-11 01:40:08\", \"to_name\" => \"Rutgers, The State University of New Jersey\", \"to_department\" => \"Statistics\", \"to_latitude\" => nothing, \"name\" => \"Statistics\", \"category_id\" => 34, \"from_shortname\" => \"Statistics, Carnegie Mellon Univ\", \"to_oid\" => 11409…)\n",
       " Dict{String, Any}(\"disappeared\" => 0, \"to_shortname\" => \"UN Human Development Program\", \"created_at\" => \"2023-07-25 09:17:29\", \"to_name\" => \"United Nations Development Programme\", \"to_department\" => \"All departments\", \"to_latitude\" => 40.750426, \"name\" => \"Statistics\", \"category_id\" => 34, \"from_shortname\" => \"Statistics, Sapienza University\", \"to_oid\" => 1528…)\n",
       " Dict{String, Any}(\"disappeared\" => 0, \"to_shortname\" => \"Statistics, Quaid-i-Azam Univ\", \"created_at\" => \"2024-05-30 15:10:01\", \"to_name\" => \"Quaid-i-Azam University\", \"to_department\" => \"Department of Statistics\", \"to_latitude\" => nothing, \"name\" => \"Statistics\", \"category_id\" => 34, \"from_shortname\" => \"Statistics, Quaid-i-Azam Univ\", \"to_oid\" => 11493…)\n",
       " Dict{String, Any}(\"disappeared\" => 0, \"to_shortname\" => \"Economics, Marmara University\", \"created_at\" => \"2024-06-02 14:55:14\", \"to_name\" => \"Marmara University\", \"to_department\" => \"Economics\", \"to_latitude\" => 40.98668116917027, \"name\" => \"Statistics\", \"category_id\" => 34, \"from_shortname\" => \"Inst Social Sci, Marmara Univ\", \"to_oid\" => 2672…)\n",
       " Dict{String, Any}(\"disappeared\" => 1, \"to_shortname\" => \"Ocean and Crow Studios Inc\", \"created_at\" => \"2024-06-02 16:34:58\", \"to_name\" => \"Ocean and Crow Studios Inc\", \"to_department\" => \"All departments\", \"to_latitude\" => 49.2714425, \"name\" => \"Statistics\", \"category_id\" => 34, \"from_shortname\" => \"Économie, Univ de Montpellier\", \"to_oid\" => 893…)\n",
       " Dict{String, Any}(\"disappeared\" => 0, \"to_shortname\" => \"Inst d'Anàlisi Econòmica, CSIC\", \"created_at\" => \"2024-06-07 16:39:58\", \"to_name\" => \"Consejo Superior de Investigaciones Científicas (CSIC)\", \"to_department\" => \"Institut d'Anàlisi Econòmica\", \"to_latitude\" => 41.50220115391324, \"name\" => \"Statistics\", \"category_id\" => 34, \"from_shortname\" => \"Math, Imperial College London\", \"to_oid\" => 245…)\n",
       " Dict{String, Any}(\"disappeared\" => 0, \"to_shortname\" => \"Math, Imperial College London\", \"created_at\" => \"2024-06-07 16:40:53\", \"to_name\" => \"Imperial College London\", \"to_department\" => \"Mathematics\", \"to_latitude\" => nothing, \"name\" => \"Statistics\", \"category_id\" => 34, \"from_shortname\" => \"Math, Imperial College London\", \"to_oid\" => 5748…)\n",
       " Dict{String, Any}(\"disappeared\" => 1, \"to_shortname\" => \"Ocean and Crow Studios Inc\", \"created_at\" => \"2024-06-10 15:36:05\", \"to_name\" => \"Ocean and Crow Studios Inc\", \"to_department\" => \"All departments\", \"to_latitude\" => 49.2714425, \"name\" => \"Statistics\", \"category_id\" => 34, \"from_shortname\" => \"Applied Math, U Cambridge\", \"to_oid\" => 893…)\n",
       " Dict{String, Any}(\"disappeared\" => 0, \"to_shortname\" => \"Math, École Poly Fed Lausanne\", \"created_at\" => \"2024-05-20 22:04:40\", \"to_name\" => \"École Polytechnique Fédérale de Lausanne\", \"to_department\" => \"Institute of Mathematics\", \"to_latitude\" => nothing, \"name\" => \"Statistics\", \"category_id\" => 34, \"from_shortname\" => \"Operations Research, Princeton U\", \"to_oid\" => 11508…)\n",
       " Dict{String, Any}(\"disappeared\" => 0, \"to_shortname\" => \"Ocean and Crow Studios Inc\", \"created_at\" => \"2024-06-06 19:48:02\", \"to_name\" => \"Ocean and Crow Studios Inc\", \"to_department\" => \"All departments\", \"to_latitude\" => 49.2714425, \"name\" => \"Statistics\", \"category_id\" => 34, \"from_shortname\" => \"Statistics, Nat Univ Singapore\", \"to_oid\" => 893…)\n",
       " Dict{String, Any}(\"disappeared\" => 0, \"to_shortname\" => \"Makroökonomie, Tech U Berlin\", \"created_at\" => \"2024-06-06 19:50:35\", \"to_name\" => \"Technische Universität Berlin\", \"to_department\" => \"Fachgebiet Makroökonomie\", \"to_latitude\" => 52.5125322, \"name\" => \"Statistics\", \"category_id\" => 34, \"from_shortname\" => \"Statistics, Nat Univ Singapore\", \"to_oid\" => 2579…)"
      ]
     },
     "execution_count": 2,
     "metadata": {},
     "output_type": "execute_result"
    }
   ],
   "source": [
    "placements = nothing\n",
    "try\n",
    "    mapinator_data = HTTP.get(\"https://support.econjobmarket.org/api/mapinator\", timeout = 120);\n",
    "    placements = JSON.parse(String(mapinator_data.body));\n",
    "catch e\n",
    "    error(\"Failed to retrieve data from the API: $e\")\n",
    "end"
   ]
  },
  {
   "cell_type": "code",
   "execution_count": 4,
   "id": "f147a2c4-0edd-46d1-9c3a-2bfe650d7db0",
   "metadata": {},
   "outputs": [
    {
     "name": "stdout",
     "output_type": "stream",
     "text": [
      "  27504 total placement outcomes\n",
      "  3720 outcomes at Ocean and Crow\n",
      "\n",
      "  19563 total applicants with placements\n"
     ]
    }
   ],
   "source": [
    "##  this version incorporates all the ocean and crow outcomes\n",
    "applicant_outcomes = Dict{Any, Vector}()\n",
    "applicant_ids = Set{Any}()\n",
    "num_outcomes_selected = 0\n",
    "\n",
    "for outcome in placements\n",
    "    push!(applicant_ids, outcome[\"aid\"])\n",
    "    push!(get!(applicant_outcomes, outcome[\"aid\"], Vector()), outcome)\n",
    "    if outcome[\"to_oid\"] == 893\n",
    "        num_outcomes_selected += 1\n",
    "    end\n",
    "end\n",
    "\n",
    "if DEBUG_LEVEL > 0\n",
    "    println(\"  \", length(placements), \" total placement outcomes\")\n",
    "    println(\"  \", num_outcomes_selected, \" outcomes at Ocean and Crow\")\n",
    "    println()\n",
    "    println(\"  \", length(applicant_ids), \" total applicants with placements\")\n",
    "end"
   ]
  },
  {
   "cell_type": "code",
   "execution_count": 5,
   "id": "9f98cb1d-d9f8-4a4d-8e06-a5c9775aa1a1",
   "metadata": {},
   "outputs": [
    {
     "name": "stdout",
     "output_type": "stream",
     "text": [
      "19563 outcomes in all\n",
      "  -22 applicants whose graduating institution can't be detected\n",
      "  19541 total applicants ported to finalized collection\n"
     ]
    }
   ],
   "source": [
    "# take out placements where ocean and crow is the graduating institution\n",
    "# take out some other bad stuff\n",
    "postdoc_counter = 0\n",
    "fake_aid_counter = 0\n",
    "finalized_applicant_outcomes = Dict{Any, Any}()\n",
    "\n",
    "for applicant_id in keys(applicant_outcomes)\n",
    "    for outcome in applicant_outcomes[applicant_id]\n",
    "        # if you wish to display postdocs in the sinks, remove the if statement condition \n",
    "        #   and set Post-Doc to have higher priority than Assistant Professor below\n",
    "        # alternatively, to only include postdocs in the sinks that did not receive professorships,\n",
    "        #   do not alter the below code, and instead conduct a second pass \n",
    "        #   to fill in postdoc outcomes for individuals with no professorships\n",
    "        if outcome[\"from_institution_id\"] == \"754\"\n",
    "            fake_aid_counter += 1\n",
    "        else\n",
    "            if !haskey(finalized_applicant_outcomes, applicant_id)\n",
    "                # just add the outcome if the applicant doesn't have any yet\n",
    "                finalized_applicant_outcomes[applicant_id] = outcome\n",
    "            else\n",
    "                # otherwise, the applicant does have at least one other outcome\n",
    "                if outcome[\"startdate\"] < finalized_applicant_outcomes[applicant_id][\"startdate\"]\n",
    "                    # take the earliest outcome of the two and ignore the other\n",
    "                    finalized_applicant_outcomes[applicant_id] = outcome\n",
    "                elseif outcome[\"startdate\"] == finalized_applicant_outcomes[applicant_id][\"startdate\"]\n",
    "                    # sometimes we may have multiple outcomes that started on the same date - follow priority listing\n",
    "                    if outcome[\"position_name\"] in [\"Assistant Professor\", \"Post-Doc\"]\n",
    "                        finalized_applicant_outcomes[applicant_id] = outcome\n",
    "                    elseif outcome[\"position_name\"] in [\"Consultant\"] && !(finalized_applicant_outcomes[applicant_id][\"position_name\"] in [\"Assistant Professor\"])\n",
    "                        finalized_applicant_outcomes[applicant_id] = outcome\n",
    "                    elseif outcome[\"position_name\"] in [\"Other Academic\", \"Other Non-Academic\"] && !(finalized_applicant_outcomes[applicant_id][\"position_name\"] in [\"Assistant Professor\", \"Consultant\"])\n",
    "                        finalized_applicant_outcomes[applicant_id] = outcome\n",
    "                    end\n",
    "                end\n",
    "            end\n",
    "        \n",
    "        end\n",
    "    end\n",
    "end\n",
    "\n",
    "if DEBUG_LEVEL > 0\n",
    "    println(length(applicant_outcomes), \" outcomes in all\")\n",
    "    println(\"  -\", fake_aid_counter, \" applicants whose graduating institution can't be detected\")\n",
    "    println(\"  \", length(finalized_applicant_outcomes), \" total applicants ported to finalized collection\")\n",
    "end"
   ]
  },
  {
   "cell_type": "code",
   "execution_count": 6,
   "id": "ab2dedd2-ff6e-441b-a3c4-bf7df96b72cc",
   "metadata": {},
   "outputs": [],
   "source": [
    "#finalized_applicant_outcomes"
   ]
  },
  {
   "cell_type": "code",
   "execution_count": 7,
   "id": "e2a979a1-a104-413c-a3b1-c1376371fcd8",
   "metadata": {},
   "outputs": [
    {
     "name": "stdout",
     "output_type": "stream",
     "text": [
      "  -0 applicants removed due to placement in 2022/2023/2024\n",
      "  19541 applicants remaining after year corrections\n",
      "\n"
     ]
    }
   ],
   "source": [
    "sorted_by_year = Dict{Any, Dict}()\n",
    "removed_year_placed = 0\n",
    "\n",
    "remove_years = [] # remove all 2022+ entries\n",
    "# \"2003\", \"2004\", \"2005\", \"2006\", \"2007\", \"2008\", \"2009\", \"2010\", \n",
    "#\"2011\", \"2012\", \"2013\", \"2014\", \"2015\", \"2016\", \"2017\", \"2018\", \"2019\",\n",
    "# \"2021\", \"2022\", \"2023\", \"2024\", \"2025\", \"2026\"\n",
    "\n",
    "for applicant_id in copy(keys(finalized_applicant_outcomes))\n",
    "    outcome = finalized_applicant_outcomes[applicant_id]\n",
    "    if matches(remove_years, outcome[\"startdate\"])\n",
    "        removed_year_placed += 1\n",
    "        delete!(finalized_applicant_outcomes, applicant_id)\n",
    "    else\n",
    "        push!(get!(sorted_by_year, parse(Int, split(outcome[\"startdate\"], \"-\")[1]), Dict()), applicant_id => outcome)\n",
    "    end\n",
    "end\n",
    "\n",
    "if DEBUG_LEVEL > 0\n",
    "    println(\"  -\", removed_year_placed, \" applicants removed due to placement in 2022/2023/2024\")\n",
    "    println(\"  \", length(finalized_applicant_outcomes), \" applicants remaining after year corrections\")\n",
    "    println()\n",
    "end\n",
    "\n",
    "#for key in sort(collect(keys(sorted_by_year)))\n",
    "#    println(\"Year \", key, \" has \", length(sorted_by_year[key]), \" placement outcomes\")\n",
    "#end"
   ]
  },
  {
   "cell_type": "code",
   "execution_count": 8,
   "id": "108d2aca-0af6-488a-a5c0-905782769943",
   "metadata": {},
   "outputs": [
    {
     "name": "stdout",
     "output_type": "stream",
     "text": [
      "  -1017 irrelevant applicants removed from the following classes of positions:\n",
      "Set(Any[\"Tenured Professor\", \"Untenured Professor\", \"Associate Professor\", \"Assistant, Associate or Full Professor\", \"Professor Any Level\", \"Temporary Lecturer\", \"Full Professor\", \"Visiting Professor/Lecturer/Instructor\", \"Assistant or Associate Professor\"])\n",
      "  18524 applicants remaining after irrelevant-position applicants removed:\n",
      "Dict{Any, Int64}(\"Other Non-Academic\" => 3687, \"Consultant\" => 627, \"Other Academic\" => 1377, \"Post-Doc\" => 3386, \"Assistant Professor\" => 8564, \"Lecturer\" => 883) 18524 total\n"
     ]
    }
   ],
   "source": [
    "# add \"Lecturer\" if adjusting sinks later on\n",
    "valid_labels = Set([\"Assistant Professor\", \"Consultant\", \"Other Academic\", \"Other Non-Academic\", \"Lecturer\", \"Post-Doc\"])\n",
    "irrelevant_counter = 0\n",
    "removed_labels = Set()\n",
    "\n",
    "for applicant_id in copy(keys(finalized_applicant_outcomes))\n",
    "    outcome = finalized_applicant_outcomes[applicant_id]\n",
    "    if !(outcome[\"position_name\"] in valid_labels)\n",
    "        push!(removed_labels, outcome[\"position_name\"])\n",
    "        delete!(finalized_applicant_outcomes, applicant_id)\n",
    "        irrelevant_counter += 1\n",
    "    end\n",
    "end\n",
    "\n",
    "if DEBUG_LEVEL > 0\n",
    "    println(\"  -\", irrelevant_counter, \" irrelevant applicants removed from the following classes of positions:\")\n",
    "    println(removed_labels)\n",
    "    println(\"  \", length(finalized_applicant_outcomes), \" applicants remaining after irrelevant-position applicants removed:\")\n",
    "    maintained_labels = Dict{Any, Int}()\n",
    "    for applicant_id in keys(finalized_applicant_outcomes)\n",
    "        outcome = finalized_applicant_outcomes[applicant_id]\n",
    "        position_name = outcome[\"position_name\"]\n",
    "        if haskey(maintained_labels, position_name)\n",
    "            maintained_labels[position_name] += 1\n",
    "        else\n",
    "            maintained_labels[position_name] = 1\n",
    "        end\n",
    "    end\n",
    "end\n",
    "\n",
    "println(maintained_labels, \" \", sum(values(maintained_labels)), \" total\")"
   ]
  },
  {
   "cell_type": "code",
   "execution_count": 9,
   "id": "d3fe394d-d933-4cd1-a107-2958ec8968ce",
   "metadata": {},
   "outputs": [
    {
     "name": "stdout",
     "output_type": "stream",
     "text": [
      "  -0 applicants removed due to placement in 2022/2023/2024\n",
      "  18524 applicants remaining after year corrections\n",
      "\n"
     ]
    }
   ],
   "source": [
    "sorted_by_year = Dict{Any, Dict}()\n",
    "removed_year_placed = 0\n",
    "\n",
    "remove_years = [] # remove all 2022+ entries\n",
    "# \"2003\", \"2004\", \"2005\", \"2006\", \"2007\", \"2008\", \"2009\", \"2010\", \"2011\", \"2012\", \"2013\", \"2014\", \"2015\", \"2016\", \"2017\", \"2018\", \"2019\",\n",
    "# \"2021\", \"2022\", \"2023\", \"2024\", \"2025\", \"2026\"\n",
    "\n",
    "for applicant_id in copy(keys(finalized_applicant_outcomes))\n",
    "    outcome = finalized_applicant_outcomes[applicant_id]\n",
    "    if matches(remove_years, outcome[\"startdate\"])\n",
    "        removed_year_placed += 1\n",
    "        delete!(finalized_applicant_outcomes, applicant_id)\n",
    "    else\n",
    "        push!(get!(sorted_by_year, parse(Int, split(outcome[\"startdate\"], \"-\")[1]), Dict()), applicant_id => outcome)\n",
    "    end\n",
    "end\n",
    "\n",
    "if DEBUG_LEVEL > 0\n",
    "    println(\"  -\", removed_year_placed, \" applicants removed due to placement in 2022/2023/2024\")\n",
    "    println(\"  \", length(finalized_applicant_outcomes), \" applicants remaining after year corrections\")\n",
    "    println()\n",
    "end\n",
    "\n",
    "#for key in sort(collect(keys(sorted_by_year)))\n",
    "#    println(\"Year \", key, \" has \", length(sorted_by_year[key]), \" placement outcomes\")\n",
    "#end"
   ]
  },
  {
   "cell_type": "code",
   "execution_count": 10,
   "id": "40cc0e04-8804-4360-b8aa-e2ad567f2fd7",
   "metadata": {},
   "outputs": [
    {
     "name": "stdout",
     "output_type": "stream",
     "text": [
      "\\begin{tabular}{rr}\n",
      "  \\hline\n",
      "  \\textbf{Keys} & \\textbf{Values} \\\\\n",
      "  \\texttt{Any} & \\texttt{Any} \\\\\\hline\n",
      "  2001 & 433 \\\\\n",
      "  2003 & 36 \\\\\n",
      "  2004 & 30 \\\\\n",
      "  2005 & 263 \\\\\n",
      "  2006 & 33 \\\\\n",
      "  2007 & 218 \\\\\n",
      "  2008 & 159 \\\\\n",
      "  2009 & 347 \\\\\n",
      "  2010 & 366 \\\\\n",
      "  2011 & 440 \\\\\n",
      "  2012 & 501 \\\\\n",
      "  2013 & 546 \\\\\n",
      "  2014 & 626 \\\\\n",
      "  2015 & 1072 \\\\\n",
      "  2016 & 2084 \\\\\n",
      "  2017 & 1318 \\\\\n",
      "  2018 & 1386 \\\\\n",
      "  2019 & 1821 \\\\\n",
      "  2020 & 1810 \\\\\n",
      "  2021 & 1726 \\\\\n",
      "  2022 & 1569 \\\\\n",
      "  2023 & 1424 \\\\\n",
      "  2024 & 307 \\\\\n",
      "  2025 & 9 \\\\\\hline\n",
      "\\end{tabular}\n"
     ]
    }
   ],
   "source": [
    "year_labels = []\n",
    "placements_by_year = Dict()\n",
    "\n",
    "for key in sort(collect(keys(sorted_by_year)))\n",
    "    push!(year_labels, key)\n",
    "    push!(placements_by_year,(key =>length(sorted_by_year[key])))\n",
    "end\n",
    "#println(year_labels)\n",
    "pretty_table(placements_by_year, sortkeys = true, backend = Val(:latex))\n",
    "open(files_path*\"placements_by_year.tex\", \"w\") do f\n",
    "    pretty_table(\n",
    "        f,\n",
    "        placements_by_year,\n",
    "        sortkeys = true,\n",
    "        backend = Val(:latex)\n",
    "    )\n",
    "end"
   ]
  },
  {
   "cell_type": "code",
   "execution_count": 11,
   "id": "cae06133-3a31-4bf8-916f-d908d375219a",
   "metadata": {},
   "outputs": [
    {
     "data": {
      "text/plain": [
       "2001:2025"
      ]
     },
     "execution_count": 11,
     "metadata": {},
     "output_type": "execute_result"
    }
   ],
   "source": [
    "include(\"functions/type_allocation_flexible.jl\")\n",
    "included_years = keys(sorted_by_year)\n",
    "# auto-detect year interval; change this to select the years of data to include in the estimation\n",
    "YEAR_INTERVAL = minimum(included_years):maximum(included_years)"
   ]
  },
  {
   "cell_type": "code",
   "execution_count": 12,
   "id": "be2ed8cd-a906-4e9d-8a2f-8d93db87023a",
   "metadata": {},
   "outputs": [],
   "source": [
    "to_from_by_year_api = Dict()\n",
    "for key in keys(sorted_by_year)\n",
    "    to_from_by_year_api[string(key)] = sorted_by_year[key]\n",
    "end\n",
    "# alternatively, load an existing file of placement data\n",
    "# to_from_by_year_api = SBM_flexible.fetch_data(\"to_from_by_year.json\")"
   ]
  },
  {
   "cell_type": "code",
   "execution_count": 13,
   "id": "7d8f05ab-dcc0-485f-a21c-acb8747ab99c",
   "metadata": {},
   "outputs": [],
   "source": [
    "#mkpath(\".estimates\")\n",
    "open(files_path*\"to_from_by_year.json\", \"w\") do f\n",
    "    write(f, JSON.json(to_from_by_year_api))\n",
    "end;"
   ]
  }
 ],
 "metadata": {
  "kernelspec": {
   "display_name": "Julia 1.8.5",
   "language": "julia",
   "name": "julia-1.8"
  },
  "language_info": {
   "file_extension": ".jl",
   "mimetype": "application/julia",
   "name": "julia",
   "version": "1.8.5"
  }
 },
 "nbformat": 4,
 "nbformat_minor": 5
}
