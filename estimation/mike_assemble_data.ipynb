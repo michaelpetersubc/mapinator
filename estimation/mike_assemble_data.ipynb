{
 "cells": [
  {
   "cell_type": "markdown",
   "id": "1df38490-2393-47db-bfb5-00af0a53a813",
   "metadata": {},
   "source": [
    "# Worksheet 1 Assemble all the data\n",
    "\n",
    "This worksheet assembles all the data used in the classification by calling the public api at https://support.econjobmarket.org.\n",
    "\n",
    "By default the data is saved and can be reloaded from disk for later estimation.  This ensures that a fixed data set is used during all estimation.  The data should be reloaded from the api when a new estimation round is being done.\n",
    "\n",
    "Yet to be done: generated labels that identify the data set that was used for each step of the estimation.\n",
    "\n",
    "This is the first in a series of files that can be run to get both the classification and the value estimates."
   ]
  },
  {
   "cell_type": "code",
   "execution_count": 1,
   "id": "ed878f3a-cf9d-494e-a9f3-ccfdcb07ddc6",
   "metadata": {},
   "outputs": [],
   "source": [
    "using Dates,JLD, DotEnv\n"
   ]
  },
  {
   "cell_type": "code",
   "execution_count": 2,
   "id": "943ac98b-dab8-4a7a-a8e4-4abc3046eccf",
   "metadata": {},
   "outputs": [
    {
     "data": {
      "text/plain": [
       "5"
      ]
     },
     "execution_count": 2,
     "metadata": {},
     "output_type": "execute_result"
    }
   ],
   "source": [
    "# only need to run this to refresh data\n",
    "# all the estimation stuff relies on files that are saved here\n",
    "using HTTP, JSON, PrettyTables, DotEnv\n",
    "DEBUG_LEVEL = 1\n",
    "function matches(keywords, phrase)\n",
    "    # checks if any of the keywords are in the phrase\n",
    "    for keyword in keywords\n",
    "        if occursin(keyword, phrase)\n",
    "            return true\n",
    "        end\n",
    "    end\n",
    "    return false\n",
    "end\n",
    "cfg = DotEnv.config(\"../.env\")\n",
    "files_path = cfg[\"files_path\"]\n",
    "## set the algorithm run id to try to ensure that the saved estimation files are all consistent\n",
    "algorithm_run_id = 5"
   ]
  },
  {
   "cell_type": "code",
   "execution_count": 3,
   "id": "32dcdf23-4424-4275-bb03-af7a4b83cb0b",
   "metadata": {},
   "outputs": [
    {
     "data": {
      "text/plain": [
       "29959-element Vector{Any}:\n",
       " Dict{String, Any}(\"disappeared\" => 0, \"to_shortname\" => \"Bates White\", \"created_at\" => \"2024-06-06 11:33:28\", \"to_name\" => \"Bates White\", \"to_department\" => \"All departments\", \"to_latitude\" => 38.9030567, \"name\" => \"Econometrics\", \"category_id\" => 2, \"from_shortname\" => \"Economics, UCLA\", \"to_oid\" => 3070…)\n",
       " Dict{String, Any}(\"disappeared\" => 1, \"to_shortname\" => \"Ocean and Crow Studios Inc\", \"created_at\" => \"2024-06-27 10:14:19\", \"to_name\" => \"Ocean and Crow Studios Inc\", \"to_department\" => \"All departments\", \"to_latitude\" => 49.2714425, \"name\" => \"Health; Education; Welfare\", \"category_id\" => 20, \"from_shortname\" => \"Economics, UCLA\", \"to_oid\" => 893…)\n",
       " Dict{String, Any}(\"disappeared\" => 0, \"to_shortname\" => \"App Econ, U Autònoma Barcelona\", \"created_at\" => \"2024-07-04 19:30:12\", \"to_name\" => \"Universitat Autònoma de Barcelona\", \"to_department\" => \"Department of Applied Economics\", \"to_latitude\" => 41.50174815758906, \"name\" => \"Labor; Demographic Economics\", \"category_id\" => 10, \"from_shortname\" => \"Economics, UCLA\", \"to_oid\" => 239…)\n",
       " Dict{String, Any}(\"disappeared\" => 0, \"to_shortname\" => \"Soc Sci, US Mil Acad Westpoint\", \"created_at\" => \"2024-07-04 19:28:24\", \"to_name\" => \"United States Military Academy at Westpoint\", \"to_department\" => \"Social Sciences\", \"to_latitude\" => 41.3889095, \"name\" => \"Labor; Demographic Economics\", \"category_id\" => 10, \"from_shortname\" => \"Economics, UCLA\", \"to_oid\" => 5274…)\n",
       " Dict{String, Any}(\"disappeared\" => 0, \"to_shortname\" => \"Economics, Texas A&M University\", \"created_at\" => \"2024-07-04 19:27:35\", \"to_name\" => \"Texas A&M University, College Station\", \"to_department\" => \"Economics\", \"to_latitude\" => 30.5975452, \"name\" => \"Econometrics\", \"category_id\" => 2, \"from_shortname\" => \"Economics, UCLA\", \"to_oid\" => 596…)\n",
       " Dict{String, Any}(\"disappeared\" => 0, \"to_shortname\" => \"Economics, U at Buffalo\", \"created_at\" => \"2024-06-11 18:31:51\", \"to_name\" => \"University at Buffalo\", \"to_department\" => \"Economics\", \"to_latitude\" => 43.0008093, \"name\" => \"Labor; Demographic Economics\", \"category_id\" => 10, \"from_shortname\" => \"Economics, UCLA\", \"to_oid\" => 1756…)\n",
       " Dict{String, Any}(\"disappeared\" => 0, \"to_shortname\" => \"Economics, U. of Tübingen\", \"created_at\" => \"2024-06-11 18:32:45\", \"to_name\" => \"University of Tübingen\", \"to_department\" => \"Department of Economics\", \"to_latitude\" => 48.5293102, \"name\" => \"Labor; Demographic Economics\", \"category_id\" => 10, \"from_shortname\" => \"Economics, UCLA\", \"to_oid\" => 1719…)\n",
       " Dict{String, Any}(\"disappeared\" => 0, \"to_shortname\" => \"Business Sch, U Rochester\", \"created_at\" => \"2024-05-27 11:25:47\", \"to_name\" => \"University of Rochester\", \"to_department\" => \"Simon Business School\", \"to_latitude\" => 43.12700983838306, \"name\" => \"Theory\", \"category_id\" => 15, \"from_shortname\" => \"Economics, UCLA\", \"to_oid\" => 189…)\n",
       " Dict{String, Any}(\"disappeared\" => 0, \"to_shortname\" => \"Economics, Southern Methodist U\", \"created_at\" => \"2024-05-27 11:26:23\", \"to_name\" => \"Southern Methodist University\", \"to_department\" => \"Economics\", \"to_latitude\" => 32.843554915782555, \"name\" => \"Theory\", \"category_id\" => 15, \"from_shortname\" => \"Economics, UCLA\", \"to_oid\" => 459…)\n",
       " Dict{String, Any}(\"disappeared\" => 0, \"to_shortname\" => \"Financial Research, US Treasury\", \"created_at\" => \"2024-05-27 11:24:04\", \"to_name\" => \"U.S. Department of the Treasury\", \"to_department\" => \"Office of Financial Research\", \"to_latitude\" => 39.154508, \"name\" => \"Health; Education; Welfare\", \"category_id\" => 20, \"from_shortname\" => \"Economics, UCLA\", \"to_oid\" => 1005…)\n",
       " Dict{String, Any}(\"disappeared\" => 0, \"to_shortname\" => \"Ocean and Crow Studios Inc\", \"created_at\" => \"2024-05-27 11:19:51\", \"to_name\" => \"Ocean and Crow Studios Inc\", \"to_department\" => \"All departments\", \"to_latitude\" => 49.2714425, \"name\" => \"Industrial Organization\", \"category_id\" => 7, \"from_shortname\" => \"Economics, UCLA\", \"to_oid\" => 893…)\n",
       " Dict{String, Any}(\"disappeared\" => 0, \"to_shortname\" => \"Financial Research, US Treasury\", \"created_at\" => \"2024-05-27 11:14:13\", \"to_name\" => \"U.S. Department of the Treasury\", \"to_department\" => \"Office of Financial Research\", \"to_latitude\" => 39.154508, \"name\" => \"Finance\", \"category_id\" => 6, \"from_shortname\" => \"Economics, UCLA\", \"to_oid\" => 1005…)\n",
       " Dict{String, Any}(\"disappeared\" => 0, \"to_shortname\" => \"School of Economics, Nankai Univ\", \"created_at\" => \"2024-05-27 11:10:46\", \"to_name\" => \"Nankai University\", \"to_department\" => \"School of Economics\", \"to_latitude\" => 39.103276, \"name\" => \"Econometrics\", \"category_id\" => 2, \"from_shortname\" => \"Economics, UCLA\", \"to_oid\" => 1488…)\n",
       " ⋮\n",
       " Dict{String, Any}(\"disappeared\" => 1, \"to_shortname\" => \"Ocean and Crow Studios Inc\", \"created_at\" => \"2024-06-24 18:54:53\", \"to_name\" => \"Ocean and Crow Studios Inc\", \"to_department\" => \"All departments\", \"to_latitude\" => 49.2714425, \"name\" => \"Marketing\", \"category_id\" => 30, \"from_shortname\" => \"Ag Econ, Hugarian U Ag & Life Sc\", \"to_oid\" => 893…)\n",
       " Dict{String, Any}(\"disappeared\" => 1, \"to_shortname\" => \"Ocean and Crow Studios Inc\", \"created_at\" => \"2024-06-24 18:54:28\", \"to_name\" => \"Ocean and Crow Studios Inc\", \"to_department\" => \"All departments\", \"to_latitude\" => 49.2714425, \"name\" => \"Finance\", \"category_id\" => 6, \"from_shortname\" => \"Ag Econ, Hugarian U Ag & Life Sc\", \"to_oid\" => 893…)\n",
       " Dict{String, Any}(\"disappeared\" => 0, \"to_shortname\" => \"Ocean and Crow Studios Inc\", \"created_at\" => \"2024-06-04 16:32:07\", \"to_name\" => \"Ocean and Crow Studios Inc\", \"to_department\" => \"All departments\", \"to_latitude\" => 49.2714425, \"name\" => \"Business Economics\", \"category_id\" => 21, \"from_shortname\" => \"Ag Econ, Hugarian U Ag & Life Sc\", \"to_oid\" => 893…)\n",
       " Dict{String, Any}(\"disappeared\" => 0, \"to_shortname\" => \"Economics, Corvinus U Budapest\", \"created_at\" => \"2024-06-04 16:32:40\", \"to_name\" => \"Corvinus University of Budapest\", \"to_department\" => \"Institute of Economics\", \"to_latitude\" => 47.486226505810464, \"name\" => \"Business Economics\", \"category_id\" => 21, \"from_shortname\" => \"Ag Econ, Hugarian U Ag & Life Sc\", \"to_oid\" => 4499…)\n",
       " Dict{String, Any}(\"disappeared\" => 0, \"to_shortname\" => \"Oil and Gas Development Company\", \"created_at\" => \"2024-06-12 14:49:51\", \"to_name\" => \"Oil and Gas Development Company Limited, Pakistan\", \"to_department\" => \"All departments\", \"to_latitude\" => nothing, \"name\" => \"Industrial Organization\", \"category_id\" => 7, \"from_shortname\" => \"Ind Eng, U Eng & Tech Peshawar\", \"to_oid\" => 12694…)\n",
       " Dict{String, Any}(\"disappeared\" => 0, \"to_shortname\" => \"Economics, Epoka University\", \"created_at\" => \"2024-07-02 14:07:34\", \"to_name\" => \"Epoka University\", \"to_department\" => \"Faculty of Economic and Administrative Sciences\", \"to_latitude\" => nothing, \"name\" => \"Management, General\", \"category_id\" => 27, \"from_shortname\" => \"Management, Nat Taiwan U Sci Tec\", \"to_oid\" => 5226…)\n",
       " Dict{String, Any}(\"disappeared\" => 0, \"to_shortname\" => \"Indian Institute of Management R\", \"created_at\" => \"2024-06-27 10:12:53\", \"to_name\" => \"Indian Institute of Management Ranchi\", \"to_department\" => \"All departments\", \"to_latitude\" => nothing, \"name\" => \"Development; Growth\", \"category_id\" => 1, \"from_shortname\" => \"Lib Arts, Ind Inst Tec Hyderabad\", \"to_oid\" => 6262…)\n",
       " Dict{String, Any}(\"disappeared\" => 0, \"to_shortname\" => \"Agribus & Rural Mgmt, IGK Vishwa\", \"created_at\" => \"2024-06-16 15:42:57\", \"to_name\" => \"Indira Gandhi Krishi Vishwavidyalaya\", \"to_department\" => \"Department of Agribusiness and Rural Management\", \"to_latitude\" => nothing, \"name\" => \"Urban; Rural; Regional Economics\", \"category_id\" => 19, \"from_shortname\" => \"Agribus & Rural Mgmt, IGK Vishwa\", \"to_oid\" => 12925…)\n",
       " Dict{String, Any}(\"disappeared\" => 0, \"to_shortname\" => \"Economics & Bus, U Mpumalanga\", \"created_at\" => \"2024-07-23 15:41:48\", \"to_name\" => \"University of Mpumalanga\", \"to_department\" => \"Faculty of Economics, Development and Business Sciences\", \"to_latitude\" => nothing, \"name\" => \"Macroeconomics; Monetary\", \"category_id\" => 12, \"from_shortname\" => \"Economics, North West University\", \"to_oid\" => 13027…)\n",
       " Dict{String, Any}(\"disappeared\" => 0, \"to_shortname\" => \"Ocean and Crow Studios Inc\", \"created_at\" => \"2021-07-02 15:56:12\", \"to_name\" => \"Ocean and Crow Studios Inc\", \"to_department\" => \"All departments\", \"to_latitude\" => 49.2714425, \"name\" => \"Macroeconomics; Monetary\", \"category_id\" => 12, \"from_shortname\" => \"Economic, U Sistan & Baluchestan\", \"to_oid\" => 893…)\n",
       " Dict{String, Any}(\"disappeared\" => 0, \"to_shortname\" => \"Economics, U Cheikh Anta Diop\", \"created_at\" => \"2024-06-25 12:06:43\", \"to_name\" => \"University Cheikh Anta Diop\", \"to_department\" => \"Science Economiques et de Gestion\", \"to_latitude\" => nothing, \"name\" => \"Finance\", \"category_id\" => 6, \"from_shortname\" => \"Economics, U Cheikh Anta Diop\", \"to_oid\" => 13088…)\n",
       " Dict{String, Any}(\"disappeared\" => 0, \"to_shortname\" => \"Accra Institute of Technology\", \"created_at\" => \"2024-06-23 13:47:05\", \"to_name\" => \"Accra Institute of Technology\", \"to_department\" => \"All departments\", \"to_latitude\" => nothing, \"name\" => \"Business Economics\", \"category_id\" => 21, \"from_shortname\" => \"Accra Institute of Technology\", \"to_oid\" => 13198…)"
      ]
     },
     "execution_count": 3,
     "metadata": {},
     "output_type": "execute_result"
    }
   ],
   "source": [
    "placements = nothing\n",
    "try\n",
    "    mapinator_data = HTTP.get(\"https://support.econjobmarket.org/api/mapinator\", timeout = 120);\n",
    "    placements = JSON.parse(String(mapinator_data.body));\n",
    "catch e\n",
    "    error(\"Failed to retrieve data from the API: $e\")\n",
    "end"
   ]
  },
  {
   "cell_type": "code",
   "execution_count": 4,
   "id": "f147a2c4-0edd-46d1-9c3a-2bfe650d7db0",
   "metadata": {},
   "outputs": [
    {
     "name": "stdout",
     "output_type": "stream",
     "text": [
      "  29959 total placement outcomes\n",
      "  4548 outcomes at Ocean and Crow\n",
      "\n",
      "  21249 total applicants with placements\n"
     ]
    }
   ],
   "source": [
    "##  this version incorporates all the ocean and crow outcomes\n",
    "applicant_outcomes = Dict{Any, Vector}()\n",
    "applicant_ids = Set{Any}()\n",
    "num_outcomes_selected = 0\n",
    "\n",
    "for outcome in placements\n",
    "    push!(applicant_ids, outcome[\"aid\"])\n",
    "    push!(get!(applicant_outcomes, outcome[\"aid\"], Vector()), outcome)\n",
    "    if outcome[\"to_oid\"] == 893\n",
    "        num_outcomes_selected += 1\n",
    "    end\n",
    "end\n",
    "\n",
    "if DEBUG_LEVEL > 0\n",
    "    println(\"  \", length(placements), \" total placement outcomes\")\n",
    "    println(\"  \", num_outcomes_selected, \" outcomes at Ocean and Crow\")\n",
    "    println()\n",
    "    println(\"  \", length(applicant_ids), \" total applicants with placements\")\n",
    "end"
   ]
  },
  {
   "cell_type": "code",
   "execution_count": 5,
   "id": "9f98cb1d-d9f8-4a4d-8e06-a5c9775aa1a1",
   "metadata": {},
   "outputs": [
    {
     "name": "stdout",
     "output_type": "stream",
     "text": [
      "21249 outcomes in all\n",
      "  -24 applicants whose graduating institution can't be detected\n",
      "  21226 total applicants ported to finalized collection\n"
     ]
    }
   ],
   "source": [
    "# take out placements where ocean and crow is the graduating institution\n",
    "# take out some other bad stuff\n",
    "postdoc_counter = 0\n",
    "fake_aid_counter = 0\n",
    "finalized_applicant_outcomes = Dict{Any, Any}()\n",
    "\n",
    "for applicant_id in keys(applicant_outcomes)\n",
    "    for outcome in applicant_outcomes[applicant_id]\n",
    "        # if you wish to display postdocs in the sinks, remove the if statement condition \n",
    "        #   and set Post-Doc to have higher priority than Assistant Professor below\n",
    "        # alternatively, to only include postdocs in the sinks that did not receive professorships,\n",
    "        #   do not alter the below code, and instead conduct a second pass \n",
    "        #   to fill in postdoc outcomes for individuals with no professorships\n",
    "        if outcome[\"from_institution_id\"] == \"754\"\n",
    "            fake_aid_counter += 1\n",
    "        else\n",
    "            if !haskey(finalized_applicant_outcomes, applicant_id)\n",
    "                # just add the outcome if the applicant doesn't have any yet\n",
    "                finalized_applicant_outcomes[applicant_id] = outcome\n",
    "            else\n",
    "                # otherwise, the applicant does have at least one other outcome\n",
    "                if outcome[\"startdate\"] < finalized_applicant_outcomes[applicant_id][\"startdate\"]\n",
    "                    # take the earliest outcome of the two and ignore the other\n",
    "                    finalized_applicant_outcomes[applicant_id] = outcome\n",
    "                elseif outcome[\"startdate\"] == finalized_applicant_outcomes[applicant_id][\"startdate\"]\n",
    "                    # sometimes we may have multiple outcomes that started on the same date - follow priority listing\n",
    "                    if outcome[\"position_name\"] in [\"Assistant Professor\", \"Post-Doc\"]\n",
    "                        finalized_applicant_outcomes[applicant_id] = outcome\n",
    "                    elseif outcome[\"position_name\"] in [\"Consultant\"] && !(finalized_applicant_outcomes[applicant_id][\"position_name\"] in [\"Assistant Professor\"])\n",
    "                        finalized_applicant_outcomes[applicant_id] = outcome\n",
    "                    elseif outcome[\"position_name\"] in [\"Other Academic\", \"Other Non-Academic\"] && !(finalized_applicant_outcomes[applicant_id][\"position_name\"] in [\"Assistant Professor\", \"Consultant\"])\n",
    "                        finalized_applicant_outcomes[applicant_id] = outcome\n",
    "                    end\n",
    "                end\n",
    "            end\n",
    "        \n",
    "        end\n",
    "    end\n",
    "end\n",
    "\n",
    "if DEBUG_LEVEL > 0\n",
    "    println(length(applicant_outcomes), \" outcomes in all\")\n",
    "    println(\"  -\", fake_aid_counter, \" applicants whose graduating institution can't be detected\")\n",
    "    println(\"  \", length(finalized_applicant_outcomes), \" total applicants ported to finalized collection\")\n",
    "end"
   ]
  },
  {
   "cell_type": "code",
   "execution_count": 6,
   "id": "ab2dedd2-ff6e-441b-a3c4-bf7df96b72cc",
   "metadata": {},
   "outputs": [],
   "source": [
    "#finalized_applicant_outcomes"
   ]
  },
  {
   "cell_type": "code",
   "execution_count": 7,
   "id": "e2a979a1-a104-413c-a3b1-c1376371fcd8",
   "metadata": {},
   "outputs": [
    {
     "name": "stdout",
     "output_type": "stream",
     "text": [
      "  -0 applicants removed due to placement in 2022/2023/2024\n",
      "  21226 applicants remaining after year corrections\n",
      "\n"
     ]
    }
   ],
   "source": [
    "sorted_by_year = Dict{Any, Dict}()\n",
    "removed_year_placed = 0\n",
    "\n",
    "remove_years = [] # remove all 2022+ entries\n",
    "# \"2003\", \"2004\", \"2005\", \"2006\", \"2007\", \"2008\", \"2009\", \"2010\", \n",
    "#\"2011\", \"2012\", \"2013\", \"2014\", \"2015\", \"2016\", \"2017\", \"2018\", \"2019\",\n",
    "# \"2021\", \"2022\", \"2023\", \"2024\", \"2025\", \"2026\"\n",
    "\n",
    "for applicant_id in copy(keys(finalized_applicant_outcomes))\n",
    "    outcome = finalized_applicant_outcomes[applicant_id]\n",
    "    if matches(remove_years, outcome[\"startdate\"])\n",
    "        removed_year_placed += 1\n",
    "        delete!(finalized_applicant_outcomes, applicant_id)\n",
    "    else\n",
    "        push!(get!(sorted_by_year, parse(Int, split(outcome[\"startdate\"], \"-\")[1]), Dict()), applicant_id => outcome)\n",
    "    end\n",
    "end\n",
    "\n",
    "if DEBUG_LEVEL > 0\n",
    "    println(\"  -\", removed_year_placed, \" applicants removed due to placement in 2022/2023/2024\")\n",
    "    println(\"  \", length(finalized_applicant_outcomes), \" applicants remaining after year corrections\")\n",
    "    println()\n",
    "end\n",
    "\n",
    "#for key in sort(collect(keys(sorted_by_year)))\n",
    "#    println(\"Year \", key, \" has \", length(sorted_by_year[key]), \" placement outcomes\")\n",
    "#end"
   ]
  },
  {
   "cell_type": "code",
   "execution_count": 8,
   "id": "108d2aca-0af6-488a-a5c0-905782769943",
   "metadata": {},
   "outputs": [
    {
     "name": "stdout",
     "output_type": "stream",
     "text": [
      "  -1079 irrelevant applicants removed from the following classes of positions:\n",
      "Set(Any[\"Tenured Professor\", \"Untenured Professor\", \"Associate Professor\", \"Assistant, Associate or Full Professor\", \"Professor Any Level\", \"Temporary Lecturer\", \"Full Professor\", \"Visiting Professor/Lecturer/Instructor\", \"Assistant or Associate Professor\"])\n",
      "  20147 applicants remaining after irrelevant-position applicants removed:\n",
      "Dict{Any, Int64}(\"Other Non-Academic\" => 3926, \"Consultant\" => 653, \"Other Academic\" => 1496, \"Post-Doc\" => 3722, \"Assistant Professor\" => 9378, \"Lecturer\" => 972) 20147 total\n"
     ]
    }
   ],
   "source": [
    "# add \"Lecturer\" if adjusting sinks later on\n",
    "valid_labels = Set([\"Assistant Professor\", \"Consultant\", \"Other Academic\", \"Other Non-Academic\", \"Lecturer\", \"Post-Doc\"])\n",
    "irrelevant_counter = 0\n",
    "removed_labels = Set()\n",
    "\n",
    "for applicant_id in copy(keys(finalized_applicant_outcomes))\n",
    "    outcome = finalized_applicant_outcomes[applicant_id]\n",
    "    if !(outcome[\"position_name\"] in valid_labels)\n",
    "        push!(removed_labels, outcome[\"position_name\"])\n",
    "        delete!(finalized_applicant_outcomes, applicant_id)\n",
    "        irrelevant_counter += 1\n",
    "    end\n",
    "end\n",
    "\n",
    "if DEBUG_LEVEL > 0\n",
    "    println(\"  -\", irrelevant_counter, \" irrelevant applicants removed from the following classes of positions:\")\n",
    "    println(removed_labels)\n",
    "    println(\"  \", length(finalized_applicant_outcomes), \" applicants remaining after irrelevant-position applicants removed:\")\n",
    "    maintained_labels = Dict{Any, Int}()\n",
    "    for applicant_id in keys(finalized_applicant_outcomes)\n",
    "        outcome = finalized_applicant_outcomes[applicant_id]\n",
    "        position_name = outcome[\"position_name\"]\n",
    "        if haskey(maintained_labels, position_name)\n",
    "            maintained_labels[position_name] += 1\n",
    "        else\n",
    "            maintained_labels[position_name] = 1\n",
    "        end\n",
    "    end\n",
    "end\n",
    "\n",
    "println(maintained_labels, \" \", sum(values(maintained_labels)), \" total\")"
   ]
  },
  {
   "cell_type": "code",
   "execution_count": 9,
   "id": "d3fe394d-d933-4cd1-a107-2958ec8968ce",
   "metadata": {},
   "outputs": [
    {
     "name": "stdout",
     "output_type": "stream",
     "text": [
      "  -0 applicants removed due to placement in 2022/2023/2024\n",
      "  20147 applicants remaining after year corrections\n",
      "\n"
     ]
    }
   ],
   "source": [
    "sorted_by_year = Dict{Any, Dict}()\n",
    "removed_year_placed = 0\n",
    "\n",
    "remove_years = [] # remove all 2022+ entries\n",
    "# \"2003\", \"2004\", \"2005\", \"2006\", \"2007\", \"2008\", \"2009\", \"2010\", \"2011\", \"2012\", \"2013\", \"2014\", \"2015\", \"2016\", \"2017\", \"2018\", \"2019\",\n",
    "# \"2021\", \"2022\", \"2023\", \"2024\", \"2025\", \"2026\"\n",
    "\n",
    "for applicant_id in copy(keys(finalized_applicant_outcomes))\n",
    "    outcome = finalized_applicant_outcomes[applicant_id]\n",
    "    if matches(remove_years, outcome[\"startdate\"])\n",
    "        removed_year_placed += 1\n",
    "        delete!(finalized_applicant_outcomes, applicant_id)\n",
    "    else\n",
    "        push!(get!(sorted_by_year, parse(Int, split(outcome[\"startdate\"], \"-\")[1]), Dict()), applicant_id => outcome)\n",
    "    end\n",
    "end\n",
    "\n",
    "if DEBUG_LEVEL > 0\n",
    "    println(\"  -\", removed_year_placed, \" applicants removed due to placement in 2022/2023/2024\")\n",
    "    println(\"  \", length(finalized_applicant_outcomes), \" applicants remaining after year corrections\")\n",
    "    println()\n",
    "end\n",
    "\n",
    "#for key in sort(collect(keys(sorted_by_year)))\n",
    "#    println(\"Year \", key, \" has \", length(sorted_by_year[key]), \" placement outcomes\")\n",
    "#end"
   ]
  },
  {
   "cell_type": "code",
   "execution_count": 10,
   "id": "40cc0e04-8804-4360-b8aa-e2ad567f2fd7",
   "metadata": {},
   "outputs": [
    {
     "name": "stdout",
     "output_type": "stream",
     "text": [
      "\\begin{tabular}{rr}\n",
      "  \\hline\n",
      "  \\textbf{Keys} & \\textbf{Values} \\\\\n",
      "  \\texttt{Any} & \\texttt{Any} \\\\\\hline\n",
      "  2001 & 942 \\\\\n",
      "  2003 & 36 \\\\\n",
      "  2004 & 30 \\\\\n",
      "  2005 & 275 \\\\\n",
      "  2006 & 33 \\\\\n",
      "  2007 & 227 \\\\\n",
      "  2008 & 168 \\\\\n",
      "  2009 & 361 \\\\\n",
      "  2010 & 377 \\\\\n",
      "  2011 & 453 \\\\\n",
      "  2012 & 517 \\\\\n",
      "  2013 & 559 \\\\\n",
      "  2014 & 639 \\\\\n",
      "  2015 & 1092 \\\\\n",
      "  2016 & 2106 \\\\\n",
      "  2017 & 1362 \\\\\n",
      "  2018 & 1419 \\\\\n",
      "  2019 & 1870 \\\\\n",
      "  2020 & 1879 \\\\\n",
      "  2021 & 1827 \\\\\n",
      "  2022 & 1716 \\\\\n",
      "  2023 & 1716 \\\\\n",
      "  2024 & 530 \\\\\n",
      "  2025 & 13 \\\\\\hline\n",
      "\\end{tabular}\n"
     ]
    }
   ],
   "source": [
    "year_labels = []\n",
    "placements_by_year = Dict()\n",
    "\n",
    "for key in sort(collect(keys(sorted_by_year)))\n",
    "    push!(year_labels, key)\n",
    "    push!(placements_by_year,(key =>length(sorted_by_year[key])))\n",
    "end\n",
    "#println(year_labels)\n",
    "pretty_table(placements_by_year, sortkeys = true, backend = Val(:latex))\n",
    "open(files_path*\"placements_by_year.tex\", \"w\") do f\n",
    "    pretty_table(\n",
    "        f,\n",
    "        placements_by_year,\n",
    "        sortkeys = true,\n",
    "        backend = Val(:latex)\n",
    "    )\n",
    "end"
   ]
  },
  {
   "cell_type": "code",
   "execution_count": 11,
   "id": "cae06133-3a31-4bf8-916f-d908d375219a",
   "metadata": {},
   "outputs": [
    {
     "data": {
      "text/plain": [
       "2001:2025"
      ]
     },
     "execution_count": 11,
     "metadata": {},
     "output_type": "execute_result"
    }
   ],
   "source": [
    "include(\"functions/type_allocation_flexible.jl\")\n",
    "included_years = keys(sorted_by_year)\n",
    "# auto-detect year interval; change this to select the years of data to include in the estimation\n",
    "YEAR_INTERVAL = minimum(included_years):maximum(included_years)"
   ]
  },
  {
   "cell_type": "code",
   "execution_count": 12,
   "id": "be2ed8cd-a906-4e9d-8a2f-8d93db87023a",
   "metadata": {},
   "outputs": [],
   "source": [
    "to_from_by_year_api = Dict()\n",
    "for key in keys(sorted_by_year)\n",
    "    to_from_by_year_api[string(key)] = sorted_by_year[key]\n",
    "end\n",
    "# alternatively, load an existing file of placement data\n",
    "# to_from_by_year_api = SBM_flexible.fetch_data(\"to_from_by_year.json\")"
   ]
  },
  {
   "cell_type": "code",
   "execution_count": 13,
   "id": "7d8f05ab-dcc0-485f-a21c-acb8747ab99c",
   "metadata": {},
   "outputs": [],
   "source": [
    "#mkpath(\".estimates\")\n",
    "open(files_path*\"to_from_by_year.json\", \"w\") do f\n",
    "    write(f, JSON.json(to_from_by_year_api))\n",
    "end;"
   ]
  }
 ],
 "metadata": {
  "kernelspec": {
   "display_name": "Julia 1.8.5",
   "language": "julia",
   "name": "julia-1.8"
  },
  "language_info": {
   "file_extension": ".jl",
   "mimetype": "application/julia",
   "name": "julia",
   "version": "1.8.5"
  }
 },
 "nbformat": 4,
 "nbformat_minor": 5
}
