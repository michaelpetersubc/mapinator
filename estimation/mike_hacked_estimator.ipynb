{
 "cells": [
  {
   "cell_type": "code",
   "execution_count": 2,
   "id": "0714a482-7a06-469b-b9bb-97ab684b7841",
   "metadata": {},
   "outputs": [
    {
     "data": {
      "text/plain": [
       "\"/home/peters/code/mapinator/estimation/current_estimates_and_files/\""
      ]
     },
     "execution_count": 2,
     "metadata": {},
     "output_type": "execute_result"
    }
   ],
   "source": [
    "using Pkg\n",
    "Pkg.instantiate()\n",
    "using HTTP, JSON, JLD, Roots, PrettyTables, DotEnv, Dates\n",
    "DEBUG_LEVEL = 1\n",
    "using Optim, Random\n",
    "Random.seed!(0)\n",
    "using BlackBoxOptim, Distributions, ForwardDiff, Integrals, Roots, StatsPlots, DelimitedFiles\n",
    "cfg = DotEnv.config(\"../.env\")\n",
    "files_path = cfg[\"files_path\"]"
   ]
  },
  {
   "cell_type": "markdown",
   "id": "103426ec-5f87-43e2-9780-07c28d8fcb81",
   "metadata": {},
   "source": [
    "# Version 2\n",
    "\n",
    "The second round is dropped in this version.  The unmatched are assumed to be all those in ocean and crow - reasoning is that they were matched with institutions that had no evidence that they participate on the international job market.\n",
    "\n",
    "Change 2 - this no longer fully estimates the $\\alpha_i$.  Instead (consistent with the idea that the unmatched are being recorded) each $m_i$ will be given by the column total from the adjusted adjacency matrix.  This means the estimated number of positions, or $n$ to be estimated. This is because\n",
    "$$\n",
    "\\alpha_i = \\frac{m_i}{n}\n",
    "$$"
   ]
  },
  {
   "cell_type": "code",
   "execution_count": 3,
   "id": "494eddaf-9e69-4c04-b7e4-cf8dd0120f66",
   "metadata": {},
   "outputs": [
    {
     "data": {
      "text/plain": [
       "12"
      ]
     },
     "execution_count": 3,
     "metadata": {},
     "output_type": "execute_result"
    }
   ],
   "source": [
    "# change associated with ocs as failed to trade group\n",
    "raw_placement_rates = load(files_path*\"adjusted_placement_rates.jld\")[\"adjusted_placement_rates\"]\n",
    "unmatched_row_index = 10\n",
    "adjusted_placement_rates = \n",
    "vcat(raw_placement_rates[1:unmatched_row_index-1,:],\n",
    "raw_placement_rates[unmatched_row_index+1:size(raw_placement_rates)[1],:])\n",
    "#adjusted_placement_rates = load(files_path*\"adjusted_placement_rates.jld\")[\"adjusted_placement_rates\"]\n",
    "# number of academic types\n",
    "NUMBER_OF_TYPES = size(adjusted_placement_rates, 2)\n",
    "# add unmatched to make and additional row\n",
    "adjusted_placement_rates = vcat(adjusted_placement_rates, \n",
    "    raw_placement_rates[unmatched_row_index:unmatched_row_index, :])\n",
    "# number of rows in the adj matrix\n",
    "numtotal = size(adjusted_placement_rates, 1)"
   ]
  },
  {
   "cell_type": "code",
   "execution_count": 4,
   "id": "d79b77cc-3515-4679-8877-cd56cb5fb5a3",
   "metadata": {},
   "outputs": [
    {
     "data": {
      "text/plain": [
       "get_rho (generic function with 1 method)"
      ]
     },
     "execution_count": 4,
     "metadata": {},
     "output_type": "execute_result"
    }
   ],
   "source": [
    "# this hack gets beliefs rho by setting it equal to the proportion of all placements\n",
    "# used in estimation\n",
    "function get_rho(adjusted_placement_rates)\n",
    "    a = sum(adjusted_placement_rates, dims = 2)\n",
    "    b = zeros(size(a)[1] - 1)\n",
    "    for i in 1:size(a)[1]-1\n",
    "        b[i] = a[i]\n",
    "    end\n",
    "    B = sum(b)\n",
    "    return b = b./B\n",
    "end"
   ]
  },
  {
   "cell_type": "code",
   "execution_count": 8,
   "id": "4ef1252b-0d50-4f0c-aabd-f40128c65855",
   "metadata": {},
   "outputs": [],
   "source": [
    "#setup stuff\n",
    "k = NUMBER_OF_TYPES\n",
    "# number of recruiter types, note this is one less that the number of rows in the adjacency matrix\n",
    "K = numtotal-1\n",
    "## sample size for computed expectations\n",
    "M = sum(adjusted_placement_rates)\n",
    "# need the column sums to calculate \\alpha\n",
    "workers = sum(adjusted_placement_rates, dims= 1)\n",
    "#maximum likelihood  true for ML false for chi-squared\n",
    "L = true\n",
    "#chi-squared\n",
    "#L = false\n",
    "\n",
    "# upper bound on the value ratios, which should all be less than 1\n",
    "# if any ratio turns out to be 1.0 or close to it at optimality, this could indicate that a lower tier has a higher value than a higher one\n",
    "search_range = Tuple[]\n",
    "for i in 1:k-1\n",
    "    push!(search_range, (0.0, 1.0))\n",
    "end\n",
    "\n",
    "# upper bound on variables proportionate to alpha\n",
    "push!(search_range, (Float64(sum(workers)), Inf))\n",
    "\n",
    "# upper bound on the mu parameter of truncated normal, which is strictly within [0, 1] as the mean is greater than mu in truncated normal\n",
    "\n",
    "for i in k+1:k+K\n",
    "    push!(search_range , (.1,1.0))\n",
    "end\n",
    "\n",
    "# upper bound on the sigma parameter of truncated normal\n",
    "for i in k+K+1:k+2K\n",
    "    push!(search_range , (.1,5.0))\n",
    "end\n",
    "\n",
    "# these are parameters that generate beliefs, not the beliefs themselves\n",
    "#for i in k+2K+1:k+3K\n",
    "#   push!(search_range , (.1,1.))\n",
    "#end\n"
   ]
  },
  {
   "cell_type": "code",
   "execution_count": 9,
   "id": "7a88be54-e33d-4f59-b33d-5b2e63f8a56d",
   "metadata": {},
   "outputs": [
    {
     "name": "stdout",
     "output_type": "stream",
     "text": [
      "Tuple[(0.0, 1.0), (0.0, 1.0), (0.0, 1.0), (0.0, 1.0), (27489.0, Inf), (0.1, 1.0), (0.1, 1.0), (0.1, 1.0), (0.1, 1.0), (0.1, 1.0), (0.1, 1.0), (0.1, 1.0), (0.1, 1.0), (0.1, 1.0), (0.1, 1.0), (0.1, 1.0), (0.1, 5.0), (0.1, 5.0), (0.1, 5.0), (0.1, 5.0), (0.1, 5.0), (0.1, 5.0), (0.1, 5.0), (0.1, 5.0), (0.1, 5.0), (0.1, 5.0), (0.1, 5.0)]\n"
     ]
    },
    {
     "data": {
      "text/plain": [
       "(27,)"
      ]
     },
     "execution_count": 9,
     "metadata": {},
     "output_type": "execute_result"
    }
   ],
   "source": [
    "println(search_range)\n",
    "size(search_range)"
   ]
  },
  {
   "cell_type": "code",
   "execution_count": 12,
   "id": "6801400d-91fc-4ebd-a30e-b5f4d46fc15f",
   "metadata": {},
   "outputs": [
    {
     "data": {
      "text/plain": [
       "fi (generic function with 1 method)"
      ]
     },
     "execution_count": 12,
     "metadata": {},
     "output_type": "execute_result"
    }
   ],
   "source": [
    "function F(x, ρ, μ, σ, K)\n",
    "    return sum([ρ[i] * cdf(truncated(Normal(μ[i], σ[i]), 0, 1), x) for i in 1:K])\n",
    "end\n",
    "\n",
    "function f(x, ρ, μ, σ, K)\n",
    "    return sum([ρ[i] * pdf(truncated(Normal(μ[i], σ[i]), 0, 1), x) for i in 1:K])\n",
    "end\n",
    "\n",
    "function G(Fim1, Fx, αsum)\n",
    "    return (Fim1 - Fx) / αsum\n",
    "end\n",
    "\n",
    "function κ(i, t, v_rel)\n",
    "    return sum([-log(v_rel[j]) for j in t:i-1])\n",
    "end\n",
    "\n",
    "function fi(x, μ, σ)\n",
    "    return pdf(truncated(Normal(μ, σ), 0, 1), x)\n",
    "end"
   ]
  },
  {
   "cell_type": "code",
   "execution_count": 11,
   "id": "94917d56-9391-4845-ba6c-b1d36ca38261",
   "metadata": {},
   "outputs": [
    {
     "data": {
      "text/plain": [
       "pi (generic function with 1 method)"
      ]
     },
     "execution_count": 11,
     "metadata": {},
     "output_type": "execute_result"
    }
   ],
   "source": [
    "function q(i, t, Fx_vec, x_vec, ρ, μ, σ, α, v_rel, k, K)\n",
    "    # Fx_vec = [F(x0)=1, F(x1), F(x2), F(x3), ..., F(xk-1)]\n",
    "    # x_vec = [x0 = 1, x1, x2, x3, ..., xk = 0]\n",
    "    # x_vec[s] = x_{s-1}, so the limits of integration are and must be offset by 1 below\n",
    "    # TODO: can some integrals be cached as a speed-up? can some integrals be computed in parallel?\n",
    "    return sum([(α[t]/sum(α[1:s])) * \n",
    "            solve(IntegralProblem{false}((x, p) -> exp(-(G(Fx_vec[s], F(x, ρ, μ, σ, K), sum(α[1:s])) + κ(s, t, v_rel))) *\n",
    "                    fi(x, μ[i], σ[i]), x_vec[s+1], x_vec[s]), HCubatureJL())[1] for s in t:k])\n",
    "end\n",
    "\n",
    "function Fx(t, α, v_rel)\n",
    "        return 1 - sum([-log(v_rel[j])*sum(α[1:j]) for j in 1:t])\n",
    "end\n",
    "\n",
    "function Q2(ratio, β)\n",
    "    return β * (1 - exp(-ratio)) / ratio\n",
    "end\n",
    "\n",
    "function pi(t, α)\n",
    "    return α[t] / sum(α[1:t])\n",
    "end"
   ]
  },
  {
   "cell_type": "code",
   "execution_count": 40,
   "id": "b0142842-3b45-4a65-aaf1-78a2ba99cda6",
   "metadata": {},
   "outputs": [
    {
     "data": {
      "text/plain": [
       "estimate_likelihood"
      ]
     },
     "execution_count": 40,
     "metadata": {},
     "output_type": "execute_result"
    }
   ],
   "source": [
    "\"\"\"\n",
    "Likelihood\n",
    "    p_vec -> k values,k alpha shares, K means, K variances, K beliefs\n",
    "    example -  for 5 academic tiers and six hiring tiers p_vec has 43 elements\n",
    "    - it assumes the last row of the adjacency matrix is for unmatched so the placement matrix in the example has dimension 12x5 not 11x5\n",
    "    placements -> the adjacency matrix with the unmatched row moved to the bottom\n",
    "    k -> number of academic tiers\n",
    "    K -> rows in the adjacency matrix - last row is treaed as unmatched\n",
    "    L -> true for likelihood, false for chi-squared maximization\n",
    "\"\"\"\n",
    "function estimate_likelihood(p_vec, placements, k, K, M, L)\n",
    "    #values\n",
    "    v_rel = p_vec[1:k-1]\n",
    "    #println(v_rel)\n",
    "    #shares\n",
    "    α = []\n",
    "    for i in 1:k\n",
    "        push!(α, workers[i]/p_vec[k])\n",
    "    end\n",
    "    #means\n",
    "    #println(α)\n",
    "    μ = p_vec[k+1:k+K]\n",
    "    #variances\n",
    "    #println(μ)\n",
    "    σ = p_vec[k+K+1:k+2K]\n",
    "    #println(σ)\n",
    "    #setting rho exogenously\n",
    "    ρ = get_rho(placements)\n",
    "    #ρ = a\n",
    "      # println(sum(ρ))\n",
    "    #β = p_vec[end] # set = 1 to hardcode\n",
    "    Fx_vec = ones(k)\n",
    "    x_vec = ones(k+1)\n",
    "    x_vec[k+1] = 0.0\n",
    "    for t in 1:k-1\n",
    "        Fx_vec_candidate = Fx(t, α, v_rel)\n",
    "        #println(v_rel[t], \" \", -log(v_rel[t])*sum(α[1:t]))\n",
    "        if Fx_vec_candidate <= 0.0\n",
    "            Fx_vec[t+1:k] .= 0.0\n",
    "            x_vec[t+1:k] .= 0.0\n",
    "            break\n",
    "        end\n",
    "        Fx_vec[t+1] = Fx_vec_candidate\n",
    "        if  Fx_vec[t+1] > 0 && Fx_vec[t+1] < 1\n",
    "            x_vec[t+1] = find_zero(x -> F(x, ρ, μ, σ, K) - Fx_vec[t+1], 0.5)\n",
    "        else\n",
    "            x_vec[t+1] = 1\n",
    "        end\n",
    "    end    \n",
    "    #println(Fx_vec)\n",
    "    #println(x_vec)\n",
    "    objective = 0.0\n",
    "    o = 0.0\n",
    "    likelihood = 0.0\n",
    "    normalizer = zeros(k)\n",
    "    # recode\n",
    "    # 1-normalizer is now the probabiity a placement should end up in ocs  \n",
    "    q_it = zeros(K, k)\n",
    "    for i in 1:K, t in 1:k\n",
    "        prob = q(i, t, Fx_vec, x_vec, ρ, μ, σ, α, v_rel, k, K)\n",
    "        q_it[i, t] = prob\n",
    "        normalizer[t] += ρ[i] * prob\n",
    "    end\n",
    "    #println(normalizer)\n",
    "    #println(sum(normalizer))\n",
    "    for i in 1:K, t in 1:k \n",
    "        expectation = M * ρ[i] * q_it[i, t] + .5\n",
    "        #println(expectation, \" \", placements[i,t], \" \",expectation-placements[i,t])\n",
    "        if L\n",
    "            # likelihood\n",
    "            objective += placements[i, t] * (log(ρ[i] * (q_it[i, t] ) + .5))\n",
    "            objective -= log(factorial(big(placements[i, t])))\n",
    "        else\n",
    "            objective += (placements[i, t] - expectation) ^ 2 / expectation\n",
    "        end\n",
    "    end\n",
    "    for t in 1:k\n",
    "        expectation = M*(1-normalizer[t])\n",
    "        #println(placements[K+1,t], \" \", expectation, \" \", placements[K+1,t]-expectation)\n",
    "        #println(1-normalizer[t])\n",
    "        if L\n",
    "            ##objective += placements[K+1, t]*log(1 - normalizer[t])\n",
    "            ##objective -= log(factorial(big(placements[K+1, t])))\n",
    "        else\n",
    "           # println(placements[K+1, t])\n",
    "           # println(expectation)\n",
    "           # println((placements[K+1, t] - expectation)^2 / expectation)\n",
    "            ##objective = o + (placements[K+1, t] - expectation)^2 / expectation\n",
    "           # println(o)\n",
    "        end\n",
    "    end\n",
    "    if L\n",
    "        return Float64(-objective)\n",
    "    else \n",
    "        return Float64(objective)\n",
    "    end\n",
    "end\n"
   ]
  },
  {
   "cell_type": "code",
   "execution_count": null,
   "id": "815dba92-4ff6-4909-b19d-e9793f36e4e7",
   "metadata": {},
   "outputs": [],
   "source": []
  },
  {
   "cell_type": "code",
   "execution_count": 41,
   "id": "6e5c2dcc-2e8f-40e1-af70-c26463f031de",
   "metadata": {},
   "outputs": [
    {
     "data": {
      "text/plain": [
       "15893.804719452983"
      ]
     },
     "execution_count": 41,
     "metadata": {},
     "output_type": "execute_result"
    }
   ],
   "source": [
    "v = [.68, .75, .75, .75] \n",
    "num = sum(workers)\n",
    "mu = [.88,.5, .4, .2, .05, .3, .8, .1, .3, .1, .1]\n",
    "sigma = [.3,.4, .5,.6,.7,.8,1,1.1,1.3,.1,.9]\n",
    "trial = vcat(v,num,mu,sigma)\n",
    "soln = estimate_likelihood(trial, adjusted_placement_rates, k, K, M, false)"
   ]
  },
  {
   "cell_type": "code",
   "execution_count": 45,
   "id": "48f9bfc3-9eef-4099-bbb6-cf506c36754d",
   "metadata": {},
   "outputs": [
    {
     "name": "stdout",
     "output_type": "stream",
     "text": [
      "5 11 27489\n",
      "Starting optimization with optimizer DiffEvoOpt{FitPopulation{Float64}, RadiusLimitedSelector, BlackBoxOptim.AdaptiveDiffEvoRandBin{3}, RandomBound{ContinuousRectSearchSpace}}\n",
      "0.00 secs, 0 evals, 0 steps\n",
      "5.00 secs, 1110 evals, 1009 steps, improv/step: 0.408 (last = 0.4083), fitness=11138.924907142\n",
      "10.00 secs, 2134 evals, 2033 steps, improv/step: 0.356 (last = 0.3037), fitness=9547.521925793\n",
      "15.01 secs, 3056 evals, 2955 steps, improv/step: 0.326 (last = 0.2603), fitness=9090.007558240\n",
      "20.01 secs, 3932 evals, 3831 steps, improv/step: 0.300 (last = 0.2112), fitness=8400.940285139\n",
      "25.01 secs, 4806 evals, 4705 steps, improv/step: 0.284 (last = 0.2174), fitness=8204.975331792\n",
      "30.01 secs, 5663 evals, 5562 steps, improv/step: 0.267 (last = 0.1727), fitness=7721.659195634\n",
      "35.02 secs, 6540 evals, 6439 steps, improv/step: 0.254 (last = 0.1676), fitness=7414.879822407\n",
      "40.02 secs, 7465 evals, 7364 steps, improv/step: 0.243 (last = 0.1697), fitness=7007.212034634\n",
      "45.02 secs, 8430 evals, 8329 steps, improv/step: 0.234 (last = 0.1617), fitness=6370.554185295\n",
      "50.03 secs, 9403 evals, 9302 steps, improv/step: 0.227 (last = 0.1737), fitness=6155.996369758\n",
      "55.03 secs, 10423 evals, 10322 steps, improv/step: 0.221 (last = 0.1598), fitness=5946.900893091\n",
      "60.03 secs, 11432 evals, 11331 steps, improv/step: 0.216 (last = 0.1635), fitness=5852.261671008\n",
      "65.03 secs, 12470 evals, 12369 steps, improv/step: 0.214 (last = 0.2013), fitness=5750.400708348\n",
      "70.04 secs, 13538 evals, 13437 steps, improv/step: 0.212 (last = 0.1882), fitness=5704.539451233\n",
      "75.04 secs, 14611 evals, 14510 steps, improv/step: 0.209 (last = 0.1668), fitness=5698.136074971\n",
      "80.04 secs, 15688 evals, 15587 steps, improv/step: 0.207 (last = 0.1736), fitness=5609.110364025\n",
      "85.05 secs, 16773 evals, 16672 steps, improv/step: 0.204 (last = 0.1668), fitness=5593.528329340\n",
      "90.05 secs, 17854 evals, 17753 steps, improv/step: 0.200 (last = 0.1415), fitness=5551.417779323\n",
      "95.05 secs, 18929 evals, 18828 steps, improv/step: 0.198 (last = 0.1591), fitness=5515.941170409\n",
      "100.06 secs, 20005 evals, 19904 steps, improv/step: 0.195 (last = 0.1533), fitness=5477.834361512\n",
      "105.06 secs, 21082 evals, 20981 steps, improv/step: 0.194 (last = 0.1764), fitness=5463.207743913\n",
      "110.06 secs, 22153 evals, 22052 steps, improv/step: 0.194 (last = 0.1942), fitness=5455.411680431\n",
      "115.06 secs, 23227 evals, 23126 steps, improv/step: 0.193 (last = 0.1732), fitness=5443.346390002\n",
      "120.07 secs, 24297 evals, 24196 steps, improv/step: 0.192 (last = 0.1701), fitness=5437.633397529\n",
      "125.07 secs, 25373 evals, 25272 steps, improv/step: 0.191 (last = 0.1682), fitness=5431.114322772\n",
      "130.07 secs, 26455 evals, 26354 steps, improv/step: 0.190 (last = 0.1580), fitness=5428.574223495\n",
      "135.07 secs, 27543 evals, 27442 steps, improv/step: 0.190 (last = 0.1847), fitness=5424.550298250\n",
      "140.07 secs, 28636 evals, 28536 steps, improv/step: 0.189 (last = 0.1755), fitness=5422.131481210\n",
      "145.09 secs, 29732 evals, 29632 steps, improv/step: 0.188 (last = 0.1533), fitness=5420.362242298\n",
      "150.09 secs, 30829 evals, 30729 steps, improv/step: 0.188 (last = 0.1832), fitness=5418.848886287\n",
      "155.09 secs, 31932 evals, 31832 steps, improv/step: 0.188 (last = 0.2094), fitness=5418.252427532\n",
      "160.10 secs, 33041 evals, 32941 steps, improv/step: 0.189 (last = 0.1948), fitness=5417.412188970\n",
      "165.10 secs, 34147 evals, 34047 steps, improv/step: 0.189 (last = 0.1881), fitness=5417.101932802\n",
      "170.10 secs, 35259 evals, 35159 steps, improv/step: 0.189 (last = 0.1978), fitness=5416.577086245\n",
      "175.10 secs, 36368 evals, 36268 steps, improv/step: 0.190 (last = 0.2146), fitness=5416.389581699\n",
      "180.11 secs, 37477 evals, 37377 steps, improv/step: 0.189 (last = 0.1740), fitness=5416.271945655\n",
      "185.12 secs, 38585 evals, 38485 steps, improv/step: 0.190 (last = 0.2022), fitness=5416.150645375\n",
      "190.12 secs, 39700 evals, 39600 steps, improv/step: 0.190 (last = 0.1955), fitness=5416.117026973\n",
      "195.12 secs, 40810 evals, 40710 steps, improv/step: 0.190 (last = 0.1892), fitness=5416.072918287\n",
      "200.13 secs, 41917 evals, 41817 steps, improv/step: 0.189 (last = 0.1743), fitness=5416.034131222\n",
      "205.13 secs, 43028 evals, 42928 steps, improv/step: 0.189 (last = 0.1917), fitness=5416.023715728\n",
      "210.13 secs, 44135 evals, 44035 steps, improv/step: 0.189 (last = 0.1789), fitness=5416.004585218\n",
      "215.13 secs, 45245 evals, 45146 steps, improv/step: 0.189 (last = 0.1962), fitness=5415.991769909\n",
      "220.14 secs, 46355 evals, 46256 steps, improv/step: 0.190 (last = 0.2198), fitness=5415.979641659\n",
      "225.14 secs, 47467 evals, 47368 steps, improv/step: 0.190 (last = 0.2050), fitness=5415.971126466\n",
      "230.14 secs, 48577 evals, 48478 steps, improv/step: 0.190 (last = 0.1847), fitness=5415.960496500\n",
      "235.14 secs, 49686 evals, 49587 steps, improv/step: 0.191 (last = 0.2065), fitness=5415.956568504\n",
      "240.14 secs, 50794 evals, 50696 steps, improv/step: 0.190 (last = 0.1650), fitness=5415.952443124\n",
      "245.15 secs, 51905 evals, 51807 steps, improv/step: 0.190 (last = 0.1989), fitness=5415.949537941\n",
      "250.15 secs, 53011 evals, 52913 steps, improv/step: 0.190 (last = 0.1917), fitness=5415.947334016\n",
      "255.15 secs, 54119 evals, 54021 steps, improv/step: 0.190 (last = 0.1832), fitness=5415.945953479\n",
      "260.15 secs, 55229 evals, 55131 steps, improv/step: 0.190 (last = 0.1766), fitness=5415.945026059\n",
      "265.15 secs, 56336 evals, 56238 steps, improv/step: 0.189 (last = 0.1671), fitness=5415.943643800\n",
      "270.16 secs, 57444 evals, 57346 steps, improv/step: 0.190 (last = 0.1995), fitness=5415.942945466\n",
      "275.16 secs, 58550 evals, 58452 steps, improv/step: 0.189 (last = 0.1754), fitness=5415.942556117\n",
      "280.16 secs, 59660 evals, 59562 steps, improv/step: 0.189 (last = 0.1694), fitness=5415.942402351\n",
      "285.16 secs, 60767 evals, 60669 steps, improv/step: 0.189 (last = 0.1834), fitness=5415.942142409\n",
      "290.17 secs, 61875 evals, 61777 steps, improv/step: 0.189 (last = 0.1841), fitness=5415.941751739\n",
      "295.17 secs, 62986 evals, 62888 steps, improv/step: 0.189 (last = 0.2097), fitness=5415.941540602\n",
      "300.17 secs, 64093 evals, 63995 steps, improv/step: 0.189 (last = 0.1653), fitness=5415.941396002\n",
      "305.17 secs, 65200 evals, 65102 steps, improv/step: 0.189 (last = 0.2014), fitness=5415.941317719\n",
      "310.18 secs, 66305 evals, 66207 steps, improv/step: 0.189 (last = 0.1928), fitness=5415.941220603\n",
      "315.18 secs, 67417 evals, 67319 steps, improv/step: 0.189 (last = 0.1700), fitness=5415.941171626\n",
      "320.18 secs, 68525 evals, 68427 steps, improv/step: 0.189 (last = 0.2256), fitness=5415.941068382\n",
      "325.18 secs, 69634 evals, 69536 steps, improv/step: 0.189 (last = 0.1876), fitness=5415.940991286\n",
      "330.19 secs, 70745 evals, 70647 steps, improv/step: 0.189 (last = 0.1773), fitness=5415.940966011\n",
      "335.19 secs, 71852 evals, 71754 steps, improv/step: 0.189 (last = 0.1870), fitness=5415.940933922\n",
      "340.19 secs, 72959 evals, 72861 steps, improv/step: 0.189 (last = 0.1716), fitness=5415.940899732\n",
      "345.19 secs, 74065 evals, 73967 steps, improv/step: 0.189 (last = 0.1908), fitness=5415.940881544\n",
      "350.19 secs, 75174 evals, 75076 steps, improv/step: 0.189 (last = 0.1849), fitness=5415.940858766\n",
      "355.20 secs, 76281 evals, 76183 steps, improv/step: 0.189 (last = 0.1852), fitness=5415.940843620\n",
      "360.20 secs, 77388 evals, 77290 steps, improv/step: 0.189 (last = 0.1906), fitness=5415.940834154\n",
      "365.20 secs, 78498 evals, 78400 steps, improv/step: 0.189 (last = 0.1829), fitness=5415.940824488\n",
      "370.20 secs, 79606 evals, 79508 steps, improv/step: 0.189 (last = 0.1850), fitness=5415.940817164\n",
      "375.20 secs, 80712 evals, 80615 steps, improv/step: 0.189 (last = 0.1969), fitness=5415.940810954\n",
      "380.20 secs, 81820 evals, 81724 steps, improv/step: 0.189 (last = 0.2173), fitness=5415.940803406\n",
      "385.21 secs, 82933 evals, 82837 steps, improv/step: 0.189 (last = 0.1950), fitness=5415.940800045\n",
      "390.21 secs, 84041 evals, 83945 steps, improv/step: 0.189 (last = 0.1886), fitness=5415.940796069\n",
      "395.21 secs, 85150 evals, 85055 steps, improv/step: 0.189 (last = 0.2036), fitness=5415.940791630\n",
      "400.21 secs, 86261 evals, 86166 steps, improv/step: 0.190 (last = 0.1998), fitness=5415.940788214\n",
      "405.21 secs, 87368 evals, 87273 steps, improv/step: 0.190 (last = 0.2087), fitness=5415.940787419\n",
      "410.22 secs, 88475 evals, 88380 steps, improv/step: 0.190 (last = 0.1969), fitness=5415.940785552\n",
      "415.22 secs, 89581 evals, 89486 steps, improv/step: 0.190 (last = 0.2233), fitness=5415.940784167\n",
      "420.22 secs, 90692 evals, 90597 steps, improv/step: 0.190 (last = 0.1800), fitness=5415.940782870\n",
      "425.22 secs, 91801 evals, 91706 steps, improv/step: 0.190 (last = 0.1930), fitness=5415.940781643\n",
      "430.22 secs, 92911 evals, 92816 steps, improv/step: 0.190 (last = 0.1928), fitness=5415.940780785\n",
      "435.24 secs, 94021 evals, 93926 steps, improv/step: 0.190 (last = 0.1721), fitness=5415.940780279\n",
      "440.24 secs, 95132 evals, 95037 steps, improv/step: 0.190 (last = 0.1692), fitness=5415.940779727\n",
      "445.25 secs, 96240 evals, 96145 steps, improv/step: 0.190 (last = 0.1778), fitness=5415.940779390\n",
      "450.25 secs, 97348 evals, 97253 steps, improv/step: 0.190 (last = 0.1859), fitness=5415.940778993\n",
      "455.25 secs, 98460 evals, 98365 steps, improv/step: 0.189 (last = 0.1448), fitness=5415.940778947\n",
      "460.25 secs, 99570 evals, 99475 steps, improv/step: 0.189 (last = 0.1649), fitness=5415.940778835\n",
      "\n",
      "Optimization stopped after 99906 steps and 462.20 seconds\n",
      "Termination reason: Max number of function evaluations (100000) reached\n",
      "Steps per second = 216.15\n",
      "Function evals per second = 216.36\n",
      "Improvements/step = Inf\n",
      "Total function evaluations = 100001\n",
      "\n",
      "\n",
      "Best candidate found: [0.649161, 0.789056, 0.760527, 0.707383, 27489.0, 1.0, 0.619041, 0.538166, 0.369636, 0.1, 0.56221, 1.0, 0.254725, 0.1, 0.509403, 0.308733, 0.383053, 0.211656, 0.159352, 0.1, 0.1, 0.240643, 1.09003, 0.220178, 0.1, 0.359263, 0.17562]\n",
      "\n",
      "Fitness: 5415.940778829\n",
      "\n"
     ]
    },
    {
     "data": {
      "text/plain": [
       "27-element Vector{Float64}:\n",
       "     0.649160719515115\n",
       "     0.7890555127516253\n",
       "     0.7605267007770308\n",
       "     0.7073829444863476\n",
       " 27489.000000104705\n",
       "     0.9999999999221887\n",
       "     0.6190414184135133\n",
       "     0.538165682189674\n",
       "     0.36963627595353016\n",
       "     0.10000000003760226\n",
       "     0.5622104256596914\n",
       "     0.9999999934271504\n",
       "     0.25472475787517607\n",
       "     ⋮\n",
       "     0.30873318493773433\n",
       "     0.38305303359102727\n",
       "     0.21165570705518483\n",
       "     0.15935186747762892\n",
       "     0.10000000000727163\n",
       "     0.10000000000661478\n",
       "     0.2406429522555927\n",
       "     1.0900304929910782\n",
       "     0.22017821222223635\n",
       "     0.10000000001134031\n",
       "     0.3592626927755306\n",
       "     0.17562018962681572"
      ]
     },
     "execution_count": 45,
     "metadata": {},
     "output_type": "execute_result"
    }
   ],
   "source": [
    "\n",
    "# all lower bounds are zero as these should be positive parameters\n",
    "# can swap estimate_likelihood for chi_square\n",
    "println(k, \" \",K,\" \",M)\n",
    "sol_res = bboptimize(p -> estimate_likelihood(p, adjusted_placement_rates, k, K, M, false),\n",
    "    SearchRange = [(0.0, 1.0), (0.0, 1.0), (0.0, 1.0), (0.0, 1.0), (27489.0, 100000), \n",
    "        (0.1, 1.0), (0.1, 1.0), (0.1, 1.0), (0.1, 1.0), (0.1, 1.0), (0.1, 1.0), (0.1, 1.0), \n",
    "        (0.1, 1.0), (0.1, 1.0), (0.1, 1.0), (0.1, 1.0), (0.1, 5.0), (0.1, 5.0), (0.1, 5.0), \n",
    "        (0.1, 5.0), (0.1, 5.0), (0.1, 5.0), (0.1, 5.0), (0.1, 5.0), (0.1, 5.0), (0.1, 5.0),\n",
    "        (0.1, 5.0)], \n",
    "    MaxFuncEvals = 100000, TraceInterval = 5)\n",
    "sol = best_candidate(sol_res)"
   ]
  },
  {
   "cell_type": "code",
   "execution_count": 46,
   "id": "d33dac5f-a5d5-4ed6-8911-ba92b7e98e69",
   "metadata": {},
   "outputs": [
    {
     "data": {
      "text/plain": [
       "27-element Vector{Float64}:\n",
       "     0.649160719515115\n",
       "     0.7890555127516253\n",
       "     0.7605267007770308\n",
       "     0.7073829444863476\n",
       " 27489.000000104705\n",
       "     0.9999999999221887\n",
       "     0.6190414184135133\n",
       "     0.538165682189674\n",
       "     0.36963627595353016\n",
       "     0.10000000003760226\n",
       "     0.5622104256596914\n",
       "     0.9999999934271504\n",
       "     0.25472475787517607\n",
       "     ⋮\n",
       "     0.30873318493773433\n",
       "     0.38305303359102727\n",
       "     0.21165570705518483\n",
       "     0.15935186747762892\n",
       "     0.10000000000727163\n",
       "     0.10000000000661478\n",
       "     0.2406429522555927\n",
       "     1.0900304929910782\n",
       "     0.22017821222223635\n",
       "     0.10000000001134031\n",
       "     0.3592626927755306\n",
       "     0.17562018962681572"
      ]
     },
     "execution_count": 46,
     "metadata": {},
     "output_type": "execute_result"
    }
   ],
   "source": [
    "s = best_candidate(sol_res)"
   ]
  },
  {
   "cell_type": "code",
   "execution_count": 50,
   "id": "a226b38f-413c-425b-acd4-58699c6628cb",
   "metadata": {},
   "outputs": [
    {
     "data": {
      "text/plain": [
       "print_solution"
      ]
     },
     "execution_count": 50,
     "metadata": {},
     "output_type": "execute_result"
    }
   ],
   "source": [
    "\"\"\"\n",
    "    sol -> the solution provided by bboptimize\n",
    "    placements ->   the actual placements including unmatched dimensions computer from the size of this matrix\n",
    "\"\"\"\n",
    "function print_solution(sol_res, placements, workers) \n",
    "    k = size(placements)[2]\n",
    "    K = size(placements)[1]-1\n",
    "    M = sum(placements)\n",
    "    sol = best_candidate(sol_res)\n",
    "    println(\"fitness = \", best_fitness(sol_res))\n",
    "    println()\n",
    "    println(\"Values:\")\n",
    "    println(\"  Tier 1: \", 1)\n",
    "    start = 1\n",
    "    for i in 1:k-1\n",
    "        start = start*sol[i]\n",
    "        println(\"  Tier_\", 1+i, \" : \", start)\n",
    "    end\n",
    "    println()\n",
    "    println(\"Estimated Demand: \", sol[k])\n",
    "    println(\"Shares (alpha - commputed  directly from placements)\")\n",
    "    for i in k+1:2k\n",
    "        println(\"  Tier_\", i-k, \" : \", workers[i-k]/sol[k])\n",
    "    end\n",
    "    hiring_data = zeros(K,2)\n",
    "    for i in 1:K\n",
    "        hiring_data[i,1] = sol[k+i]\n",
    "        hiring_data[i,2] = sol[k+K+i]\n",
    "\n",
    "    end\n",
    "    display(hiring_data)\n",
    "   return hiring_data\n",
    "end"
   ]
  },
  {
   "cell_type": "code",
   "execution_count": 51,
   "id": "fbddecf5-e48e-4361-b38b-a63d5303ecad",
   "metadata": {},
   "outputs": [
    {
     "name": "stdout",
     "output_type": "stream",
     "text": [
      "fitness = 5415.940778828727\n",
      "\n",
      "Values:\n",
      "  Tier 1: 1\n",
      "  Tier_2 : 0.649160719515115\n",
      "  Tier_3 : 0.5122238443952131\n",
      "  Tier_4 : 0.3895599104372186\n",
      "  Tier_5 : 0.2755680364989176\n",
      "\n",
      "Estimated Demand: 27489.000000104705\n",
      "Shares (alpha)\n",
      "  Tier_1 : 0.2479901051320177\n",
      "  Tier_2 : 0.28211284513698065\n",
      "  Tier_3 : 0.2555931463484753\n",
      "  Tier_4 : 0.14143839353869514\n",
      "  Tier_5 : 0.07286550984002221\n"
     ]
    },
    {
     "data": {
      "text/plain": [
       "11×2 Matrix{Float64}:\n",
       " 1.0       0.383053\n",
       " 0.619041  0.211656\n",
       " 0.538166  0.159352\n",
       " 0.369636  0.1\n",
       " 0.1       0.1\n",
       " 0.56221   0.240643\n",
       " 1.0       1.09003\n",
       " 0.254725  0.220178\n",
       " 0.1       0.1\n",
       " 0.509403  0.359263\n",
       " 0.308733  0.17562"
      ]
     },
     "metadata": {},
     "output_type": "display_data"
    }
   ],
   "source": [
    "hiring_data = print_solution(sol_res,adjusted_placement_rates, workers);"
   ]
  },
  {
   "cell_type": "code",
   "execution_count": 60,
   "id": "8158f596-1ac6-4512-9b11-ac19b740f925",
   "metadata": {},
   "outputs": [
    {
     "data": {
      "text/plain": [
       "12-element Vector{Any}:\n",
       " 0.005924170616113744\n",
       " 0.018364928909952605\n",
       " 0.05302132701421801\n",
       " 0.10426540284360189\n",
       " 0.16824644549763032\n",
       " 0.047097156398104266\n",
       " 0.07553317535545023\n",
       " 0.18809241706161137\n",
       " 0.13122037914691942\n",
       " 0.0002962085308056872\n",
       " 0.0115521327014218\n",
       " 0.1963862559241706"
      ]
     },
     "execution_count": 60,
     "metadata": {},
     "output_type": "execute_result"
    }
   ],
   "source": [
    "classification_properties = load(files_path*\"classification_properties.jld\")[\"classification_properties\"]\n",
    "a = classification_properties[\"institution_counts\"]\n",
    "norm = []\n",
    "for b in a\n",
    "    push!(norm, b/sum(a))\n",
    "end\n",
    "norm"
   ]
  },
  {
   "cell_type": "code",
   "execution_count": 14,
   "id": "8205916f-966e-4a25-b0ae-473df0f79cac",
   "metadata": {},
   "outputs": [],
   "source": [
    "save(files_path*\"current_estimates.jld\", \"all_data\", all_data)"
   ]
  },
  {
   "cell_type": "code",
   "execution_count": 15,
   "id": "e718a2b0-6204-4178-baff-8664580ee1f8",
   "metadata": {},
   "outputs": [],
   "source": [
    "open(files_path*\"current_estimates.tex\", \"w\") do f\n",
    "pretty_table(\n",
    "    f,\n",
    "    all_data',\n",
    "    header = head,\n",
    "        row_labels = row_names,\n",
    "    backend = Val(:latex)\n",
    "    )\n",
    "end"
   ]
  },
  {
   "cell_type": "code",
   "execution_count": 16,
   "id": "5426e1b6-b5c9-4b62-bfda-4f18259961fc",
   "metadata": {},
   "outputs": [
    {
     "data": {
      "image/svg+xml": [
       "<?xml version=\"1.0\" encoding=\"utf-8\"?>\n",
       "<svg xmlns=\"http://www.w3.org/2000/svg\" xmlns:xlink=\"http://www.w3.org/1999/xlink\" width=\"600\" height=\"400\" viewBox=\"0 0 2400 1600\">\n",
       "<defs>\n",
       "  <clipPath id=\"clip210\">\n",
       "    <rect x=\"0\" y=\"0\" width=\"2400\" height=\"1600\"/>\n",
       "  </clipPath>\n",
       "</defs>\n",
       "<path clip-path=\"url(#clip210)\" d=\"M0 1600 L2400 1600 L2400 0 L0 0  Z\" fill=\"#ffffff\" fill-rule=\"evenodd\" fill-opacity=\"1\"/>\n",
       "<defs>\n",
       "  <clipPath id=\"clip211\">\n",
       "    <rect x=\"480\" y=\"0\" width=\"1681\" height=\"1600\"/>\n",
       "  </clipPath>\n",
       "</defs>\n",
       "<path clip-path=\"url(#clip210)\" d=\"M249.542 1423.18 L2352.76 1423.18 L2352.76 123.472 L249.542 123.472  Z\" fill=\"#ffffff\" fill-rule=\"evenodd\" fill-opacity=\"1\"/>\n",
       "<defs>\n",
       "  <clipPath id=\"clip212\">\n",
       "    <rect x=\"249\" y=\"123\" width=\"2104\" height=\"1301\"/>\n",
       "  </clipPath>\n",
       "</defs>\n",
       "<polyline clip-path=\"url(#clip212)\" style=\"stroke:#000000; stroke-linecap:round; stroke-linejoin:round; stroke-width:2; stroke-opacity:0.1; fill:none\" points=\"309.067,1423.18 309.067,123.472 \"/>\n",
       "<polyline clip-path=\"url(#clip212)\" style=\"stroke:#000000; stroke-linecap:round; stroke-linejoin:round; stroke-width:2; stroke-opacity:0.1; fill:none\" points=\"805.108,1423.18 805.108,123.472 \"/>\n",
       "<polyline clip-path=\"url(#clip212)\" style=\"stroke:#000000; stroke-linecap:round; stroke-linejoin:round; stroke-width:2; stroke-opacity:0.1; fill:none\" points=\"1301.15,1423.18 1301.15,123.472 \"/>\n",
       "<polyline clip-path=\"url(#clip212)\" style=\"stroke:#000000; stroke-linecap:round; stroke-linejoin:round; stroke-width:2; stroke-opacity:0.1; fill:none\" points=\"1797.19,1423.18 1797.19,123.472 \"/>\n",
       "<polyline clip-path=\"url(#clip212)\" style=\"stroke:#000000; stroke-linecap:round; stroke-linejoin:round; stroke-width:2; stroke-opacity:0.1; fill:none\" points=\"2293.23,1423.18 2293.23,123.472 \"/>\n",
       "<polyline clip-path=\"url(#clip210)\" style=\"stroke:#000000; stroke-linecap:round; stroke-linejoin:round; stroke-width:4; stroke-opacity:1; fill:none\" points=\"249.542,1423.18 2352.76,1423.18 \"/>\n",
       "<polyline clip-path=\"url(#clip210)\" style=\"stroke:#000000; stroke-linecap:round; stroke-linejoin:round; stroke-width:4; stroke-opacity:1; fill:none\" points=\"309.067,1423.18 309.067,1404.28 \"/>\n",
       "<polyline clip-path=\"url(#clip210)\" style=\"stroke:#000000; stroke-linecap:round; stroke-linejoin:round; stroke-width:4; stroke-opacity:1; fill:none\" points=\"805.108,1423.18 805.108,1404.28 \"/>\n",
       "<polyline clip-path=\"url(#clip210)\" style=\"stroke:#000000; stroke-linecap:round; stroke-linejoin:round; stroke-width:4; stroke-opacity:1; fill:none\" points=\"1301.15,1423.18 1301.15,1404.28 \"/>\n",
       "<polyline clip-path=\"url(#clip210)\" style=\"stroke:#000000; stroke-linecap:round; stroke-linejoin:round; stroke-width:4; stroke-opacity:1; fill:none\" points=\"1797.19,1423.18 1797.19,1404.28 \"/>\n",
       "<polyline clip-path=\"url(#clip210)\" style=\"stroke:#000000; stroke-linecap:round; stroke-linejoin:round; stroke-width:4; stroke-opacity:1; fill:none\" points=\"2293.23,1423.18 2293.23,1404.28 \"/>\n",
       "<path clip-path=\"url(#clip210)\" d=\"M271.37 1454.1 Q267.759 1454.1 265.931 1457.66 Q264.125 1461.2 264.125 1468.33 Q264.125 1475.44 265.931 1479.01 Q267.759 1482.55 271.37 1482.55 Q275.005 1482.55 276.81 1479.01 Q278.639 1475.44 278.639 1468.33 Q278.639 1461.2 276.81 1457.66 Q275.005 1454.1 271.37 1454.1 M271.37 1450.39 Q277.181 1450.39 280.236 1455 Q283.315 1459.58 283.315 1468.33 Q283.315 1477.06 280.236 1481.67 Q277.181 1486.25 271.37 1486.25 Q265.56 1486.25 262.482 1481.67 Q259.426 1477.06 259.426 1468.33 Q259.426 1459.58 262.482 1455 Q265.56 1450.39 271.37 1450.39 Z\" fill=\"#000000\" fill-rule=\"nonzero\" fill-opacity=\"1\" /><path clip-path=\"url(#clip210)\" d=\"M291.532 1479.7 L296.417 1479.7 L296.417 1485.58 L291.532 1485.58 L291.532 1479.7 Z\" fill=\"#000000\" fill-rule=\"nonzero\" fill-opacity=\"1\" /><path clip-path=\"url(#clip210)\" d=\"M316.602 1454.1 Q312.991 1454.1 311.162 1457.66 Q309.356 1461.2 309.356 1468.33 Q309.356 1475.44 311.162 1479.01 Q312.991 1482.55 316.602 1482.55 Q320.236 1482.55 322.041 1479.01 Q323.87 1475.44 323.87 1468.33 Q323.87 1461.2 322.041 1457.66 Q320.236 1454.1 316.602 1454.1 M316.602 1450.39 Q322.412 1450.39 325.467 1455 Q328.546 1459.58 328.546 1468.33 Q328.546 1477.06 325.467 1481.67 Q322.412 1486.25 316.602 1486.25 Q310.791 1486.25 307.713 1481.67 Q304.657 1477.06 304.657 1468.33 Q304.657 1459.58 307.713 1455 Q310.791 1450.39 316.602 1450.39 Z\" fill=\"#000000\" fill-rule=\"nonzero\" fill-opacity=\"1\" /><path clip-path=\"url(#clip210)\" d=\"M346.764 1454.1 Q343.152 1454.1 341.324 1457.66 Q339.518 1461.2 339.518 1468.33 Q339.518 1475.44 341.324 1479.01 Q343.152 1482.55 346.764 1482.55 Q350.398 1482.55 352.203 1479.01 Q354.032 1475.44 354.032 1468.33 Q354.032 1461.2 352.203 1457.66 Q350.398 1454.1 346.764 1454.1 M346.764 1450.39 Q352.574 1450.39 355.629 1455 Q358.708 1459.58 358.708 1468.33 Q358.708 1477.06 355.629 1481.67 Q352.574 1486.25 346.764 1486.25 Q340.953 1486.25 337.875 1481.67 Q334.819 1477.06 334.819 1468.33 Q334.819 1459.58 337.875 1455 Q340.953 1450.39 346.764 1450.39 Z\" fill=\"#000000\" fill-rule=\"nonzero\" fill-opacity=\"1\" /><path clip-path=\"url(#clip210)\" d=\"M767.909 1454.1 Q764.298 1454.1 762.469 1457.66 Q760.664 1461.2 760.664 1468.33 Q760.664 1475.44 762.469 1479.01 Q764.298 1482.55 767.909 1482.55 Q771.543 1482.55 773.349 1479.01 Q775.178 1475.44 775.178 1468.33 Q775.178 1461.2 773.349 1457.66 Q771.543 1454.1 767.909 1454.1 M767.909 1450.39 Q773.719 1450.39 776.775 1455 Q779.853 1459.58 779.853 1468.33 Q779.853 1477.06 776.775 1481.67 Q773.719 1486.25 767.909 1486.25 Q762.099 1486.25 759.02 1481.67 Q755.965 1477.06 755.965 1468.33 Q755.965 1459.58 759.02 1455 Q762.099 1450.39 767.909 1450.39 Z\" fill=\"#000000\" fill-rule=\"nonzero\" fill-opacity=\"1\" /><path clip-path=\"url(#clip210)\" d=\"M788.071 1479.7 L792.955 1479.7 L792.955 1485.58 L788.071 1485.58 L788.071 1479.7 Z\" fill=\"#000000\" fill-rule=\"nonzero\" fill-opacity=\"1\" /><path clip-path=\"url(#clip210)\" d=\"M807.168 1481.64 L823.487 1481.64 L823.487 1485.58 L801.543 1485.58 L801.543 1481.64 Q804.205 1478.89 808.788 1474.26 Q813.395 1469.61 814.576 1468.27 Q816.821 1465.74 817.7 1464.01 Q818.603 1462.25 818.603 1460.56 Q818.603 1457.8 816.659 1456.07 Q814.738 1454.33 811.636 1454.33 Q809.437 1454.33 806.983 1455.09 Q804.552 1455.86 801.775 1457.41 L801.775 1452.69 Q804.599 1451.55 807.052 1450.97 Q809.506 1450.39 811.543 1450.39 Q816.913 1450.39 820.108 1453.08 Q823.302 1455.77 823.302 1460.26 Q823.302 1462.39 822.492 1464.31 Q821.705 1466.2 819.599 1468.8 Q819.02 1469.47 815.918 1472.69 Q812.816 1475.88 807.168 1481.64 Z\" fill=\"#000000\" fill-rule=\"nonzero\" fill-opacity=\"1\" /><path clip-path=\"url(#clip210)\" d=\"M833.349 1451.02 L851.705 1451.02 L851.705 1454.96 L837.631 1454.96 L837.631 1463.43 Q838.649 1463.08 839.668 1462.92 Q840.686 1462.73 841.705 1462.73 Q847.492 1462.73 850.872 1465.9 Q854.251 1469.08 854.251 1474.49 Q854.251 1480.07 850.779 1483.17 Q847.307 1486.25 840.987 1486.25 Q838.811 1486.25 836.543 1485.88 Q834.298 1485.51 831.89 1484.77 L831.89 1480.07 Q833.974 1481.2 836.196 1481.76 Q838.418 1482.32 840.895 1482.32 Q844.899 1482.32 847.237 1480.21 Q849.575 1478.1 849.575 1474.49 Q849.575 1470.88 847.237 1468.77 Q844.899 1466.67 840.895 1466.67 Q839.02 1466.67 837.145 1467.08 Q835.293 1467.5 833.349 1468.38 L833.349 1451.02 Z\" fill=\"#000000\" fill-rule=\"nonzero\" fill-opacity=\"1\" /><path clip-path=\"url(#clip210)\" d=\"M1263.45 1454.1 Q1259.84 1454.1 1258.01 1457.66 Q1256.21 1461.2 1256.21 1468.33 Q1256.21 1475.44 1258.01 1479.01 Q1259.84 1482.55 1263.45 1482.55 Q1267.09 1482.55 1268.89 1479.01 Q1270.72 1475.44 1270.72 1468.33 Q1270.72 1461.2 1268.89 1457.66 Q1267.09 1454.1 1263.45 1454.1 M1263.45 1450.39 Q1269.26 1450.39 1272.32 1455 Q1275.4 1459.58 1275.4 1468.33 Q1275.4 1477.06 1272.32 1481.67 Q1269.26 1486.25 1263.45 1486.25 Q1257.64 1486.25 1254.56 1481.67 Q1251.51 1477.06 1251.51 1468.33 Q1251.51 1459.58 1254.56 1455 Q1257.64 1450.39 1263.45 1450.39 Z\" fill=\"#000000\" fill-rule=\"nonzero\" fill-opacity=\"1\" /><path clip-path=\"url(#clip210)\" d=\"M1283.61 1479.7 L1288.5 1479.7 L1288.5 1485.58 L1283.61 1485.58 L1283.61 1479.7 Z\" fill=\"#000000\" fill-rule=\"nonzero\" fill-opacity=\"1\" /><path clip-path=\"url(#clip210)\" d=\"M1298.73 1451.02 L1317.09 1451.02 L1317.09 1454.96 L1303.01 1454.96 L1303.01 1463.43 Q1304.03 1463.08 1305.05 1462.92 Q1306.07 1462.73 1307.09 1462.73 Q1312.87 1462.73 1316.25 1465.9 Q1319.63 1469.08 1319.63 1474.49 Q1319.63 1480.07 1316.16 1483.17 Q1312.69 1486.25 1306.37 1486.25 Q1304.19 1486.25 1301.92 1485.88 Q1299.68 1485.51 1297.27 1484.77 L1297.27 1480.07 Q1299.35 1481.2 1301.58 1481.76 Q1303.8 1482.32 1306.28 1482.32 Q1310.28 1482.32 1312.62 1480.21 Q1314.96 1478.1 1314.96 1474.49 Q1314.96 1470.88 1312.62 1468.77 Q1310.28 1466.67 1306.28 1466.67 Q1304.4 1466.67 1302.53 1467.08 Q1300.67 1467.5 1298.73 1468.38 L1298.73 1451.02 Z\" fill=\"#000000\" fill-rule=\"nonzero\" fill-opacity=\"1\" /><path clip-path=\"url(#clip210)\" d=\"M1338.85 1454.1 Q1335.23 1454.1 1333.41 1457.66 Q1331.6 1461.2 1331.6 1468.33 Q1331.6 1475.44 1333.41 1479.01 Q1335.23 1482.55 1338.85 1482.55 Q1342.48 1482.55 1344.29 1479.01 Q1346.11 1475.44 1346.11 1468.33 Q1346.11 1461.2 1344.29 1457.66 Q1342.48 1454.1 1338.85 1454.1 M1338.85 1450.39 Q1344.66 1450.39 1347.71 1455 Q1350.79 1459.58 1350.79 1468.33 Q1350.79 1477.06 1347.71 1481.67 Q1344.66 1486.25 1338.85 1486.25 Q1333.04 1486.25 1329.96 1481.67 Q1326.9 1477.06 1326.9 1468.33 Q1326.9 1459.58 1329.96 1455 Q1333.04 1450.39 1338.85 1450.39 Z\" fill=\"#000000\" fill-rule=\"nonzero\" fill-opacity=\"1\" /><path clip-path=\"url(#clip210)\" d=\"M1759.99 1454.1 Q1756.38 1454.1 1754.55 1457.66 Q1752.75 1461.2 1752.75 1468.33 Q1752.75 1475.44 1754.55 1479.01 Q1756.38 1482.55 1759.99 1482.55 Q1763.63 1482.55 1765.43 1479.01 Q1767.26 1475.44 1767.26 1468.33 Q1767.26 1461.2 1765.43 1457.66 Q1763.63 1454.1 1759.99 1454.1 M1759.99 1450.39 Q1765.8 1450.39 1768.86 1455 Q1771.94 1459.58 1771.94 1468.33 Q1771.94 1477.06 1768.86 1481.67 Q1765.8 1486.25 1759.99 1486.25 Q1754.18 1486.25 1751.1 1481.67 Q1748.05 1477.06 1748.05 1468.33 Q1748.05 1459.58 1751.1 1455 Q1754.18 1450.39 1759.99 1450.39 Z\" fill=\"#000000\" fill-rule=\"nonzero\" fill-opacity=\"1\" /><path clip-path=\"url(#clip210)\" d=\"M1780.15 1479.7 L1785.04 1479.7 L1785.04 1485.58 L1780.15 1485.58 L1780.15 1479.7 Z\" fill=\"#000000\" fill-rule=\"nonzero\" fill-opacity=\"1\" /><path clip-path=\"url(#clip210)\" d=\"M1794.04 1451.02 L1816.26 1451.02 L1816.26 1453.01 L1803.72 1485.58 L1798.83 1485.58 L1810.64 1454.96 L1794.04 1454.96 L1794.04 1451.02 Z\" fill=\"#000000\" fill-rule=\"nonzero\" fill-opacity=\"1\" /><path clip-path=\"url(#clip210)\" d=\"M1825.43 1451.02 L1843.79 1451.02 L1843.79 1454.96 L1829.71 1454.96 L1829.71 1463.43 Q1830.73 1463.08 1831.75 1462.92 Q1832.77 1462.73 1833.79 1462.73 Q1839.57 1462.73 1842.95 1465.9 Q1846.33 1469.08 1846.33 1474.49 Q1846.33 1480.07 1842.86 1483.17 Q1839.39 1486.25 1833.07 1486.25 Q1830.89 1486.25 1828.62 1485.88 Q1826.38 1485.51 1823.97 1484.77 L1823.97 1480.07 Q1826.06 1481.2 1828.28 1481.76 Q1830.5 1482.32 1832.98 1482.32 Q1836.98 1482.32 1839.32 1480.21 Q1841.66 1478.1 1841.66 1474.49 Q1841.66 1470.88 1839.32 1468.77 Q1836.98 1466.67 1832.98 1466.67 Q1831.1 1466.67 1829.23 1467.08 Q1827.38 1467.5 1825.43 1468.38 L1825.43 1451.02 Z\" fill=\"#000000\" fill-rule=\"nonzero\" fill-opacity=\"1\" /><path clip-path=\"url(#clip210)\" d=\"M2245.3 1481.64 L2252.94 1481.64 L2252.94 1455.28 L2244.63 1456.95 L2244.63 1452.69 L2252.9 1451.02 L2257.57 1451.02 L2257.57 1481.64 L2265.21 1481.64 L2265.21 1485.58 L2245.3 1485.58 L2245.3 1481.64 Z\" fill=\"#000000\" fill-rule=\"nonzero\" fill-opacity=\"1\" /><path clip-path=\"url(#clip210)\" d=\"M2274.65 1479.7 L2279.54 1479.7 L2279.54 1485.58 L2274.65 1485.58 L2274.65 1479.7 Z\" fill=\"#000000\" fill-rule=\"nonzero\" fill-opacity=\"1\" /><path clip-path=\"url(#clip210)\" d=\"M2299.72 1454.1 Q2296.11 1454.1 2294.28 1457.66 Q2292.48 1461.2 2292.48 1468.33 Q2292.48 1475.44 2294.28 1479.01 Q2296.11 1482.55 2299.72 1482.55 Q2303.36 1482.55 2305.16 1479.01 Q2306.99 1475.44 2306.99 1468.33 Q2306.99 1461.2 2305.16 1457.66 Q2303.36 1454.1 2299.72 1454.1 M2299.72 1450.39 Q2305.53 1450.39 2308.59 1455 Q2311.67 1459.58 2311.67 1468.33 Q2311.67 1477.06 2308.59 1481.67 Q2305.53 1486.25 2299.72 1486.25 Q2293.91 1486.25 2290.84 1481.67 Q2287.78 1477.06 2287.78 1468.33 Q2287.78 1459.58 2290.84 1455 Q2293.91 1450.39 2299.72 1450.39 Z\" fill=\"#000000\" fill-rule=\"nonzero\" fill-opacity=\"1\" /><path clip-path=\"url(#clip210)\" d=\"M2329.89 1454.1 Q2326.27 1454.1 2324.45 1457.66 Q2322.64 1461.2 2322.64 1468.33 Q2322.64 1475.44 2324.45 1479.01 Q2326.27 1482.55 2329.89 1482.55 Q2333.52 1482.55 2335.33 1479.01 Q2337.15 1475.44 2337.15 1468.33 Q2337.15 1461.2 2335.33 1457.66 Q2333.52 1454.1 2329.89 1454.1 M2329.89 1450.39 Q2335.7 1450.39 2338.75 1455 Q2341.83 1459.58 2341.83 1468.33 Q2341.83 1477.06 2338.75 1481.67 Q2335.7 1486.25 2329.89 1486.25 Q2324.08 1486.25 2321 1481.67 Q2317.94 1477.06 2317.94 1468.33 Q2317.94 1459.58 2321 1455 Q2324.08 1450.39 2329.89 1450.39 Z\" fill=\"#000000\" fill-rule=\"nonzero\" fill-opacity=\"1\" /><path clip-path=\"url(#clip210)\" d=\"M1145.32 1536.5 Q1140.61 1536.5 1137.87 1540.19 Q1135.13 1543.85 1135.13 1550.25 Q1135.13 1556.65 1137.84 1560.34 Q1140.57 1564 1145.32 1564 Q1150 1564 1152.73 1560.31 Q1155.47 1556.62 1155.47 1550.25 Q1155.47 1543.92 1152.73 1540.23 Q1150 1536.5 1145.32 1536.5 M1145.32 1531.54 Q1152.96 1531.54 1157.32 1536.5 Q1161.68 1541.47 1161.68 1550.25 Q1161.68 1559 1157.32 1564 Q1152.96 1568.97 1145.32 1568.97 Q1137.65 1568.97 1133.29 1564 Q1128.96 1559 1128.96 1550.25 Q1128.96 1541.47 1133.29 1536.5 Q1137.65 1531.54 1145.32 1531.54 Z\" fill=\"#000000\" fill-rule=\"nonzero\" fill-opacity=\"1\" /><path clip-path=\"url(#clip210)\" d=\"M1189.43 1518.52 L1189.43 1523.39 L1183.83 1523.39 Q1180.68 1523.39 1179.44 1524.66 Q1178.23 1525.93 1178.23 1529.24 L1178.23 1532.4 L1187.87 1532.4 L1187.87 1536.95 L1178.23 1536.95 L1178.23 1568.04 L1172.34 1568.04 L1172.34 1536.95 L1166.74 1536.95 L1166.74 1532.4 L1172.34 1532.4 L1172.34 1529.91 Q1172.34 1523.96 1175.11 1521.26 Q1177.88 1518.52 1183.89 1518.52 L1189.43 1518.52 Z\" fill=\"#000000\" fill-rule=\"nonzero\" fill-opacity=\"1\" /><path clip-path=\"url(#clip210)\" d=\"M1212.38 1518.52 L1212.38 1523.39 L1206.78 1523.39 Q1203.63 1523.39 1202.39 1524.66 Q1201.18 1525.93 1201.18 1529.24 L1201.18 1532.4 L1210.82 1532.4 L1210.82 1536.95 L1201.18 1536.95 L1201.18 1568.04 L1195.29 1568.04 L1195.29 1536.95 L1189.69 1536.95 L1189.69 1532.4 L1195.29 1532.4 L1195.29 1529.91 Q1195.29 1523.96 1198.06 1521.26 Q1200.83 1518.52 1206.84 1518.52 L1212.38 1518.52 Z\" fill=\"#000000\" fill-rule=\"nonzero\" fill-opacity=\"1\" /><path clip-path=\"url(#clip210)\" d=\"M1247.77 1548.76 L1247.77 1551.62 L1220.85 1551.62 Q1221.23 1557.67 1224.47 1560.85 Q1227.75 1564 1233.58 1564 Q1236.95 1564 1240.1 1563.17 Q1243.28 1562.35 1246.4 1560.69 L1246.4 1566.23 Q1243.25 1567.57 1239.94 1568.27 Q1236.63 1568.97 1233.23 1568.97 Q1224.7 1568.97 1219.7 1564 Q1214.73 1559.04 1214.73 1550.57 Q1214.73 1541.82 1219.45 1536.69 Q1224.19 1531.54 1232.21 1531.54 Q1239.4 1531.54 1243.57 1536.18 Q1247.77 1540.8 1247.77 1548.76 M1241.92 1547.04 Q1241.85 1542.23 1239.21 1539.37 Q1236.6 1536.5 1232.27 1536.5 Q1227.37 1536.5 1224.41 1539.27 Q1221.48 1542.04 1221.04 1547.07 L1241.92 1547.04 Z\" fill=\"#000000\" fill-rule=\"nonzero\" fill-opacity=\"1\" /><path clip-path=\"url(#clip210)\" d=\"M1278.04 1537.87 Q1277.05 1537.3 1275.88 1537.04 Q1274.73 1536.76 1273.33 1536.76 Q1268.37 1536.76 1265.69 1540 Q1263.05 1543.22 1263.05 1549.27 L1263.05 1568.04 L1257.16 1568.04 L1257.16 1532.4 L1263.05 1532.4 L1263.05 1537.93 Q1264.9 1534.69 1267.86 1533.13 Q1270.82 1531.54 1275.05 1531.54 Q1275.65 1531.54 1276.39 1531.63 Q1277.12 1531.7 1278.01 1531.85 L1278.04 1537.87 Z\" fill=\"#000000\" fill-rule=\"nonzero\" fill-opacity=\"1\" /><path clip-path=\"url(#clip210)\" d=\"M1300.7 1532.4 L1306.91 1532.4 L1318.05 1562.31 L1329.19 1532.4 L1335.4 1532.4 L1322.03 1568.04 L1314.07 1568.04 L1300.7 1532.4 Z\" fill=\"#000000\" fill-rule=\"nonzero\" fill-opacity=\"1\" /><path clip-path=\"url(#clip210)\" d=\"M1359.68 1550.12 Q1352.58 1550.12 1349.85 1551.75 Q1347.11 1553.37 1347.11 1557.29 Q1347.11 1560.4 1349.15 1562.25 Q1351.22 1564.07 1354.75 1564.07 Q1359.62 1564.07 1362.55 1560.63 Q1365.51 1557.16 1365.51 1551.43 L1365.51 1550.12 L1359.68 1550.12 M1371.36 1547.71 L1371.36 1568.04 L1365.51 1568.04 L1365.51 1562.63 Q1363.5 1565.88 1360.51 1567.44 Q1357.52 1568.97 1353.19 1568.97 Q1347.71 1568.97 1344.47 1565.91 Q1341.25 1562.82 1341.25 1557.67 Q1341.25 1551.65 1345.26 1548.6 Q1349.31 1545.54 1357.29 1545.54 L1365.51 1545.54 L1365.51 1544.97 Q1365.51 1540.93 1362.83 1538.73 Q1360.19 1536.5 1355.38 1536.5 Q1352.33 1536.5 1349.43 1537.23 Q1346.54 1537.97 1343.86 1539.43 L1343.86 1534.02 Q1347.08 1532.78 1350.1 1532.17 Q1353.12 1531.54 1355.99 1531.54 Q1363.72 1531.54 1367.54 1535.55 Q1371.36 1539.56 1371.36 1547.71 Z\" fill=\"#000000\" fill-rule=\"nonzero\" fill-opacity=\"1\" /><path clip-path=\"url(#clip210)\" d=\"M1383.43 1518.52 L1389.28 1518.52 L1389.28 1568.04 L1383.43 1568.04 L1383.43 1518.52 Z\" fill=\"#000000\" fill-rule=\"nonzero\" fill-opacity=\"1\" /><path clip-path=\"url(#clip210)\" d=\"M1400.93 1553.98 L1400.93 1532.4 L1406.79 1532.4 L1406.79 1553.75 Q1406.79 1558.81 1408.76 1561.36 Q1410.73 1563.87 1414.68 1563.87 Q1419.42 1563.87 1422.16 1560.85 Q1424.93 1557.83 1424.93 1552.61 L1424.93 1532.4 L1430.79 1532.4 L1430.79 1568.04 L1424.93 1568.04 L1424.93 1562.57 Q1422.8 1565.82 1419.96 1567.41 Q1417.16 1568.97 1413.44 1568.97 Q1407.3 1568.97 1404.11 1565.15 Q1400.93 1561.33 1400.93 1553.98 M1415.67 1531.54 L1415.67 1531.54 Z\" fill=\"#000000\" fill-rule=\"nonzero\" fill-opacity=\"1\" /><path clip-path=\"url(#clip210)\" d=\"M1473.34 1548.76 L1473.34 1551.62 L1446.41 1551.62 Q1446.8 1557.67 1450.04 1560.85 Q1453.32 1564 1459.15 1564 Q1462.52 1564 1465.67 1563.17 Q1468.85 1562.35 1471.97 1560.69 L1471.97 1566.23 Q1468.82 1567.57 1465.51 1568.27 Q1462.2 1568.97 1458.8 1568.97 Q1450.27 1568.97 1445.27 1564 Q1440.3 1559.04 1440.3 1550.57 Q1440.3 1541.82 1445.01 1536.69 Q1449.76 1531.54 1457.78 1531.54 Q1464.97 1531.54 1469.14 1536.18 Q1473.34 1540.8 1473.34 1548.76 M1467.48 1547.04 Q1467.42 1542.23 1464.78 1539.37 Q1462.17 1536.5 1457.84 1536.5 Q1452.94 1536.5 1449.98 1539.27 Q1447.05 1542.04 1446.61 1547.07 L1467.48 1547.04 Z\" fill=\"#000000\" fill-rule=\"nonzero\" fill-opacity=\"1\" /><polyline clip-path=\"url(#clip212)\" style=\"stroke:#000000; stroke-linecap:round; stroke-linejoin:round; stroke-width:2; stroke-opacity:0.1; fill:none\" points=\"249.542,1386.4 2352.76,1386.4 \"/>\n",
       "<polyline clip-path=\"url(#clip212)\" style=\"stroke:#000000; stroke-linecap:round; stroke-linejoin:round; stroke-width:2; stroke-opacity:0.1; fill:none\" points=\"249.542,1079.86 2352.76,1079.86 \"/>\n",
       "<polyline clip-path=\"url(#clip212)\" style=\"stroke:#000000; stroke-linecap:round; stroke-linejoin:round; stroke-width:2; stroke-opacity:0.1; fill:none\" points=\"249.542,773.326 2352.76,773.326 \"/>\n",
       "<polyline clip-path=\"url(#clip212)\" style=\"stroke:#000000; stroke-linecap:round; stroke-linejoin:round; stroke-width:2; stroke-opacity:0.1; fill:none\" points=\"249.542,466.791 2352.76,466.791 \"/>\n",
       "<polyline clip-path=\"url(#clip212)\" style=\"stroke:#000000; stroke-linecap:round; stroke-linejoin:round; stroke-width:2; stroke-opacity:0.1; fill:none\" points=\"249.542,160.256 2352.76,160.256 \"/>\n",
       "<polyline clip-path=\"url(#clip210)\" style=\"stroke:#000000; stroke-linecap:round; stroke-linejoin:round; stroke-width:4; stroke-opacity:1; fill:none\" points=\"249.542,1423.18 249.542,123.472 \"/>\n",
       "<polyline clip-path=\"url(#clip210)\" style=\"stroke:#000000; stroke-linecap:round; stroke-linejoin:round; stroke-width:4; stroke-opacity:1; fill:none\" points=\"249.542,1386.4 268.44,1386.4 \"/>\n",
       "<polyline clip-path=\"url(#clip210)\" style=\"stroke:#000000; stroke-linecap:round; stroke-linejoin:round; stroke-width:4; stroke-opacity:1; fill:none\" points=\"249.542,1079.86 268.44,1079.86 \"/>\n",
       "<polyline clip-path=\"url(#clip210)\" style=\"stroke:#000000; stroke-linecap:round; stroke-linejoin:round; stroke-width:4; stroke-opacity:1; fill:none\" points=\"249.542,773.326 268.44,773.326 \"/>\n",
       "<polyline clip-path=\"url(#clip210)\" style=\"stroke:#000000; stroke-linecap:round; stroke-linejoin:round; stroke-width:4; stroke-opacity:1; fill:none\" points=\"249.542,466.791 268.44,466.791 \"/>\n",
       "<polyline clip-path=\"url(#clip210)\" style=\"stroke:#000000; stroke-linecap:round; stroke-linejoin:round; stroke-width:4; stroke-opacity:1; fill:none\" points=\"249.542,160.256 268.44,160.256 \"/>\n",
       "<path clip-path=\"url(#clip210)\" d=\"M126.205 1372.19 Q122.593 1372.19 120.765 1375.76 Q118.959 1379.3 118.959 1386.43 Q118.959 1393.54 120.765 1397.1 Q122.593 1400.64 126.205 1400.64 Q129.839 1400.64 131.644 1397.1 Q133.473 1393.54 133.473 1386.43 Q133.473 1379.3 131.644 1375.76 Q129.839 1372.19 126.205 1372.19 M126.205 1368.49 Q132.015 1368.49 135.07 1373.1 Q138.149 1377.68 138.149 1386.43 Q138.149 1395.16 135.07 1399.76 Q132.015 1404.35 126.205 1404.35 Q120.394 1404.35 117.316 1399.76 Q114.26 1395.16 114.26 1386.43 Q114.26 1377.68 117.316 1373.1 Q120.394 1368.49 126.205 1368.49 Z\" fill=\"#000000\" fill-rule=\"nonzero\" fill-opacity=\"1\" /><path clip-path=\"url(#clip210)\" d=\"M146.366 1397.8 L151.251 1397.8 L151.251 1403.68 L146.366 1403.68 L146.366 1397.8 Z\" fill=\"#000000\" fill-rule=\"nonzero\" fill-opacity=\"1\" /><path clip-path=\"url(#clip210)\" d=\"M171.436 1372.19 Q167.825 1372.19 165.996 1375.76 Q164.19 1379.3 164.19 1386.43 Q164.19 1393.54 165.996 1397.1 Q167.825 1400.64 171.436 1400.64 Q175.07 1400.64 176.876 1397.1 Q178.704 1393.54 178.704 1386.43 Q178.704 1379.3 176.876 1375.76 Q175.07 1372.19 171.436 1372.19 M171.436 1368.49 Q177.246 1368.49 180.301 1373.1 Q183.38 1377.68 183.38 1386.43 Q183.38 1395.16 180.301 1399.76 Q177.246 1404.35 171.436 1404.35 Q165.626 1404.35 162.547 1399.76 Q159.491 1395.16 159.491 1386.43 Q159.491 1377.68 162.547 1373.1 Q165.626 1368.49 171.436 1368.49 Z\" fill=\"#000000\" fill-rule=\"nonzero\" fill-opacity=\"1\" /><path clip-path=\"url(#clip210)\" d=\"M201.598 1372.19 Q197.987 1372.19 196.158 1375.76 Q194.352 1379.3 194.352 1386.43 Q194.352 1393.54 196.158 1397.1 Q197.987 1400.64 201.598 1400.64 Q205.232 1400.64 207.037 1397.1 Q208.866 1393.54 208.866 1386.43 Q208.866 1379.3 207.037 1375.76 Q205.232 1372.19 201.598 1372.19 M201.598 1368.49 Q207.408 1368.49 210.463 1373.1 Q213.542 1377.68 213.542 1386.43 Q213.542 1395.16 210.463 1399.76 Q207.408 1404.35 201.598 1404.35 Q195.787 1404.35 192.709 1399.76 Q189.653 1395.16 189.653 1386.43 Q189.653 1377.68 192.709 1373.1 Q195.787 1368.49 201.598 1368.49 Z\" fill=\"#000000\" fill-rule=\"nonzero\" fill-opacity=\"1\" /><path clip-path=\"url(#clip210)\" d=\"M127.2 1065.66 Q123.589 1065.66 121.76 1069.22 Q119.955 1072.77 119.955 1079.9 Q119.955 1087 121.76 1090.57 Q123.589 1094.11 127.2 1094.11 Q130.834 1094.11 132.64 1090.57 Q134.468 1087 134.468 1079.9 Q134.468 1072.77 132.64 1069.22 Q130.834 1065.66 127.2 1065.66 M127.2 1061.96 Q133.01 1061.96 136.066 1066.56 Q139.144 1071.15 139.144 1079.9 Q139.144 1088.62 136.066 1093.23 Q133.01 1097.81 127.2 1097.81 Q121.39 1097.81 118.311 1093.23 Q115.256 1088.62 115.256 1079.9 Q115.256 1071.15 118.311 1066.56 Q121.39 1061.96 127.2 1061.96 Z\" fill=\"#000000\" fill-rule=\"nonzero\" fill-opacity=\"1\" /><path clip-path=\"url(#clip210)\" d=\"M147.362 1091.26 L152.246 1091.26 L152.246 1097.14 L147.362 1097.14 L147.362 1091.26 Z\" fill=\"#000000\" fill-rule=\"nonzero\" fill-opacity=\"1\" /><path clip-path=\"url(#clip210)\" d=\"M166.459 1093.21 L182.778 1093.21 L182.778 1097.14 L160.834 1097.14 L160.834 1093.21 Q163.496 1090.45 168.079 1085.82 Q172.686 1081.17 173.866 1079.83 Q176.112 1077.3 176.991 1075.57 Q177.894 1073.81 177.894 1072.12 Q177.894 1069.36 175.95 1067.63 Q174.028 1065.89 170.927 1065.89 Q168.727 1065.89 166.274 1066.65 Q163.843 1067.42 161.065 1068.97 L161.065 1064.25 Q163.89 1063.11 166.343 1062.53 Q168.797 1061.96 170.834 1061.96 Q176.204 1061.96 179.399 1064.64 Q182.593 1067.33 182.593 1071.82 Q182.593 1073.95 181.783 1075.87 Q180.996 1077.77 178.889 1080.36 Q178.311 1081.03 175.209 1084.25 Q172.107 1087.44 166.459 1093.21 Z\" fill=\"#000000\" fill-rule=\"nonzero\" fill-opacity=\"1\" /><path clip-path=\"url(#clip210)\" d=\"M192.639 1062.58 L210.996 1062.58 L210.996 1066.52 L196.922 1066.52 L196.922 1074.99 Q197.94 1074.64 198.959 1074.48 Q199.977 1074.29 200.996 1074.29 Q206.783 1074.29 210.162 1077.47 Q213.542 1080.64 213.542 1086.05 Q213.542 1091.63 210.07 1094.73 Q206.598 1097.81 200.278 1097.81 Q198.102 1097.81 195.834 1097.44 Q193.588 1097.07 191.181 1096.33 L191.181 1091.63 Q193.264 1092.77 195.487 1093.32 Q197.709 1093.88 200.186 1093.88 Q204.19 1093.88 206.528 1091.77 Q208.866 1089.66 208.866 1086.05 Q208.866 1082.44 206.528 1080.34 Q204.19 1078.23 200.186 1078.23 Q198.311 1078.23 196.436 1078.65 Q194.584 1079.06 192.639 1079.94 L192.639 1062.58 Z\" fill=\"#000000\" fill-rule=\"nonzero\" fill-opacity=\"1\" /><path clip-path=\"url(#clip210)\" d=\"M126.205 759.125 Q122.593 759.125 120.765 762.689 Q118.959 766.231 118.959 773.361 Q118.959 780.467 120.765 784.032 Q122.593 787.574 126.205 787.574 Q129.839 787.574 131.644 784.032 Q133.473 780.467 133.473 773.361 Q133.473 766.231 131.644 762.689 Q129.839 759.125 126.205 759.125 M126.205 755.421 Q132.015 755.421 135.07 760.027 Q138.149 764.611 138.149 773.361 Q138.149 782.088 135.07 786.694 Q132.015 791.277 126.205 791.277 Q120.394 791.277 117.316 786.694 Q114.26 782.088 114.26 773.361 Q114.26 764.611 117.316 760.027 Q120.394 755.421 126.205 755.421 Z\" fill=\"#000000\" fill-rule=\"nonzero\" fill-opacity=\"1\" /><path clip-path=\"url(#clip210)\" d=\"M146.366 784.726 L151.251 784.726 L151.251 790.606 L146.366 790.606 L146.366 784.726 Z\" fill=\"#000000\" fill-rule=\"nonzero\" fill-opacity=\"1\" /><path clip-path=\"url(#clip210)\" d=\"M161.482 756.046 L179.839 756.046 L179.839 759.981 L165.765 759.981 L165.765 768.453 Q166.783 768.106 167.802 767.944 Q168.82 767.759 169.839 767.759 Q175.626 767.759 179.005 770.93 Q182.385 774.101 182.385 779.518 Q182.385 785.097 178.913 788.199 Q175.44 791.277 169.121 791.277 Q166.945 791.277 164.677 790.907 Q162.431 790.537 160.024 789.796 L160.024 785.097 Q162.107 786.231 164.329 786.787 Q166.552 787.342 169.028 787.342 Q173.033 787.342 175.371 785.236 Q177.709 783.129 177.709 779.518 Q177.709 775.907 175.371 773.801 Q173.033 771.694 169.028 771.694 Q167.153 771.694 165.278 772.111 Q163.427 772.527 161.482 773.407 L161.482 756.046 Z\" fill=\"#000000\" fill-rule=\"nonzero\" fill-opacity=\"1\" /><path clip-path=\"url(#clip210)\" d=\"M201.598 759.125 Q197.987 759.125 196.158 762.689 Q194.352 766.231 194.352 773.361 Q194.352 780.467 196.158 784.032 Q197.987 787.574 201.598 787.574 Q205.232 787.574 207.037 784.032 Q208.866 780.467 208.866 773.361 Q208.866 766.231 207.037 762.689 Q205.232 759.125 201.598 759.125 M201.598 755.421 Q207.408 755.421 210.463 760.027 Q213.542 764.611 213.542 773.361 Q213.542 782.088 210.463 786.694 Q207.408 791.277 201.598 791.277 Q195.787 791.277 192.709 786.694 Q189.653 782.088 189.653 773.361 Q189.653 764.611 192.709 760.027 Q195.787 755.421 201.598 755.421 Z\" fill=\"#000000\" fill-rule=\"nonzero\" fill-opacity=\"1\" /><path clip-path=\"url(#clip210)\" d=\"M127.2 452.59 Q123.589 452.59 121.76 456.155 Q119.955 459.696 119.955 466.826 Q119.955 473.932 121.76 477.497 Q123.589 481.039 127.2 481.039 Q130.834 481.039 132.64 477.497 Q134.468 473.932 134.468 466.826 Q134.468 459.696 132.64 456.155 Q130.834 452.59 127.2 452.59 M127.2 448.886 Q133.01 448.886 136.066 453.493 Q139.144 458.076 139.144 466.826 Q139.144 475.553 136.066 480.159 Q133.01 484.742 127.2 484.742 Q121.39 484.742 118.311 480.159 Q115.256 475.553 115.256 466.826 Q115.256 458.076 118.311 453.493 Q121.39 448.886 127.2 448.886 Z\" fill=\"#000000\" fill-rule=\"nonzero\" fill-opacity=\"1\" /><path clip-path=\"url(#clip210)\" d=\"M147.362 478.192 L152.246 478.192 L152.246 484.071 L147.362 484.071 L147.362 478.192 Z\" fill=\"#000000\" fill-rule=\"nonzero\" fill-opacity=\"1\" /><path clip-path=\"url(#clip210)\" d=\"M161.251 449.511 L183.473 449.511 L183.473 451.502 L170.927 484.071 L166.042 484.071 L177.848 453.446 L161.251 453.446 L161.251 449.511 Z\" fill=\"#000000\" fill-rule=\"nonzero\" fill-opacity=\"1\" /><path clip-path=\"url(#clip210)\" d=\"M192.639 449.511 L210.996 449.511 L210.996 453.446 L196.922 453.446 L196.922 461.918 Q197.94 461.571 198.959 461.409 Q199.977 461.224 200.996 461.224 Q206.783 461.224 210.162 464.395 Q213.542 467.567 213.542 472.983 Q213.542 478.562 210.07 481.664 Q206.598 484.742 200.278 484.742 Q198.102 484.742 195.834 484.372 Q193.588 484.002 191.181 483.261 L191.181 478.562 Q193.264 479.696 195.487 480.252 Q197.709 480.807 200.186 480.807 Q204.19 480.807 206.528 478.701 Q208.866 476.594 208.866 472.983 Q208.866 469.372 206.528 467.266 Q204.19 465.159 200.186 465.159 Q198.311 465.159 196.436 465.576 Q194.584 465.993 192.639 466.872 L192.639 449.511 Z\" fill=\"#000000\" fill-rule=\"nonzero\" fill-opacity=\"1\" /><path clip-path=\"url(#clip210)\" d=\"M117.015 173.601 L124.654 173.601 L124.654 147.236 L116.343 148.902 L116.343 144.643 L124.607 142.976 L129.283 142.976 L129.283 173.601 L136.922 173.601 L136.922 177.536 L117.015 177.536 L117.015 173.601 Z\" fill=\"#000000\" fill-rule=\"nonzero\" fill-opacity=\"1\" /><path clip-path=\"url(#clip210)\" d=\"M146.366 171.657 L151.251 171.657 L151.251 177.536 L146.366 177.536 L146.366 171.657 Z\" fill=\"#000000\" fill-rule=\"nonzero\" fill-opacity=\"1\" /><path clip-path=\"url(#clip210)\" d=\"M171.436 146.055 Q167.825 146.055 165.996 149.62 Q164.19 153.161 164.19 160.291 Q164.19 167.397 165.996 170.962 Q167.825 174.504 171.436 174.504 Q175.07 174.504 176.876 170.962 Q178.704 167.397 178.704 160.291 Q178.704 153.161 176.876 149.62 Q175.07 146.055 171.436 146.055 M171.436 142.351 Q177.246 142.351 180.301 146.958 Q183.38 151.541 183.38 160.291 Q183.38 169.018 180.301 173.624 Q177.246 178.208 171.436 178.208 Q165.626 178.208 162.547 173.624 Q159.491 169.018 159.491 160.291 Q159.491 151.541 162.547 146.958 Q165.626 142.351 171.436 142.351 Z\" fill=\"#000000\" fill-rule=\"nonzero\" fill-opacity=\"1\" /><path clip-path=\"url(#clip210)\" d=\"M201.598 146.055 Q197.987 146.055 196.158 149.62 Q194.352 153.161 194.352 160.291 Q194.352 167.397 196.158 170.962 Q197.987 174.504 201.598 174.504 Q205.232 174.504 207.037 170.962 Q208.866 167.397 208.866 160.291 Q208.866 153.161 207.037 149.62 Q205.232 146.055 201.598 146.055 M201.598 142.351 Q207.408 142.351 210.463 146.958 Q213.542 151.541 213.542 160.291 Q213.542 169.018 210.463 173.624 Q207.408 178.208 201.598 178.208 Q195.787 178.208 192.709 173.624 Q189.653 169.018 189.653 160.291 Q189.653 151.541 192.709 146.958 Q195.787 142.351 201.598 142.351 Z\" fill=\"#000000\" fill-rule=\"nonzero\" fill-opacity=\"1\" /><path clip-path=\"url(#clip210)\" d=\"M16.4842 987.23 L16.4842 959.921 L21.895 959.921 L21.895 980.8 L35.8996 980.8 L35.8996 961.958 L41.3104 961.958 L41.3104 980.8 L64.0042 980.8 L64.0042 987.23 L16.4842 987.23 Z\" fill=\"#000000\" fill-rule=\"nonzero\" fill-opacity=\"1\" /><path clip-path=\"url(#clip210)\" d=\"M14.5426 935.922 Q21.8632 940.187 29.0246 942.256 Q36.186 944.325 43.5384 944.325 Q50.8908 944.325 58.1159 942.256 Q65.3091 940.155 72.5979 935.922 L72.5979 941.015 Q65.1182 945.789 57.8931 948.176 Q50.668 950.531 43.5384 950.531 Q36.4406 950.531 29.2474 948.176 Q22.0542 945.821 14.5426 941.015 L14.5426 935.922 Z\" fill=\"#000000\" fill-rule=\"nonzero\" fill-opacity=\"1\" /><path clip-path=\"url(#clip210)\" d=\"M32.4621 910.746 Q32.4621 915.456 36.1542 918.194 Q39.8145 920.931 46.212 920.931 Q52.6095 920.931 56.3017 918.225 Q59.9619 915.488 59.9619 910.746 Q59.9619 906.067 56.2698 903.33 Q52.5777 900.592 46.212 900.592 Q39.8781 900.592 36.186 903.33 Q32.4621 906.067 32.4621 910.746 M27.4968 910.746 Q27.4968 903.107 32.4621 898.746 Q37.4273 894.386 46.212 894.386 Q54.9649 894.386 59.9619 898.746 Q64.9272 903.107 64.9272 910.746 Q64.9272 918.416 59.9619 922.777 Q54.9649 927.106 46.212 927.106 Q37.4273 927.106 32.4621 922.777 Q27.4968 918.416 27.4968 910.746 Z\" fill=\"#000000\" fill-rule=\"nonzero\" fill-opacity=\"1\" /><path clip-path=\"url(#clip210)\" d=\"M14.479 866.631 L19.3487 866.631 L19.3487 872.233 Q19.3487 875.384 20.6219 876.625 Q21.895 877.835 25.2052 877.835 L28.3562 877.835 L28.3562 868.191 L32.9077 868.191 L32.9077 877.835 L64.0042 877.835 L64.0042 883.723 L32.9077 883.723 L32.9077 889.325 L28.3562 889.325 L28.3562 883.723 L25.8736 883.723 Q19.9216 883.723 17.2162 880.954 Q14.479 878.185 14.479 872.169 L14.479 866.631 Z\" fill=\"#000000\" fill-rule=\"nonzero\" fill-opacity=\"1\" /><path clip-path=\"url(#clip210)\" d=\"M14.479 843.683 L19.3487 843.683 L19.3487 849.285 Q19.3487 852.436 20.6219 853.677 Q21.895 854.887 25.2052 854.887 L28.3562 854.887 L28.3562 845.243 L32.9077 845.243 L32.9077 854.887 L64.0042 854.887 L64.0042 860.775 L32.9077 860.775 L32.9077 866.377 L28.3562 866.377 L28.3562 860.775 L25.8736 860.775 Q19.9216 860.775 17.2162 858.006 Q14.479 855.237 14.479 849.221 L14.479 843.683 Z\" fill=\"#000000\" fill-rule=\"nonzero\" fill-opacity=\"1\" /><path clip-path=\"url(#clip210)\" d=\"M44.7161 808.29 L47.5806 808.29 L47.5806 835.217 Q53.6281 834.835 56.8109 831.588 Q59.9619 828.31 59.9619 822.485 Q59.9619 819.111 59.1344 815.96 Q58.3069 812.777 56.6518 809.658 L62.1899 809.658 Q63.5267 812.809 64.227 816.119 Q64.9272 819.43 64.9272 822.835 Q64.9272 831.365 59.9619 836.362 Q54.9967 841.328 46.5303 841.328 Q37.7774 841.328 32.6531 836.617 Q27.4968 831.875 27.4968 823.854 Q27.4968 816.661 32.1438 812.491 Q36.7589 808.29 44.7161 808.29 M42.9973 814.146 Q38.1912 814.21 35.3266 816.852 Q32.4621 819.461 32.4621 823.79 Q32.4621 828.692 35.2312 831.652 Q38.0002 834.58 43.0292 835.026 L42.9973 814.146 Z\" fill=\"#000000\" fill-rule=\"nonzero\" fill-opacity=\"1\" /><path clip-path=\"url(#clip210)\" d=\"M33.8307 778.021 Q33.2578 779.007 33.0032 780.185 Q32.7167 781.331 32.7167 782.731 Q32.7167 787.697 35.9632 790.37 Q39.1779 793.012 45.2253 793.012 L64.0042 793.012 L64.0042 798.9 L28.3562 798.9 L28.3562 793.012 L33.8944 793.012 Q30.6479 791.166 29.0883 788.206 Q27.4968 785.246 27.4968 781.013 Q27.4968 780.408 27.5923 779.676 Q27.656 778.944 27.8151 778.053 L33.8307 778.021 Z\" fill=\"#000000\" fill-rule=\"nonzero\" fill-opacity=\"1\" /><path clip-path=\"url(#clip210)\" d=\"M28.3562 755.359 L28.3562 749.152 L58.275 738.012 L28.3562 726.872 L28.3562 720.666 L64.0042 734.034 L64.0042 741.991 L28.3562 755.359 Z\" fill=\"#000000\" fill-rule=\"nonzero\" fill-opacity=\"1\" /><path clip-path=\"url(#clip210)\" d=\"M46.0847 696.381 Q46.0847 703.478 47.7079 706.216 Q49.3312 708.953 53.2461 708.953 Q56.3653 708.953 58.2114 706.916 Q60.0256 704.847 60.0256 701.314 Q60.0256 696.444 56.5881 693.516 Q53.1188 690.556 47.3897 690.556 L46.0847 690.556 L46.0847 696.381 M43.6657 684.699 L64.0042 684.699 L64.0042 690.556 L58.5933 690.556 Q61.8398 692.561 63.3994 695.553 Q64.9272 698.545 64.9272 702.874 Q64.9272 708.348 61.8716 711.595 Q58.7843 714.809 53.6281 714.809 Q47.6125 714.809 44.5569 710.799 Q41.5014 706.757 41.5014 698.768 L41.5014 690.556 L40.9285 690.556 Q36.8862 690.556 34.6901 693.229 Q32.4621 695.871 32.4621 700.677 Q32.4621 703.733 33.1941 706.629 Q33.9262 709.526 35.3903 712.199 L29.9795 712.199 Q28.7381 708.985 28.1334 705.961 Q27.4968 702.937 27.4968 700.073 Q27.4968 692.338 31.5072 688.519 Q35.5176 684.699 43.6657 684.699 Z\" fill=\"#000000\" fill-rule=\"nonzero\" fill-opacity=\"1\" /><path clip-path=\"url(#clip210)\" d=\"M14.479 672.636 L14.479 666.78 L64.0042 666.78 L64.0042 672.636 L14.479 672.636 Z\" fill=\"#000000\" fill-rule=\"nonzero\" fill-opacity=\"1\" /><path clip-path=\"url(#clip210)\" d=\"M49.9359 655.131 L28.3562 655.131 L28.3562 649.274 L49.7131 649.274 Q54.7739 649.274 57.3202 647.301 Q59.8346 645.328 59.8346 641.381 Q59.8346 636.638 56.8109 633.901 Q53.7872 631.132 48.5673 631.132 L28.3562 631.132 L28.3562 625.276 L64.0042 625.276 L64.0042 631.132 L58.5296 631.132 Q61.7762 633.265 63.3676 636.097 Q64.9272 638.898 64.9272 642.622 Q64.9272 648.765 61.1078 651.948 Q57.2883 655.131 49.9359 655.131 M27.4968 640.394 L27.4968 640.394 Z\" fill=\"#000000\" fill-rule=\"nonzero\" fill-opacity=\"1\" /><path clip-path=\"url(#clip210)\" d=\"M44.7161 582.721 L47.5806 582.721 L47.5806 609.648 Q53.6281 609.266 56.8109 606.019 Q59.9619 602.741 59.9619 596.916 Q59.9619 593.543 59.1344 590.391 Q58.3069 587.209 56.6518 584.089 L62.1899 584.089 Q63.5267 587.24 64.227 590.551 Q64.9272 593.861 64.9272 597.266 Q64.9272 605.796 59.9619 610.794 Q54.9967 615.759 46.5303 615.759 Q37.7774 615.759 32.6531 611.048 Q27.4968 606.306 27.4968 598.285 Q27.4968 591.092 32.1438 586.922 Q36.7589 582.721 44.7161 582.721 M42.9973 588.577 Q38.1912 588.641 35.3266 591.283 Q32.4621 593.893 32.4621 598.221 Q32.4621 603.123 35.2312 606.083 Q38.0002 609.011 43.0292 609.457 L42.9973 588.577 Z\" fill=\"#000000\" fill-rule=\"nonzero\" fill-opacity=\"1\" /><path clip-path=\"url(#clip210)\" d=\"M14.5426 574.032 L14.5426 568.939 Q22.0542 564.165 29.2474 561.809 Q36.4406 559.422 43.5384 559.422 Q50.668 559.422 57.8931 561.809 Q65.1182 564.165 72.5979 568.939 L72.5979 574.032 Q65.3091 569.798 58.1159 567.73 Q50.8908 565.629 43.5384 565.629 Q36.186 565.629 29.0246 567.73 Q21.8632 569.798 14.5426 574.032 Z\" fill=\"#000000\" fill-rule=\"nonzero\" fill-opacity=\"1\" /><path clip-path=\"url(#clip210)\" d=\"M1064.66 16.7545 L1064.66 25.383 Q1060.53 21.5346 1055.83 19.6307 Q1051.17 17.7268 1045.9 17.7268 Q1035.53 17.7268 1030.02 24.0867 Q1024.51 30.4061 1024.51 42.3968 Q1024.51 54.3469 1030.02 60.7069 Q1035.53 67.0263 1045.9 67.0263 Q1051.17 67.0263 1055.83 65.1223 Q1060.53 63.2184 1064.66 59.3701 L1064.66 67.9175 Q1060.36 70.8341 1055.54 72.2924 Q1050.76 73.7508 1045.42 73.7508 Q1031.68 73.7508 1023.78 65.3654 Q1015.88 56.9395 1015.88 42.3968 Q1015.88 27.8135 1023.78 19.4281 Q1031.68 11.0023 1045.42 11.0023 Q1050.84 11.0023 1055.62 12.4606 Q1060.44 13.8784 1064.66 16.7545 Z\" fill=\"#000000\" fill-rule=\"nonzero\" fill-opacity=\"1\" /><path clip-path=\"url(#clip210)\" d=\"M1085.48 18.8205 L1085.48 65.8515 L1095.36 65.8515 Q1107.88 65.8515 1113.67 60.1802 Q1119.51 54.509 1119.51 42.2752 Q1119.51 30.1225 1113.67 24.4918 Q1107.88 18.8205 1095.36 18.8205 L1085.48 18.8205 M1077.3 12.096 L1094.11 12.096 Q1111.69 12.096 1119.91 19.4281 Q1128.13 26.7198 1128.13 42.2752 Q1128.13 57.9117 1119.87 65.2439 Q1111.61 72.576 1094.11 72.576 L1077.3 72.576 L1077.3 12.096 Z\" fill=\"#000000\" fill-rule=\"nonzero\" fill-opacity=\"1\" /><path clip-path=\"url(#clip210)\" d=\"M1141.18 12.096 L1175.94 12.096 L1175.94 18.9825 L1149.36 18.9825 L1149.36 36.8065 L1173.34 36.8065 L1173.34 43.6931 L1149.36 43.6931 L1149.36 72.576 L1141.18 72.576 L1141.18 12.096 Z\" fill=\"#000000\" fill-rule=\"nonzero\" fill-opacity=\"1\" /><path clip-path=\"url(#clip210)\" d=\"M1217.5 28.5427 L1217.5 35.5912 Q1214.34 33.9709 1210.94 33.1607 Q1207.53 32.3505 1203.89 32.3505 Q1198.34 32.3505 1195.54 34.0519 Q1192.79 35.7533 1192.79 39.156 Q1192.79 41.7486 1194.77 43.2475 Q1196.76 44.7058 1202.75 46.0426 L1205.3 46.6097 Q1213.24 48.3111 1216.57 51.4303 Q1219.93 54.509 1219.93 60.0587 Q1219.93 66.3781 1214.91 70.0644 Q1209.92 73.7508 1201.17 73.7508 Q1197.53 73.7508 1193.56 73.0216 Q1189.63 72.3329 1185.25 70.9151 L1185.25 63.2184 Q1189.38 65.3654 1193.39 66.4591 Q1197.41 67.5124 1201.33 67.5124 Q1206.6 67.5124 1209.44 65.73 Q1212.27 63.9071 1212.27 60.6258 Q1212.27 57.5877 1210.21 55.9673 Q1208.18 54.3469 1201.25 52.8481 L1198.66 52.2405 Q1191.73 50.7821 1188.66 47.7845 Q1185.58 44.7463 1185.58 39.4801 Q1185.58 33.0797 1190.11 29.5959 Q1194.65 26.1121 1203 26.1121 Q1207.13 26.1121 1210.77 26.7198 Q1214.42 27.3274 1217.5 28.5427 Z\" fill=\"#000000\" fill-rule=\"nonzero\" fill-opacity=\"1\" /><path clip-path=\"url(#clip210)\" d=\"M1275.75 32.4315 Q1269.75 32.4315 1266.27 37.1306 Q1262.79 41.7891 1262.79 49.9314 Q1262.79 58.0738 1266.23 62.7728 Q1269.71 67.4314 1275.75 67.4314 Q1281.7 67.4314 1285.19 62.7323 Q1288.67 58.0333 1288.67 49.9314 Q1288.67 41.8701 1285.19 37.1711 Q1281.7 32.4315 1275.75 32.4315 M1275.75 26.1121 Q1285.47 26.1121 1291.02 32.4315 Q1296.57 38.7509 1296.57 49.9314 Q1296.57 61.0714 1291.02 67.4314 Q1285.47 73.7508 1275.75 73.7508 Q1265.99 73.7508 1260.44 67.4314 Q1254.93 61.0714 1254.93 49.9314 Q1254.93 38.7509 1260.44 32.4315 Q1265.99 26.1121 1275.75 26.1121 Z\" fill=\"#000000\" fill-rule=\"nonzero\" fill-opacity=\"1\" /><path clip-path=\"url(#clip210)\" d=\"M1331.9 9.54393 L1331.9 15.7418 L1324.77 15.7418 Q1320.76 15.7418 1319.18 17.3622 Q1317.64 18.9825 1317.64 23.1955 L1317.64 27.2059 L1329.91 27.2059 L1329.91 32.9987 L1317.64 32.9987 L1317.64 72.576 L1310.14 72.576 L1310.14 32.9987 L1303.01 32.9987 L1303.01 27.2059 L1310.14 27.2059 L1310.14 24.0462 Q1310.14 16.471 1313.67 13.0277 Q1317.19 9.54393 1324.85 9.54393 L1331.9 9.54393 Z\" fill=\"#000000\" fill-rule=\"nonzero\" fill-opacity=\"1\" /><path clip-path=\"url(#clip210)\" d=\"M1356.44 12.096 L1407.61 12.096 L1407.61 18.9825 L1386.14 18.9825 L1386.14 72.576 L1377.91 72.576 L1377.91 18.9825 L1356.44 18.9825 L1356.44 12.096 Z\" fill=\"#000000\" fill-rule=\"nonzero\" fill-opacity=\"1\" /><path clip-path=\"url(#clip210)\" d=\"M1421.14 76.7889 Q1417.98 84.8907 1414.98 87.3618 Q1411.98 89.8329 1406.96 89.8329 L1401 89.8329 L1401 83.5945 L1405.38 83.5945 Q1408.46 83.5945 1410.16 82.1361 Q1411.86 80.6778 1413.93 75.2496 L1415.26 71.8468 L1396.91 27.2059 L1404.81 27.2059 L1418.99 62.6918 L1433.17 27.2059 L1441.07 27.2059 L1421.14 76.7889 Z\" fill=\"#000000\" fill-rule=\"nonzero\" fill-opacity=\"1\" /><path clip-path=\"url(#clip210)\" d=\"M1458.57 65.7705 L1458.57 89.8329 L1451.07 89.8329 L1451.07 27.2059 L1458.57 27.2059 L1458.57 34.0924 Q1460.92 30.0415 1464.48 28.0971 Q1468.09 26.1121 1473.07 26.1121 Q1481.33 26.1121 1486.48 32.6746 Q1491.66 39.2371 1491.66 49.9314 Q1491.66 60.6258 1486.48 67.1883 Q1481.33 73.7508 1473.07 73.7508 Q1468.09 73.7508 1464.48 71.8063 Q1460.92 69.8214 1458.57 65.7705 M1483.93 49.9314 Q1483.93 41.7081 1480.52 37.0496 Q1477.16 32.3505 1471.25 32.3505 Q1465.33 32.3505 1461.93 37.0496 Q1458.57 41.7081 1458.57 49.9314 Q1458.57 58.1548 1461.93 62.8538 Q1465.33 67.5124 1471.25 67.5124 Q1477.16 67.5124 1480.52 62.8538 Q1483.93 58.1548 1483.93 49.9314 Z\" fill=\"#000000\" fill-rule=\"nonzero\" fill-opacity=\"1\" /><path clip-path=\"url(#clip210)\" d=\"M1542.83 48.0275 L1542.83 51.6733 L1508.56 51.6733 Q1509.04 59.3701 1513.17 63.421 Q1517.35 67.4314 1524.76 67.4314 Q1529.05 67.4314 1533.06 66.3781 Q1537.11 65.3249 1541.08 63.2184 L1541.08 70.267 Q1537.07 71.9684 1532.86 72.8596 Q1528.65 73.7508 1524.31 73.7508 Q1513.46 73.7508 1507.1 67.4314 Q1500.78 61.1119 1500.78 50.3365 Q1500.78 39.1965 1506.77 32.6746 Q1512.81 26.1121 1523.02 26.1121 Q1532.17 26.1121 1537.48 32.0264 Q1542.83 37.9003 1542.83 48.0275 M1535.37 45.84 Q1535.29 39.7232 1531.93 36.0774 Q1528.61 32.4315 1523.1 32.4315 Q1516.86 32.4315 1513.09 35.9558 Q1509.37 39.4801 1508.8 45.8805 L1535.37 45.84 Z\" fill=\"#000000\" fill-rule=\"nonzero\" fill-opacity=\"1\" /><path clip-path=\"url(#clip210)\" d=\"M1583.98 28.5427 L1583.98 35.5912 Q1580.82 33.9709 1577.42 33.1607 Q1574.02 32.3505 1570.37 32.3505 Q1564.82 32.3505 1562.03 34.0519 Q1559.27 35.7533 1559.27 39.156 Q1559.27 41.7486 1561.26 43.2475 Q1563.24 44.7058 1569.24 46.0426 L1571.79 46.6097 Q1579.73 48.3111 1583.05 51.4303 Q1586.41 54.509 1586.41 60.0587 Q1586.41 66.3781 1581.39 70.0644 Q1576.41 73.7508 1567.66 73.7508 Q1564.01 73.7508 1560.04 73.0216 Q1556.11 72.3329 1551.74 70.9151 L1551.74 63.2184 Q1555.87 65.3654 1559.88 66.4591 Q1563.89 67.5124 1567.82 67.5124 Q1573.09 67.5124 1575.92 65.73 Q1578.76 63.9071 1578.76 60.6258 Q1578.76 57.5877 1576.69 55.9673 Q1574.67 54.3469 1567.74 52.8481 L1565.15 52.2405 Q1558.22 50.7821 1555.14 47.7845 Q1552.06 44.7463 1552.06 39.4801 Q1552.06 33.0797 1556.6 29.5959 Q1561.14 26.1121 1569.48 26.1121 Q1573.61 26.1121 1577.26 26.7198 Q1580.9 27.3274 1583.98 28.5427 Z\" fill=\"#000000\" fill-rule=\"nonzero\" fill-opacity=\"1\" /><polyline clip-path=\"url(#clip212)\" style=\"stroke:#009af9; stroke-linecap:round; stroke-linejoin:round; stroke-width:4; stroke-opacity:1; fill:none\" points=\"309.067,1386.4 321.985,1378.65 441.43,1306.79 513.212,1263.43 573.903,1226.67 639.83,1186.64 700.609,1149.64 765.77,1109.89 841.266,1063.71 908.357,1022.58 967.191,986.44 1031.34,946.963 1095.86,907.178 1167.2,863.109 1235.08,821.103 1305.66,777.354 1365.07,740.473 1437.61,695.384 1504.05,654.023 1565.42,615.78 1627.59,577.002 1697.26,533.501 1760.39,494.047 1832.67,448.839 1899.6,406.952 1965.58,365.633 2029.64,325.498 2095.31,284.339 2167.27,239.234 2271.79,173.701 2293.23,160.256 \"/>\n",
       "<polyline clip-path=\"url(#clip212)\" style=\"stroke:#e26f46; stroke-linecap:round; stroke-linejoin:round; stroke-width:4; stroke-opacity:1; fill:none\" points=\"309.067,1386.4 321.985,1378.51 441.43,1305.48 513.212,1261.5 573.903,1224.27 639.83,1183.77 700.609,1146.4 765.77,1106.28 841.266,1059.76 908.357,1018.36 967.191,982.034 1031.34,942.396 1095.86,902.493 1167.2,858.345 1235.08,816.312 1305.66,772.583 1365.07,735.757 1437.61,690.78 1504.05,649.566 1565.42,611.493 1627.59,572.921 1697.26,529.69 1760.39,490.515 1832.67,445.667 1899.6,404.148 1965.58,363.225 2029.64,323.504 2095.31,282.8 2167.27,238.226 2271.79,173.523 2293.23,160.256 \"/>\n",
       "<polyline clip-path=\"url(#clip212)\" style=\"stroke:#3da44d; stroke-linecap:round; stroke-linejoin:round; stroke-width:4; stroke-opacity:1; fill:none\" points=\"309.067,1386.4 321.985,1378.38 441.43,1304.23 513.212,1259.66 573.903,1221.97 639.83,1181.02 700.609,1143.27 765.77,1102.8 841.266,1055.92 908.357,1014.26 967.191,977.736 1031.34,937.926 1095.86,897.893 1167.2,853.649 1235.08,811.572 1305.66,767.846 1365.07,731.059 1437.61,686.175 1504.05,645.09 1565.42,607.172 1627.59,568.793 1697.26,525.819 1760.39,486.914 1832.67,442.417 1899.6,401.263 1965.58,360.737 2029.64,321.435 2095.31,281.196 2167.27,237.17 2271.79,173.334 2293.23,160.256 \"/>\n",
       "<polyline clip-path=\"url(#clip212)\" style=\"stroke:#c271d2; stroke-linecap:round; stroke-linejoin:round; stroke-width:4; stroke-opacity:1; fill:none\" points=\"309.067,1386.4 321.985,1378.34 441.43,1303.81 513.212,1259 573.903,1221.11 639.83,1179.94 700.609,1141.98 765.77,1101.3 841.266,1054.17 908.357,1012.31 967.191,975.619 1031.34,935.637 1095.86,895.446 1167.2,851.047 1235.08,808.846 1305.66,765.016 1365.07,728.164 1437.61,683.231 1504.05,642.132 1565.42,604.231 1627.59,565.899 1697.26,523.016 1760.39,484.231 1832.67,439.917 1899.6,398.979 1965.58,358.711 2029.64,319.706 2095.31,279.819 2167.27,236.237 2271.79,173.161 2293.23,160.256 \"/>\n",
       "<polyline clip-path=\"url(#clip212)\" style=\"stroke:#ac8d18; stroke-linecap:round; stroke-linejoin:round; stroke-width:4; stroke-opacity:1; fill:none\" points=\"309.067,1386.4 321.985,1378.72 441.43,1307.35 513.212,1264.13 573.903,1227.41 639.83,1187.34 700.609,1150.26 765.77,1110.35 841.266,1063.93 908.357,1022.54 967.191,986.134 1031.34,946.348 1095.86,906.233 1167.2,861.788 1235.08,819.424 1305.66,775.313 1365.07,738.142 1437.61,692.728 1504.05,651.108 1565.42,612.666 1627.59,573.733 1697.26,530.124 1760.39,490.641 1832.67,445.489 1899.6,403.749 1965.58,362.674 2029.64,322.877 2095.31,282.179 2167.27,237.719 2271.79,173.406 2293.23,160.256 \"/>\n",
       "<polyline clip-path=\"url(#clip212)\" style=\"stroke:#00a9ad; stroke-linecap:round; stroke-linejoin:round; stroke-width:4; stroke-opacity:1; fill:none\" points=\"309.067,1386.4 321.985,1378.38 441.43,1304.24 513.212,1259.67 573.903,1221.97 639.83,1181.02 700.609,1143.27 765.77,1102.79 841.266,1055.89 908.357,1014.22 967.191,977.685 1031.34,937.863 1095.86,897.817 1167.2,853.559 1235.08,811.47 1305.66,767.732 1365.07,730.936 1437.61,686.043 1504.05,644.95 1565.42,607.028 1627.59,568.645 1697.26,525.67 1760.39,486.767 1832.67,442.275 1899.6,401.13 1965.58,360.615 2029.64,321.329 2095.31,281.11 2167.27,237.11 2271.79,173.323 2293.23,160.256 \"/>\n",
       "<polyline clip-path=\"url(#clip212)\" style=\"stroke:#ed5d92; stroke-linecap:round; stroke-linejoin:round; stroke-width:4; stroke-opacity:1; fill:none\" points=\"309.067,1386.4 321.985,1378.69 441.43,1307.13 513.212,1263.88 573.903,1227.19 639.83,1187.2 700.609,1150.21 765.77,1110.44 841.266,1064.22 908.357,1023.03 967.191,986.816 1031.34,947.249 1095.86,907.362 1167.2,863.171 1235.08,821.044 1305.66,777.167 1365.07,740.179 1437.61,694.963 1504.05,653.496 1565.42,615.165 1627.59,576.31 1697.26,532.741 1760.39,493.246 1832.67,448.018 1899.6,406.141 1965.58,364.863 2029.64,324.8 2095.31,283.753 2167.27,238.814 2271.79,173.617 2293.23,160.256 \"/>\n",
       "<polyline clip-path=\"url(#clip212)\" style=\"stroke:#c68125; stroke-linecap:round; stroke-linejoin:round; stroke-width:4; stroke-opacity:1; fill:none\" points=\"309.067,1386.4 315.526,1383.18 321.985,1379.93 381.708,1348.66 441.43,1315.12 477.321,1293.89 513.212,1271.87 543.557,1252.66 573.903,1232.92 639.83,1188.27 700.609,1145.15 765.77,1097.05 841.266,1039.26 908.357,986.435 967.191,939.283 1031.34,887.321 1095.86,834.824 1167.2,776.963 1235.08,722.528 1305.66,667.019 1365.07,621.472 1437.61,567.7 1504.05,520.523 1565.42,478.952 1627.59,438.979 1697.26,396.907 1760.39,361.384 1832.67,323.833 1899.6,292.063 1965.58,263.547 2029.64,238.473 2095.31,215.354 2167.27,192.895 2271.79,165.248 2293.23,160.256 \"/>\n",
       "<polyline clip-path=\"url(#clip212)\" style=\"stroke:#00a98d; stroke-linecap:round; stroke-linejoin:round; stroke-width:4; stroke-opacity:1; fill:none\" points=\"309.067,1386.4 321.985,1380.66 441.43,1325.82 513.212,1291.34 573.903,1261.3 639.83,1227.77 700.609,1196.03 765.77,1161.14 841.266,1119.61 908.357,1081.74 967.191,1047.81 1031.34,1010.07 1095.86,971.334 1167.2,927.654 1235.08,885.295 1305.66,840.471 1365.07,802.154 1437.61,754.696 1504.05,710.613 1565.42,669.423 1627.59,627.271 1697.26,579.57 1760.39,535.97 1832.67,485.675 1899.6,438.803 1965.58,392.364 2029.64,347.108 2095.31,300.598 2167.27,249.568 2271.79,175.445 2293.23,160.256 \"/>\n",
       "<polyline clip-path=\"url(#clip212)\" style=\"stroke:#8e971d; stroke-linecap:round; stroke-linejoin:round; stroke-width:4; stroke-opacity:1; fill:none\" points=\"309.067,1386.4 321.985,1379.83 441.43,1317.84 513.212,1279.51 573.903,1246.48 639.83,1209.99 700.609,1175.79 765.77,1138.55 841.266,1094.69 908.357,1055.09 967.191,1019.91 1031.34,981.089 1095.86,941.572 1167.2,897.369 1235.08,854.844 1305.66,810.181 1365.07,772.259 1437.61,725.592 1504.05,682.523 1565.42,642.504 1627.59,601.758 1697.26,555.882 1760.39,514.15 1832.67,466.224 1899.6,421.749 1965.58,377.845 2029.64,335.2 2095.31,291.5 2167.27,243.681 2271.79,174.423 2293.23,160.256 \"/>\n",
       "<polyline clip-path=\"url(#clip212)\" style=\"stroke:#00a8cb; stroke-linecap:round; stroke-linejoin:round; stroke-width:4; stroke-opacity:1; fill:none\" points=\"309.067,1386.4 321.985,1377.19 441.43,1291.75 513.212,1240.25 573.903,1196.7 639.83,1149.45 700.609,1106.01 765.77,1059.62 841.266,1006.2 908.357,959.1 967.191,918.144 1031.34,873.916 1095.86,829.929 1167.2,781.952 1235.08,737.007 1305.66,691.069 1365.07,653.072 1437.61,607.571 1504.05,566.795 1565.42,529.943 1627.59,493.435 1697.26,453.541 1760.39,418.351 1832.67,379.214 1899.6,344.099 1965.58,310.558 2029.64,279.03 2095.31,247.784 2167.27,214.807 2271.79,169.256 2293.23,160.256 \"/>\n",
       "<path clip-path=\"url(#clip210)\" d=\"M319.649 788.876 L681.567 788.876 L681.567 166.796 L319.649 166.796  Z\" fill=\"#ffffff\" fill-rule=\"evenodd\" fill-opacity=\"1\"/>\n",
       "<polyline clip-path=\"url(#clip210)\" style=\"stroke:#000000; stroke-linecap:round; stroke-linejoin:round; stroke-width:4; stroke-opacity:1; fill:none\" points=\"319.649,788.876 681.567,788.876 681.567,166.796 319.649,166.796 319.649,788.876 \"/>\n",
       "<polyline clip-path=\"url(#clip210)\" style=\"stroke:#009af9; stroke-linecap:round; stroke-linejoin:round; stroke-width:4; stroke-opacity:1; fill:none\" points=\"343.018,218.636 483.232,218.636 \"/>\n",
       "<path clip-path=\"url(#clip210)\" d=\"M506.602 201.356 L535.837 201.356 L535.837 205.291 L523.569 205.291 L523.569 235.916 L518.87 235.916 L518.87 205.291 L506.602 205.291 L506.602 201.356 Z\" fill=\"#000000\" fill-rule=\"nonzero\" fill-opacity=\"1\" /><path clip-path=\"url(#clip210)\" d=\"M543.569 238.323 Q541.763 242.953 540.05 244.365 Q538.337 245.777 535.467 245.777 L532.064 245.777 L532.064 242.212 L534.564 242.212 Q536.324 242.212 537.296 241.379 Q538.268 240.545 539.449 237.443 L540.212 235.499 L529.726 209.99 L534.24 209.99 L542.342 230.268 L550.444 209.99 L554.958 209.99 L543.569 238.323 Z\" fill=\"#000000\" fill-rule=\"nonzero\" fill-opacity=\"1\" /><path clip-path=\"url(#clip210)\" d=\"M564.958 232.027 L564.958 245.777 L560.675 245.777 L560.675 209.99 L564.958 209.99 L564.958 213.925 Q566.3 211.61 568.337 210.499 Q570.397 209.365 573.245 209.365 Q577.967 209.365 580.907 213.115 Q583.87 216.865 583.87 222.976 Q583.87 229.087 580.907 232.837 Q577.967 236.587 573.245 236.587 Q570.397 236.587 568.337 235.476 Q566.3 234.342 564.958 232.027 M579.448 222.976 Q579.448 218.277 577.504 215.615 Q575.583 212.93 572.203 212.93 Q568.823 212.93 566.879 215.615 Q564.958 218.277 564.958 222.976 Q564.958 227.675 566.879 230.36 Q568.823 233.022 572.203 233.022 Q575.583 233.022 577.504 230.36 Q579.448 227.675 579.448 222.976 Z\" fill=\"#000000\" fill-rule=\"nonzero\" fill-opacity=\"1\" /><path clip-path=\"url(#clip210)\" d=\"M613.106 221.888 L613.106 223.971 L593.522 223.971 Q593.8 228.369 596.161 230.684 Q598.545 232.976 602.782 232.976 Q605.235 232.976 607.527 232.374 Q609.842 231.772 612.11 230.569 L612.11 234.596 Q609.819 235.568 607.411 236.078 Q605.004 236.587 602.527 236.587 Q596.323 236.587 592.689 232.976 Q589.078 229.365 589.078 223.207 Q589.078 216.842 592.504 213.115 Q595.953 209.365 601.786 209.365 Q607.018 209.365 610.05 212.745 Q613.106 216.101 613.106 221.888 M608.846 220.638 Q608.8 217.143 606.879 215.059 Q604.981 212.976 601.832 212.976 Q598.268 212.976 596.115 214.99 Q593.985 217.004 593.661 220.661 L608.846 220.638 Z\" fill=\"#000000\" fill-rule=\"nonzero\" fill-opacity=\"1\" /><path clip-path=\"url(#clip210)\" d=\"M636.578 231.981 L644.217 231.981 L644.217 205.615 L635.906 207.282 L635.906 203.022 L644.17 201.356 L648.846 201.356 L648.846 231.981 L656.485 231.981 L656.485 235.916 L636.578 235.916 L636.578 231.981 Z\" fill=\"#000000\" fill-rule=\"nonzero\" fill-opacity=\"1\" /><polyline clip-path=\"url(#clip210)\" style=\"stroke:#e26f46; stroke-linecap:round; stroke-linejoin:round; stroke-width:4; stroke-opacity:1; fill:none\" points=\"343.018,270.476 483.232,270.476 \"/>\n",
       "<path clip-path=\"url(#clip210)\" d=\"M506.602 253.196 L535.837 253.196 L535.837 257.131 L523.569 257.131 L523.569 287.756 L518.87 287.756 L518.87 257.131 L506.602 257.131 L506.602 253.196 Z\" fill=\"#000000\" fill-rule=\"nonzero\" fill-opacity=\"1\" /><path clip-path=\"url(#clip210)\" d=\"M543.569 290.163 Q541.763 294.793 540.05 296.205 Q538.337 297.617 535.467 297.617 L532.064 297.617 L532.064 294.052 L534.564 294.052 Q536.324 294.052 537.296 293.219 Q538.268 292.385 539.449 289.283 L540.212 287.339 L529.726 261.83 L534.24 261.83 L542.342 282.108 L550.444 261.83 L554.958 261.83 L543.569 290.163 Z\" fill=\"#000000\" fill-rule=\"nonzero\" fill-opacity=\"1\" /><path clip-path=\"url(#clip210)\" d=\"M564.958 283.867 L564.958 297.617 L560.675 297.617 L560.675 261.83 L564.958 261.83 L564.958 265.765 Q566.3 263.45 568.337 262.339 Q570.397 261.205 573.245 261.205 Q577.967 261.205 580.907 264.955 Q583.87 268.705 583.87 274.816 Q583.87 280.927 580.907 284.677 Q577.967 288.427 573.245 288.427 Q570.397 288.427 568.337 287.316 Q566.3 286.182 564.958 283.867 M579.448 274.816 Q579.448 270.117 577.504 267.455 Q575.583 264.77 572.203 264.77 Q568.823 264.77 566.879 267.455 Q564.958 270.117 564.958 274.816 Q564.958 279.515 566.879 282.2 Q568.823 284.862 572.203 284.862 Q575.583 284.862 577.504 282.2 Q579.448 279.515 579.448 274.816 Z\" fill=\"#000000\" fill-rule=\"nonzero\" fill-opacity=\"1\" /><path clip-path=\"url(#clip210)\" d=\"M613.106 273.728 L613.106 275.811 L593.522 275.811 Q593.8 280.209 596.161 282.524 Q598.545 284.816 602.782 284.816 Q605.235 284.816 607.527 284.214 Q609.842 283.612 612.11 282.409 L612.11 286.436 Q609.819 287.408 607.411 287.918 Q605.004 288.427 602.527 288.427 Q596.323 288.427 592.689 284.816 Q589.078 281.205 589.078 275.047 Q589.078 268.682 592.504 264.955 Q595.953 261.205 601.786 261.205 Q607.018 261.205 610.05 264.585 Q613.106 267.941 613.106 273.728 M608.846 272.478 Q608.8 268.983 606.879 266.899 Q604.981 264.816 601.832 264.816 Q598.268 264.816 596.115 266.83 Q593.985 268.844 593.661 272.501 L608.846 272.478 Z\" fill=\"#000000\" fill-rule=\"nonzero\" fill-opacity=\"1\" /><path clip-path=\"url(#clip210)\" d=\"M639.795 283.821 L656.115 283.821 L656.115 287.756 L634.17 287.756 L634.17 283.821 Q636.832 281.066 641.416 276.436 Q646.022 271.784 647.203 270.441 Q649.448 267.918 650.328 266.182 Q651.23 264.423 651.23 262.733 Q651.23 259.978 649.286 258.242 Q647.365 256.506 644.263 256.506 Q642.064 256.506 639.61 257.27 Q637.18 258.034 634.402 259.585 L634.402 254.862 Q637.226 253.728 639.679 253.149 Q642.133 252.571 644.17 252.571 Q649.541 252.571 652.735 255.256 Q655.929 257.941 655.929 262.432 Q655.929 264.561 655.119 266.483 Q654.332 268.381 652.226 270.973 Q651.647 271.645 648.545 274.862 Q645.443 278.057 639.795 283.821 Z\" fill=\"#000000\" fill-rule=\"nonzero\" fill-opacity=\"1\" /><polyline clip-path=\"url(#clip210)\" style=\"stroke:#3da44d; stroke-linecap:round; stroke-linejoin:round; stroke-width:4; stroke-opacity:1; fill:none\" points=\"343.018,322.316 483.232,322.316 \"/>\n",
       "<path clip-path=\"url(#clip210)\" d=\"M506.602 305.036 L535.837 305.036 L535.837 308.971 L523.569 308.971 L523.569 339.596 L518.87 339.596 L518.87 308.971 L506.602 308.971 L506.602 305.036 Z\" fill=\"#000000\" fill-rule=\"nonzero\" fill-opacity=\"1\" /><path clip-path=\"url(#clip210)\" d=\"M543.569 342.003 Q541.763 346.633 540.05 348.045 Q538.337 349.457 535.467 349.457 L532.064 349.457 L532.064 345.892 L534.564 345.892 Q536.324 345.892 537.296 345.059 Q538.268 344.225 539.449 341.123 L540.212 339.179 L529.726 313.67 L534.24 313.67 L542.342 333.948 L550.444 313.67 L554.958 313.67 L543.569 342.003 Z\" fill=\"#000000\" fill-rule=\"nonzero\" fill-opacity=\"1\" /><path clip-path=\"url(#clip210)\" d=\"M564.958 335.707 L564.958 349.457 L560.675 349.457 L560.675 313.67 L564.958 313.67 L564.958 317.605 Q566.3 315.29 568.337 314.179 Q570.397 313.045 573.245 313.045 Q577.967 313.045 580.907 316.795 Q583.87 320.545 583.87 326.656 Q583.87 332.767 580.907 336.517 Q577.967 340.267 573.245 340.267 Q570.397 340.267 568.337 339.156 Q566.3 338.022 564.958 335.707 M579.448 326.656 Q579.448 321.957 577.504 319.295 Q575.583 316.61 572.203 316.61 Q568.823 316.61 566.879 319.295 Q564.958 321.957 564.958 326.656 Q564.958 331.355 566.879 334.04 Q568.823 336.702 572.203 336.702 Q575.583 336.702 577.504 334.04 Q579.448 331.355 579.448 326.656 Z\" fill=\"#000000\" fill-rule=\"nonzero\" fill-opacity=\"1\" /><path clip-path=\"url(#clip210)\" d=\"M613.106 325.568 L613.106 327.651 L593.522 327.651 Q593.8 332.049 596.161 334.364 Q598.545 336.656 602.782 336.656 Q605.235 336.656 607.527 336.054 Q609.842 335.452 612.11 334.249 L612.11 338.276 Q609.819 339.248 607.411 339.758 Q605.004 340.267 602.527 340.267 Q596.323 340.267 592.689 336.656 Q589.078 333.045 589.078 326.887 Q589.078 320.522 592.504 316.795 Q595.953 313.045 601.786 313.045 Q607.018 313.045 610.05 316.425 Q613.106 319.781 613.106 325.568 M608.846 324.318 Q608.8 320.823 606.879 318.739 Q604.981 316.656 601.832 316.656 Q598.268 316.656 596.115 318.67 Q593.985 320.684 593.661 324.341 L608.846 324.318 Z\" fill=\"#000000\" fill-rule=\"nonzero\" fill-opacity=\"1\" /><path clip-path=\"url(#clip210)\" d=\"M649.934 320.962 Q653.291 321.679 655.166 323.948 Q657.064 326.216 657.064 329.549 Q657.064 334.665 653.545 337.466 Q650.027 340.267 643.545 340.267 Q641.369 340.267 639.055 339.827 Q636.763 339.411 634.309 338.554 L634.309 334.04 Q636.254 335.174 638.568 335.753 Q640.883 336.332 643.406 336.332 Q647.804 336.332 650.096 334.596 Q652.411 332.86 652.411 329.549 Q652.411 326.494 650.258 324.781 Q648.129 323.045 644.309 323.045 L640.281 323.045 L640.281 319.202 L644.494 319.202 Q647.943 319.202 649.772 317.837 Q651.601 316.448 651.601 313.855 Q651.601 311.193 649.703 309.781 Q647.828 308.346 644.309 308.346 Q642.388 308.346 640.189 308.763 Q637.99 309.179 635.351 310.059 L635.351 305.892 Q638.013 305.151 640.328 304.781 Q642.666 304.411 644.726 304.411 Q650.05 304.411 653.152 306.841 Q656.253 309.249 656.253 313.369 Q656.253 316.239 654.61 318.23 Q652.966 320.198 649.934 320.962 Z\" fill=\"#000000\" fill-rule=\"nonzero\" fill-opacity=\"1\" /><polyline clip-path=\"url(#clip210)\" style=\"stroke:#c271d2; stroke-linecap:round; stroke-linejoin:round; stroke-width:4; stroke-opacity:1; fill:none\" points=\"343.018,374.156 483.232,374.156 \"/>\n",
       "<path clip-path=\"url(#clip210)\" d=\"M506.602 356.876 L535.837 356.876 L535.837 360.811 L523.569 360.811 L523.569 391.436 L518.87 391.436 L518.87 360.811 L506.602 360.811 L506.602 356.876 Z\" fill=\"#000000\" fill-rule=\"nonzero\" fill-opacity=\"1\" /><path clip-path=\"url(#clip210)\" d=\"M543.569 393.843 Q541.763 398.473 540.05 399.885 Q538.337 401.297 535.467 401.297 L532.064 401.297 L532.064 397.732 L534.564 397.732 Q536.324 397.732 537.296 396.899 Q538.268 396.065 539.449 392.963 L540.212 391.019 L529.726 365.51 L534.24 365.51 L542.342 385.788 L550.444 365.51 L554.958 365.51 L543.569 393.843 Z\" fill=\"#000000\" fill-rule=\"nonzero\" fill-opacity=\"1\" /><path clip-path=\"url(#clip210)\" d=\"M564.958 387.547 L564.958 401.297 L560.675 401.297 L560.675 365.51 L564.958 365.51 L564.958 369.445 Q566.3 367.13 568.337 366.019 Q570.397 364.885 573.245 364.885 Q577.967 364.885 580.907 368.635 Q583.87 372.385 583.87 378.496 Q583.87 384.607 580.907 388.357 Q577.967 392.107 573.245 392.107 Q570.397 392.107 568.337 390.996 Q566.3 389.862 564.958 387.547 M579.448 378.496 Q579.448 373.797 577.504 371.135 Q575.583 368.45 572.203 368.45 Q568.823 368.45 566.879 371.135 Q564.958 373.797 564.958 378.496 Q564.958 383.195 566.879 385.88 Q568.823 388.542 572.203 388.542 Q575.583 388.542 577.504 385.88 Q579.448 383.195 579.448 378.496 Z\" fill=\"#000000\" fill-rule=\"nonzero\" fill-opacity=\"1\" /><path clip-path=\"url(#clip210)\" d=\"M613.106 377.408 L613.106 379.491 L593.522 379.491 Q593.8 383.889 596.161 386.204 Q598.545 388.496 602.782 388.496 Q605.235 388.496 607.527 387.894 Q609.842 387.292 612.11 386.089 L612.11 390.116 Q609.819 391.088 607.411 391.598 Q605.004 392.107 602.527 392.107 Q596.323 392.107 592.689 388.496 Q589.078 384.885 589.078 378.727 Q589.078 372.362 592.504 368.635 Q595.953 364.885 601.786 364.885 Q607.018 364.885 610.05 368.265 Q613.106 371.621 613.106 377.408 M608.846 376.158 Q608.8 372.663 606.879 370.579 Q604.981 368.496 601.832 368.496 Q598.268 368.496 596.115 370.51 Q593.985 372.524 593.661 376.181 L608.846 376.158 Z\" fill=\"#000000\" fill-rule=\"nonzero\" fill-opacity=\"1\" /><path clip-path=\"url(#clip210)\" d=\"M648.615 360.95 L636.809 379.399 L648.615 379.399 L648.615 360.95 M647.388 356.876 L653.267 356.876 L653.267 379.399 L658.198 379.399 L658.198 383.288 L653.267 383.288 L653.267 391.436 L648.615 391.436 L648.615 383.288 L633.013 383.288 L633.013 378.774 L647.388 356.876 Z\" fill=\"#000000\" fill-rule=\"nonzero\" fill-opacity=\"1\" /><polyline clip-path=\"url(#clip210)\" style=\"stroke:#ac8d18; stroke-linecap:round; stroke-linejoin:round; stroke-width:4; stroke-opacity:1; fill:none\" points=\"343.018,425.996 483.232,425.996 \"/>\n",
       "<path clip-path=\"url(#clip210)\" d=\"M506.602 408.716 L535.837 408.716 L535.837 412.651 L523.569 412.651 L523.569 443.276 L518.87 443.276 L518.87 412.651 L506.602 412.651 L506.602 408.716 Z\" fill=\"#000000\" fill-rule=\"nonzero\" fill-opacity=\"1\" /><path clip-path=\"url(#clip210)\" d=\"M543.569 445.683 Q541.763 450.313 540.05 451.725 Q538.337 453.137 535.467 453.137 L532.064 453.137 L532.064 449.572 L534.564 449.572 Q536.324 449.572 537.296 448.739 Q538.268 447.905 539.449 444.803 L540.212 442.859 L529.726 417.35 L534.24 417.35 L542.342 437.628 L550.444 417.35 L554.958 417.35 L543.569 445.683 Z\" fill=\"#000000\" fill-rule=\"nonzero\" fill-opacity=\"1\" /><path clip-path=\"url(#clip210)\" d=\"M564.958 439.387 L564.958 453.137 L560.675 453.137 L560.675 417.35 L564.958 417.35 L564.958 421.285 Q566.3 418.97 568.337 417.859 Q570.397 416.725 573.245 416.725 Q577.967 416.725 580.907 420.475 Q583.87 424.225 583.87 430.336 Q583.87 436.447 580.907 440.197 Q577.967 443.947 573.245 443.947 Q570.397 443.947 568.337 442.836 Q566.3 441.702 564.958 439.387 M579.448 430.336 Q579.448 425.637 577.504 422.975 Q575.583 420.29 572.203 420.29 Q568.823 420.29 566.879 422.975 Q564.958 425.637 564.958 430.336 Q564.958 435.035 566.879 437.72 Q568.823 440.382 572.203 440.382 Q575.583 440.382 577.504 437.72 Q579.448 435.035 579.448 430.336 Z\" fill=\"#000000\" fill-rule=\"nonzero\" fill-opacity=\"1\" /><path clip-path=\"url(#clip210)\" d=\"M613.106 429.248 L613.106 431.331 L593.522 431.331 Q593.8 435.729 596.161 438.044 Q598.545 440.336 602.782 440.336 Q605.235 440.336 607.527 439.734 Q609.842 439.132 612.11 437.929 L612.11 441.956 Q609.819 442.928 607.411 443.438 Q605.004 443.947 602.527 443.947 Q596.323 443.947 592.689 440.336 Q589.078 436.725 589.078 430.567 Q589.078 424.202 592.504 420.475 Q595.953 416.725 601.786 416.725 Q607.018 416.725 610.05 420.105 Q613.106 423.461 613.106 429.248 M608.846 427.998 Q608.8 424.503 606.879 422.419 Q604.981 420.336 601.832 420.336 Q598.268 420.336 596.115 422.35 Q593.985 424.364 593.661 428.021 L608.846 427.998 Z\" fill=\"#000000\" fill-rule=\"nonzero\" fill-opacity=\"1\" /><path clip-path=\"url(#clip210)\" d=\"M635.814 408.716 L654.17 408.716 L654.17 412.651 L640.096 412.651 L640.096 421.123 Q641.115 420.776 642.133 420.614 Q643.152 420.429 644.17 420.429 Q649.957 420.429 653.337 423.6 Q656.716 426.771 656.716 432.188 Q656.716 437.766 653.244 440.868 Q649.772 443.947 643.453 443.947 Q641.277 443.947 639.008 443.577 Q636.763 443.206 634.355 442.466 L634.355 437.766 Q636.439 438.901 638.661 439.456 Q640.883 440.012 643.36 440.012 Q647.365 440.012 649.703 437.905 Q652.041 435.799 652.041 432.188 Q652.041 428.577 649.703 426.47 Q647.365 424.364 643.36 424.364 Q641.485 424.364 639.61 424.78 Q637.758 425.197 635.814 426.077 L635.814 408.716 Z\" fill=\"#000000\" fill-rule=\"nonzero\" fill-opacity=\"1\" /><polyline clip-path=\"url(#clip210)\" style=\"stroke:#00a9ad; stroke-linecap:round; stroke-linejoin:round; stroke-width:4; stroke-opacity:1; fill:none\" points=\"343.018,477.836 483.232,477.836 \"/>\n",
       "<path clip-path=\"url(#clip210)\" d=\"M528.847 461.69 L528.847 466.25 Q526.185 464.977 523.824 464.352 Q521.463 463.727 519.263 463.727 Q515.444 463.727 513.361 465.208 Q511.301 466.69 511.301 469.421 Q511.301 471.713 512.666 472.894 Q514.055 474.051 517.898 474.769 L520.722 475.347 Q525.953 476.343 528.43 478.866 Q530.93 481.366 530.93 485.579 Q530.93 490.602 527.55 493.194 Q524.194 495.787 517.689 495.787 Q515.236 495.787 512.458 495.231 Q509.703 494.676 506.74 493.588 L506.74 488.773 Q509.588 490.37 512.319 491.181 Q515.051 491.991 517.689 491.991 Q521.694 491.991 523.87 490.417 Q526.046 488.843 526.046 485.926 Q526.046 483.38 524.472 481.944 Q522.921 480.509 519.356 479.792 L516.509 479.236 Q511.277 478.195 508.939 475.972 Q506.602 473.75 506.602 469.792 Q506.602 465.208 509.819 462.57 Q513.06 459.931 518.731 459.931 Q521.162 459.931 523.685 460.371 Q526.208 460.81 528.847 461.69 Z\" fill=\"#000000\" fill-rule=\"nonzero\" fill-opacity=\"1\" /><path clip-path=\"url(#clip210)\" d=\"M538.037 469.19 L542.296 469.19 L542.296 495.116 L538.037 495.116 L538.037 469.19 M538.037 459.097 L542.296 459.097 L542.296 464.491 L538.037 464.491 L538.037 459.097 Z\" fill=\"#000000\" fill-rule=\"nonzero\" fill-opacity=\"1\" /><path clip-path=\"url(#clip210)\" d=\"M572.759 479.468 L572.759 495.116 L568.499 495.116 L568.499 479.607 Q568.499 475.926 567.064 474.097 Q565.629 472.269 562.759 472.269 Q559.31 472.269 557.319 474.468 Q555.328 476.667 555.328 480.463 L555.328 495.116 L551.046 495.116 L551.046 469.19 L555.328 469.19 L555.328 473.218 Q556.856 470.88 558.916 469.722 Q560.999 468.565 563.708 468.565 Q568.175 468.565 570.467 471.343 Q572.759 474.097 572.759 479.468 Z\" fill=\"#000000\" fill-rule=\"nonzero\" fill-opacity=\"1\" /><path clip-path=\"url(#clip210)\" d=\"M581.092 459.097 L585.374 459.097 L585.374 480.37 L598.082 469.19 L603.522 469.19 L589.772 481.319 L604.101 495.116 L598.545 495.116 L585.374 482.454 L585.374 495.116 L581.092 495.116 L581.092 459.097 Z\" fill=\"#000000\" fill-rule=\"nonzero\" fill-opacity=\"1\" /><path clip-path=\"url(#clip210)\" d=\"M625.189 491.181 L632.828 491.181 L632.828 464.815 L624.518 466.482 L624.518 462.222 L632.781 460.556 L637.457 460.556 L637.457 491.181 L645.096 491.181 L645.096 495.116 L625.189 495.116 L625.189 491.181 Z\" fill=\"#000000\" fill-rule=\"nonzero\" fill-opacity=\"1\" /><polyline clip-path=\"url(#clip210)\" style=\"stroke:#ed5d92; stroke-linecap:round; stroke-linejoin:round; stroke-width:4; stroke-opacity:1; fill:none\" points=\"343.018,529.676 483.232,529.676 \"/>\n",
       "<path clip-path=\"url(#clip210)\" d=\"M528.847 513.53 L528.847 518.09 Q526.185 516.817 523.824 516.192 Q521.463 515.567 519.263 515.567 Q515.444 515.567 513.361 517.048 Q511.301 518.53 511.301 521.261 Q511.301 523.553 512.666 524.734 Q514.055 525.891 517.898 526.609 L520.722 527.187 Q525.953 528.183 528.43 530.706 Q530.93 533.206 530.93 537.419 Q530.93 542.442 527.55 545.034 Q524.194 547.627 517.689 547.627 Q515.236 547.627 512.458 547.071 Q509.703 546.516 506.74 545.428 L506.74 540.613 Q509.588 542.21 512.319 543.021 Q515.051 543.831 517.689 543.831 Q521.694 543.831 523.87 542.257 Q526.046 540.683 526.046 537.766 Q526.046 535.22 524.472 533.784 Q522.921 532.349 519.356 531.632 L516.509 531.076 Q511.277 530.035 508.939 527.812 Q506.602 525.59 506.602 521.632 Q506.602 517.048 509.819 514.41 Q513.06 511.771 518.731 511.771 Q521.162 511.771 523.685 512.211 Q526.208 512.65 528.847 513.53 Z\" fill=\"#000000\" fill-rule=\"nonzero\" fill-opacity=\"1\" /><path clip-path=\"url(#clip210)\" d=\"M538.037 521.03 L542.296 521.03 L542.296 546.956 L538.037 546.956 L538.037 521.03 M538.037 510.937 L542.296 510.937 L542.296 516.331 L538.037 516.331 L538.037 510.937 Z\" fill=\"#000000\" fill-rule=\"nonzero\" fill-opacity=\"1\" /><path clip-path=\"url(#clip210)\" d=\"M572.759 531.308 L572.759 546.956 L568.499 546.956 L568.499 531.447 Q568.499 527.766 567.064 525.937 Q565.629 524.109 562.759 524.109 Q559.31 524.109 557.319 526.308 Q555.328 528.507 555.328 532.303 L555.328 546.956 L551.046 546.956 L551.046 521.03 L555.328 521.03 L555.328 525.058 Q556.856 522.72 558.916 521.562 Q560.999 520.405 563.708 520.405 Q568.175 520.405 570.467 523.183 Q572.759 525.937 572.759 531.308 Z\" fill=\"#000000\" fill-rule=\"nonzero\" fill-opacity=\"1\" /><path clip-path=\"url(#clip210)\" d=\"M581.092 510.937 L585.374 510.937 L585.374 532.21 L598.082 521.03 L603.522 521.03 L589.772 533.159 L604.101 546.956 L598.545 546.956 L585.374 534.294 L585.374 546.956 L581.092 546.956 L581.092 510.937 Z\" fill=\"#000000\" fill-rule=\"nonzero\" fill-opacity=\"1\" /><path clip-path=\"url(#clip210)\" d=\"M628.406 543.021 L644.726 543.021 L644.726 546.956 L622.781 546.956 L622.781 543.021 Q625.443 540.266 630.027 535.636 Q634.633 530.984 635.814 529.641 Q638.059 527.118 638.939 525.382 Q639.842 523.623 639.842 521.933 Q639.842 519.178 637.897 517.442 Q635.976 515.706 632.874 515.706 Q630.675 515.706 628.221 516.47 Q625.791 517.234 623.013 518.785 L623.013 514.062 Q625.837 512.928 628.291 512.349 Q630.744 511.771 632.781 511.771 Q638.152 511.771 641.346 514.456 Q644.541 517.141 644.541 521.632 Q644.541 523.761 643.73 525.683 Q642.943 527.581 640.837 530.173 Q640.258 530.845 637.156 534.062 Q634.055 537.257 628.406 543.021 Z\" fill=\"#000000\" fill-rule=\"nonzero\" fill-opacity=\"1\" /><polyline clip-path=\"url(#clip210)\" style=\"stroke:#c68125; stroke-linecap:round; stroke-linejoin:round; stroke-width:4; stroke-opacity:1; fill:none\" points=\"343.018,581.516 483.232,581.516 \"/>\n",
       "<path clip-path=\"url(#clip210)\" d=\"M528.847 565.37 L528.847 569.93 Q526.185 568.657 523.824 568.032 Q521.463 567.407 519.263 567.407 Q515.444 567.407 513.361 568.888 Q511.301 570.37 511.301 573.101 Q511.301 575.393 512.666 576.574 Q514.055 577.731 517.898 578.449 L520.722 579.027 Q525.953 580.023 528.43 582.546 Q530.93 585.046 530.93 589.259 Q530.93 594.282 527.55 596.874 Q524.194 599.467 517.689 599.467 Q515.236 599.467 512.458 598.911 Q509.703 598.356 506.74 597.268 L506.74 592.453 Q509.588 594.05 512.319 594.861 Q515.051 595.671 517.689 595.671 Q521.694 595.671 523.87 594.097 Q526.046 592.523 526.046 589.606 Q526.046 587.06 524.472 585.624 Q522.921 584.189 519.356 583.472 L516.509 582.916 Q511.277 581.875 508.939 579.652 Q506.602 577.43 506.602 573.472 Q506.602 568.888 509.819 566.25 Q513.06 563.611 518.731 563.611 Q521.162 563.611 523.685 564.051 Q526.208 564.49 528.847 565.37 Z\" fill=\"#000000\" fill-rule=\"nonzero\" fill-opacity=\"1\" /><path clip-path=\"url(#clip210)\" d=\"M538.037 572.87 L542.296 572.87 L542.296 598.796 L538.037 598.796 L538.037 572.87 M538.037 562.777 L542.296 562.777 L542.296 568.171 L538.037 568.171 L538.037 562.777 Z\" fill=\"#000000\" fill-rule=\"nonzero\" fill-opacity=\"1\" /><path clip-path=\"url(#clip210)\" d=\"M572.759 583.148 L572.759 598.796 L568.499 598.796 L568.499 583.287 Q568.499 579.606 567.064 577.777 Q565.629 575.949 562.759 575.949 Q559.31 575.949 557.319 578.148 Q555.328 580.347 555.328 584.143 L555.328 598.796 L551.046 598.796 L551.046 572.87 L555.328 572.87 L555.328 576.898 Q556.856 574.56 558.916 573.402 Q560.999 572.245 563.708 572.245 Q568.175 572.245 570.467 575.023 Q572.759 577.777 572.759 583.148 Z\" fill=\"#000000\" fill-rule=\"nonzero\" fill-opacity=\"1\" /><path clip-path=\"url(#clip210)\" d=\"M581.092 562.777 L585.374 562.777 L585.374 584.05 L598.082 572.87 L603.522 572.87 L589.772 584.999 L604.101 598.796 L598.545 598.796 L585.374 586.134 L585.374 598.796 L581.092 598.796 L581.092 562.777 Z\" fill=\"#000000\" fill-rule=\"nonzero\" fill-opacity=\"1\" /><path clip-path=\"url(#clip210)\" d=\"M638.545 580.162 Q641.902 580.879 643.777 583.148 Q645.675 585.416 645.675 588.749 Q645.675 593.865 642.156 596.666 Q638.638 599.467 632.156 599.467 Q629.98 599.467 627.666 599.027 Q625.374 598.611 622.92 597.754 L622.92 593.24 Q624.865 594.374 627.18 594.953 Q629.494 595.532 632.018 595.532 Q636.416 595.532 638.707 593.796 Q641.022 592.06 641.022 588.749 Q641.022 585.694 638.869 583.981 Q636.74 582.245 632.92 582.245 L628.893 582.245 L628.893 578.402 L633.105 578.402 Q636.555 578.402 638.383 577.037 Q640.212 575.648 640.212 573.055 Q640.212 570.393 638.314 568.981 Q636.439 567.546 632.92 567.546 Q630.999 567.546 628.8 567.963 Q626.601 568.379 623.962 569.259 L623.962 565.092 Q626.624 564.351 628.939 563.981 Q631.277 563.611 633.337 563.611 Q638.661 563.611 641.763 566.041 Q644.865 568.449 644.865 572.569 Q644.865 575.439 643.221 577.43 Q641.578 579.398 638.545 580.162 Z\" fill=\"#000000\" fill-rule=\"nonzero\" fill-opacity=\"1\" /><polyline clip-path=\"url(#clip210)\" style=\"stroke:#00a98d; stroke-linecap:round; stroke-linejoin:round; stroke-width:4; stroke-opacity:1; fill:none\" points=\"343.018,633.356 483.232,633.356 \"/>\n",
       "<path clip-path=\"url(#clip210)\" d=\"M528.847 617.21 L528.847 621.77 Q526.185 620.497 523.824 619.872 Q521.463 619.247 519.263 619.247 Q515.444 619.247 513.361 620.728 Q511.301 622.21 511.301 624.941 Q511.301 627.233 512.666 628.414 Q514.055 629.571 517.898 630.289 L520.722 630.867 Q525.953 631.863 528.43 634.386 Q530.93 636.886 530.93 641.099 Q530.93 646.122 527.55 648.714 Q524.194 651.307 517.689 651.307 Q515.236 651.307 512.458 650.751 Q509.703 650.196 506.74 649.108 L506.74 644.293 Q509.588 645.89 512.319 646.701 Q515.051 647.511 517.689 647.511 Q521.694 647.511 523.87 645.937 Q526.046 644.363 526.046 641.446 Q526.046 638.9 524.472 637.464 Q522.921 636.029 519.356 635.312 L516.509 634.756 Q511.277 633.715 508.939 631.492 Q506.602 629.27 506.602 625.312 Q506.602 620.728 509.819 618.09 Q513.06 615.451 518.731 615.451 Q521.162 615.451 523.685 615.891 Q526.208 616.33 528.847 617.21 Z\" fill=\"#000000\" fill-rule=\"nonzero\" fill-opacity=\"1\" /><path clip-path=\"url(#clip210)\" d=\"M538.037 624.71 L542.296 624.71 L542.296 650.636 L538.037 650.636 L538.037 624.71 M538.037 614.617 L542.296 614.617 L542.296 620.011 L538.037 620.011 L538.037 614.617 Z\" fill=\"#000000\" fill-rule=\"nonzero\" fill-opacity=\"1\" /><path clip-path=\"url(#clip210)\" d=\"M572.759 634.988 L572.759 650.636 L568.499 650.636 L568.499 635.127 Q568.499 631.446 567.064 629.617 Q565.629 627.789 562.759 627.789 Q559.31 627.789 557.319 629.988 Q555.328 632.187 555.328 635.983 L555.328 650.636 L551.046 650.636 L551.046 624.71 L555.328 624.71 L555.328 628.738 Q556.856 626.4 558.916 625.242 Q560.999 624.085 563.708 624.085 Q568.175 624.085 570.467 626.863 Q572.759 629.617 572.759 634.988 Z\" fill=\"#000000\" fill-rule=\"nonzero\" fill-opacity=\"1\" /><path clip-path=\"url(#clip210)\" d=\"M581.092 614.617 L585.374 614.617 L585.374 635.89 L598.082 624.71 L603.522 624.71 L589.772 636.839 L604.101 650.636 L598.545 650.636 L585.374 637.974 L585.374 650.636 L581.092 650.636 L581.092 614.617 Z\" fill=\"#000000\" fill-rule=\"nonzero\" fill-opacity=\"1\" /><path clip-path=\"url(#clip210)\" d=\"M637.226 620.15 L625.42 638.599 L637.226 638.599 L637.226 620.15 M635.999 616.076 L641.879 616.076 L641.879 638.599 L646.809 638.599 L646.809 642.488 L641.879 642.488 L641.879 650.636 L637.226 650.636 L637.226 642.488 L621.624 642.488 L621.624 637.974 L635.999 616.076 Z\" fill=\"#000000\" fill-rule=\"nonzero\" fill-opacity=\"1\" /><polyline clip-path=\"url(#clip210)\" style=\"stroke:#8e971d; stroke-linecap:round; stroke-linejoin:round; stroke-width:4; stroke-opacity:1; fill:none\" points=\"343.018,685.196 483.232,685.196 \"/>\n",
       "<path clip-path=\"url(#clip210)\" d=\"M528.847 669.05 L528.847 673.61 Q526.185 672.337 523.824 671.712 Q521.463 671.087 519.263 671.087 Q515.444 671.087 513.361 672.568 Q511.301 674.05 511.301 676.781 Q511.301 679.073 512.666 680.254 Q514.055 681.411 517.898 682.129 L520.722 682.707 Q525.953 683.703 528.43 686.226 Q530.93 688.726 530.93 692.939 Q530.93 697.962 527.55 700.554 Q524.194 703.147 517.689 703.147 Q515.236 703.147 512.458 702.591 Q509.703 702.036 506.74 700.948 L506.74 696.133 Q509.588 697.73 512.319 698.541 Q515.051 699.351 517.689 699.351 Q521.694 699.351 523.87 697.777 Q526.046 696.203 526.046 693.286 Q526.046 690.74 524.472 689.304 Q522.921 687.869 519.356 687.152 L516.509 686.596 Q511.277 685.555 508.939 683.332 Q506.602 681.11 506.602 677.152 Q506.602 672.568 509.819 669.93 Q513.06 667.291 518.731 667.291 Q521.162 667.291 523.685 667.731 Q526.208 668.17 528.847 669.05 Z\" fill=\"#000000\" fill-rule=\"nonzero\" fill-opacity=\"1\" /><path clip-path=\"url(#clip210)\" d=\"M538.037 676.55 L542.296 676.55 L542.296 702.476 L538.037 702.476 L538.037 676.55 M538.037 666.457 L542.296 666.457 L542.296 671.851 L538.037 671.851 L538.037 666.457 Z\" fill=\"#000000\" fill-rule=\"nonzero\" fill-opacity=\"1\" /><path clip-path=\"url(#clip210)\" d=\"M572.759 686.828 L572.759 702.476 L568.499 702.476 L568.499 686.967 Q568.499 683.286 567.064 681.457 Q565.629 679.629 562.759 679.629 Q559.31 679.629 557.319 681.828 Q555.328 684.027 555.328 687.823 L555.328 702.476 L551.046 702.476 L551.046 676.55 L555.328 676.55 L555.328 680.578 Q556.856 678.24 558.916 677.082 Q560.999 675.925 563.708 675.925 Q568.175 675.925 570.467 678.703 Q572.759 681.457 572.759 686.828 Z\" fill=\"#000000\" fill-rule=\"nonzero\" fill-opacity=\"1\" /><path clip-path=\"url(#clip210)\" d=\"M581.092 666.457 L585.374 666.457 L585.374 687.73 L598.082 676.55 L603.522 676.55 L589.772 688.679 L604.101 702.476 L598.545 702.476 L585.374 689.814 L585.374 702.476 L581.092 702.476 L581.092 666.457 Z\" fill=\"#000000\" fill-rule=\"nonzero\" fill-opacity=\"1\" /><path clip-path=\"url(#clip210)\" d=\"M624.425 667.916 L642.781 667.916 L642.781 671.851 L628.707 671.851 L628.707 680.323 Q629.726 679.976 630.744 679.814 Q631.763 679.629 632.781 679.629 Q638.568 679.629 641.948 682.8 Q645.328 685.971 645.328 691.388 Q645.328 696.966 641.855 700.068 Q638.383 703.147 632.064 703.147 Q629.888 703.147 627.619 702.777 Q625.374 702.406 622.967 701.666 L622.967 696.966 Q625.05 698.101 627.272 698.656 Q629.494 699.212 631.971 699.212 Q635.976 699.212 638.314 697.105 Q640.652 694.999 640.652 691.388 Q640.652 687.777 638.314 685.67 Q635.976 683.564 631.971 683.564 Q630.096 683.564 628.221 683.98 Q626.369 684.397 624.425 685.277 L624.425 667.916 Z\" fill=\"#000000\" fill-rule=\"nonzero\" fill-opacity=\"1\" /><polyline clip-path=\"url(#clip210)\" style=\"stroke:#00a8cb; stroke-linecap:round; stroke-linejoin:round; stroke-width:4; stroke-opacity:1; fill:none\" points=\"343.018,737.036 483.232,737.036 \"/>\n",
       "<path clip-path=\"url(#clip210)\" d=\"M528.847 720.89 L528.847 725.45 Q526.185 724.177 523.824 723.552 Q521.463 722.927 519.263 722.927 Q515.444 722.927 513.361 724.408 Q511.301 725.89 511.301 728.621 Q511.301 730.913 512.666 732.094 Q514.055 733.251 517.898 733.969 L520.722 734.547 Q525.953 735.543 528.43 738.066 Q530.93 740.566 530.93 744.779 Q530.93 749.802 527.55 752.394 Q524.194 754.987 517.689 754.987 Q515.236 754.987 512.458 754.431 Q509.703 753.876 506.74 752.788 L506.74 747.973 Q509.588 749.57 512.319 750.381 Q515.051 751.191 517.689 751.191 Q521.694 751.191 523.87 749.617 Q526.046 748.043 526.046 745.126 Q526.046 742.58 524.472 741.144 Q522.921 739.709 519.356 738.992 L516.509 738.436 Q511.277 737.395 508.939 735.172 Q506.602 732.95 506.602 728.992 Q506.602 724.408 509.819 721.77 Q513.06 719.131 518.731 719.131 Q521.162 719.131 523.685 719.571 Q526.208 720.01 528.847 720.89 Z\" fill=\"#000000\" fill-rule=\"nonzero\" fill-opacity=\"1\" /><path clip-path=\"url(#clip210)\" d=\"M538.037 728.39 L542.296 728.39 L542.296 754.316 L538.037 754.316 L538.037 728.39 M538.037 718.297 L542.296 718.297 L542.296 723.691 L538.037 723.691 L538.037 718.297 Z\" fill=\"#000000\" fill-rule=\"nonzero\" fill-opacity=\"1\" /><path clip-path=\"url(#clip210)\" d=\"M572.759 738.668 L572.759 754.316 L568.499 754.316 L568.499 738.807 Q568.499 735.126 567.064 733.297 Q565.629 731.469 562.759 731.469 Q559.31 731.469 557.319 733.668 Q555.328 735.867 555.328 739.663 L555.328 754.316 L551.046 754.316 L551.046 728.39 L555.328 728.39 L555.328 732.418 Q556.856 730.08 558.916 728.922 Q560.999 727.765 563.708 727.765 Q568.175 727.765 570.467 730.543 Q572.759 733.297 572.759 738.668 Z\" fill=\"#000000\" fill-rule=\"nonzero\" fill-opacity=\"1\" /><path clip-path=\"url(#clip210)\" d=\"M581.092 718.297 L585.374 718.297 L585.374 739.57 L598.082 728.39 L603.522 728.39 L589.772 740.519 L604.101 754.316 L598.545 754.316 L585.374 741.654 L585.374 754.316 L581.092 754.316 L581.092 718.297 Z\" fill=\"#000000\" fill-rule=\"nonzero\" fill-opacity=\"1\" /><path clip-path=\"url(#clip210)\" d=\"M634.957 735.172 Q631.809 735.172 629.957 737.325 Q628.129 739.478 628.129 743.228 Q628.129 746.955 629.957 749.131 Q631.809 751.283 634.957 751.283 Q638.105 751.283 639.934 749.131 Q641.786 746.955 641.786 743.228 Q641.786 739.478 639.934 737.325 Q638.105 735.172 634.957 735.172 M644.24 720.52 L644.24 724.779 Q642.48 723.946 640.675 723.506 Q638.892 723.066 637.133 723.066 Q632.504 723.066 630.05 726.191 Q627.619 729.316 627.272 735.635 Q628.638 733.621 630.698 732.557 Q632.758 731.469 635.235 731.469 Q640.443 731.469 643.453 734.64 Q646.485 737.788 646.485 743.228 Q646.485 748.552 643.337 751.769 Q640.189 754.987 634.957 754.987 Q628.962 754.987 625.791 750.404 Q622.619 745.797 622.619 737.07 Q622.619 728.876 626.508 724.015 Q630.397 719.131 636.948 719.131 Q638.707 719.131 640.49 719.478 Q642.295 719.825 644.24 720.52 Z\" fill=\"#000000\" fill-rule=\"nonzero\" fill-opacity=\"1\" /></svg>\n"
      ]
     },
     "execution_count": 16,
     "metadata": {},
     "output_type": "execute_result"
    }
   ],
   "source": [
    "# https://github.com/JuliaPlots/StatsPlots.jl/blob/master/README.md\n",
    "# https://docs.juliaplots.org/latest/tutorial/\n",
    "\n",
    "select_type = 1\n",
    "cdfs = plot(truncated(Normal(sol[2k-1+select_type], sol[2k-1+select_type+K]), 0, 1), func = cdf, title = \"CDFs of Types\", label = \"Type 1\")\n",
    "for select_type in 2:NUMBER_OF_TYPES # academic types\n",
    "    plot!(cdfs, truncated(Normal(sol[2k-1+select_type], sol[2k-1+select_type+K]), 0, 1), func = cdf, label = string(\"Type \", select_type))\n",
    "end\n",
    "\n",
    "for select_type in k+1:K # sinks\n",
    "    plot!(cdfs, truncated(Normal(sol[2k-1+select_type], sol[2k-1+select_type+K]), 0, 1), func = cdf, label = string(\"Sink \", select_type - k))\n",
    "end\n",
    "xlabel!(cdfs, \"offer value\")\n",
    "ylabel!(cdfs, \"F(offer value)\")\n",
    "savefig(cdfs, \"cdfs.png\")\n",
    "cdfs"
   ]
  },
  {
   "cell_type": "code",
   "execution_count": 17,
   "id": "9281df32-0b71-4f5d-a1c3-04bda540dcd4",
   "metadata": {},
   "outputs": [],
   "source": [
    "expected_offers = []\n",
    "for select_type in 1:K\n",
    "     push!(expected_offers,mean(truncated(Normal(sol[2k-1+select_type], sol[2k-1+select_type+K]), 0, 1)))\n",
    "end\n",
    "expected_offers\n",
    "save(files_path*\"expected_offers.jld\", \"expected_offers\", expected_offers)"
   ]
  },
  {
   "cell_type": "code",
   "execution_count": 18,
   "id": "60ac46ea-8e03-4f48-871b-104d34d6baa4",
   "metadata": {},
   "outputs": [
    {
     "data": {
      "image/svg+xml": [
       "<?xml version=\"1.0\" encoding=\"utf-8\"?>\n",
       "<svg xmlns=\"http://www.w3.org/2000/svg\" xmlns:xlink=\"http://www.w3.org/1999/xlink\" width=\"600\" height=\"400\" viewBox=\"0 0 2400 1600\">\n",
       "<defs>\n",
       "  <clipPath id=\"clip260\">\n",
       "    <rect x=\"0\" y=\"0\" width=\"2400\" height=\"1600\"/>\n",
       "  </clipPath>\n",
       "</defs>\n",
       "<path clip-path=\"url(#clip260)\" d=\"M0 1600 L2400 1600 L2400 0 L0 0  Z\" fill=\"#ffffff\" fill-rule=\"evenodd\" fill-opacity=\"1\"/>\n",
       "<defs>\n",
       "  <clipPath id=\"clip261\">\n",
       "    <rect x=\"480\" y=\"0\" width=\"1681\" height=\"1600\"/>\n",
       "  </clipPath>\n",
       "</defs>\n",
       "<path clip-path=\"url(#clip260)\" d=\"M219.866 1423.18 L2352.76 1423.18 L2352.76 123.472 L219.866 123.472  Z\" fill=\"#ffffff\" fill-rule=\"evenodd\" fill-opacity=\"1\"/>\n",
       "<defs>\n",
       "  <clipPath id=\"clip262\">\n",
       "    <rect x=\"219\" y=\"123\" width=\"2134\" height=\"1301\"/>\n",
       "  </clipPath>\n",
       "</defs>\n",
       "<polyline clip-path=\"url(#clip262)\" style=\"stroke:#000000; stroke-linecap:round; stroke-linejoin:round; stroke-width:2; stroke-opacity:0.1; fill:none\" points=\"280.231,1423.18 280.231,123.472 \"/>\n",
       "<polyline clip-path=\"url(#clip262)\" style=\"stroke:#000000; stroke-linecap:round; stroke-linejoin:round; stroke-width:2; stroke-opacity:0.1; fill:none\" points=\"783.271,1423.18 783.271,123.472 \"/>\n",
       "<polyline clip-path=\"url(#clip262)\" style=\"stroke:#000000; stroke-linecap:round; stroke-linejoin:round; stroke-width:2; stroke-opacity:0.1; fill:none\" points=\"1286.31,1423.18 1286.31,123.472 \"/>\n",
       "<polyline clip-path=\"url(#clip262)\" style=\"stroke:#000000; stroke-linecap:round; stroke-linejoin:round; stroke-width:2; stroke-opacity:0.1; fill:none\" points=\"1789.35,1423.18 1789.35,123.472 \"/>\n",
       "<polyline clip-path=\"url(#clip262)\" style=\"stroke:#000000; stroke-linecap:round; stroke-linejoin:round; stroke-width:2; stroke-opacity:0.1; fill:none\" points=\"2292.39,1423.18 2292.39,123.472 \"/>\n",
       "<polyline clip-path=\"url(#clip260)\" style=\"stroke:#000000; stroke-linecap:round; stroke-linejoin:round; stroke-width:4; stroke-opacity:1; fill:none\" points=\"219.866,1423.18 2352.76,1423.18 \"/>\n",
       "<polyline clip-path=\"url(#clip260)\" style=\"stroke:#000000; stroke-linecap:round; stroke-linejoin:round; stroke-width:4; stroke-opacity:1; fill:none\" points=\"280.231,1423.18 280.231,1404.28 \"/>\n",
       "<polyline clip-path=\"url(#clip260)\" style=\"stroke:#000000; stroke-linecap:round; stroke-linejoin:round; stroke-width:4; stroke-opacity:1; fill:none\" points=\"783.271,1423.18 783.271,1404.28 \"/>\n",
       "<polyline clip-path=\"url(#clip260)\" style=\"stroke:#000000; stroke-linecap:round; stroke-linejoin:round; stroke-width:4; stroke-opacity:1; fill:none\" points=\"1286.31,1423.18 1286.31,1404.28 \"/>\n",
       "<polyline clip-path=\"url(#clip260)\" style=\"stroke:#000000; stroke-linecap:round; stroke-linejoin:round; stroke-width:4; stroke-opacity:1; fill:none\" points=\"1789.35,1423.18 1789.35,1404.28 \"/>\n",
       "<polyline clip-path=\"url(#clip260)\" style=\"stroke:#000000; stroke-linecap:round; stroke-linejoin:round; stroke-width:4; stroke-opacity:1; fill:none\" points=\"2292.39,1423.18 2292.39,1404.28 \"/>\n",
       "<path clip-path=\"url(#clip260)\" d=\"M242.535 1454.1 Q238.923 1454.1 237.095 1457.66 Q235.289 1461.2 235.289 1468.33 Q235.289 1475.44 237.095 1479.01 Q238.923 1482.55 242.535 1482.55 Q246.169 1482.55 247.974 1479.01 Q249.803 1475.44 249.803 1468.33 Q249.803 1461.2 247.974 1457.66 Q246.169 1454.1 242.535 1454.1 M242.535 1450.39 Q248.345 1450.39 251.4 1455 Q254.479 1459.58 254.479 1468.33 Q254.479 1477.06 251.4 1481.67 Q248.345 1486.25 242.535 1486.25 Q236.724 1486.25 233.646 1481.67 Q230.59 1477.06 230.59 1468.33 Q230.59 1459.58 233.646 1455 Q236.724 1450.39 242.535 1450.39 Z\" fill=\"#000000\" fill-rule=\"nonzero\" fill-opacity=\"1\" /><path clip-path=\"url(#clip260)\" d=\"M262.696 1479.7 L267.581 1479.7 L267.581 1485.58 L262.696 1485.58 L262.696 1479.7 Z\" fill=\"#000000\" fill-rule=\"nonzero\" fill-opacity=\"1\" /><path clip-path=\"url(#clip260)\" d=\"M287.766 1454.1 Q284.155 1454.1 282.326 1457.66 Q280.52 1461.2 280.52 1468.33 Q280.52 1475.44 282.326 1479.01 Q284.155 1482.55 287.766 1482.55 Q291.4 1482.55 293.206 1479.01 Q295.034 1475.44 295.034 1468.33 Q295.034 1461.2 293.206 1457.66 Q291.4 1454.1 287.766 1454.1 M287.766 1450.39 Q293.576 1450.39 296.631 1455 Q299.71 1459.58 299.71 1468.33 Q299.71 1477.06 296.631 1481.67 Q293.576 1486.25 287.766 1486.25 Q281.956 1486.25 278.877 1481.67 Q275.821 1477.06 275.821 1468.33 Q275.821 1459.58 278.877 1455 Q281.956 1450.39 287.766 1450.39 Z\" fill=\"#000000\" fill-rule=\"nonzero\" fill-opacity=\"1\" /><path clip-path=\"url(#clip260)\" d=\"M317.928 1454.1 Q314.317 1454.1 312.488 1457.66 Q310.682 1461.2 310.682 1468.33 Q310.682 1475.44 312.488 1479.01 Q314.317 1482.55 317.928 1482.55 Q321.562 1482.55 323.367 1479.01 Q325.196 1475.44 325.196 1468.33 Q325.196 1461.2 323.367 1457.66 Q321.562 1454.1 317.928 1454.1 M317.928 1450.39 Q323.738 1450.39 326.793 1455 Q329.872 1459.58 329.872 1468.33 Q329.872 1477.06 326.793 1481.67 Q323.738 1486.25 317.928 1486.25 Q312.117 1486.25 309.039 1481.67 Q305.983 1477.06 305.983 1468.33 Q305.983 1459.58 309.039 1455 Q312.117 1450.39 317.928 1450.39 Z\" fill=\"#000000\" fill-rule=\"nonzero\" fill-opacity=\"1\" /><path clip-path=\"url(#clip260)\" d=\"M746.072 1454.1 Q742.461 1454.1 740.632 1457.66 Q738.827 1461.2 738.827 1468.33 Q738.827 1475.44 740.632 1479.01 Q742.461 1482.55 746.072 1482.55 Q749.706 1482.55 751.512 1479.01 Q753.341 1475.44 753.341 1468.33 Q753.341 1461.2 751.512 1457.66 Q749.706 1454.1 746.072 1454.1 M746.072 1450.39 Q751.882 1450.39 754.938 1455 Q758.017 1459.58 758.017 1468.33 Q758.017 1477.06 754.938 1481.67 Q751.882 1486.25 746.072 1486.25 Q740.262 1486.25 737.183 1481.67 Q734.128 1477.06 734.128 1468.33 Q734.128 1459.58 737.183 1455 Q740.262 1450.39 746.072 1450.39 Z\" fill=\"#000000\" fill-rule=\"nonzero\" fill-opacity=\"1\" /><path clip-path=\"url(#clip260)\" d=\"M766.234 1479.7 L771.118 1479.7 L771.118 1485.58 L766.234 1485.58 L766.234 1479.7 Z\" fill=\"#000000\" fill-rule=\"nonzero\" fill-opacity=\"1\" /><path clip-path=\"url(#clip260)\" d=\"M785.331 1481.64 L801.651 1481.64 L801.651 1485.58 L779.706 1485.58 L779.706 1481.64 Q782.368 1478.89 786.952 1474.26 Q791.558 1469.61 792.739 1468.27 Q794.984 1465.74 795.864 1464.01 Q796.766 1462.25 796.766 1460.56 Q796.766 1457.8 794.822 1456.07 Q792.901 1454.33 789.799 1454.33 Q787.6 1454.33 785.146 1455.09 Q782.716 1455.86 779.938 1457.41 L779.938 1452.69 Q782.762 1451.55 785.216 1450.97 Q787.669 1450.39 789.706 1450.39 Q795.077 1450.39 798.271 1453.08 Q801.465 1455.77 801.465 1460.26 Q801.465 1462.39 800.655 1464.31 Q799.868 1466.2 797.762 1468.8 Q797.183 1469.47 794.081 1472.69 Q790.979 1475.88 785.331 1481.64 Z\" fill=\"#000000\" fill-rule=\"nonzero\" fill-opacity=\"1\" /><path clip-path=\"url(#clip260)\" d=\"M811.512 1451.02 L829.868 1451.02 L829.868 1454.96 L815.794 1454.96 L815.794 1463.43 Q816.813 1463.08 817.831 1462.92 Q818.85 1462.73 819.868 1462.73 Q825.655 1462.73 829.035 1465.9 Q832.414 1469.08 832.414 1474.49 Q832.414 1480.07 828.942 1483.17 Q825.47 1486.25 819.151 1486.25 Q816.975 1486.25 814.706 1485.88 Q812.461 1485.51 810.053 1484.77 L810.053 1480.07 Q812.137 1481.2 814.359 1481.76 Q816.581 1482.32 819.058 1482.32 Q823.063 1482.32 825.4 1480.21 Q827.738 1478.1 827.738 1474.49 Q827.738 1470.88 825.4 1468.77 Q823.063 1466.67 819.058 1466.67 Q817.183 1466.67 815.308 1467.08 Q813.456 1467.5 811.512 1468.38 L811.512 1451.02 Z\" fill=\"#000000\" fill-rule=\"nonzero\" fill-opacity=\"1\" /><path clip-path=\"url(#clip260)\" d=\"M1248.61 1454.1 Q1245 1454.1 1243.17 1457.66 Q1241.37 1461.2 1241.37 1468.33 Q1241.37 1475.44 1243.17 1479.01 Q1245 1482.55 1248.61 1482.55 Q1252.25 1482.55 1254.05 1479.01 Q1255.88 1475.44 1255.88 1468.33 Q1255.88 1461.2 1254.05 1457.66 Q1252.25 1454.1 1248.61 1454.1 M1248.61 1450.39 Q1254.42 1450.39 1257.48 1455 Q1260.56 1459.58 1260.56 1468.33 Q1260.56 1477.06 1257.48 1481.67 Q1254.42 1486.25 1248.61 1486.25 Q1242.8 1486.25 1239.73 1481.67 Q1236.67 1477.06 1236.67 1468.33 Q1236.67 1459.58 1239.73 1455 Q1242.8 1450.39 1248.61 1450.39 Z\" fill=\"#000000\" fill-rule=\"nonzero\" fill-opacity=\"1\" /><path clip-path=\"url(#clip260)\" d=\"M1268.78 1479.7 L1273.66 1479.7 L1273.66 1485.58 L1268.78 1485.58 L1268.78 1479.7 Z\" fill=\"#000000\" fill-rule=\"nonzero\" fill-opacity=\"1\" /><path clip-path=\"url(#clip260)\" d=\"M1283.89 1451.02 L1302.25 1451.02 L1302.25 1454.96 L1288.17 1454.96 L1288.17 1463.43 Q1289.19 1463.08 1290.21 1462.92 Q1291.23 1462.73 1292.25 1462.73 Q1298.04 1462.73 1301.42 1465.9 Q1304.79 1469.08 1304.79 1474.49 Q1304.79 1480.07 1301.32 1483.17 Q1297.85 1486.25 1291.53 1486.25 Q1289.36 1486.25 1287.09 1485.88 Q1284.84 1485.51 1282.43 1484.77 L1282.43 1480.07 Q1284.52 1481.2 1286.74 1481.76 Q1288.96 1482.32 1291.44 1482.32 Q1295.44 1482.32 1297.78 1480.21 Q1300.12 1478.1 1300.12 1474.49 Q1300.12 1470.88 1297.78 1468.77 Q1295.44 1466.67 1291.44 1466.67 Q1289.56 1466.67 1287.69 1467.08 Q1285.84 1467.5 1283.89 1468.38 L1283.89 1451.02 Z\" fill=\"#000000\" fill-rule=\"nonzero\" fill-opacity=\"1\" /><path clip-path=\"url(#clip260)\" d=\"M1324.01 1454.1 Q1320.4 1454.1 1318.57 1457.66 Q1316.76 1461.2 1316.76 1468.33 Q1316.76 1475.44 1318.57 1479.01 Q1320.4 1482.55 1324.01 1482.55 Q1327.64 1482.55 1329.45 1479.01 Q1331.28 1475.44 1331.28 1468.33 Q1331.28 1461.2 1329.45 1457.66 Q1327.64 1454.1 1324.01 1454.1 M1324.01 1450.39 Q1329.82 1450.39 1332.87 1455 Q1335.95 1459.58 1335.95 1468.33 Q1335.95 1477.06 1332.87 1481.67 Q1329.82 1486.25 1324.01 1486.25 Q1318.2 1486.25 1315.12 1481.67 Q1312.06 1477.06 1312.06 1468.33 Q1312.06 1459.58 1315.12 1455 Q1318.2 1450.39 1324.01 1450.39 Z\" fill=\"#000000\" fill-rule=\"nonzero\" fill-opacity=\"1\" /><path clip-path=\"url(#clip260)\" d=\"M1752.15 1454.1 Q1748.54 1454.1 1746.71 1457.66 Q1744.91 1461.2 1744.91 1468.33 Q1744.91 1475.44 1746.71 1479.01 Q1748.54 1482.55 1752.15 1482.55 Q1755.79 1482.55 1757.59 1479.01 Q1759.42 1475.44 1759.42 1468.33 Q1759.42 1461.2 1757.59 1457.66 Q1755.79 1454.1 1752.15 1454.1 M1752.15 1450.39 Q1757.96 1450.39 1761.02 1455 Q1764.1 1459.58 1764.1 1468.33 Q1764.1 1477.06 1761.02 1481.67 Q1757.96 1486.25 1752.15 1486.25 Q1746.34 1486.25 1743.26 1481.67 Q1740.21 1477.06 1740.21 1468.33 Q1740.21 1459.58 1743.26 1455 Q1746.34 1450.39 1752.15 1450.39 Z\" fill=\"#000000\" fill-rule=\"nonzero\" fill-opacity=\"1\" /><path clip-path=\"url(#clip260)\" d=\"M1772.31 1479.7 L1777.2 1479.7 L1777.2 1485.58 L1772.31 1485.58 L1772.31 1479.7 Z\" fill=\"#000000\" fill-rule=\"nonzero\" fill-opacity=\"1\" /><path clip-path=\"url(#clip260)\" d=\"M1786.2 1451.02 L1808.43 1451.02 L1808.43 1453.01 L1795.88 1485.58 L1790.99 1485.58 L1802.8 1454.96 L1786.2 1454.96 L1786.2 1451.02 Z\" fill=\"#000000\" fill-rule=\"nonzero\" fill-opacity=\"1\" /><path clip-path=\"url(#clip260)\" d=\"M1817.59 1451.02 L1835.95 1451.02 L1835.95 1454.96 L1821.87 1454.96 L1821.87 1463.43 Q1822.89 1463.08 1823.91 1462.92 Q1824.93 1462.73 1825.95 1462.73 Q1831.74 1462.73 1835.11 1465.9 Q1838.49 1469.08 1838.49 1474.49 Q1838.49 1480.07 1835.02 1483.17 Q1831.55 1486.25 1825.23 1486.25 Q1823.05 1486.25 1820.79 1485.88 Q1818.54 1485.51 1816.13 1484.77 L1816.13 1480.07 Q1818.22 1481.2 1820.44 1481.76 Q1822.66 1482.32 1825.14 1482.32 Q1829.14 1482.32 1831.48 1480.21 Q1833.82 1478.1 1833.82 1474.49 Q1833.82 1470.88 1831.48 1468.77 Q1829.14 1466.67 1825.14 1466.67 Q1823.26 1466.67 1821.39 1467.08 Q1819.54 1467.5 1817.59 1468.38 L1817.59 1451.02 Z\" fill=\"#000000\" fill-rule=\"nonzero\" fill-opacity=\"1\" /><path clip-path=\"url(#clip260)\" d=\"M2244.46 1481.64 L2252.1 1481.64 L2252.1 1455.28 L2243.79 1456.95 L2243.79 1452.69 L2252.06 1451.02 L2256.73 1451.02 L2256.73 1481.64 L2264.37 1481.64 L2264.37 1485.58 L2244.46 1485.58 L2244.46 1481.64 Z\" fill=\"#000000\" fill-rule=\"nonzero\" fill-opacity=\"1\" /><path clip-path=\"url(#clip260)\" d=\"M2273.81 1479.7 L2278.7 1479.7 L2278.7 1485.58 L2273.81 1485.58 L2273.81 1479.7 Z\" fill=\"#000000\" fill-rule=\"nonzero\" fill-opacity=\"1\" /><path clip-path=\"url(#clip260)\" d=\"M2298.88 1454.1 Q2295.27 1454.1 2293.44 1457.66 Q2291.64 1461.2 2291.64 1468.33 Q2291.64 1475.44 2293.44 1479.01 Q2295.27 1482.55 2298.88 1482.55 Q2302.52 1482.55 2304.32 1479.01 Q2306.15 1475.44 2306.15 1468.33 Q2306.15 1461.2 2304.32 1457.66 Q2302.52 1454.1 2298.88 1454.1 M2298.88 1450.39 Q2304.69 1450.39 2307.75 1455 Q2310.83 1459.58 2310.83 1468.33 Q2310.83 1477.06 2307.75 1481.67 Q2304.69 1486.25 2298.88 1486.25 Q2293.07 1486.25 2290 1481.67 Q2286.94 1477.06 2286.94 1468.33 Q2286.94 1459.58 2290 1455 Q2293.07 1450.39 2298.88 1450.39 Z\" fill=\"#000000\" fill-rule=\"nonzero\" fill-opacity=\"1\" /><path clip-path=\"url(#clip260)\" d=\"M2329.05 1454.1 Q2325.43 1454.1 2323.61 1457.66 Q2321.8 1461.2 2321.8 1468.33 Q2321.8 1475.44 2323.61 1479.01 Q2325.43 1482.55 2329.05 1482.55 Q2332.68 1482.55 2334.49 1479.01 Q2336.31 1475.44 2336.31 1468.33 Q2336.31 1461.2 2334.49 1457.66 Q2332.68 1454.1 2329.05 1454.1 M2329.05 1450.39 Q2334.86 1450.39 2337.91 1455 Q2340.99 1459.58 2340.99 1468.33 Q2340.99 1477.06 2337.91 1481.67 Q2334.86 1486.25 2329.05 1486.25 Q2323.24 1486.25 2320.16 1481.67 Q2317.1 1477.06 2317.1 1468.33 Q2317.1 1459.58 2320.16 1455 Q2323.24 1450.39 2329.05 1450.39 Z\" fill=\"#000000\" fill-rule=\"nonzero\" fill-opacity=\"1\" /><path clip-path=\"url(#clip260)\" d=\"M1130.48 1536.5 Q1125.77 1536.5 1123.03 1540.19 Q1120.29 1543.85 1120.29 1550.25 Q1120.29 1556.65 1123 1560.34 Q1125.74 1564 1130.48 1564 Q1135.16 1564 1137.89 1560.31 Q1140.63 1556.62 1140.63 1550.25 Q1140.63 1543.92 1137.89 1540.23 Q1135.16 1536.5 1130.48 1536.5 M1130.48 1531.54 Q1138.12 1531.54 1142.48 1536.5 Q1146.84 1541.47 1146.84 1550.25 Q1146.84 1559 1142.48 1564 Q1138.12 1568.97 1130.48 1568.97 Q1122.81 1568.97 1118.45 1564 Q1114.12 1559 1114.12 1550.25 Q1114.12 1541.47 1118.45 1536.5 Q1122.81 1531.54 1130.48 1531.54 Z\" fill=\"#000000\" fill-rule=\"nonzero\" fill-opacity=\"1\" /><path clip-path=\"url(#clip260)\" d=\"M1174.59 1518.52 L1174.59 1523.39 L1168.99 1523.39 Q1165.84 1523.39 1164.6 1524.66 Q1163.39 1525.93 1163.39 1529.24 L1163.39 1532.4 L1173.03 1532.4 L1173.03 1536.95 L1163.39 1536.95 L1163.39 1568.04 L1157.5 1568.04 L1157.5 1536.95 L1151.9 1536.95 L1151.9 1532.4 L1157.5 1532.4 L1157.5 1529.91 Q1157.5 1523.96 1160.27 1521.26 Q1163.04 1518.52 1169.05 1518.52 L1174.59 1518.52 Z\" fill=\"#000000\" fill-rule=\"nonzero\" fill-opacity=\"1\" /><path clip-path=\"url(#clip260)\" d=\"M1197.54 1518.52 L1197.54 1523.39 L1191.94 1523.39 Q1188.79 1523.39 1187.55 1524.66 Q1186.34 1525.93 1186.34 1529.24 L1186.34 1532.4 L1195.98 1532.4 L1195.98 1536.95 L1186.34 1536.95 L1186.34 1568.04 L1180.45 1568.04 L1180.45 1536.95 L1174.85 1536.95 L1174.85 1532.4 L1180.45 1532.4 L1180.45 1529.91 Q1180.45 1523.96 1183.22 1521.26 Q1185.99 1518.52 1192 1518.52 L1197.54 1518.52 Z\" fill=\"#000000\" fill-rule=\"nonzero\" fill-opacity=\"1\" /><path clip-path=\"url(#clip260)\" d=\"M1232.93 1548.76 L1232.93 1551.62 L1206.01 1551.62 Q1206.39 1557.67 1209.64 1560.85 Q1212.91 1564 1218.74 1564 Q1222.11 1564 1225.26 1563.17 Q1228.45 1562.35 1231.57 1560.69 L1231.57 1566.23 Q1228.41 1567.57 1225.1 1568.27 Q1221.79 1568.97 1218.39 1568.97 Q1209.86 1568.97 1204.86 1564 Q1199.9 1559.04 1199.9 1550.57 Q1199.9 1541.82 1204.61 1536.69 Q1209.35 1531.54 1217.37 1531.54 Q1224.56 1531.54 1228.73 1536.18 Q1232.93 1540.8 1232.93 1548.76 M1227.08 1547.04 Q1227.01 1542.23 1224.37 1539.37 Q1221.76 1536.5 1217.43 1536.5 Q1212.53 1536.5 1209.57 1539.27 Q1206.64 1542.04 1206.2 1547.07 L1227.08 1547.04 Z\" fill=\"#000000\" fill-rule=\"nonzero\" fill-opacity=\"1\" /><path clip-path=\"url(#clip260)\" d=\"M1263.2 1537.87 Q1262.22 1537.3 1261.04 1537.04 Q1259.89 1536.76 1258.49 1536.76 Q1253.53 1536.76 1250.85 1540 Q1248.21 1543.22 1248.21 1549.27 L1248.21 1568.04 L1242.32 1568.04 L1242.32 1532.4 L1248.21 1532.4 L1248.21 1537.93 Q1250.06 1534.69 1253.02 1533.13 Q1255.98 1531.54 1260.21 1531.54 Q1260.82 1531.54 1261.55 1531.63 Q1262.28 1531.7 1263.17 1531.85 L1263.2 1537.87 Z\" fill=\"#000000\" fill-rule=\"nonzero\" fill-opacity=\"1\" /><path clip-path=\"url(#clip260)\" d=\"M1285.87 1532.4 L1292.07 1532.4 L1303.21 1562.31 L1314.35 1532.4 L1320.56 1532.4 L1307.19 1568.04 L1299.23 1568.04 L1285.87 1532.4 Z\" fill=\"#000000\" fill-rule=\"nonzero\" fill-opacity=\"1\" /><path clip-path=\"url(#clip260)\" d=\"M1344.84 1550.12 Q1337.75 1550.12 1335.01 1551.75 Q1332.27 1553.37 1332.27 1557.29 Q1332.27 1560.4 1334.31 1562.25 Q1336.38 1564.07 1339.91 1564.07 Q1344.78 1564.07 1347.71 1560.63 Q1350.67 1557.16 1350.67 1551.43 L1350.67 1550.12 L1344.84 1550.12 M1356.52 1547.71 L1356.52 1568.04 L1350.67 1568.04 L1350.67 1562.63 Q1348.66 1565.88 1345.67 1567.44 Q1342.68 1568.97 1338.35 1568.97 Q1332.88 1568.97 1329.63 1565.91 Q1326.42 1562.82 1326.42 1557.67 Q1326.42 1551.65 1330.43 1548.6 Q1334.47 1545.54 1342.46 1545.54 L1350.67 1545.54 L1350.67 1544.97 Q1350.67 1540.93 1347.99 1538.73 Q1345.35 1536.5 1340.55 1536.5 Q1337.49 1536.5 1334.59 1537.23 Q1331.7 1537.97 1329.02 1539.43 L1329.02 1534.02 Q1332.24 1532.78 1335.26 1532.17 Q1338.29 1531.54 1341.15 1531.54 Q1348.89 1531.54 1352.71 1535.55 Q1356.52 1539.56 1356.52 1547.71 Z\" fill=\"#000000\" fill-rule=\"nonzero\" fill-opacity=\"1\" /><path clip-path=\"url(#clip260)\" d=\"M1368.59 1518.52 L1374.44 1518.52 L1374.44 1568.04 L1368.59 1568.04 L1368.59 1518.52 Z\" fill=\"#000000\" fill-rule=\"nonzero\" fill-opacity=\"1\" /><path clip-path=\"url(#clip260)\" d=\"M1386.09 1553.98 L1386.09 1532.4 L1391.95 1532.4 L1391.95 1553.75 Q1391.95 1558.81 1393.92 1561.36 Q1395.9 1563.87 1399.84 1563.87 Q1404.59 1563.87 1407.32 1560.85 Q1410.09 1557.83 1410.09 1552.61 L1410.09 1532.4 L1415.95 1532.4 L1415.95 1568.04 L1410.09 1568.04 L1410.09 1562.57 Q1407.96 1565.82 1405.13 1567.41 Q1402.33 1568.97 1398.6 1568.97 Q1392.46 1568.97 1389.28 1565.15 Q1386.09 1561.33 1386.09 1553.98 M1400.83 1531.54 L1400.83 1531.54 Z\" fill=\"#000000\" fill-rule=\"nonzero\" fill-opacity=\"1\" /><path clip-path=\"url(#clip260)\" d=\"M1458.5 1548.76 L1458.5 1551.62 L1431.58 1551.62 Q1431.96 1557.67 1435.2 1560.85 Q1438.48 1564 1444.31 1564 Q1447.68 1564 1450.83 1563.17 Q1454.02 1562.35 1457.13 1560.69 L1457.13 1566.23 Q1453.98 1567.57 1450.67 1568.27 Q1447.36 1568.97 1443.96 1568.97 Q1435.43 1568.97 1430.43 1564 Q1425.47 1559.04 1425.47 1550.57 Q1425.47 1541.82 1430.18 1536.69 Q1434.92 1531.54 1442.94 1531.54 Q1450.13 1531.54 1454.3 1536.18 Q1458.5 1540.8 1458.5 1548.76 M1452.65 1547.04 Q1452.58 1542.23 1449.94 1539.37 Q1447.33 1536.5 1443 1536.5 Q1438.1 1536.5 1435.14 1539.27 Q1432.21 1542.04 1431.77 1547.07 L1452.65 1547.04 Z\" fill=\"#000000\" fill-rule=\"nonzero\" fill-opacity=\"1\" /><polyline clip-path=\"url(#clip262)\" style=\"stroke:#000000; stroke-linecap:round; stroke-linejoin:round; stroke-width:2; stroke-opacity:0.1; fill:none\" points=\"219.866,1345.57 2352.76,1345.57 \"/>\n",
       "<polyline clip-path=\"url(#clip262)\" style=\"stroke:#000000; stroke-linecap:round; stroke-linejoin:round; stroke-width:2; stroke-opacity:0.1; fill:none\" points=\"219.866,1087.04 2352.76,1087.04 \"/>\n",
       "<polyline clip-path=\"url(#clip262)\" style=\"stroke:#000000; stroke-linecap:round; stroke-linejoin:round; stroke-width:2; stroke-opacity:0.1; fill:none\" points=\"219.866,828.508 2352.76,828.508 \"/>\n",
       "<polyline clip-path=\"url(#clip262)\" style=\"stroke:#000000; stroke-linecap:round; stroke-linejoin:round; stroke-width:2; stroke-opacity:0.1; fill:none\" points=\"219.866,569.977 2352.76,569.977 \"/>\n",
       "<polyline clip-path=\"url(#clip262)\" style=\"stroke:#000000; stroke-linecap:round; stroke-linejoin:round; stroke-width:2; stroke-opacity:0.1; fill:none\" points=\"219.866,311.445 2352.76,311.445 \"/>\n",
       "<polyline clip-path=\"url(#clip260)\" style=\"stroke:#000000; stroke-linecap:round; stroke-linejoin:round; stroke-width:4; stroke-opacity:1; fill:none\" points=\"219.866,1423.18 219.866,123.472 \"/>\n",
       "<polyline clip-path=\"url(#clip260)\" style=\"stroke:#000000; stroke-linecap:round; stroke-linejoin:round; stroke-width:4; stroke-opacity:1; fill:none\" points=\"219.866,1345.57 238.764,1345.57 \"/>\n",
       "<polyline clip-path=\"url(#clip260)\" style=\"stroke:#000000; stroke-linecap:round; stroke-linejoin:round; stroke-width:4; stroke-opacity:1; fill:none\" points=\"219.866,1087.04 238.764,1087.04 \"/>\n",
       "<polyline clip-path=\"url(#clip260)\" style=\"stroke:#000000; stroke-linecap:round; stroke-linejoin:round; stroke-width:4; stroke-opacity:1; fill:none\" points=\"219.866,828.508 238.764,828.508 \"/>\n",
       "<polyline clip-path=\"url(#clip260)\" style=\"stroke:#000000; stroke-linecap:round; stroke-linejoin:round; stroke-width:4; stroke-opacity:1; fill:none\" points=\"219.866,569.977 238.764,569.977 \"/>\n",
       "<polyline clip-path=\"url(#clip260)\" style=\"stroke:#000000; stroke-linecap:round; stroke-linejoin:round; stroke-width:4; stroke-opacity:1; fill:none\" points=\"219.866,311.445 238.764,311.445 \"/>\n",
       "<path clip-path=\"url(#clip260)\" d=\"M126.205 1331.37 Q122.593 1331.37 120.765 1334.94 Q118.959 1338.48 118.959 1345.61 Q118.959 1352.71 120.765 1356.28 Q122.593 1359.82 126.205 1359.82 Q129.839 1359.82 131.644 1356.28 Q133.473 1352.71 133.473 1345.61 Q133.473 1338.48 131.644 1334.94 Q129.839 1331.37 126.205 1331.37 M126.205 1327.67 Q132.015 1327.67 135.07 1332.27 Q138.149 1336.86 138.149 1345.61 Q138.149 1354.33 135.07 1358.94 Q132.015 1363.52 126.205 1363.52 Q120.394 1363.52 117.316 1358.94 Q114.26 1354.33 114.26 1345.61 Q114.26 1336.86 117.316 1332.27 Q120.394 1327.67 126.205 1327.67 Z\" fill=\"#000000\" fill-rule=\"nonzero\" fill-opacity=\"1\" /><path clip-path=\"url(#clip260)\" d=\"M146.366 1356.97 L151.251 1356.97 L151.251 1362.85 L146.366 1362.85 L146.366 1356.97 Z\" fill=\"#000000\" fill-rule=\"nonzero\" fill-opacity=\"1\" /><path clip-path=\"url(#clip260)\" d=\"M174.283 1332.37 L162.477 1350.81 L174.283 1350.81 L174.283 1332.37 M173.056 1328.29 L178.936 1328.29 L178.936 1350.81 L183.866 1350.81 L183.866 1354.7 L178.936 1354.7 L178.936 1362.85 L174.283 1362.85 L174.283 1354.7 L158.681 1354.7 L158.681 1350.19 L173.056 1328.29 Z\" fill=\"#000000\" fill-rule=\"nonzero\" fill-opacity=\"1\" /><path clip-path=\"url(#clip260)\" d=\"M126.529 1072.84 Q122.918 1072.84 121.089 1076.4 Q119.283 1079.95 119.283 1087.07 Q119.283 1094.18 121.089 1097.75 Q122.918 1101.29 126.529 1101.29 Q130.163 1101.29 131.968 1097.75 Q133.797 1094.18 133.797 1087.07 Q133.797 1079.95 131.968 1076.4 Q130.163 1072.84 126.529 1072.84 M126.529 1069.14 Q132.339 1069.14 135.394 1073.74 Q138.473 1078.32 138.473 1087.07 Q138.473 1095.8 135.394 1100.41 Q132.339 1104.99 126.529 1104.99 Q120.718 1104.99 117.64 1100.41 Q114.584 1095.8 114.584 1087.07 Q114.584 1078.32 117.64 1073.74 Q120.718 1069.14 126.529 1069.14 Z\" fill=\"#000000\" fill-rule=\"nonzero\" fill-opacity=\"1\" /><path clip-path=\"url(#clip260)\" d=\"M146.691 1098.44 L151.575 1098.44 L151.575 1104.32 L146.691 1104.32 L146.691 1098.44 Z\" fill=\"#000000\" fill-rule=\"nonzero\" fill-opacity=\"1\" /><path clip-path=\"url(#clip260)\" d=\"M172.339 1085.18 Q169.19 1085.18 167.339 1087.33 Q165.51 1089.48 165.51 1093.23 Q165.51 1096.96 167.339 1099.13 Q169.19 1101.29 172.339 1101.29 Q175.487 1101.29 177.315 1099.13 Q179.167 1096.96 179.167 1093.23 Q179.167 1089.48 177.315 1087.33 Q175.487 1085.18 172.339 1085.18 M181.621 1070.52 L181.621 1074.78 Q179.862 1073.95 178.056 1073.51 Q176.274 1073.07 174.514 1073.07 Q169.885 1073.07 167.431 1076.2 Q165.001 1079.32 164.653 1085.64 Q166.019 1083.63 168.079 1082.56 Q170.139 1081.47 172.616 1081.47 Q177.825 1081.47 180.834 1084.64 Q183.866 1087.79 183.866 1093.23 Q183.866 1098.56 180.718 1101.77 Q177.57 1104.99 172.339 1104.99 Q166.343 1104.99 163.172 1100.41 Q160.001 1095.8 160.001 1087.07 Q160.001 1078.88 163.89 1074.02 Q167.778 1069.14 174.329 1069.14 Q176.089 1069.14 177.871 1069.48 Q179.676 1069.83 181.621 1070.52 Z\" fill=\"#000000\" fill-rule=\"nonzero\" fill-opacity=\"1\" /><path clip-path=\"url(#clip260)\" d=\"M126.783 814.307 Q123.172 814.307 121.343 817.872 Q119.538 821.413 119.538 828.543 Q119.538 835.649 121.343 839.214 Q123.172 842.756 126.783 842.756 Q130.417 842.756 132.223 839.214 Q134.052 835.649 134.052 828.543 Q134.052 821.413 132.223 817.872 Q130.417 814.307 126.783 814.307 M126.783 810.603 Q132.593 810.603 135.649 815.21 Q138.728 819.793 138.728 828.543 Q138.728 837.27 135.649 841.876 Q132.593 846.46 126.783 846.46 Q120.973 846.46 117.894 841.876 Q114.839 837.27 114.839 828.543 Q114.839 819.793 117.894 815.21 Q120.973 810.603 126.783 810.603 Z\" fill=\"#000000\" fill-rule=\"nonzero\" fill-opacity=\"1\" /><path clip-path=\"url(#clip260)\" d=\"M146.945 839.909 L151.829 839.909 L151.829 845.788 L146.945 845.788 L146.945 839.909 Z\" fill=\"#000000\" fill-rule=\"nonzero\" fill-opacity=\"1\" /><path clip-path=\"url(#clip260)\" d=\"M172.014 829.376 Q168.681 829.376 166.76 831.159 Q164.862 832.941 164.862 836.066 Q164.862 839.191 166.76 840.973 Q168.681 842.756 172.014 842.756 Q175.348 842.756 177.269 840.973 Q179.19 839.168 179.19 836.066 Q179.19 832.941 177.269 831.159 Q175.371 829.376 172.014 829.376 M167.339 827.386 Q164.329 826.645 162.64 824.585 Q160.973 822.525 160.973 819.562 Q160.973 815.418 163.913 813.011 Q166.876 810.603 172.014 810.603 Q177.176 810.603 180.116 813.011 Q183.056 815.418 183.056 819.562 Q183.056 822.525 181.366 824.585 Q179.7 826.645 176.714 827.386 Q180.093 828.173 181.968 830.464 Q183.866 832.756 183.866 836.066 Q183.866 841.089 180.788 843.774 Q177.732 846.46 172.014 846.46 Q166.297 846.46 163.218 843.774 Q160.163 841.089 160.163 836.066 Q160.163 832.756 162.061 830.464 Q163.959 828.173 167.339 827.386 M165.626 820.001 Q165.626 822.687 167.292 824.191 Q168.982 825.696 172.014 825.696 Q175.024 825.696 176.714 824.191 Q178.426 822.687 178.426 820.001 Q178.426 817.316 176.714 815.812 Q175.024 814.307 172.014 814.307 Q168.982 814.307 167.292 815.812 Q165.626 817.316 165.626 820.001 Z\" fill=\"#000000\" fill-rule=\"nonzero\" fill-opacity=\"1\" /><path clip-path=\"url(#clip260)\" d=\"M117.501 583.321 L125.14 583.321 L125.14 556.956 L116.83 558.622 L116.83 554.363 L125.093 552.697 L129.769 552.697 L129.769 583.321 L137.408 583.321 L137.408 587.257 L117.501 587.257 L117.501 583.321 Z\" fill=\"#000000\" fill-rule=\"nonzero\" fill-opacity=\"1\" /><path clip-path=\"url(#clip260)\" d=\"M146.853 581.377 L151.737 581.377 L151.737 587.257 L146.853 587.257 L146.853 581.377 Z\" fill=\"#000000\" fill-rule=\"nonzero\" fill-opacity=\"1\" /><path clip-path=\"url(#clip260)\" d=\"M171.922 555.775 Q168.311 555.775 166.482 559.34 Q164.677 562.882 164.677 570.011 Q164.677 577.118 166.482 580.682 Q168.311 584.224 171.922 584.224 Q175.556 584.224 177.362 580.682 Q179.19 577.118 179.19 570.011 Q179.19 562.882 177.362 559.34 Q175.556 555.775 171.922 555.775 M171.922 552.072 Q177.732 552.072 180.788 556.678 Q183.866 561.261 183.866 570.011 Q183.866 578.738 180.788 583.345 Q177.732 587.928 171.922 587.928 Q166.112 587.928 163.033 583.345 Q159.978 578.738 159.978 570.011 Q159.978 561.261 163.033 556.678 Q166.112 552.072 171.922 552.072 Z\" fill=\"#000000\" fill-rule=\"nonzero\" fill-opacity=\"1\" /><path clip-path=\"url(#clip260)\" d=\"M119.098 324.79 L126.737 324.79 L126.737 298.424 L118.427 300.091 L118.427 295.831 L126.691 294.165 L131.367 294.165 L131.367 324.79 L139.005 324.79 L139.005 328.725 L119.098 328.725 L119.098 324.79 Z\" fill=\"#000000\" fill-rule=\"nonzero\" fill-opacity=\"1\" /><path clip-path=\"url(#clip260)\" d=\"M148.45 322.845 L153.334 322.845 L153.334 328.725 L148.45 328.725 L148.45 322.845 Z\" fill=\"#000000\" fill-rule=\"nonzero\" fill-opacity=\"1\" /><path clip-path=\"url(#clip260)\" d=\"M167.547 324.79 L183.866 324.79 L183.866 328.725 L161.922 328.725 L161.922 324.79 Q164.584 322.035 169.167 317.405 Q173.774 312.753 174.954 311.41 Q177.2 308.887 178.079 307.151 Q178.982 305.392 178.982 303.702 Q178.982 300.947 177.038 299.211 Q175.116 297.475 172.014 297.475 Q169.815 297.475 167.362 298.239 Q164.931 299.003 162.153 300.554 L162.153 295.831 Q164.977 294.697 167.431 294.119 Q169.885 293.54 171.922 293.54 Q177.292 293.54 180.487 296.225 Q183.681 298.91 183.681 303.401 Q183.681 305.53 182.871 307.452 Q182.084 309.35 179.977 311.942 Q179.399 312.614 176.297 315.831 Q173.195 319.026 167.547 324.79 Z\" fill=\"#000000\" fill-rule=\"nonzero\" fill-opacity=\"1\" /><path clip-path=\"url(#clip260)\" d=\"M14.479 959.714 L19.3487 959.714 L19.3487 965.316 Q19.3487 968.467 20.6219 969.708 Q21.895 970.918 25.2052 970.918 L28.3562 970.918 L28.3562 961.273 L32.9077 961.273 L32.9077 970.918 L64.0042 970.918 L64.0042 976.806 L32.9077 976.806 L32.9077 982.408 L28.3562 982.408 L28.3562 976.806 L25.8736 976.806 Q19.9216 976.806 17.2162 974.037 Q14.479 971.268 14.479 965.252 L14.479 959.714 Z\" fill=\"#000000\" fill-rule=\"nonzero\" fill-opacity=\"1\" /><path clip-path=\"url(#clip260)\" d=\"M14.5426 940.744 Q21.8632 945.009 29.0246 947.078 Q36.186 949.147 43.5384 949.147 Q50.8908 949.147 58.1159 947.078 Q65.3091 944.977 72.5979 940.744 L72.5979 945.837 Q65.1182 950.611 57.8931 952.998 Q50.668 955.353 43.5384 955.353 Q36.4406 955.353 29.2474 952.998 Q22.0542 950.643 14.5426 945.837 L14.5426 940.744 Z\" fill=\"#000000\" fill-rule=\"nonzero\" fill-opacity=\"1\" /><path clip-path=\"url(#clip260)\" d=\"M32.4621 915.568 Q32.4621 920.278 36.1542 923.016 Q39.8145 925.753 46.212 925.753 Q52.6095 925.753 56.3017 923.047 Q59.9619 920.31 59.9619 915.568 Q59.9619 910.889 56.2698 908.152 Q52.5777 905.414 46.212 905.414 Q39.8781 905.414 36.186 908.152 Q32.4621 910.889 32.4621 915.568 M27.4968 915.568 Q27.4968 907.929 32.4621 903.568 Q37.4273 899.208 46.212 899.208 Q54.9649 899.208 59.9619 903.568 Q64.9272 907.929 64.9272 915.568 Q64.9272 923.238 59.9619 927.599 Q54.9649 931.928 46.212 931.928 Q37.4273 931.928 32.4621 927.599 Q27.4968 923.238 27.4968 915.568 Z\" fill=\"#000000\" fill-rule=\"nonzero\" fill-opacity=\"1\" /><path clip-path=\"url(#clip260)\" d=\"M14.479 871.453 L19.3487 871.453 L19.3487 877.055 Q19.3487 880.206 20.6219 881.448 Q21.895 882.657 25.2052 882.657 L28.3562 882.657 L28.3562 873.013 L32.9077 873.013 L32.9077 882.657 L64.0042 882.657 L64.0042 888.545 L32.9077 888.545 L32.9077 894.147 L28.3562 894.147 L28.3562 888.545 L25.8736 888.545 Q19.9216 888.545 17.2162 885.776 Q14.479 883.007 14.479 876.992 L14.479 871.453 Z\" fill=\"#000000\" fill-rule=\"nonzero\" fill-opacity=\"1\" /><path clip-path=\"url(#clip260)\" d=\"M14.479 848.505 L19.3487 848.505 L19.3487 854.107 Q19.3487 857.258 20.6219 858.499 Q21.895 859.709 25.2052 859.709 L28.3562 859.709 L28.3562 850.065 L32.9077 850.065 L32.9077 859.709 L64.0042 859.709 L64.0042 865.597 L32.9077 865.597 L32.9077 871.199 L28.3562 871.199 L28.3562 865.597 L25.8736 865.597 Q19.9216 865.597 17.2162 862.828 Q14.479 860.059 14.479 854.043 L14.479 848.505 Z\" fill=\"#000000\" fill-rule=\"nonzero\" fill-opacity=\"1\" /><path clip-path=\"url(#clip260)\" d=\"M44.7161 813.112 L47.5806 813.112 L47.5806 840.039 Q53.6281 839.657 56.8109 836.41 Q59.9619 833.132 59.9619 827.307 Q59.9619 823.933 59.1344 820.782 Q58.3069 817.599 56.6518 814.48 L62.1899 814.48 Q63.5267 817.631 64.227 820.941 Q64.9272 824.252 64.9272 827.657 Q64.9272 836.187 59.9619 841.184 Q54.9967 846.15 46.5303 846.15 Q37.7774 846.15 32.6531 841.439 Q27.4968 836.697 27.4968 828.676 Q27.4968 821.483 32.1438 817.313 Q36.7589 813.112 44.7161 813.112 M42.9973 818.968 Q38.1912 819.032 35.3266 821.674 Q32.4621 824.283 32.4621 828.612 Q32.4621 833.514 35.2312 836.474 Q38.0002 839.402 43.0292 839.848 L42.9973 818.968 Z\" fill=\"#000000\" fill-rule=\"nonzero\" fill-opacity=\"1\" /><path clip-path=\"url(#clip260)\" d=\"M33.8307 782.843 Q33.2578 783.829 33.0032 785.007 Q32.7167 786.153 32.7167 787.553 Q32.7167 792.519 35.9632 795.192 Q39.1779 797.834 45.2253 797.834 L64.0042 797.834 L64.0042 803.722 L28.3562 803.722 L28.3562 797.834 L33.8944 797.834 Q30.6479 795.988 29.0883 793.028 Q27.4968 790.068 27.4968 785.835 Q27.4968 785.23 27.5923 784.498 Q27.656 783.766 27.8151 782.875 L33.8307 782.843 Z\" fill=\"#000000\" fill-rule=\"nonzero\" fill-opacity=\"1\" /><path clip-path=\"url(#clip260)\" d=\"M28.3562 760.181 L28.3562 753.974 L58.275 742.834 L28.3562 731.694 L28.3562 725.488 L64.0042 738.856 L64.0042 746.813 L28.3562 760.181 Z\" fill=\"#000000\" fill-rule=\"nonzero\" fill-opacity=\"1\" /><path clip-path=\"url(#clip260)\" d=\"M46.0847 701.203 Q46.0847 708.3 47.7079 711.038 Q49.3312 713.775 53.2461 713.775 Q56.3653 713.775 58.2114 711.738 Q60.0256 709.669 60.0256 706.136 Q60.0256 701.266 56.5881 698.338 Q53.1188 695.378 47.3897 695.378 L46.0847 695.378 L46.0847 701.203 M43.6657 689.521 L64.0042 689.521 L64.0042 695.378 L58.5933 695.378 Q61.8398 697.383 63.3994 700.375 Q64.9272 703.367 64.9272 707.696 Q64.9272 713.17 61.8716 716.417 Q58.7843 719.631 53.6281 719.631 Q47.6125 719.631 44.5569 715.621 Q41.5014 711.579 41.5014 703.59 L41.5014 695.378 L40.9285 695.378 Q36.8862 695.378 34.6901 698.052 Q32.4621 700.693 32.4621 705.499 Q32.4621 708.555 33.1941 711.451 Q33.9262 714.348 35.3903 717.021 L29.9795 717.021 Q28.7381 713.807 28.1334 710.783 Q27.4968 707.759 27.4968 704.895 Q27.4968 697.16 31.5072 693.341 Q35.5176 689.521 43.6657 689.521 Z\" fill=\"#000000\" fill-rule=\"nonzero\" fill-opacity=\"1\" /><path clip-path=\"url(#clip260)\" d=\"M14.479 677.458 L14.479 671.602 L64.0042 671.602 L64.0042 677.458 L14.479 677.458 Z\" fill=\"#000000\" fill-rule=\"nonzero\" fill-opacity=\"1\" /><path clip-path=\"url(#clip260)\" d=\"M49.9359 659.953 L28.3562 659.953 L28.3562 654.096 L49.7131 654.096 Q54.7739 654.096 57.3202 652.123 Q59.8346 650.15 59.8346 646.203 Q59.8346 641.46 56.8109 638.723 Q53.7872 635.954 48.5673 635.954 L28.3562 635.954 L28.3562 630.098 L64.0042 630.098 L64.0042 635.954 L58.5296 635.954 Q61.7762 638.087 63.3676 640.919 Q64.9272 643.72 64.9272 647.444 Q64.9272 653.587 61.1078 656.77 Q57.2883 659.953 49.9359 659.953 M27.4968 645.216 L27.4968 645.216 Z\" fill=\"#000000\" fill-rule=\"nonzero\" fill-opacity=\"1\" /><path clip-path=\"url(#clip260)\" d=\"M44.7161 587.543 L47.5806 587.543 L47.5806 614.47 Q53.6281 614.088 56.8109 610.841 Q59.9619 607.563 59.9619 601.738 Q59.9619 598.365 59.1344 595.214 Q58.3069 592.031 56.6518 588.911 L62.1899 588.911 Q63.5267 592.062 64.227 595.373 Q64.9272 598.683 64.9272 602.088 Q64.9272 610.619 59.9619 615.616 Q54.9967 620.581 46.5303 620.581 Q37.7774 620.581 32.6531 615.87 Q27.4968 611.128 27.4968 603.107 Q27.4968 595.914 32.1438 591.744 Q36.7589 587.543 44.7161 587.543 M42.9973 593.399 Q38.1912 593.463 35.3266 596.105 Q32.4621 598.715 32.4621 603.043 Q32.4621 607.945 35.2312 610.905 Q38.0002 613.833 43.0292 614.279 L42.9973 593.399 Z\" fill=\"#000000\" fill-rule=\"nonzero\" fill-opacity=\"1\" /><path clip-path=\"url(#clip260)\" d=\"M14.5426 578.854 L14.5426 573.761 Q22.0542 568.987 29.2474 566.631 Q36.4406 564.244 43.5384 564.244 Q50.668 564.244 57.8931 566.631 Q65.1182 568.987 72.5979 573.761 L72.5979 578.854 Q65.3091 574.62 58.1159 572.552 Q50.8908 570.451 43.5384 570.451 Q36.186 570.451 29.0246 572.552 Q21.8632 574.62 14.5426 578.854 Z\" fill=\"#000000\" fill-rule=\"nonzero\" fill-opacity=\"1\" /><path clip-path=\"url(#clip260)\" d=\"M1014.92 18.8205 L1014.92 41.5461 L1025.21 41.5461 Q1030.92 41.5461 1034.04 38.5889 Q1037.16 35.6318 1037.16 30.163 Q1037.16 24.7348 1034.04 21.7777 Q1030.92 18.8205 1025.21 18.8205 L1014.92 18.8205 M1006.74 12.096 L1025.21 12.096 Q1035.38 12.096 1040.56 16.714 Q1045.79 21.2916 1045.79 30.163 Q1045.79 39.1155 1040.56 43.6931 Q1035.38 48.2706 1025.21 48.2706 L1014.92 48.2706 L1014.92 72.576 L1006.74 72.576 L1006.74 12.096 Z\" fill=\"#000000\" fill-rule=\"nonzero\" fill-opacity=\"1\" /><path clip-path=\"url(#clip260)\" d=\"M1064.95 18.8205 L1064.95 65.8515 L1074.83 65.8515 Q1087.35 65.8515 1093.14 60.1802 Q1098.98 54.509 1098.98 42.2752 Q1098.98 30.1225 1093.14 24.4918 Q1087.35 18.8205 1074.83 18.8205 L1064.95 18.8205 M1056.77 12.096 L1073.58 12.096 Q1091.16 12.096 1099.38 19.4281 Q1107.61 26.7198 1107.61 42.2752 Q1107.61 57.9117 1099.34 65.2439 Q1091.08 72.576 1073.58 72.576 L1056.77 72.576 L1056.77 12.096 Z\" fill=\"#000000\" fill-rule=\"nonzero\" fill-opacity=\"1\" /><path clip-path=\"url(#clip260)\" d=\"M1120.65 12.096 L1155.41 12.096 L1155.41 18.9825 L1128.83 18.9825 L1128.83 36.8065 L1152.81 36.8065 L1152.81 43.6931 L1128.83 43.6931 L1128.83 72.576 L1120.65 72.576 L1120.65 12.096 Z\" fill=\"#000000\" fill-rule=\"nonzero\" fill-opacity=\"1\" /><path clip-path=\"url(#clip260)\" d=\"M1196.97 28.5427 L1196.97 35.5912 Q1193.81 33.9709 1190.41 33.1607 Q1187 32.3505 1183.36 32.3505 Q1177.81 32.3505 1175.01 34.0519 Q1172.26 35.7533 1172.26 39.156 Q1172.26 41.7486 1174.24 43.2475 Q1176.23 44.7058 1182.22 46.0426 L1184.78 46.6097 Q1192.71 48.3111 1196.04 51.4303 Q1199.4 54.509 1199.4 60.0587 Q1199.4 66.3781 1194.38 70.0644 Q1189.39 73.7508 1180.64 73.7508 Q1177 73.7508 1173.03 73.0216 Q1169.1 72.3329 1164.72 70.9151 L1164.72 63.2184 Q1168.86 65.3654 1172.87 66.4591 Q1176.88 67.5124 1180.81 67.5124 Q1186.07 67.5124 1188.91 65.73 Q1191.74 63.9071 1191.74 60.6258 Q1191.74 57.5877 1189.68 55.9673 Q1187.65 54.3469 1180.72 52.8481 L1178.13 52.2405 Q1171.2 50.7821 1168.13 47.7845 Q1165.05 44.7463 1165.05 39.4801 Q1165.05 33.0797 1169.58 29.5959 Q1174.12 26.1121 1182.47 26.1121 Q1186.6 26.1121 1190.24 26.7198 Q1193.89 27.3274 1196.97 28.5427 Z\" fill=\"#000000\" fill-rule=\"nonzero\" fill-opacity=\"1\" /><path clip-path=\"url(#clip260)\" d=\"M1255.22 32.4315 Q1249.23 32.4315 1245.74 37.1306 Q1242.26 41.7891 1242.26 49.9314 Q1242.26 58.0738 1245.7 62.7728 Q1249.18 67.4314 1255.22 67.4314 Q1261.18 67.4314 1264.66 62.7323 Q1268.14 58.0333 1268.14 49.9314 Q1268.14 41.8701 1264.66 37.1711 Q1261.18 32.4315 1255.22 32.4315 M1255.22 26.1121 Q1264.94 26.1121 1270.49 32.4315 Q1276.04 38.7509 1276.04 49.9314 Q1276.04 61.0714 1270.49 67.4314 Q1264.94 73.7508 1255.22 73.7508 Q1245.46 73.7508 1239.91 67.4314 Q1234.4 61.0714 1234.4 49.9314 Q1234.4 38.7509 1239.91 32.4315 Q1245.46 26.1121 1255.22 26.1121 Z\" fill=\"#000000\" fill-rule=\"nonzero\" fill-opacity=\"1\" /><path clip-path=\"url(#clip260)\" d=\"M1311.37 9.54393 L1311.37 15.7418 L1304.24 15.7418 Q1300.23 15.7418 1298.65 17.3622 Q1297.11 18.9825 1297.11 23.1955 L1297.11 27.2059 L1309.38 27.2059 L1309.38 32.9987 L1297.11 32.9987 L1297.11 72.576 L1289.61 72.576 L1289.61 32.9987 L1282.48 32.9987 L1282.48 27.2059 L1289.61 27.2059 L1289.61 24.0462 Q1289.61 16.471 1293.14 13.0277 Q1296.66 9.54393 1304.32 9.54393 L1311.37 9.54393 Z\" fill=\"#000000\" fill-rule=\"nonzero\" fill-opacity=\"1\" /><path clip-path=\"url(#clip260)\" d=\"M1335.91 12.096 L1387.08 12.096 L1387.08 18.9825 L1365.61 18.9825 L1365.61 72.576 L1357.38 72.576 L1357.38 18.9825 L1335.91 18.9825 L1335.91 12.096 Z\" fill=\"#000000\" fill-rule=\"nonzero\" fill-opacity=\"1\" /><path clip-path=\"url(#clip260)\" d=\"M1400.61 76.7889 Q1397.45 84.8907 1394.45 87.3618 Q1391.45 89.8329 1386.43 89.8329 L1380.47 89.8329 L1380.47 83.5945 L1384.85 83.5945 Q1387.93 83.5945 1389.63 82.1361 Q1391.33 80.6778 1393.4 75.2496 L1394.73 71.8468 L1376.38 27.2059 L1384.28 27.2059 L1398.46 62.6918 L1412.64 27.2059 L1420.54 27.2059 L1400.61 76.7889 Z\" fill=\"#000000\" fill-rule=\"nonzero\" fill-opacity=\"1\" /><path clip-path=\"url(#clip260)\" d=\"M1438.04 65.7705 L1438.04 89.8329 L1430.54 89.8329 L1430.54 27.2059 L1438.04 27.2059 L1438.04 34.0924 Q1440.39 30.0415 1443.95 28.0971 Q1447.56 26.1121 1452.54 26.1121 Q1460.8 26.1121 1465.95 32.6746 Q1471.13 39.2371 1471.13 49.9314 Q1471.13 60.6258 1465.95 67.1883 Q1460.8 73.7508 1452.54 73.7508 Q1447.56 73.7508 1443.95 71.8063 Q1440.39 69.8214 1438.04 65.7705 M1463.4 49.9314 Q1463.4 41.7081 1459.99 37.0496 Q1456.63 32.3505 1450.72 32.3505 Q1444.8 32.3505 1441.4 37.0496 Q1438.04 41.7081 1438.04 49.9314 Q1438.04 58.1548 1441.4 62.8538 Q1444.8 67.5124 1450.72 67.5124 Q1456.63 67.5124 1459.99 62.8538 Q1463.4 58.1548 1463.4 49.9314 Z\" fill=\"#000000\" fill-rule=\"nonzero\" fill-opacity=\"1\" /><path clip-path=\"url(#clip260)\" d=\"M1522.3 48.0275 L1522.3 51.6733 L1488.03 51.6733 Q1488.51 59.3701 1492.64 63.421 Q1496.82 67.4314 1504.23 67.4314 Q1508.52 67.4314 1512.53 66.3781 Q1516.58 65.3249 1520.55 63.2184 L1520.55 70.267 Q1516.54 71.9684 1512.33 72.8596 Q1508.12 73.7508 1503.78 73.7508 Q1492.93 73.7508 1486.57 67.4314 Q1480.25 61.1119 1480.25 50.3365 Q1480.25 39.1965 1486.24 32.6746 Q1492.28 26.1121 1502.49 26.1121 Q1511.64 26.1121 1516.95 32.0264 Q1522.3 37.9003 1522.3 48.0275 M1514.84 45.84 Q1514.76 39.7232 1511.4 36.0774 Q1508.08 32.4315 1502.57 32.4315 Q1496.33 32.4315 1492.56 35.9558 Q1488.84 39.4801 1488.27 45.8805 L1514.84 45.84 Z\" fill=\"#000000\" fill-rule=\"nonzero\" fill-opacity=\"1\" /><path clip-path=\"url(#clip260)\" d=\"M1563.45 28.5427 L1563.45 35.5912 Q1560.29 33.9709 1556.89 33.1607 Q1553.49 32.3505 1549.84 32.3505 Q1544.29 32.3505 1541.5 34.0519 Q1538.74 35.7533 1538.74 39.156 Q1538.74 41.7486 1540.73 43.2475 Q1542.71 44.7058 1548.71 46.0426 L1551.26 46.6097 Q1559.2 48.3111 1562.52 51.4303 Q1565.88 54.509 1565.88 60.0587 Q1565.88 66.3781 1560.86 70.0644 Q1555.88 73.7508 1547.13 73.7508 Q1543.48 73.7508 1539.51 73.0216 Q1535.58 72.3329 1531.21 70.9151 L1531.21 63.2184 Q1535.34 65.3654 1539.35 66.4591 Q1543.36 67.5124 1547.29 67.5124 Q1552.56 67.5124 1555.39 65.73 Q1558.23 63.9071 1558.23 60.6258 Q1558.23 57.5877 1556.16 55.9673 Q1554.14 54.3469 1547.21 52.8481 L1544.62 52.2405 Q1537.69 50.7821 1534.61 47.7845 Q1531.53 44.7463 1531.53 39.4801 Q1531.53 33.0797 1536.07 29.5959 Q1540.61 26.1121 1548.95 26.1121 Q1553.08 26.1121 1556.73 26.7198 Q1560.38 27.3274 1563.45 28.5427 Z\" fill=\"#000000\" fill-rule=\"nonzero\" fill-opacity=\"1\" /><polyline clip-path=\"url(#clip262)\" style=\"stroke:#009af9; stroke-linecap:round; stroke-linejoin:round; stroke-width:4; stroke-opacity:1; fill:none\" points=\"280.231,608.335 286.781,607.964 293.331,607.594 353.897,604.229 414.462,600.961 450.859,599.044 487.257,597.163 518.03,595.6 548.804,594.062 615.661,590.81 677.297,587.921 743.378,584.939 819.939,581.635 887.977,578.837 947.641,576.49 1012.69,574.046 1078.13,571.709 1150.47,569.268 1219.31,567.085 1290.89,564.96 1351.14,563.287 1424.69,561.388 1492.08,559.788 1554.31,558.428 1617.36,557.168 1688.01,555.895 1752.03,554.869 1788.68,554.337 1825.33,553.845 1859.27,553.425 1893.2,553.039 1960.12,552.38 2025.08,551.868 2058.38,551.654 2091.68,551.474 2128.17,551.315 2164.65,551.195 2217.65,551.093 2270.65,551.075 2281.52,551.082 2292.39,551.092 \"/>\n",
       "<polyline clip-path=\"url(#clip262)\" style=\"stroke:#e26f46; stroke-linecap:round; stroke-linejoin:round; stroke-width:4; stroke-opacity:1; fill:none\" points=\"280.231,585.865 283.506,585.767 286.781,585.669 290.056,585.571 293.331,585.474 323.614,584.582 353.897,583.71 384.179,582.856 414.462,582.022 450.859,581.044 487.257,580.094 518.03,579.313 548.804,578.552 582.232,577.747 615.661,576.966 646.479,576.267 677.297,575.588 710.338,574.882 743.378,574.2 781.658,573.438 819.939,572.708 853.958,572.085 887.977,571.486 917.809,570.982 947.641,570.497 980.165,569.99 1012.69,569.505 1045.41,569.041 1078.13,568.6 1114.3,568.139 1150.47,567.706 1184.89,567.32 1219.31,566.96 1255.1,566.613 1290.89,566.293 1321.01,566.046 1351.14,565.818 1387.92,565.566 1424.69,565.344 1458.39,565.167 1492.08,565.014 1523.2,564.894 1554.31,564.796 1585.84,564.718 1617.36,564.661 1652.68,564.623 1688.01,564.613 1720.02,564.626 1752.03,564.662 1788.68,564.731 1825.33,564.829 1859.27,564.945 1893.2,565.087 1926.66,565.251 1960.12,565.44 1992.6,565.646 2025.08,565.875 2058.38,566.133 2091.68,566.416 2128.17,566.753 2164.65,567.119 2217.65,567.702 2270.65,568.346 2281.52,568.485 2292.39,568.627 \"/>\n",
       "<polyline clip-path=\"url(#clip262)\" style=\"stroke:#3da44d; stroke-linecap:round; stroke-linejoin:round; stroke-width:4; stroke-opacity:1; fill:none\" points=\"280.231,564.579 286.781,564.537 293.331,564.496 353.897,564.152 414.462,563.872 450.859,563.735 487.257,563.621 518.03,563.543 548.804,563.482 615.661,563.408 677.297,563.409 710.338,563.437 743.378,563.484 781.658,563.563 819.939,563.668 853.958,563.783 887.977,563.919 917.809,564.055 947.641,564.206 980.165,564.389 1012.69,564.591 1045.41,564.812 1078.13,565.053 1114.3,565.341 1150.47,565.652 1184.89,565.969 1219.31,566.307 1255.1,566.68 1290.89,567.076 1321.01,567.427 1351.14,567.794 1387.92,568.263 1424.69,568.756 1458.39,569.228 1492.08,569.72 1523.2,570.192 1554.31,570.681 1585.84,571.193 1617.36,571.722 1652.68,572.336 1688.01,572.972 1720.02,573.567 1752.03,574.179 1788.68,574.902 1825.33,575.648 1859.27,576.359 1893.2,577.09 1960.12,578.589 2025.08,580.117 2058.38,580.928 2091.68,581.758 2128.17,582.69 2164.65,583.643 2217.65,585.068 2270.65,586.541 2281.52,586.848 2292.39,587.158 \"/>\n",
       "<polyline clip-path=\"url(#clip262)\" style=\"stroke:#c271d2; stroke-linecap:round; stroke-linejoin:round; stroke-width:4; stroke-opacity:1; fill:none\" points=\"280.231,558.19 286.781,558.117 293.331,558.046 353.897,557.459 414.462,556.998 450.859,556.782 487.257,556.611 518.03,556.501 548.804,556.425 615.661,556.371 677.297,556.457 710.338,556.557 743.378,556.694 781.658,556.9 819.939,557.157 853.958,557.427 887.977,557.737 917.809,558.041 947.641,558.376 980.165,558.776 1012.69,559.212 1045.41,559.687 1078.13,560.198 1114.3,560.806 1150.47,561.458 1184.89,562.121 1219.31,562.823 1290.89,564.412 1351.14,565.883 1387.92,566.841 1424.69,567.845 1458.39,568.804 1492.08,569.801 1523.2,570.756 1554.31,571.742 1585.84,572.775 1617.36,573.84 1652.68,575.072 1688.01,576.346 1720.02,577.535 1752.03,578.759 1788.68,580.2 1825.33,581.685 1859.27,583.099 1893.2,584.55 1926.66,586.016 1960.12,587.519 1992.6,589.012 2025.08,590.539 2058.38,592.139 2091.68,593.774 2128.17,595.605 2164.65,597.478 2217.65,600.272 2270.65,603.154 2281.52,603.755 2292.39,604.361 \"/>\n",
       "<polyline clip-path=\"url(#clip262)\" style=\"stroke:#ac8d18; stroke-linecap:round; stroke-linejoin:round; stroke-width:4; stroke-opacity:1; fill:none\" points=\"280.231,620.407 283.506,620.053 286.781,619.7 290.056,619.348 293.331,618.997 323.614,615.792 353.897,612.66 384.179,609.601 414.462,606.617 450.859,603.128 487.257,599.749 518.03,596.978 548.804,594.285 582.232,591.451 615.661,588.711 646.479,586.269 677.297,583.909 710.338,581.469 743.378,579.125 781.658,576.527 819.939,574.058 853.958,571.973 887.977,569.99 917.809,568.336 947.641,566.762 980.165,565.136 1012.69,563.606 1045.41,562.164 1078.13,560.819 1114.3,559.445 1150.47,558.191 1184.89,557.108 1219.31,556.135 1255.1,555.239 1290.89,554.461 1321.01,553.897 1351.14,553.418 1387.92,552.947 1424.69,552.601 1458.39,552.395 1492.08,552.293 1523.2,552.294 1554.31,552.384 1585.84,552.567 1617.36,552.842 1652.68,553.26 1688.01,553.794 1720.02,554.377 1752.03,555.056 1788.68,555.948 1825.33,556.964 1859.27,558.015 1893.2,559.172 1926.66,560.415 1960.12,561.761 1992.6,563.164 2025.08,564.663 2058.38,566.299 2091.68,568.034 2128.17,570.05 2164.65,572.184 2191.15,573.808 2217.65,575.494 2244.15,577.241 2270.65,579.051 2276.08,579.429 2281.52,579.811 2286.95,580.195 2292.39,580.581 \"/>\n",
       "<polyline clip-path=\"url(#clip262)\" style=\"stroke:#00a9ad; stroke-linecap:round; stroke-linejoin:round; stroke-width:4; stroke-opacity:1; fill:none\" points=\"280.231,564.788 286.781,564.736 293.331,564.685 353.897,564.25 414.462,563.888 450.859,563.705 487.257,563.548 518.03,563.436 548.804,563.343 582.232,563.262 615.661,563.204 646.479,563.169 677.297,563.154 710.338,563.158 743.378,563.183 781.658,563.24 819.939,563.325 853.958,563.426 887.977,563.549 917.809,563.675 947.641,563.819 980.165,563.997 1012.69,564.195 1045.41,564.415 1078.13,564.656 1114.3,564.947 1150.47,565.264 1184.89,565.59 1219.31,565.938 1255.1,566.325 1290.89,566.737 1321.01,567.104 1351.14,567.488 1387.92,567.981 1424.69,568.5 1458.39,568.999 1492.08,569.52 1523.2,570.021 1554.31,570.541 1585.84,571.086 1617.36,571.651 1652.68,572.307 1688.01,572.987 1720.02,573.623 1752.03,574.28 1788.68,575.056 1825.33,575.857 1859.27,576.623 1893.2,577.41 1926.66,578.207 1960.12,579.026 1992.6,579.842 2025.08,580.677 2058.38,581.555 2091.68,582.453 2128.17,583.461 2164.65,584.494 2217.65,586.039 2270.65,587.637 2281.52,587.971 2292.39,588.307 \"/>\n",
       "<polyline clip-path=\"url(#clip262)\" style=\"stroke:#ed5d92; stroke-linecap:round; stroke-linejoin:round; stroke-width:4; stroke-opacity:1; fill:none\" points=\"280.231,614.998 286.781,614.491 293.331,613.986 353.897,609.409 414.462,605.001 450.859,602.434 487.257,599.929 518.03,597.86 548.804,595.836 582.232,593.688 615.661,591.594 646.479,589.712 677.297,587.875 710.338,585.957 743.378,584.093 781.658,581.999 819.939,579.979 853.958,578.244 887.977,576.566 917.809,575.143 947.641,573.765 980.165,572.313 1012.69,570.914 1045.41,569.561 1078.13,568.263 1114.3,566.891 1150.47,565.586 1184.89,564.407 1219.31,563.288 1255.1,562.19 1290.89,561.158 1321.01,560.341 1351.14,559.571 1387.92,558.695 1424.69,557.889 1458.39,557.213 1492.08,556.597 1523.2,556.08 1554.31,555.614 1585.84,555.194 1617.36,554.826 1652.68,554.476 1688.01,554.192 1720.02,553.991 1752.03,553.844 1788.68,553.742 1825.33,553.711 1859.27,553.746 1893.2,553.841 1926.66,553.994 1960.12,554.206 1992.6,554.469 2025.08,554.787 2058.38,555.17 2091.68,555.612 2128.17,556.163 2164.65,556.784 2217.65,557.81 2270.65,558.983 2281.52,559.242 2292.39,559.506 \"/>\n",
       "<polyline clip-path=\"url(#clip262)\" style=\"stroke:#c68125; stroke-linecap:round; stroke-linejoin:round; stroke-width:4; stroke-opacity:1; fill:none\" points=\"280.231,824.965 286.781,816.256 293.331,807.548 353.897,727.356 414.462,648.477 450.859,602.156 487.257,556.94 518.03,519.75 548.804,483.669 582.232,445.899 615.661,409.79 646.479,378.124 677.297,348.156 710.338,318.06 743.378,290.214 762.518,275.17 781.658,260.955 800.799,247.594 819.939,235.111 853.958,215.158 887.977,198.157 917.809,185.756 947.641,175.754 980.165,167.634 1012.69,162.461 1029.05,160.981 1045.41,160.256 1061.77,160.287 1078.13,161.073 1096.21,162.819 1114.3,165.485 1132.39,169.066 1150.47,173.556 1167.68,178.666 1184.89,184.584 1202.1,191.303 1219.31,198.812 1237.2,207.447 1255.1,216.91 1272.99,227.189 1290.89,238.265 1321.01,258.67 1351.14,281.2 1387.92,311.447 1424.69,344.525 1458.39,377.135 1492.08,411.778 1523.2,445.428 1554.31,480.518 1585.84,517.382 1617.36,555.419 1652.68,599.247 1688.01,644.13 1720.02,685.529 1752.03,727.452 1825.33,824.578 1893.2,914.644 1960.12,1002.24 2025.08,1085.09 2058.38,1126.41 2091.68,1166.82 2128.17,1209.92 2164.65,1251.71 2217.65,1309.87 2270.65,1364.82 2281.52,1375.68 2292.39,1386.4 \"/>\n",
       "<polyline clip-path=\"url(#clip262)\" style=\"stroke:#00a98d; stroke-linecap:round; stroke-linejoin:round; stroke-width:4; stroke-opacity:1; fill:none\" points=\"280.231,936.194 293.331,930.149 414.462,874.471 487.257,841.325 548.804,813.577 615.661,783.8 677.297,756.754 743.378,728.266 819.939,696.02 887.977,668.143 947.641,644.373 1012.69,619.247 1078.13,594.874 1150.47,569.071 1219.31,545.718 1290.89,522.764 1351.14,504.552 1387.92,493.957 1424.69,483.771 1458.39,474.807 1492.08,466.202 1554.31,451.277 1617.36,437.479 1652.68,430.344 1688.01,423.646 1720.02,417.96 1752.03,412.643 1788.68,407.013 1825.33,401.879 1859.27,397.57 1893.2,393.695 1926.66,390.302 1960.12,387.336 1992.6,384.867 2025.08,382.805 2058.38,381.116 2091.68,379.858 2128.17,378.976 2164.65,378.614 2217.65,379.015 2270.65,380.512 2281.52,380.954 2292.39,381.443 \"/>\n",
       "<polyline clip-path=\"url(#clip262)\" style=\"stroke:#8e971d; stroke-linecap:round; stroke-linejoin:round; stroke-width:4; stroke-opacity:1; fill:none\" points=\"280.231,801.48 293.331,797.083 414.462,757.214 487.257,734.012 548.804,714.893 615.661,694.684 677.297,676.606 743.378,657.852 819.939,636.99 887.977,619.278 947.641,604.422 1012.69,588.976 1078.13,574.264 1114.3,566.498 1150.47,559.001 1184.89,552.121 1219.31,545.494 1290.89,532.536 1351.14,522.513 1387.92,516.801 1424.69,511.403 1458.39,506.736 1492.08,502.338 1554.31,494.931 1617.36,488.39 1652.68,485.154 1688.01,482.228 1720.02,479.846 1752.03,477.723 1788.68,475.61 1825.33,473.839 1859.27,472.504 1893.2,471.464 1926.66,470.728 1960.12,470.28 1992.6,470.12 2025.08,470.231 2058.38,470.627 2091.68,471.308 2128.17,472.38 2164.65,473.793 2217.65,476.451 2270.65,479.821 2281.52,480.6 2292.39,481.409 \"/>\n",
       "<polyline clip-path=\"url(#clip262)\" style=\"stroke:#00a8cb; stroke-linecap:round; stroke-linejoin:round; stroke-width:4; stroke-opacity:1; fill:none\" points=\"280.231,372.477 286.781,371.798 293.331,371.141 353.897,366.066 414.462,362.817 450.859,361.747 487.257,361.343 518.03,361.52 548.804,362.174 582.232,363.421 615.661,365.228 646.479,367.388 677.297,370.019 710.338,373.36 743.378,377.237 781.658,382.393 819.939,388.254 853.958,394.048 887.977,400.386 917.809,406.385 947.641,412.792 980.165,420.234 1012.69,428.147 1045.41,436.572 1078.13,445.455 1114.3,455.8 1150.47,466.68 1184.89,477.518 1219.31,488.817 1290.89,513.732 1351.14,536.119 1424.69,565.087 1492.08,593.088 1554.31,620.09 1617.36,648.463 1688.01,681.362 1752.03,712.064 1825.33,748.116 1893.2,782.223 1960.12,816.407 2025.08,850.015 2091.68,884.782 2164.65,923.107 2270.65,978.931 2292.39,990.372 \"/>\n",
       "<path clip-path=\"url(#clip260)\" d=\"M290.963 1379.86 L655.848 1379.86 L655.848 757.776 L290.963 757.776  Z\" fill=\"#ffffff\" fill-rule=\"evenodd\" fill-opacity=\"1\"/>\n",
       "<polyline clip-path=\"url(#clip260)\" style=\"stroke:#000000; stroke-linecap:round; stroke-linejoin:round; stroke-width:4; stroke-opacity:1; fill:none\" points=\"290.963,1379.86 655.848,1379.86 655.848,757.776 290.963,757.776 290.963,1379.86 \"/>\n",
       "<polyline clip-path=\"url(#clip260)\" style=\"stroke:#009af9; stroke-linecap:round; stroke-linejoin:round; stroke-width:4; stroke-opacity:1; fill:none\" points=\"314.661,809.616 456.854,809.616 \"/>\n",
       "<path clip-path=\"url(#clip260)\" d=\"M480.553 792.336 L509.789 792.336 L509.789 796.271 L497.52 796.271 L497.52 826.896 L492.821 826.896 L492.821 796.271 L480.553 796.271 L480.553 792.336 Z\" fill=\"#000000\" fill-rule=\"nonzero\" fill-opacity=\"1\" /><path clip-path=\"url(#clip260)\" d=\"M517.52 829.304 Q515.715 833.933 514.002 835.345 Q512.289 836.757 509.418 836.757 L506.016 836.757 L506.016 833.193 L508.516 833.193 Q510.275 833.193 511.247 832.359 Q512.219 831.526 513.4 828.424 L514.164 826.48 L503.678 800.97 L508.192 800.97 L516.293 821.248 L524.395 800.97 L528.909 800.97 L517.52 829.304 Z\" fill=\"#000000\" fill-rule=\"nonzero\" fill-opacity=\"1\" /><path clip-path=\"url(#clip260)\" d=\"M538.909 823.007 L538.909 836.757 L534.627 836.757 L534.627 800.97 L538.909 800.97 L538.909 804.906 Q540.252 802.591 542.289 801.48 Q544.349 800.345 547.196 800.345 Q551.918 800.345 554.858 804.095 Q557.821 807.845 557.821 813.957 Q557.821 820.068 554.858 823.818 Q551.918 827.568 547.196 827.568 Q544.349 827.568 542.289 826.456 Q540.252 825.322 538.909 823.007 M553.4 813.957 Q553.4 809.257 551.455 806.595 Q549.534 803.91 546.154 803.91 Q542.775 803.91 540.83 806.595 Q538.909 809.257 538.909 813.957 Q538.909 818.656 540.83 821.341 Q542.775 824.003 546.154 824.003 Q549.534 824.003 551.455 821.341 Q553.4 818.656 553.4 813.957 Z\" fill=\"#000000\" fill-rule=\"nonzero\" fill-opacity=\"1\" /><path clip-path=\"url(#clip260)\" d=\"M587.057 812.869 L587.057 814.952 L567.474 814.952 Q567.751 819.35 570.112 821.665 Q572.497 823.956 576.733 823.956 Q579.187 823.956 581.478 823.355 Q583.793 822.753 586.061 821.549 L586.061 825.577 Q583.77 826.549 581.362 827.058 Q578.955 827.568 576.478 827.568 Q570.275 827.568 566.64 823.956 Q563.029 820.345 563.029 814.188 Q563.029 807.822 566.455 804.095 Q569.904 800.345 575.737 800.345 Q580.969 800.345 584.001 803.725 Q587.057 807.082 587.057 812.869 M582.798 811.619 Q582.751 808.123 580.83 806.04 Q578.932 803.957 575.784 803.957 Q572.219 803.957 570.066 805.97 Q567.937 807.984 567.612 811.642 L582.798 811.619 Z\" fill=\"#000000\" fill-rule=\"nonzero\" fill-opacity=\"1\" /><path clip-path=\"url(#clip260)\" d=\"M610.529 822.961 L618.168 822.961 L618.168 796.595 L609.858 798.262 L609.858 794.003 L618.121 792.336 L622.797 792.336 L622.797 822.961 L630.436 822.961 L630.436 826.896 L610.529 826.896 L610.529 822.961 Z\" fill=\"#000000\" fill-rule=\"nonzero\" fill-opacity=\"1\" /><polyline clip-path=\"url(#clip260)\" style=\"stroke:#e26f46; stroke-linecap:round; stroke-linejoin:round; stroke-width:4; stroke-opacity:1; fill:none\" points=\"314.661,861.456 456.854,861.456 \"/>\n",
       "<path clip-path=\"url(#clip260)\" d=\"M480.553 844.176 L509.789 844.176 L509.789 848.111 L497.52 848.111 L497.52 878.736 L492.821 878.736 L492.821 848.111 L480.553 848.111 L480.553 844.176 Z\" fill=\"#000000\" fill-rule=\"nonzero\" fill-opacity=\"1\" /><path clip-path=\"url(#clip260)\" d=\"M517.52 881.144 Q515.715 885.773 514.002 887.185 Q512.289 888.597 509.418 888.597 L506.016 888.597 L506.016 885.033 L508.516 885.033 Q510.275 885.033 511.247 884.199 Q512.219 883.366 513.4 880.264 L514.164 878.32 L503.678 852.81 L508.192 852.81 L516.293 873.088 L524.395 852.81 L528.909 852.81 L517.52 881.144 Z\" fill=\"#000000\" fill-rule=\"nonzero\" fill-opacity=\"1\" /><path clip-path=\"url(#clip260)\" d=\"M538.909 874.847 L538.909 888.597 L534.627 888.597 L534.627 852.81 L538.909 852.81 L538.909 856.746 Q540.252 854.431 542.289 853.32 Q544.349 852.185 547.196 852.185 Q551.918 852.185 554.858 855.935 Q557.821 859.685 557.821 865.797 Q557.821 871.908 554.858 875.658 Q551.918 879.408 547.196 879.408 Q544.349 879.408 542.289 878.296 Q540.252 877.162 538.909 874.847 M553.4 865.797 Q553.4 861.097 551.455 858.435 Q549.534 855.75 546.154 855.75 Q542.775 855.75 540.83 858.435 Q538.909 861.097 538.909 865.797 Q538.909 870.496 540.83 873.181 Q542.775 875.843 546.154 875.843 Q549.534 875.843 551.455 873.181 Q553.4 870.496 553.4 865.797 Z\" fill=\"#000000\" fill-rule=\"nonzero\" fill-opacity=\"1\" /><path clip-path=\"url(#clip260)\" d=\"M587.057 864.709 L587.057 866.792 L567.474 866.792 Q567.751 871.19 570.112 873.505 Q572.497 875.796 576.733 875.796 Q579.187 875.796 581.478 875.195 Q583.793 874.593 586.061 873.389 L586.061 877.417 Q583.77 878.389 581.362 878.898 Q578.955 879.408 576.478 879.408 Q570.275 879.408 566.64 875.796 Q563.029 872.185 563.029 866.028 Q563.029 859.662 566.455 855.935 Q569.904 852.185 575.737 852.185 Q580.969 852.185 584.001 855.565 Q587.057 858.922 587.057 864.709 M582.798 863.459 Q582.751 859.963 580.83 857.88 Q578.932 855.797 575.784 855.797 Q572.219 855.797 570.066 857.81 Q567.937 859.824 567.612 863.482 L582.798 863.459 Z\" fill=\"#000000\" fill-rule=\"nonzero\" fill-opacity=\"1\" /><path clip-path=\"url(#clip260)\" d=\"M613.747 874.801 L630.066 874.801 L630.066 878.736 L608.122 878.736 L608.122 874.801 Q610.784 872.046 615.367 867.417 Q619.973 862.764 621.154 861.422 Q623.399 858.898 624.279 857.162 Q625.182 855.403 625.182 853.713 Q625.182 850.959 623.237 849.223 Q621.316 847.486 618.214 847.486 Q616.015 847.486 613.561 848.25 Q611.131 849.014 608.353 850.565 L608.353 845.843 Q611.177 844.709 613.631 844.13 Q616.084 843.551 618.121 843.551 Q623.492 843.551 626.686 846.236 Q629.881 848.922 629.881 853.412 Q629.881 855.542 629.071 857.463 Q628.283 859.361 626.177 861.954 Q625.598 862.625 622.496 865.843 Q619.395 869.037 613.747 874.801 Z\" fill=\"#000000\" fill-rule=\"nonzero\" fill-opacity=\"1\" /><polyline clip-path=\"url(#clip260)\" style=\"stroke:#3da44d; stroke-linecap:round; stroke-linejoin:round; stroke-width:4; stroke-opacity:1; fill:none\" points=\"314.661,913.296 456.854,913.296 \"/>\n",
       "<path clip-path=\"url(#clip260)\" d=\"M480.553 896.016 L509.789 896.016 L509.789 899.951 L497.52 899.951 L497.52 930.576 L492.821 930.576 L492.821 899.951 L480.553 899.951 L480.553 896.016 Z\" fill=\"#000000\" fill-rule=\"nonzero\" fill-opacity=\"1\" /><path clip-path=\"url(#clip260)\" d=\"M517.52 932.984 Q515.715 937.613 514.002 939.025 Q512.289 940.437 509.418 940.437 L506.016 940.437 L506.016 936.873 L508.516 936.873 Q510.275 936.873 511.247 936.039 Q512.219 935.206 513.4 932.104 L514.164 930.16 L503.678 904.65 L508.192 904.65 L516.293 924.928 L524.395 904.65 L528.909 904.65 L517.52 932.984 Z\" fill=\"#000000\" fill-rule=\"nonzero\" fill-opacity=\"1\" /><path clip-path=\"url(#clip260)\" d=\"M538.909 926.687 L538.909 940.437 L534.627 940.437 L534.627 904.65 L538.909 904.65 L538.909 908.586 Q540.252 906.271 542.289 905.16 Q544.349 904.025 547.196 904.025 Q551.918 904.025 554.858 907.775 Q557.821 911.525 557.821 917.637 Q557.821 923.748 554.858 927.498 Q551.918 931.248 547.196 931.248 Q544.349 931.248 542.289 930.136 Q540.252 929.002 538.909 926.687 M553.4 917.637 Q553.4 912.937 551.455 910.275 Q549.534 907.59 546.154 907.59 Q542.775 907.59 540.83 910.275 Q538.909 912.937 538.909 917.637 Q538.909 922.336 540.83 925.021 Q542.775 927.683 546.154 927.683 Q549.534 927.683 551.455 925.021 Q553.4 922.336 553.4 917.637 Z\" fill=\"#000000\" fill-rule=\"nonzero\" fill-opacity=\"1\" /><path clip-path=\"url(#clip260)\" d=\"M587.057 916.549 L587.057 918.632 L567.474 918.632 Q567.751 923.03 570.112 925.345 Q572.497 927.636 576.733 927.636 Q579.187 927.636 581.478 927.035 Q583.793 926.433 586.061 925.229 L586.061 929.257 Q583.77 930.229 581.362 930.738 Q578.955 931.248 576.478 931.248 Q570.275 931.248 566.64 927.636 Q563.029 924.025 563.029 917.868 Q563.029 911.502 566.455 907.775 Q569.904 904.025 575.737 904.025 Q580.969 904.025 584.001 907.405 Q587.057 910.762 587.057 916.549 M582.798 915.299 Q582.751 911.803 580.83 909.72 Q578.932 907.637 575.784 907.637 Q572.219 907.637 570.066 909.65 Q567.937 911.664 567.612 915.322 L582.798 915.299 Z\" fill=\"#000000\" fill-rule=\"nonzero\" fill-opacity=\"1\" /><path clip-path=\"url(#clip260)\" d=\"M623.885 911.942 Q627.242 912.66 629.117 914.928 Q631.015 917.197 631.015 920.53 Q631.015 925.646 627.496 928.447 Q623.978 931.248 617.496 931.248 Q615.321 931.248 613.006 930.808 Q610.714 930.391 608.26 929.535 L608.26 925.021 Q610.205 926.155 612.52 926.734 Q614.834 927.312 617.358 927.312 Q621.756 927.312 624.047 925.576 Q626.362 923.84 626.362 920.53 Q626.362 917.474 624.209 915.762 Q622.08 914.025 618.26 914.025 L614.233 914.025 L614.233 910.183 L618.446 910.183 Q621.895 910.183 623.723 908.817 Q625.552 907.428 625.552 904.836 Q625.552 902.174 623.654 900.762 Q621.779 899.326 618.26 899.326 Q616.339 899.326 614.14 899.743 Q611.941 900.16 609.302 901.039 L609.302 896.873 Q611.964 896.132 614.279 895.762 Q616.617 895.391 618.677 895.391 Q624.001 895.391 627.103 897.822 Q630.205 900.229 630.205 904.35 Q630.205 907.22 628.561 909.211 Q626.918 911.178 623.885 911.942 Z\" fill=\"#000000\" fill-rule=\"nonzero\" fill-opacity=\"1\" /><polyline clip-path=\"url(#clip260)\" style=\"stroke:#c271d2; stroke-linecap:round; stroke-linejoin:round; stroke-width:4; stroke-opacity:1; fill:none\" points=\"314.661,965.136 456.854,965.136 \"/>\n",
       "<path clip-path=\"url(#clip260)\" d=\"M480.553 947.856 L509.789 947.856 L509.789 951.791 L497.52 951.791 L497.52 982.416 L492.821 982.416 L492.821 951.791 L480.553 951.791 L480.553 947.856 Z\" fill=\"#000000\" fill-rule=\"nonzero\" fill-opacity=\"1\" /><path clip-path=\"url(#clip260)\" d=\"M517.52 984.824 Q515.715 989.453 514.002 990.865 Q512.289 992.277 509.418 992.277 L506.016 992.277 L506.016 988.713 L508.516 988.713 Q510.275 988.713 511.247 987.879 Q512.219 987.046 513.4 983.944 L514.164 982 L503.678 956.49 L508.192 956.49 L516.293 976.768 L524.395 956.49 L528.909 956.49 L517.52 984.824 Z\" fill=\"#000000\" fill-rule=\"nonzero\" fill-opacity=\"1\" /><path clip-path=\"url(#clip260)\" d=\"M538.909 978.527 L538.909 992.277 L534.627 992.277 L534.627 956.49 L538.909 956.49 L538.909 960.426 Q540.252 958.111 542.289 957 Q544.349 955.865 547.196 955.865 Q551.918 955.865 554.858 959.615 Q557.821 963.365 557.821 969.477 Q557.821 975.588 554.858 979.338 Q551.918 983.088 547.196 983.088 Q544.349 983.088 542.289 981.976 Q540.252 980.842 538.909 978.527 M553.4 969.477 Q553.4 964.777 551.455 962.115 Q549.534 959.43 546.154 959.43 Q542.775 959.43 540.83 962.115 Q538.909 964.777 538.909 969.477 Q538.909 974.176 540.83 976.861 Q542.775 979.523 546.154 979.523 Q549.534 979.523 551.455 976.861 Q553.4 974.176 553.4 969.477 Z\" fill=\"#000000\" fill-rule=\"nonzero\" fill-opacity=\"1\" /><path clip-path=\"url(#clip260)\" d=\"M587.057 968.389 L587.057 970.472 L567.474 970.472 Q567.751 974.87 570.112 977.185 Q572.497 979.476 576.733 979.476 Q579.187 979.476 581.478 978.875 Q583.793 978.273 586.061 977.069 L586.061 981.097 Q583.77 982.069 581.362 982.578 Q578.955 983.088 576.478 983.088 Q570.275 983.088 566.64 979.476 Q563.029 975.865 563.029 969.708 Q563.029 963.342 566.455 959.615 Q569.904 955.865 575.737 955.865 Q580.969 955.865 584.001 959.245 Q587.057 962.602 587.057 968.389 M582.798 967.139 Q582.751 963.643 580.83 961.56 Q578.932 959.477 575.784 959.477 Q572.219 959.477 570.066 961.49 Q567.937 963.504 567.612 967.162 L582.798 967.139 Z\" fill=\"#000000\" fill-rule=\"nonzero\" fill-opacity=\"1\" /><path clip-path=\"url(#clip260)\" d=\"M622.566 951.93 L610.76 970.379 L622.566 970.379 L622.566 951.93 M621.339 947.856 L627.219 947.856 L627.219 970.379 L632.149 970.379 L632.149 974.268 L627.219 974.268 L627.219 982.416 L622.566 982.416 L622.566 974.268 L606.964 974.268 L606.964 969.754 L621.339 947.856 Z\" fill=\"#000000\" fill-rule=\"nonzero\" fill-opacity=\"1\" /><polyline clip-path=\"url(#clip260)\" style=\"stroke:#ac8d18; stroke-linecap:round; stroke-linejoin:round; stroke-width:4; stroke-opacity:1; fill:none\" points=\"314.661,1016.98 456.854,1016.98 \"/>\n",
       "<path clip-path=\"url(#clip260)\" d=\"M480.553 999.696 L509.789 999.696 L509.789 1003.63 L497.52 1003.63 L497.52 1034.26 L492.821 1034.26 L492.821 1003.63 L480.553 1003.63 L480.553 999.696 Z\" fill=\"#000000\" fill-rule=\"nonzero\" fill-opacity=\"1\" /><path clip-path=\"url(#clip260)\" d=\"M517.52 1036.66 Q515.715 1041.29 514.002 1042.71 Q512.289 1044.12 509.418 1044.12 L506.016 1044.12 L506.016 1040.55 L508.516 1040.55 Q510.275 1040.55 511.247 1039.72 Q512.219 1038.89 513.4 1035.78 L514.164 1033.84 L503.678 1008.33 L508.192 1008.33 L516.293 1028.61 L524.395 1008.33 L528.909 1008.33 L517.52 1036.66 Z\" fill=\"#000000\" fill-rule=\"nonzero\" fill-opacity=\"1\" /><path clip-path=\"url(#clip260)\" d=\"M538.909 1030.37 L538.909 1044.12 L534.627 1044.12 L534.627 1008.33 L538.909 1008.33 L538.909 1012.27 Q540.252 1009.95 542.289 1008.84 Q544.349 1007.71 547.196 1007.71 Q551.918 1007.71 554.858 1011.46 Q557.821 1015.21 557.821 1021.32 Q557.821 1027.43 554.858 1031.18 Q551.918 1034.93 547.196 1034.93 Q544.349 1034.93 542.289 1033.82 Q540.252 1032.68 538.909 1030.37 M553.4 1021.32 Q553.4 1016.62 551.455 1013.96 Q549.534 1011.27 546.154 1011.27 Q542.775 1011.27 540.83 1013.96 Q538.909 1016.62 538.909 1021.32 Q538.909 1026.02 540.83 1028.7 Q542.775 1031.36 546.154 1031.36 Q549.534 1031.36 551.455 1028.7 Q553.4 1026.02 553.4 1021.32 Z\" fill=\"#000000\" fill-rule=\"nonzero\" fill-opacity=\"1\" /><path clip-path=\"url(#clip260)\" d=\"M587.057 1020.23 L587.057 1022.31 L567.474 1022.31 Q567.751 1026.71 570.112 1029.02 Q572.497 1031.32 576.733 1031.32 Q579.187 1031.32 581.478 1030.71 Q583.793 1030.11 586.061 1028.91 L586.061 1032.94 Q583.77 1033.91 581.362 1034.42 Q578.955 1034.93 576.478 1034.93 Q570.275 1034.93 566.64 1031.32 Q563.029 1027.71 563.029 1021.55 Q563.029 1015.18 566.455 1011.46 Q569.904 1007.71 575.737 1007.71 Q580.969 1007.71 584.001 1011.09 Q587.057 1014.44 587.057 1020.23 M582.798 1018.98 Q582.751 1015.48 580.83 1013.4 Q578.932 1011.32 575.784 1011.32 Q572.219 1011.32 570.066 1013.33 Q567.937 1015.34 567.612 1019 L582.798 1018.98 Z\" fill=\"#000000\" fill-rule=\"nonzero\" fill-opacity=\"1\" /><path clip-path=\"url(#clip260)\" d=\"M609.765 999.696 L628.121 999.696 L628.121 1003.63 L614.047 1003.63 L614.047 1012.1 Q615.066 1011.76 616.084 1011.59 Q617.103 1011.41 618.121 1011.41 Q623.908 1011.41 627.288 1014.58 Q630.668 1017.75 630.668 1023.17 Q630.668 1028.75 627.196 1031.85 Q623.723 1034.93 617.404 1034.93 Q615.228 1034.93 612.959 1034.56 Q610.714 1034.19 608.307 1033.45 L608.307 1028.75 Q610.39 1029.88 612.612 1030.44 Q614.834 1030.99 617.311 1030.99 Q621.316 1030.99 623.654 1028.89 Q625.992 1026.78 625.992 1023.17 Q625.992 1019.56 623.654 1017.45 Q621.316 1015.34 617.311 1015.34 Q615.436 1015.34 613.561 1015.76 Q611.709 1016.18 609.765 1017.06 L609.765 999.696 Z\" fill=\"#000000\" fill-rule=\"nonzero\" fill-opacity=\"1\" /><polyline clip-path=\"url(#clip260)\" style=\"stroke:#00a9ad; stroke-linecap:round; stroke-linejoin:round; stroke-width:4; stroke-opacity:1; fill:none\" points=\"314.661,1068.82 456.854,1068.82 \"/>\n",
       "<path clip-path=\"url(#clip260)\" d=\"M502.798 1052.67 L502.798 1057.23 Q500.136 1055.96 497.775 1055.33 Q495.414 1054.71 493.215 1054.71 Q489.395 1054.71 487.312 1056.19 Q485.252 1057.67 485.252 1060.4 Q485.252 1062.69 486.618 1063.87 Q488.006 1065.03 491.849 1065.75 L494.673 1066.33 Q499.905 1067.32 502.381 1069.85 Q504.881 1072.35 504.881 1076.56 Q504.881 1081.58 501.502 1084.17 Q498.145 1086.77 491.641 1086.77 Q489.187 1086.77 486.409 1086.21 Q483.655 1085.66 480.692 1084.57 L480.692 1079.75 Q483.539 1081.35 486.27 1082.16 Q489.002 1082.97 491.641 1082.97 Q495.645 1082.97 497.821 1081.4 Q499.997 1079.82 499.997 1076.91 Q499.997 1074.36 498.423 1072.93 Q496.872 1071.49 493.307 1070.77 L490.46 1070.22 Q485.229 1069.18 482.891 1066.95 Q480.553 1064.73 480.553 1060.77 Q480.553 1056.19 483.77 1053.55 Q487.011 1050.91 492.682 1050.91 Q495.113 1050.91 497.636 1051.35 Q500.159 1051.79 502.798 1052.67 Z\" fill=\"#000000\" fill-rule=\"nonzero\" fill-opacity=\"1\" /><path clip-path=\"url(#clip260)\" d=\"M511.988 1060.17 L516.247 1060.17 L516.247 1086.1 L511.988 1086.1 L511.988 1060.17 M511.988 1050.08 L516.247 1050.08 L516.247 1055.47 L511.988 1055.47 L511.988 1050.08 Z\" fill=\"#000000\" fill-rule=\"nonzero\" fill-opacity=\"1\" /><path clip-path=\"url(#clip260)\" d=\"M546.71 1070.45 L546.71 1086.1 L542.451 1086.1 L542.451 1070.59 Q542.451 1066.91 541.015 1065.08 Q539.58 1063.25 536.71 1063.25 Q533.261 1063.25 531.27 1065.45 Q529.279 1067.65 529.279 1071.44 L529.279 1086.1 L524.997 1086.1 L524.997 1060.17 L529.279 1060.17 L529.279 1064.2 Q530.807 1061.86 532.867 1060.7 Q534.951 1059.55 537.659 1059.55 Q542.127 1059.55 544.418 1062.32 Q546.71 1065.08 546.71 1070.45 Z\" fill=\"#000000\" fill-rule=\"nonzero\" fill-opacity=\"1\" /><path clip-path=\"url(#clip260)\" d=\"M555.043 1050.08 L559.326 1050.08 L559.326 1071.35 L572.034 1060.17 L577.474 1060.17 L563.724 1072.3 L578.052 1086.1 L572.497 1086.1 L559.326 1073.43 L559.326 1086.1 L555.043 1086.1 L555.043 1050.08 Z\" fill=\"#000000\" fill-rule=\"nonzero\" fill-opacity=\"1\" /><path clip-path=\"url(#clip260)\" d=\"M599.14 1082.16 L606.779 1082.16 L606.779 1055.8 L598.469 1057.46 L598.469 1053.2 L606.733 1051.54 L611.409 1051.54 L611.409 1082.16 L619.047 1082.16 L619.047 1086.1 L599.14 1086.1 L599.14 1082.16 Z\" fill=\"#000000\" fill-rule=\"nonzero\" fill-opacity=\"1\" /><polyline clip-path=\"url(#clip260)\" style=\"stroke:#ed5d92; stroke-linecap:round; stroke-linejoin:round; stroke-width:4; stroke-opacity:1; fill:none\" points=\"314.661,1120.66 456.854,1120.66 \"/>\n",
       "<path clip-path=\"url(#clip260)\" d=\"M502.798 1104.51 L502.798 1109.07 Q500.136 1107.8 497.775 1107.17 Q495.414 1106.55 493.215 1106.55 Q489.395 1106.55 487.312 1108.03 Q485.252 1109.51 485.252 1112.24 Q485.252 1114.53 486.618 1115.71 Q488.006 1116.87 491.849 1117.59 L494.673 1118.17 Q499.905 1119.16 502.381 1121.69 Q504.881 1124.19 504.881 1128.4 Q504.881 1133.42 501.502 1136.01 Q498.145 1138.61 491.641 1138.61 Q489.187 1138.61 486.409 1138.05 Q483.655 1137.5 480.692 1136.41 L480.692 1131.59 Q483.539 1133.19 486.27 1134 Q489.002 1134.81 491.641 1134.81 Q495.645 1134.81 497.821 1133.24 Q499.997 1131.66 499.997 1128.75 Q499.997 1126.2 498.423 1124.77 Q496.872 1123.33 493.307 1122.61 L490.46 1122.06 Q485.229 1121.02 482.891 1118.79 Q480.553 1116.57 480.553 1112.61 Q480.553 1108.03 483.77 1105.39 Q487.011 1102.75 492.682 1102.75 Q495.113 1102.75 497.636 1103.19 Q500.159 1103.63 502.798 1104.51 Z\" fill=\"#000000\" fill-rule=\"nonzero\" fill-opacity=\"1\" /><path clip-path=\"url(#clip260)\" d=\"M511.988 1112.01 L516.247 1112.01 L516.247 1137.94 L511.988 1137.94 L511.988 1112.01 M511.988 1101.92 L516.247 1101.92 L516.247 1107.31 L511.988 1107.31 L511.988 1101.92 Z\" fill=\"#000000\" fill-rule=\"nonzero\" fill-opacity=\"1\" /><path clip-path=\"url(#clip260)\" d=\"M546.71 1122.29 L546.71 1137.94 L542.451 1137.94 L542.451 1122.43 Q542.451 1118.75 541.015 1116.92 Q539.58 1115.09 536.71 1115.09 Q533.261 1115.09 531.27 1117.29 Q529.279 1119.49 529.279 1123.28 L529.279 1137.94 L524.997 1137.94 L524.997 1112.01 L529.279 1112.01 L529.279 1116.04 Q530.807 1113.7 532.867 1112.54 Q534.951 1111.39 537.659 1111.39 Q542.127 1111.39 544.418 1114.16 Q546.71 1116.92 546.71 1122.29 Z\" fill=\"#000000\" fill-rule=\"nonzero\" fill-opacity=\"1\" /><path clip-path=\"url(#clip260)\" d=\"M555.043 1101.92 L559.326 1101.92 L559.326 1123.19 L572.034 1112.01 L577.474 1112.01 L563.724 1124.14 L578.052 1137.94 L572.497 1137.94 L559.326 1125.27 L559.326 1137.94 L555.043 1137.94 L555.043 1101.92 Z\" fill=\"#000000\" fill-rule=\"nonzero\" fill-opacity=\"1\" /><path clip-path=\"url(#clip260)\" d=\"M602.358 1134 L618.677 1134 L618.677 1137.94 L596.733 1137.94 L596.733 1134 Q599.395 1131.25 603.978 1126.62 Q608.584 1121.96 609.765 1120.62 Q612.01 1118.1 612.89 1116.36 Q613.793 1114.6 613.793 1112.91 Q613.793 1110.16 611.848 1108.42 Q609.927 1106.69 606.825 1106.69 Q604.626 1106.69 602.172 1107.45 Q599.742 1108.21 596.964 1109.77 L596.964 1105.04 Q599.788 1103.91 602.242 1103.33 Q604.696 1102.75 606.733 1102.75 Q612.103 1102.75 615.297 1105.44 Q618.492 1108.12 618.492 1112.61 Q618.492 1114.74 617.682 1116.66 Q616.895 1118.56 614.788 1121.15 Q614.209 1121.83 611.108 1125.04 Q608.006 1128.24 602.358 1134 Z\" fill=\"#000000\" fill-rule=\"nonzero\" fill-opacity=\"1\" /><polyline clip-path=\"url(#clip260)\" style=\"stroke:#c68125; stroke-linecap:round; stroke-linejoin:round; stroke-width:4; stroke-opacity:1; fill:none\" points=\"314.661,1172.5 456.854,1172.5 \"/>\n",
       "<path clip-path=\"url(#clip260)\" d=\"M502.798 1156.35 L502.798 1160.91 Q500.136 1159.64 497.775 1159.01 Q495.414 1158.39 493.215 1158.39 Q489.395 1158.39 487.312 1159.87 Q485.252 1161.35 485.252 1164.08 Q485.252 1166.37 486.618 1167.55 Q488.006 1168.71 491.849 1169.43 L494.673 1170.01 Q499.905 1171 502.381 1173.53 Q504.881 1176.03 504.881 1180.24 Q504.881 1185.26 501.502 1187.85 Q498.145 1190.45 491.641 1190.45 Q489.187 1190.45 486.409 1189.89 Q483.655 1189.34 480.692 1188.25 L480.692 1183.43 Q483.539 1185.03 486.27 1185.84 Q489.002 1186.65 491.641 1186.65 Q495.645 1186.65 497.821 1185.08 Q499.997 1183.5 499.997 1180.59 Q499.997 1178.04 498.423 1176.61 Q496.872 1175.17 493.307 1174.45 L490.46 1173.9 Q485.229 1172.86 482.891 1170.63 Q480.553 1168.41 480.553 1164.45 Q480.553 1159.87 483.77 1157.23 Q487.011 1154.59 492.682 1154.59 Q495.113 1154.59 497.636 1155.03 Q500.159 1155.47 502.798 1156.35 Z\" fill=\"#000000\" fill-rule=\"nonzero\" fill-opacity=\"1\" /><path clip-path=\"url(#clip260)\" d=\"M511.988 1163.85 L516.247 1163.85 L516.247 1189.78 L511.988 1189.78 L511.988 1163.85 M511.988 1153.76 L516.247 1153.76 L516.247 1159.15 L511.988 1159.15 L511.988 1153.76 Z\" fill=\"#000000\" fill-rule=\"nonzero\" fill-opacity=\"1\" /><path clip-path=\"url(#clip260)\" d=\"M546.71 1174.13 L546.71 1189.78 L542.451 1189.78 L542.451 1174.27 Q542.451 1170.59 541.015 1168.76 Q539.58 1166.93 536.71 1166.93 Q533.261 1166.93 531.27 1169.13 Q529.279 1171.33 529.279 1175.12 L529.279 1189.78 L524.997 1189.78 L524.997 1163.85 L529.279 1163.85 L529.279 1167.88 Q530.807 1165.54 532.867 1164.38 Q534.951 1163.23 537.659 1163.23 Q542.127 1163.23 544.418 1166 Q546.71 1168.76 546.71 1174.13 Z\" fill=\"#000000\" fill-rule=\"nonzero\" fill-opacity=\"1\" /><path clip-path=\"url(#clip260)\" d=\"M555.043 1153.76 L559.326 1153.76 L559.326 1175.03 L572.034 1163.85 L577.474 1163.85 L563.724 1175.98 L578.052 1189.78 L572.497 1189.78 L559.326 1177.11 L559.326 1189.78 L555.043 1189.78 L555.043 1153.76 Z\" fill=\"#000000\" fill-rule=\"nonzero\" fill-opacity=\"1\" /><path clip-path=\"url(#clip260)\" d=\"M612.497 1171.14 Q615.853 1171.86 617.728 1174.13 Q619.626 1176.4 619.626 1179.73 Q619.626 1184.85 616.108 1187.65 Q612.589 1190.45 606.108 1190.45 Q603.932 1190.45 601.617 1190.01 Q599.325 1189.59 596.872 1188.73 L596.872 1184.22 Q598.816 1185.35 601.131 1185.93 Q603.446 1186.51 605.969 1186.51 Q610.367 1186.51 612.659 1184.78 Q614.973 1183.04 614.973 1179.73 Q614.973 1176.67 612.821 1174.96 Q610.691 1173.23 606.872 1173.23 L602.844 1173.23 L602.844 1169.38 L607.057 1169.38 Q610.506 1169.38 612.334 1168.02 Q614.163 1166.63 614.163 1164.04 Q614.163 1161.37 612.265 1159.96 Q610.39 1158.53 606.872 1158.53 Q604.95 1158.53 602.751 1158.94 Q600.552 1159.36 597.913 1160.24 L597.913 1156.07 Q600.575 1155.33 602.89 1154.96 Q605.228 1154.59 607.288 1154.59 Q612.612 1154.59 615.714 1157.02 Q618.816 1159.43 618.816 1163.55 Q618.816 1166.42 617.172 1168.41 Q615.529 1170.38 612.497 1171.14 Z\" fill=\"#000000\" fill-rule=\"nonzero\" fill-opacity=\"1\" /><polyline clip-path=\"url(#clip260)\" style=\"stroke:#00a98d; stroke-linecap:round; stroke-linejoin:round; stroke-width:4; stroke-opacity:1; fill:none\" points=\"314.661,1224.34 456.854,1224.34 \"/>\n",
       "<path clip-path=\"url(#clip260)\" d=\"M502.798 1208.19 L502.798 1212.75 Q500.136 1211.48 497.775 1210.85 Q495.414 1210.23 493.215 1210.23 Q489.395 1210.23 487.312 1211.71 Q485.252 1213.19 485.252 1215.92 Q485.252 1218.21 486.618 1219.39 Q488.006 1220.55 491.849 1221.27 L494.673 1221.85 Q499.905 1222.84 502.381 1225.37 Q504.881 1227.87 504.881 1232.08 Q504.881 1237.1 501.502 1239.69 Q498.145 1242.29 491.641 1242.29 Q489.187 1242.29 486.409 1241.73 Q483.655 1241.18 480.692 1240.09 L480.692 1235.27 Q483.539 1236.87 486.27 1237.68 Q489.002 1238.49 491.641 1238.49 Q495.645 1238.49 497.821 1236.92 Q499.997 1235.34 499.997 1232.43 Q499.997 1229.88 498.423 1228.45 Q496.872 1227.01 493.307 1226.29 L490.46 1225.74 Q485.229 1224.7 482.891 1222.47 Q480.553 1220.25 480.553 1216.29 Q480.553 1211.71 483.77 1209.07 Q487.011 1206.43 492.682 1206.43 Q495.113 1206.43 497.636 1206.87 Q500.159 1207.31 502.798 1208.19 Z\" fill=\"#000000\" fill-rule=\"nonzero\" fill-opacity=\"1\" /><path clip-path=\"url(#clip260)\" d=\"M511.988 1215.69 L516.247 1215.69 L516.247 1241.62 L511.988 1241.62 L511.988 1215.69 M511.988 1205.6 L516.247 1205.6 L516.247 1210.99 L511.988 1210.99 L511.988 1205.6 Z\" fill=\"#000000\" fill-rule=\"nonzero\" fill-opacity=\"1\" /><path clip-path=\"url(#clip260)\" d=\"M546.71 1225.97 L546.71 1241.62 L542.451 1241.62 L542.451 1226.11 Q542.451 1222.43 541.015 1220.6 Q539.58 1218.77 536.71 1218.77 Q533.261 1218.77 531.27 1220.97 Q529.279 1223.17 529.279 1226.96 L529.279 1241.62 L524.997 1241.62 L524.997 1215.69 L529.279 1215.69 L529.279 1219.72 Q530.807 1217.38 532.867 1216.22 Q534.951 1215.07 537.659 1215.07 Q542.127 1215.07 544.418 1217.84 Q546.71 1220.6 546.71 1225.97 Z\" fill=\"#000000\" fill-rule=\"nonzero\" fill-opacity=\"1\" /><path clip-path=\"url(#clip260)\" d=\"M555.043 1205.6 L559.326 1205.6 L559.326 1226.87 L572.034 1215.69 L577.474 1215.69 L563.724 1227.82 L578.052 1241.62 L572.497 1241.62 L559.326 1228.95 L559.326 1241.62 L555.043 1241.62 L555.043 1205.6 Z\" fill=\"#000000\" fill-rule=\"nonzero\" fill-opacity=\"1\" /><path clip-path=\"url(#clip260)\" d=\"M611.177 1211.13 L599.372 1229.58 L611.177 1229.58 L611.177 1211.13 M609.95 1207.06 L615.83 1207.06 L615.83 1229.58 L620.76 1229.58 L620.76 1233.47 L615.83 1233.47 L615.83 1241.62 L611.177 1241.62 L611.177 1233.47 L595.575 1233.47 L595.575 1228.95 L609.95 1207.06 Z\" fill=\"#000000\" fill-rule=\"nonzero\" fill-opacity=\"1\" /><polyline clip-path=\"url(#clip260)\" style=\"stroke:#8e971d; stroke-linecap:round; stroke-linejoin:round; stroke-width:4; stroke-opacity:1; fill:none\" points=\"314.661,1276.18 456.854,1276.18 \"/>\n",
       "<path clip-path=\"url(#clip260)\" d=\"M502.798 1260.03 L502.798 1264.59 Q500.136 1263.32 497.775 1262.69 Q495.414 1262.07 493.215 1262.07 Q489.395 1262.07 487.312 1263.55 Q485.252 1265.03 485.252 1267.76 Q485.252 1270.05 486.618 1271.23 Q488.006 1272.39 491.849 1273.11 L494.673 1273.69 Q499.905 1274.68 502.381 1277.21 Q504.881 1279.71 504.881 1283.92 Q504.881 1288.94 501.502 1291.53 Q498.145 1294.13 491.641 1294.13 Q489.187 1294.13 486.409 1293.57 Q483.655 1293.02 480.692 1291.93 L480.692 1287.11 Q483.539 1288.71 486.27 1289.52 Q489.002 1290.33 491.641 1290.33 Q495.645 1290.33 497.821 1288.76 Q499.997 1287.18 499.997 1284.27 Q499.997 1281.72 498.423 1280.29 Q496.872 1278.85 493.307 1278.13 L490.46 1277.58 Q485.229 1276.54 482.891 1274.31 Q480.553 1272.09 480.553 1268.13 Q480.553 1263.55 483.77 1260.91 Q487.011 1258.27 492.682 1258.27 Q495.113 1258.27 497.636 1258.71 Q500.159 1259.15 502.798 1260.03 Z\" fill=\"#000000\" fill-rule=\"nonzero\" fill-opacity=\"1\" /><path clip-path=\"url(#clip260)\" d=\"M511.988 1267.53 L516.247 1267.53 L516.247 1293.46 L511.988 1293.46 L511.988 1267.53 M511.988 1257.44 L516.247 1257.44 L516.247 1262.83 L511.988 1262.83 L511.988 1257.44 Z\" fill=\"#000000\" fill-rule=\"nonzero\" fill-opacity=\"1\" /><path clip-path=\"url(#clip260)\" d=\"M546.71 1277.81 L546.71 1293.46 L542.451 1293.46 L542.451 1277.95 Q542.451 1274.27 541.015 1272.44 Q539.58 1270.61 536.71 1270.61 Q533.261 1270.61 531.27 1272.81 Q529.279 1275.01 529.279 1278.8 L529.279 1293.46 L524.997 1293.46 L524.997 1267.53 L529.279 1267.53 L529.279 1271.56 Q530.807 1269.22 532.867 1268.06 Q534.951 1266.91 537.659 1266.91 Q542.127 1266.91 544.418 1269.68 Q546.71 1272.44 546.71 1277.81 Z\" fill=\"#000000\" fill-rule=\"nonzero\" fill-opacity=\"1\" /><path clip-path=\"url(#clip260)\" d=\"M555.043 1257.44 L559.326 1257.44 L559.326 1278.71 L572.034 1267.53 L577.474 1267.53 L563.724 1279.66 L578.052 1293.46 L572.497 1293.46 L559.326 1280.79 L559.326 1293.46 L555.043 1293.46 L555.043 1257.44 Z\" fill=\"#000000\" fill-rule=\"nonzero\" fill-opacity=\"1\" /><path clip-path=\"url(#clip260)\" d=\"M598.376 1258.9 L616.733 1258.9 L616.733 1262.83 L602.659 1262.83 L602.659 1271.3 Q603.677 1270.96 604.696 1270.79 Q605.714 1270.61 606.733 1270.61 Q612.52 1270.61 615.899 1273.78 Q619.279 1276.95 619.279 1282.37 Q619.279 1287.95 615.807 1291.05 Q612.334 1294.13 606.015 1294.13 Q603.839 1294.13 601.571 1293.76 Q599.325 1293.39 596.918 1292.65 L596.918 1287.95 Q599.001 1289.08 601.223 1289.64 Q603.446 1290.19 605.922 1290.19 Q609.927 1290.19 612.265 1288.09 Q614.603 1285.98 614.603 1282.37 Q614.603 1278.76 612.265 1276.65 Q609.927 1274.54 605.922 1274.54 Q604.047 1274.54 602.172 1274.96 Q600.321 1275.38 598.376 1276.26 L598.376 1258.9 Z\" fill=\"#000000\" fill-rule=\"nonzero\" fill-opacity=\"1\" /><polyline clip-path=\"url(#clip260)\" style=\"stroke:#00a8cb; stroke-linecap:round; stroke-linejoin:round; stroke-width:4; stroke-opacity:1; fill:none\" points=\"314.661,1328.02 456.854,1328.02 \"/>\n",
       "<path clip-path=\"url(#clip260)\" d=\"M502.798 1311.87 L502.798 1316.43 Q500.136 1315.16 497.775 1314.53 Q495.414 1313.91 493.215 1313.91 Q489.395 1313.91 487.312 1315.39 Q485.252 1316.87 485.252 1319.6 Q485.252 1321.89 486.618 1323.07 Q488.006 1324.23 491.849 1324.95 L494.673 1325.53 Q499.905 1326.52 502.381 1329.05 Q504.881 1331.55 504.881 1335.76 Q504.881 1340.78 501.502 1343.37 Q498.145 1345.97 491.641 1345.97 Q489.187 1345.97 486.409 1345.41 Q483.655 1344.86 480.692 1343.77 L480.692 1338.95 Q483.539 1340.55 486.27 1341.36 Q489.002 1342.17 491.641 1342.17 Q495.645 1342.17 497.821 1340.6 Q499.997 1339.02 499.997 1336.11 Q499.997 1333.56 498.423 1332.13 Q496.872 1330.69 493.307 1329.97 L490.46 1329.42 Q485.229 1328.38 482.891 1326.15 Q480.553 1323.93 480.553 1319.97 Q480.553 1315.39 483.77 1312.75 Q487.011 1310.11 492.682 1310.11 Q495.113 1310.11 497.636 1310.55 Q500.159 1310.99 502.798 1311.87 Z\" fill=\"#000000\" fill-rule=\"nonzero\" fill-opacity=\"1\" /><path clip-path=\"url(#clip260)\" d=\"M511.988 1319.37 L516.247 1319.37 L516.247 1345.3 L511.988 1345.3 L511.988 1319.37 M511.988 1309.28 L516.247 1309.28 L516.247 1314.67 L511.988 1314.67 L511.988 1309.28 Z\" fill=\"#000000\" fill-rule=\"nonzero\" fill-opacity=\"1\" /><path clip-path=\"url(#clip260)\" d=\"M546.71 1329.65 L546.71 1345.3 L542.451 1345.3 L542.451 1329.79 Q542.451 1326.11 541.015 1324.28 Q539.58 1322.45 536.71 1322.45 Q533.261 1322.45 531.27 1324.65 Q529.279 1326.85 529.279 1330.64 L529.279 1345.3 L524.997 1345.3 L524.997 1319.37 L529.279 1319.37 L529.279 1323.4 Q530.807 1321.06 532.867 1319.9 Q534.951 1318.75 537.659 1318.75 Q542.127 1318.75 544.418 1321.52 Q546.71 1324.28 546.71 1329.65 Z\" fill=\"#000000\" fill-rule=\"nonzero\" fill-opacity=\"1\" /><path clip-path=\"url(#clip260)\" d=\"M555.043 1309.28 L559.326 1309.28 L559.326 1330.55 L572.034 1319.37 L577.474 1319.37 L563.724 1331.5 L578.052 1345.3 L572.497 1345.3 L559.326 1332.63 L559.326 1345.3 L555.043 1345.3 L555.043 1309.28 Z\" fill=\"#000000\" fill-rule=\"nonzero\" fill-opacity=\"1\" /><path clip-path=\"url(#clip260)\" d=\"M608.909 1326.15 Q605.76 1326.15 603.909 1328.31 Q602.08 1330.46 602.08 1334.21 Q602.08 1337.94 603.909 1340.11 Q605.76 1342.26 608.909 1342.26 Q612.057 1342.26 613.885 1340.11 Q615.737 1337.94 615.737 1334.21 Q615.737 1330.46 613.885 1328.31 Q612.057 1326.15 608.909 1326.15 M618.191 1311.5 L618.191 1315.76 Q616.432 1314.93 614.626 1314.49 Q612.844 1314.05 611.084 1314.05 Q606.455 1314.05 604.001 1317.17 Q601.571 1320.3 601.223 1326.62 Q602.589 1324.6 604.649 1323.54 Q606.71 1322.45 609.186 1322.45 Q614.395 1322.45 617.404 1325.62 Q620.436 1328.77 620.436 1334.21 Q620.436 1339.53 617.288 1342.75 Q614.14 1345.97 608.909 1345.97 Q602.913 1345.97 599.742 1341.38 Q596.571 1336.78 596.571 1328.05 Q596.571 1319.86 600.46 1315 Q604.348 1310.11 610.899 1310.11 Q612.659 1310.11 614.441 1310.46 Q616.246 1310.81 618.191 1311.5 Z\" fill=\"#000000\" fill-rule=\"nonzero\" fill-opacity=\"1\" /></svg>\n"
      ]
     },
     "execution_count": 18,
     "metadata": {},
     "output_type": "execute_result"
    }
   ],
   "source": [
    "select_type = 1\n",
    "pdfs = plot(truncated(Normal(sol[2k-1+select_type], sol[2k-1+select_type+K]), 0, 1), func = pdf, title = \"PDFs of Types\", label = \"Type 1\")\n",
    "for select_type in 2:k # academic types\n",
    "    plot!(pdfs, truncated(Normal(sol[2k-1+select_type], sol[2k-1+select_type+K]), 0, 1), func = pdf, \n",
    "        label = string(\"Type \", select_type))\n",
    "end\n",
    "\n",
    "for select_type in k+1:K # sinks\n",
    "    plot!(pdfs, truncated(Normal(sol[2k-1+select_type], sol[2k-1+select_type+K]), 0, 1), func = pdf, label = string(\"Sink \", select_type - k))\n",
    "end\n",
    "xlabel!(pdfs, \"offer value\")\n",
    "ylabel!(pdfs, \"f(offer value)\")\n",
    "savefig(pdfs, \"pdfs.png\")"
   ]
  }
 ],
 "metadata": {
  "kernelspec": {
   "display_name": "Julia 1.8.5",
   "language": "julia",
   "name": "julia-1.8"
  },
  "language_info": {
   "file_extension": ".jl",
   "mimetype": "application/julia",
   "name": "julia",
   "version": "1.8.5"
  }
 },
 "nbformat": 4,
 "nbformat_minor": 5
}
