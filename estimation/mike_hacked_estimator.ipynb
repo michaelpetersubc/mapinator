{
 "cells": [
  {
   "cell_type": "code",
   "execution_count": 1,
   "id": "0714a482-7a06-469b-b9bb-97ab684b7841",
   "metadata": {},
   "outputs": [
    {
     "name": "stderr",
     "output_type": "stream",
     "text": [
      "\u001b[33m\u001b[1m┌ \u001b[22m\u001b[39m\u001b[33m\u001b[1mWarning: \u001b[22m\u001b[39mError requiring `HTTP` from `BlackBoxOptim`\n",
      "\u001b[33m\u001b[1m│ \u001b[22m\u001b[39m  exception =\n",
      "\u001b[33m\u001b[1m│ \u001b[22m\u001b[39m   LoadError: ArgumentError: Package BlackBoxOptim does not have HTTP in its dependencies:\n",
      "\u001b[33m\u001b[1m│ \u001b[22m\u001b[39m   - You may have a partially installed environment. Try `Pkg.instantiate()`\n",
      "\u001b[33m\u001b[1m│ \u001b[22m\u001b[39m     to ensure all packages in the environment are installed.\n",
      "\u001b[33m\u001b[1m│ \u001b[22m\u001b[39m   - Or, if you have BlackBoxOptim checked out for development and have\n",
      "\u001b[33m\u001b[1m│ \u001b[22m\u001b[39m     added HTTP as a dependency but haven't updated your primary\n",
      "\u001b[33m\u001b[1m│ \u001b[22m\u001b[39m     environment's manifest file, try `Pkg.resolve()`.\n",
      "\u001b[33m\u001b[1m│ \u001b[22m\u001b[39m   - Otherwise you may need to report an issue with BlackBoxOptim\n",
      "\u001b[33m\u001b[1m│ \u001b[22m\u001b[39m   Stacktrace:\n",
      "\u001b[33m\u001b[1m│ \u001b[22m\u001b[39m     [1] \u001b[0m\u001b[1mmacro expansion\u001b[22m\n",
      "\u001b[33m\u001b[1m│ \u001b[22m\u001b[39m   \u001b[90m    @ \u001b[39m\u001b[90m./\u001b[39m\u001b[90m\u001b[4mloading.jl:1167\u001b[24m\u001b[39m\u001b[90m [inlined]\u001b[39m\n",
      "\u001b[33m\u001b[1m│ \u001b[22m\u001b[39m     [2] \u001b[0m\u001b[1mmacro expansion\u001b[22m\n",
      "\u001b[33m\u001b[1m│ \u001b[22m\u001b[39m   \u001b[90m    @ \u001b[39m\u001b[90m./\u001b[39m\u001b[90m\u001b[4mlock.jl:223\u001b[24m\u001b[39m\u001b[90m [inlined]\u001b[39m\n",
      "\u001b[33m\u001b[1m│ \u001b[22m\u001b[39m     [3] \u001b[0m\u001b[1mrequire\u001b[22m\u001b[0m\u001b[1m(\u001b[22m\u001b[90minto\u001b[39m::\u001b[0mModule, \u001b[90mmod\u001b[39m::\u001b[0mSymbol\u001b[0m\u001b[1m)\u001b[22m\n",
      "\u001b[33m\u001b[1m│ \u001b[22m\u001b[39m   \u001b[90m    @ \u001b[39m\u001b[90mBase\u001b[39m \u001b[90m./\u001b[39m\u001b[90m\u001b[4mloading.jl:1144\u001b[24m\u001b[39m\n",
      "\u001b[33m\u001b[1m│ \u001b[22m\u001b[39m     [4] \u001b[0m\u001b[1minclude\u001b[22m\u001b[0m\u001b[1m(\u001b[22m\u001b[90mmod\u001b[39m::\u001b[0mModule, \u001b[90m_path\u001b[39m::\u001b[0mString\u001b[0m\u001b[1m)\u001b[22m\n",
      "\u001b[33m\u001b[1m│ \u001b[22m\u001b[39m   \u001b[90m    @ \u001b[39m\u001b[90mBase\u001b[39m \u001b[90m./\u001b[39m\u001b[90m\u001b[4mBase.jl:419\u001b[24m\u001b[39m\n",
      "\u001b[33m\u001b[1m│ \u001b[22m\u001b[39m     [5] \u001b[0m\u001b[1minclude\u001b[22m\u001b[0m\u001b[1m(\u001b[22m\u001b[90mx\u001b[39m::\u001b[0mString\u001b[0m\u001b[1m)\u001b[22m\n",
      "\u001b[33m\u001b[1m│ \u001b[22m\u001b[39m   \u001b[90m    @ \u001b[39m\u001b[35mBlackBoxOptim\u001b[39m \u001b[90m~/.julia/packages/BlackBoxOptim/lZtsr/src/\u001b[39m\u001b[90m\u001b[4mBlackBoxOptim.jl:1\u001b[24m\u001b[39m\n",
      "\u001b[33m\u001b[1m│ \u001b[22m\u001b[39m     [6] top-level scope\n",
      "\u001b[33m\u001b[1m│ \u001b[22m\u001b[39m   \u001b[90m    @ \u001b[39m\u001b[90m~/.julia/packages/Requires/Z8rfN/src/\u001b[39m\u001b[90m\u001b[4mRequires.jl:40\u001b[24m\u001b[39m\n",
      "\u001b[33m\u001b[1m│ \u001b[22m\u001b[39m     [7] \u001b[0m\u001b[1meval\u001b[22m\n",
      "\u001b[33m\u001b[1m│ \u001b[22m\u001b[39m   \u001b[90m    @ \u001b[39m\u001b[90m./\u001b[39m\u001b[90m\u001b[4mboot.jl:368\u001b[24m\u001b[39m\u001b[90m [inlined]\u001b[39m\n",
      "\u001b[33m\u001b[1m│ \u001b[22m\u001b[39m     [8] \u001b[0m\u001b[1meval\u001b[22m\n",
      "\u001b[33m\u001b[1m│ \u001b[22m\u001b[39m   \u001b[90m    @ \u001b[39m\u001b[90m~/.julia/packages/BlackBoxOptim/lZtsr/src/\u001b[39m\u001b[90m\u001b[4mBlackBoxOptim.jl:1\u001b[24m\u001b[39m\u001b[90m [inlined]\u001b[39m\n",
      "\u001b[33m\u001b[1m│ \u001b[22m\u001b[39m     [9] \u001b[0m\u001b[1m(::BlackBoxOptim.var\"#179#182\")\u001b[22m\u001b[0m\u001b[1m(\u001b[22m\u001b[0m\u001b[1m)\u001b[22m\n",
      "\u001b[33m\u001b[1m│ \u001b[22m\u001b[39m   \u001b[90m    @ \u001b[39m\u001b[35mBlackBoxOptim\u001b[39m \u001b[90m~/.julia/packages/Requires/Z8rfN/src/\u001b[39m\u001b[90m\u001b[4mrequire.jl:101\u001b[24m\u001b[39m\n",
      "\u001b[33m\u001b[1m│ \u001b[22m\u001b[39m    [10] \u001b[0m\u001b[1mmacro expansion\u001b[22m\n",
      "\u001b[33m\u001b[1m│ \u001b[22m\u001b[39m   \u001b[90m    @ \u001b[39m\u001b[90m\u001b[4mtiming.jl:382\u001b[24m\u001b[39m\u001b[90m [inlined]\u001b[39m\n",
      "\u001b[33m\u001b[1m│ \u001b[22m\u001b[39m    [11] \u001b[0m\u001b[1merr\u001b[22m\u001b[0m\u001b[1m(\u001b[22m\u001b[90mf\u001b[39m::\u001b[0mAny, \u001b[90mlistener\u001b[39m::\u001b[0mModule, \u001b[90mmodname\u001b[39m::\u001b[0mString, \u001b[90mfile\u001b[39m::\u001b[0mString, \u001b[90mline\u001b[39m::\u001b[0mAny\u001b[0m\u001b[1m)\u001b[22m\n",
      "\u001b[33m\u001b[1m│ \u001b[22m\u001b[39m   \u001b[90m    @ \u001b[39m\u001b[36mRequires\u001b[39m \u001b[90m~/.julia/packages/Requires/Z8rfN/src/\u001b[39m\u001b[90m\u001b[4mrequire.jl:47\u001b[24m\u001b[39m\n",
      "\u001b[33m\u001b[1m│ \u001b[22m\u001b[39m    [12] \u001b[0m\u001b[1m(::BlackBoxOptim.var\"#178#181\")\u001b[22m\u001b[0m\u001b[1m(\u001b[22m\u001b[0m\u001b[1m)\u001b[22m\n",
      "\u001b[33m\u001b[1m│ \u001b[22m\u001b[39m   \u001b[90m    @ \u001b[39m\u001b[35mBlackBoxOptim\u001b[39m \u001b[90m~/.julia/packages/Requires/Z8rfN/src/\u001b[39m\u001b[90m\u001b[4mrequire.jl:100\u001b[24m\u001b[39m\n",
      "\u001b[33m\u001b[1m│ \u001b[22m\u001b[39m    [13] \u001b[0m\u001b[1mwithpath\u001b[22m\u001b[0m\u001b[1m(\u001b[22m\u001b[90mf\u001b[39m::\u001b[0mAny, \u001b[90mpath\u001b[39m::\u001b[0mString\u001b[0m\u001b[1m)\u001b[22m\n",
      "\u001b[33m\u001b[1m│ \u001b[22m\u001b[39m   \u001b[90m    @ \u001b[39m\u001b[36mRequires\u001b[39m \u001b[90m~/.julia/packages/Requires/Z8rfN/src/\u001b[39m\u001b[90m\u001b[4mrequire.jl:37\u001b[24m\u001b[39m\n",
      "\u001b[33m\u001b[1m│ \u001b[22m\u001b[39m    [14] \u001b[0m\u001b[1m(::BlackBoxOptim.var\"#177#180\")\u001b[22m\u001b[0m\u001b[1m(\u001b[22m\u001b[0m\u001b[1m)\u001b[22m\n",
      "\u001b[33m\u001b[1m│ \u001b[22m\u001b[39m   \u001b[90m    @ \u001b[39m\u001b[35mBlackBoxOptim\u001b[39m \u001b[90m~/.julia/packages/Requires/Z8rfN/src/\u001b[39m\u001b[90m\u001b[4mrequire.jl:99\u001b[24m\u001b[39m\n",
      "\u001b[33m\u001b[1m│ \u001b[22m\u001b[39m    [15] \u001b[0m\u001b[1mlistenpkg\u001b[22m\u001b[0m\u001b[1m(\u001b[22m\u001b[90mf\u001b[39m::\u001b[0mAny, \u001b[90mpkg\u001b[39m::\u001b[0mBase.PkgId\u001b[0m\u001b[1m)\u001b[22m\n",
      "\u001b[33m\u001b[1m│ \u001b[22m\u001b[39m   \u001b[90m    @ \u001b[39m\u001b[36mRequires\u001b[39m \u001b[90m~/.julia/packages/Requires/Z8rfN/src/\u001b[39m\u001b[90m\u001b[4mrequire.jl:20\u001b[24m\u001b[39m\n",
      "\u001b[33m\u001b[1m│ \u001b[22m\u001b[39m    [16] \u001b[0m\u001b[1mmacro expansion\u001b[22m\n",
      "\u001b[33m\u001b[1m│ \u001b[22m\u001b[39m   \u001b[90m    @ \u001b[39m\u001b[90m~/.julia/packages/Requires/Z8rfN/src/\u001b[39m\u001b[90m\u001b[4mrequire.jl:98\u001b[24m\u001b[39m\u001b[90m [inlined]\u001b[39m\n",
      "\u001b[33m\u001b[1m│ \u001b[22m\u001b[39m    [17] top-level scope\n",
      "\u001b[33m\u001b[1m│ \u001b[22m\u001b[39m   \u001b[90m    @ \u001b[39m\u001b[90m~/.julia/packages/BlackBoxOptim/lZtsr/src/\u001b[39m\u001b[90m\u001b[4mBlackBoxOptim.jl:163\u001b[24m\u001b[39m\n",
      "\u001b[33m\u001b[1m│ \u001b[22m\u001b[39m    [18] \u001b[0m\u001b[1meval\u001b[22m\n",
      "\u001b[33m\u001b[1m│ \u001b[22m\u001b[39m   \u001b[90m    @ \u001b[39m\u001b[90m./\u001b[39m\u001b[90m\u001b[4mboot.jl:368\u001b[24m\u001b[39m\u001b[90m [inlined]\u001b[39m\n",
      "\u001b[33m\u001b[1m│ \u001b[22m\u001b[39m    [19] \u001b[0m\u001b[1meval\u001b[22m\n",
      "\u001b[33m\u001b[1m│ \u001b[22m\u001b[39m   \u001b[90m    @ \u001b[39m\u001b[90m~/.julia/packages/BlackBoxOptim/lZtsr/src/\u001b[39m\u001b[90m\u001b[4mBlackBoxOptim.jl:1\u001b[24m\u001b[39m\u001b[90m [inlined]\u001b[39m\n",
      "\u001b[33m\u001b[1m│ \u001b[22m\u001b[39m    [20] \u001b[0m\u001b[1m(::BlackBoxOptim.var\"#173#176\")\u001b[22m\u001b[0m\u001b[1m(\u001b[22m\u001b[0m\u001b[1m)\u001b[22m\n",
      "\u001b[33m\u001b[1m│ \u001b[22m\u001b[39m   \u001b[90m    @ \u001b[39m\u001b[35mBlackBoxOptim\u001b[39m \u001b[90m~/.julia/packages/Requires/Z8rfN/src/\u001b[39m\u001b[90m\u001b[4mrequire.jl:101\u001b[24m\u001b[39m\n",
      "\u001b[33m\u001b[1m│ \u001b[22m\u001b[39m    [21] \u001b[0m\u001b[1mmacro expansion\u001b[22m\n",
      "\u001b[33m\u001b[1m│ \u001b[22m\u001b[39m   \u001b[90m    @ \u001b[39m\u001b[90m\u001b[4mtiming.jl:382\u001b[24m\u001b[39m\u001b[90m [inlined]\u001b[39m\n",
      "\u001b[33m\u001b[1m│ \u001b[22m\u001b[39m    [22] \u001b[0m\u001b[1merr\u001b[22m\u001b[0m\u001b[1m(\u001b[22m\u001b[90mf\u001b[39m::\u001b[0mAny, \u001b[90mlistener\u001b[39m::\u001b[0mModule, \u001b[90mmodname\u001b[39m::\u001b[0mString, \u001b[90mfile\u001b[39m::\u001b[0mString, \u001b[90mline\u001b[39m::\u001b[0mAny\u001b[0m\u001b[1m)\u001b[22m\n",
      "\u001b[33m\u001b[1m│ \u001b[22m\u001b[39m   \u001b[90m    @ \u001b[39m\u001b[36mRequires\u001b[39m \u001b[90m~/.julia/packages/Requires/Z8rfN/src/\u001b[39m\u001b[90m\u001b[4mrequire.jl:47\u001b[24m\u001b[39m\n",
      "\u001b[33m\u001b[1m│ \u001b[22m\u001b[39m    [23] \u001b[0m\u001b[1m(::BlackBoxOptim.var\"#172#175\")\u001b[22m\u001b[0m\u001b[1m(\u001b[22m\u001b[0m\u001b[1m)\u001b[22m\n",
      "\u001b[33m\u001b[1m│ \u001b[22m\u001b[39m   \u001b[90m    @ \u001b[39m\u001b[35mBlackBoxOptim\u001b[39m \u001b[90m~/.julia/packages/Requires/Z8rfN/src/\u001b[39m\u001b[90m\u001b[4mrequire.jl:100\u001b[24m\u001b[39m\n",
      "\u001b[33m\u001b[1m│ \u001b[22m\u001b[39m    [24] \u001b[0m\u001b[1mwithpath\u001b[22m\u001b[0m\u001b[1m(\u001b[22m\u001b[90mf\u001b[39m::\u001b[0mAny, \u001b[90mpath\u001b[39m::\u001b[0mString\u001b[0m\u001b[1m)\u001b[22m\n",
      "\u001b[33m\u001b[1m│ \u001b[22m\u001b[39m   \u001b[90m    @ \u001b[39m\u001b[36mRequires\u001b[39m \u001b[90m~/.julia/packages/Requires/Z8rfN/src/\u001b[39m\u001b[90m\u001b[4mrequire.jl:37\u001b[24m\u001b[39m\n",
      "\u001b[33m\u001b[1m│ \u001b[22m\u001b[39m    [25] \u001b[0m\u001b[1m(::BlackBoxOptim.var\"#171#174\")\u001b[22m\u001b[0m\u001b[1m(\u001b[22m\u001b[0m\u001b[1m)\u001b[22m\n",
      "\u001b[33m\u001b[1m│ \u001b[22m\u001b[39m   \u001b[90m    @ \u001b[39m\u001b[35mBlackBoxOptim\u001b[39m \u001b[90m~/.julia/packages/Requires/Z8rfN/src/\u001b[39m\u001b[90m\u001b[4mrequire.jl:99\u001b[24m\u001b[39m\n",
      "\u001b[33m\u001b[1m│ \u001b[22m\u001b[39m    [26] \u001b[0m\u001b[1mlistenpkg\u001b[22m\u001b[0m\u001b[1m(\u001b[22m\u001b[90mf\u001b[39m::\u001b[0mAny, \u001b[90mpkg\u001b[39m::\u001b[0mBase.PkgId\u001b[0m\u001b[1m)\u001b[22m\n",
      "\u001b[33m\u001b[1m│ \u001b[22m\u001b[39m   \u001b[90m    @ \u001b[39m\u001b[36mRequires\u001b[39m \u001b[90m~/.julia/packages/Requires/Z8rfN/src/\u001b[39m\u001b[90m\u001b[4mrequire.jl:20\u001b[24m\u001b[39m\n",
      "\u001b[33m\u001b[1m│ \u001b[22m\u001b[39m    [27] \u001b[0m\u001b[1mmacro expansion\u001b[22m\n",
      "\u001b[33m\u001b[1m│ \u001b[22m\u001b[39m   \u001b[90m    @ \u001b[39m\u001b[90m~/.julia/packages/Requires/Z8rfN/src/\u001b[39m\u001b[90m\u001b[4mrequire.jl:98\u001b[24m\u001b[39m\u001b[90m [inlined]\u001b[39m\n",
      "\u001b[33m\u001b[1m│ \u001b[22m\u001b[39m    [28] \u001b[0m\u001b[1m__init__\u001b[22m\u001b[0m\u001b[1m(\u001b[22m\u001b[0m\u001b[1m)\u001b[22m\n",
      "\u001b[33m\u001b[1m│ \u001b[22m\u001b[39m   \u001b[90m    @ \u001b[39m\u001b[35mBlackBoxOptim\u001b[39m \u001b[90m~/.julia/packages/BlackBoxOptim/lZtsr/src/\u001b[39m\u001b[90m\u001b[4mBlackBoxOptim.jl:162\u001b[24m\u001b[39m\n",
      "\u001b[33m\u001b[1m│ \u001b[22m\u001b[39m    [29] \u001b[0m\u001b[1m_include_from_serialized\u001b[22m\u001b[0m\u001b[1m(\u001b[22m\u001b[90mpkg\u001b[39m::\u001b[0mBase.PkgId, \u001b[90mpath\u001b[39m::\u001b[0mString, \u001b[90mdepmods\u001b[39m::\u001b[0mVector\u001b[90m{Any}\u001b[39m\u001b[0m\u001b[1m)\u001b[22m\n",
      "\u001b[33m\u001b[1m│ \u001b[22m\u001b[39m   \u001b[90m    @ \u001b[39m\u001b[90mBase\u001b[39m \u001b[90m./\u001b[39m\u001b[90m\u001b[4mloading.jl:831\u001b[24m\u001b[39m\n",
      "\u001b[33m\u001b[1m│ \u001b[22m\u001b[39m    [30] \u001b[0m\u001b[1m_require_search_from_serialized\u001b[22m\u001b[0m\u001b[1m(\u001b[22m\u001b[90mpkg\u001b[39m::\u001b[0mBase.PkgId, \u001b[90msourcepath\u001b[39m::\u001b[0mString, \u001b[90mbuild_id\u001b[39m::\u001b[0mUInt64\u001b[0m\u001b[1m)\u001b[22m\n",
      "\u001b[33m\u001b[1m│ \u001b[22m\u001b[39m   \u001b[90m    @ \u001b[39m\u001b[90mBase\u001b[39m \u001b[90m./\u001b[39m\u001b[90m\u001b[4mloading.jl:1039\u001b[24m\u001b[39m\n",
      "\u001b[33m\u001b[1m│ \u001b[22m\u001b[39m    [31] \u001b[0m\u001b[1m_require\u001b[22m\u001b[0m\u001b[1m(\u001b[22m\u001b[90mpkg\u001b[39m::\u001b[0mBase.PkgId\u001b[0m\u001b[1m)\u001b[22m\n",
      "\u001b[33m\u001b[1m│ \u001b[22m\u001b[39m   \u001b[90m    @ \u001b[39m\u001b[90mBase\u001b[39m \u001b[90m./\u001b[39m\u001b[90m\u001b[4mloading.jl:1315\u001b[24m\u001b[39m\n",
      "\u001b[33m\u001b[1m│ \u001b[22m\u001b[39m    [32] \u001b[0m\u001b[1m_require_prelocked\u001b[22m\u001b[0m\u001b[1m(\u001b[22m\u001b[90muuidkey\u001b[39m::\u001b[0mBase.PkgId\u001b[0m\u001b[1m)\u001b[22m\n",
      "\u001b[33m\u001b[1m│ \u001b[22m\u001b[39m   \u001b[90m    @ \u001b[39m\u001b[90mBase\u001b[39m \u001b[90m./\u001b[39m\u001b[90m\u001b[4mloading.jl:1200\u001b[24m\u001b[39m\n",
      "\u001b[33m\u001b[1m│ \u001b[22m\u001b[39m    [33] \u001b[0m\u001b[1mmacro expansion\u001b[22m\n",
      "\u001b[33m\u001b[1m│ \u001b[22m\u001b[39m   \u001b[90m    @ \u001b[39m\u001b[90m./\u001b[39m\u001b[90m\u001b[4mloading.jl:1180\u001b[24m\u001b[39m\u001b[90m [inlined]\u001b[39m\n",
      "\u001b[33m\u001b[1m│ \u001b[22m\u001b[39m    [34] \u001b[0m\u001b[1mmacro expansion\u001b[22m\n",
      "\u001b[33m\u001b[1m│ \u001b[22m\u001b[39m   \u001b[90m    @ \u001b[39m\u001b[90m./\u001b[39m\u001b[90m\u001b[4mlock.jl:223\u001b[24m\u001b[39m\u001b[90m [inlined]\u001b[39m\n",
      "\u001b[33m\u001b[1m│ \u001b[22m\u001b[39m    [35] \u001b[0m\u001b[1mrequire\u001b[22m\u001b[0m\u001b[1m(\u001b[22m\u001b[90minto\u001b[39m::\u001b[0mModule, \u001b[90mmod\u001b[39m::\u001b[0mSymbol\u001b[0m\u001b[1m)\u001b[22m\n",
      "\u001b[33m\u001b[1m│ \u001b[22m\u001b[39m   \u001b[90m    @ \u001b[39m\u001b[90mBase\u001b[39m \u001b[90m./\u001b[39m\u001b[90m\u001b[4mloading.jl:1144\u001b[24m\u001b[39m\n",
      "\u001b[33m\u001b[1m│ \u001b[22m\u001b[39m    [36] \u001b[0m\u001b[1meval\u001b[22m\n",
      "\u001b[33m\u001b[1m│ \u001b[22m\u001b[39m   \u001b[90m    @ \u001b[39m\u001b[90m./\u001b[39m\u001b[90m\u001b[4mboot.jl:368\u001b[24m\u001b[39m\u001b[90m [inlined]\u001b[39m\n",
      "\u001b[33m\u001b[1m│ \u001b[22m\u001b[39m    [37] \u001b[0m\u001b[1minclude_string\u001b[22m\u001b[0m\u001b[1m(\u001b[22m\u001b[90mmapexpr\u001b[39m::\u001b[0mtypeof(REPL.softscope), \u001b[90mmod\u001b[39m::\u001b[0mModule, \u001b[90mcode\u001b[39m::\u001b[0mString, \u001b[90mfilename\u001b[39m::\u001b[0mString\u001b[0m\u001b[1m)\u001b[22m\n",
      "\u001b[33m\u001b[1m│ \u001b[22m\u001b[39m   \u001b[90m    @ \u001b[39m\u001b[90mBase\u001b[39m \u001b[90m./\u001b[39m\u001b[90m\u001b[4mloading.jl:1428\u001b[24m\u001b[39m\n",
      "\u001b[33m\u001b[1m│ \u001b[22m\u001b[39m    [38] \u001b[0m\u001b[1msoftscope_include_string\u001b[22m\u001b[0m\u001b[1m(\u001b[22m\u001b[90mm\u001b[39m::\u001b[0mModule, \u001b[90mcode\u001b[39m::\u001b[0mString, \u001b[90mfilename\u001b[39m::\u001b[0mString\u001b[0m\u001b[1m)\u001b[22m\n",
      "\u001b[33m\u001b[1m│ \u001b[22m\u001b[39m   \u001b[90m    @ \u001b[39m\u001b[32mSoftGlobalScope\u001b[39m \u001b[90m~/.julia/packages/SoftGlobalScope/u4UzH/src/\u001b[39m\u001b[90m\u001b[4mSoftGlobalScope.jl:65\u001b[24m\u001b[39m\n",
      "\u001b[33m\u001b[1m│ \u001b[22m\u001b[39m    [39] \u001b[0m\u001b[1mexecute_request\u001b[22m\u001b[0m\u001b[1m(\u001b[22m\u001b[90msocket\u001b[39m::\u001b[0mZMQ.Socket, \u001b[90mmsg\u001b[39m::\u001b[0mIJulia.Msg\u001b[0m\u001b[1m)\u001b[22m\n",
      "\u001b[33m\u001b[1m│ \u001b[22m\u001b[39m   \u001b[90m    @ \u001b[39m\u001b[33mIJulia\u001b[39m \u001b[90m~/.julia/packages/IJulia/Vo51o/src/\u001b[39m\u001b[90m\u001b[4mexecute_request.jl:67\u001b[24m\u001b[39m\n",
      "\u001b[33m\u001b[1m│ \u001b[22m\u001b[39m    [40] \u001b[0m\u001b[1m#invokelatest#2\u001b[22m\n",
      "\u001b[33m\u001b[1m│ \u001b[22m\u001b[39m   \u001b[90m    @ \u001b[39m\u001b[90m./\u001b[39m\u001b[90m\u001b[4messentials.jl:729\u001b[24m\u001b[39m\u001b[90m [inlined]\u001b[39m\n",
      "\u001b[33m\u001b[1m│ \u001b[22m\u001b[39m    [41] \u001b[0m\u001b[1minvokelatest\u001b[22m\n",
      "\u001b[33m\u001b[1m│ \u001b[22m\u001b[39m   \u001b[90m    @ \u001b[39m\u001b[90m./\u001b[39m\u001b[90m\u001b[4messentials.jl:726\u001b[24m\u001b[39m\u001b[90m [inlined]\u001b[39m\n",
      "\u001b[33m\u001b[1m│ \u001b[22m\u001b[39m    [42] \u001b[0m\u001b[1meventloop\u001b[22m\u001b[0m\u001b[1m(\u001b[22m\u001b[90msocket\u001b[39m::\u001b[0mZMQ.Socket\u001b[0m\u001b[1m)\u001b[22m\n",
      "\u001b[33m\u001b[1m│ \u001b[22m\u001b[39m   \u001b[90m    @ \u001b[39m\u001b[33mIJulia\u001b[39m \u001b[90m~/.julia/packages/IJulia/Vo51o/src/\u001b[39m\u001b[90m\u001b[4meventloop.jl:8\u001b[24m\u001b[39m\n",
      "\u001b[33m\u001b[1m│ \u001b[22m\u001b[39m    [43] \u001b[0m\u001b[1m(::IJulia.var\"#15#18\")\u001b[22m\u001b[0m\u001b[1m(\u001b[22m\u001b[0m\u001b[1m)\u001b[22m\n",
      "\u001b[33m\u001b[1m│ \u001b[22m\u001b[39m   \u001b[90m    @ \u001b[39m\u001b[33mIJulia\u001b[39m \u001b[90m./\u001b[39m\u001b[90m\u001b[4mtask.jl:484\u001b[24m\u001b[39m\n",
      "\u001b[33m\u001b[1m│ \u001b[22m\u001b[39m   in expression starting at /home/peters/.julia/packages/BlackBoxOptim/lZtsr/ext/BlackBoxOptimRealtimePlotServerExt.jl:1\n",
      "\u001b[33m\u001b[1m└ \u001b[22m\u001b[39m\u001b[90m@ Requires ~/.julia/packages/Requires/Z8rfN/src/require.jl:51\u001b[39m\n"
     ]
    },
    {
     "data": {
      "text/plain": [
       "\"/home/peters/code/mapinator/estimation/current_estimates_and_files/\""
      ]
     },
     "execution_count": 1,
     "metadata": {},
     "output_type": "execute_result"
    }
   ],
   "source": [
    "using Pkg\n",
    "Pkg.instantiate()\n",
    "using HTTP, JSON, JLD, Roots, PrettyTables, DotEnv\n",
    "DEBUG_LEVEL = 1\n",
    "using Optim, Random\n",
    "Random.seed!(0)\n",
    "using BlackBoxOptim, Distributions, ForwardDiff, Integrals, Roots, StatsPlots, DelimitedFiles\n",
    "Pkg.instantiate()\n",
    "cfg = DotEnv.config(\"../.env\")\n",
    "files_path = cfg[\"files_path\"]"
   ]
  },
  {
   "cell_type": "code",
   "execution_count": 2,
   "id": "494eddaf-9e69-4c04-b7e4-cf8dd0120f66",
   "metadata": {},
   "outputs": [
    {
     "data": {
      "text/plain": [
       "12"
      ]
     },
     "execution_count": 2,
     "metadata": {},
     "output_type": "execute_result"
    }
   ],
   "source": [
    "# change associated with ocs as failed to trade group\n",
    "raw_placement_rates = load(files_path*\"adjusted_placement_rates.jld\")[\"adjusted_placement_rates\"]\n",
    "unmatched_row_index = 10\n",
    "adjusted_placement_rates = vcat(raw_placement_rates[1:unmatched_row_index-1,:],\n",
    "raw_placement_rates[unmatched_row_index+1:size(raw_placement_rates)[1],:])\n",
    "#adjusted_placement_rates = load(files_path*\"adjusted_placement_rates.jld\")[\"adjusted_placement_rates\"]\n",
    "NUMBER_OF_TYPES = size(adjusted_placement_rates, 2)\n",
    "\n",
    "adjusted_placement_rates = vcat(adjusted_placement_rates, raw_placement_rates[unmatched_row_index:unmatched_row_index, :])\n",
    "numtotal = size(adjusted_placement_rates, 1)"
   ]
  },
  {
   "cell_type": "code",
   "execution_count": 3,
   "id": "4ef1252b-0d50-4f0c-aabd-f40128c65855",
   "metadata": {},
   "outputs": [],
   "source": [
    "#setup stuff\n",
    "k = NUMBER_OF_TYPES\n",
    "#since one row is unmatched\n",
    "K = numtotal\n",
    "M = sum(adjusted_placement_rates)\n",
    "#maximum likelihood\n",
    "L = true\n",
    "#chi-squared\n",
    "#L = false\n",
    "\n",
    "# upper bound on the value ratios, which should all be less than 1\n",
    "# if any ratio turns out to be 1.0 or close to it at optimality, this could indicate that a lower tier has a higher value than a higher one\n",
    "upper = [1.0 for _ in 1:k-1] \n",
    "\n",
    "# upper bound on variables proportionate to alpha\n",
    "append!(upper, [1.0 for _ in 1:k])\n",
    "\n",
    "# upper bound on the mu parameter of truncated normal, which is strictly within [0, 1] as the mean is greater than mu in truncated normal\n",
    "append!(upper, [1.0 for _ in 1:K])\n",
    "\n",
    "# upper bound on the sigma parameter of truncated normal\n",
    "append!(upper, [5.0 for _ in 1:K])\n",
    "\n",
    "# upper bound on variables proportionate to rho\n",
    "append!(upper, [1.0 for _ in 1:K])\n",
    "\n",
    "# upper bound on beta friction parameter\n",
    "push!(upper, 1.0);\n"
   ]
  },
  {
   "cell_type": "code",
   "execution_count": 4,
   "id": "6801400d-91fc-4ebd-a30e-b5f4d46fc15f",
   "metadata": {},
   "outputs": [
    {
     "data": {
      "text/plain": [
       "fi (generic function with 1 method)"
      ]
     },
     "execution_count": 4,
     "metadata": {},
     "output_type": "execute_result"
    }
   ],
   "source": [
    "function F(x, ρ, μ, σ, K)\n",
    "    return sum([ρ[i] * cdf(truncated(Normal(μ[i], σ[i]), 0, 1), x) for i in 1:K])\n",
    "end\n",
    "\n",
    "function f(x, ρ, μ, σ, K)\n",
    "    return sum([ρ[i] * pdf(truncated(Normal(μ[i], σ[i]), 0, 1), x) for i in 1:K])\n",
    "end\n",
    "\n",
    "function G(Fim1, Fx, αsum)\n",
    "    return (Fim1 - Fx) / αsum\n",
    "end\n",
    "\n",
    "function κ(i, t, v_rel)\n",
    "    return sum([-log(v_rel[j]) for j in t:i-1])\n",
    "end\n",
    "\n",
    "function fi(x, μ, σ)\n",
    "    return pdf(truncated(Normal(μ, σ), 0, 1), x)\n",
    "end"
   ]
  },
  {
   "cell_type": "code",
   "execution_count": 5,
   "id": "94917d56-9391-4845-ba6c-b1d36ca38261",
   "metadata": {},
   "outputs": [
    {
     "data": {
      "text/plain": [
       "pi (generic function with 1 method)"
      ]
     },
     "execution_count": 5,
     "metadata": {},
     "output_type": "execute_result"
    }
   ],
   "source": [
    "function q(i, t, Fx_vec, x_vec, ρ, μ, σ, α, v_rel, k, K)\n",
    "    # Fx_vec = [F(x0)=1, F(x1), F(x2), F(x3), ..., F(xk-1)]\n",
    "    # x_vec = [x0 = 1, x1, x2, x3, ..., xk = 0]\n",
    "    # x_vec[s] = x_{s-1}, so the limits of integration are and must be offset by 1 below\n",
    "    # TODO: can some integrals be cached as a speed-up? can some integrals be computed in parallel?\n",
    "    return sum([(α[t]/sum(α[1:s])) * \n",
    "            solve(IntegralProblem{false}((x, p) -> exp(-(G(Fx_vec[s], F(x, ρ, μ, σ, K), sum(α[1:s])) + κ(s, t, v_rel))) *\n",
    "                    fi(x, μ[i], σ[i]), x_vec[s+1], x_vec[s]), HCubatureJL())[1] for s in t:k])\n",
    "end\n",
    "\n",
    "function Fx(t, α, v_rel)\n",
    "    return 1 - sum([-log(v_rel[j])*sum(α[1:j]) for j in 1:t])\n",
    "end\n",
    "\n",
    "function Q2(ratio, β)\n",
    "    return β * (1 - exp(-ratio)) / ratio\n",
    "end\n",
    "\n",
    "function pi(t, α)\n",
    "    return α[t] / sum(α[1:t])\n",
    "end"
   ]
  },
  {
   "cell_type": "code",
   "execution_count": 6,
   "id": "b0142842-3b45-4a65-aaf1-78a2ba99cda6",
   "metadata": {},
   "outputs": [
    {
     "data": {
      "text/plain": [
       "estimate_likelihood"
      ]
     },
     "execution_count": 6,
     "metadata": {},
     "output_type": "execute_result"
    }
   ],
   "source": [
    "\"\"\"\n",
    "Likelihood\n",
    "    p_vec -> k values,k alpha shares, K means, K variances, K beliefs\n",
    "    example -  for 5 academic tiers and six hiring tiers p_vec has 43 elements\n",
    "    - it assumes the last row of the adjacency matrix is for unmatched so the placement matrix in the example has dimension 12x5 not 11x5\n",
    "    placements -> the adjacency matrix with the unmatched row moved to the bottom\n",
    "    k -> number of academic tiers\n",
    "    K -> rows in the adjacency matrix - last row is treaed as unmatched\n",
    "    L -> true for likelihood, false for chi-squared maximization\n",
    "\"\"\"\n",
    "function estimate_likelihood(p_vec, placements, k, K, M, L)\n",
    "    #values\n",
    "    v_rel = p_vec[1:k-1]\n",
    "    #shares\n",
    "    α = 1.0 * p_vec[k:2k-1] / sum(p_vec[k:2k-1]) # change 1.0 to scale number of graduates vs departments\n",
    "    #means\n",
    "    μ = p_vec[2k:2k+K-2]\n",
    "    #variances\n",
    "    σ = p_vec[2k+K-1:2k+2K-3]\n",
    "    #beliefs renormalized\n",
    "    ρ = p_vec[2k+2K-2:2k+3K-4] / sum(p_vec[2k+2K-2:2k+3K-4])\n",
    "    #β = p_vec[end] # set = 1 to hardcode\n",
    "\n",
    "    Fx_vec = ones(k)\n",
    "    x_vec = ones(k+1)\n",
    "    x_vec[k+1] = 0.0\n",
    "    for t in 1:k-1\n",
    "        Fx_vec_candidate = Fx(t, α, v_rel)\n",
    "        if Fx_vec_candidate <= 0.0\n",
    "            Fx_vec[t+1:k] .= 0.0\n",
    "            x_vec[t+1:k] .= 0.0\n",
    "            break\n",
    "        end\n",
    "        Fx_vec[t+1] = Fx_vec_candidate\n",
    "        x_vec[t+1] = find_zero(x -> F(x, ρ, μ, σ, K) - Fx_vec[t+1], 0.5) \n",
    "    end\n",
    "\n",
    "    objective = 0.0\n",
    "    likelihood = 0.0\n",
    "    normalizer= zeros(K)\n",
    "    # recode\n",
    "    # 1-normalizer is now the probabiity a placement should end up in ocs  \n",
    "    q_it = zeros(K, k)\n",
    "    for i in 1:K, t in 1:k\n",
    "        prob = q(i, t, Fx_vec, x_vec, ρ, μ, σ, α, v_rel, k, K)\n",
    "        q_it[i, t] = prob\n",
    "        normalizer[i] += ρ[i] * prob\n",
    "    end\n",
    "    for i in 1:K-1, t in 1:k \n",
    "        expectation = M * (ρ[i] * (q_it[i, t]))\n",
    "        if L\n",
    "            objective += (placements[i, t] - expectation) ^ 2 / expectation\n",
    "        else\n",
    "            # likilihood\n",
    "            objective += placements[i, t] * (log(ρ[i] * (q_it[i, t] )))\n",
    "            objective -= log(factorial(big(placements[i, t])))\n",
    "        end\n",
    "    end\n",
    "    for t in 1:k\n",
    "        expectation = M*(1-normalizer[t])\n",
    "        if L\n",
    "            objective += (placements[K, t] - expectation)^2 / expectation\n",
    "        else\n",
    "            #likelihood\n",
    "            objective += placements[K, t]*log(1 - normalizer[t])\n",
    "            objective -= log(factorial(big(placements[K, t])))\n",
    "        end\n",
    "    end\n",
    "    return -objective\n",
    "end\n"
   ]
  },
  {
   "cell_type": "code",
   "execution_count": 7,
   "id": "a226b38f-413c-425b-acd4-58699c6628cb",
   "metadata": {},
   "outputs": [
    {
     "data": {
      "text/plain": [
       "print_metrics_maximum_likelihood"
      ]
     },
     "execution_count": 7,
     "metadata": {},
     "output_type": "execute_result"
    }
   ],
   "source": [
    "\"\"\"\n",
    "    sol -> the solution provided by bboptimize\n",
    "    placements ->   the actual placements including unmatched dimensions computer from the size of this matrix\n",
    "\"\"\"\n",
    "function print_metrics_maximum_likelihood(sol, placements) \n",
    "    k = size(placements)[1]\n",
    "    K = size(placements)[2]\n",
    "    M = sum(placements)\n",
    "    println(\"chi-square objective value = \", objective)\n",
    "    println(\"log-likelihood objective value = \", likelihood)\n",
    "    println(\"likelihood objective value = \", exp(likelihood))\n",
    "    println(\"success sample size (departments) = \", M)\n",
    "    #println(\"estimated total samples (departments) = \", M / normalizer)\n",
    "    #println(\"estimated unmatched departments = \", (M / normalizer) - M)\n",
    "    #println(\"probability of any success: \", normalizer)\n",
    "    #println(\"probability of no success: \", 1 - normalizer)\n",
    "    #println(\"measure of departments in round 2 = \", D)\n",
    "    #println(\"measure of graduates in round 2 = \", S)\n",
    "    #println()\n",
    "    println(\"predicted fraction of departments of each tier:\")\n",
    "    display(ρ)\n",
    "    println()\n",
    "    println(\"fractions observed among successful departments in data:\")\n",
    "    display(sum(placements, dims = 2) ./ M)\n",
    "    println()\n",
    "\n",
    "    for i in 1:k\n",
    "        println(\"pi_\", i, \" = \", pi(i, α))\n",
    "    end\n",
    "    println()\n",
    "\n",
    "    offer_targets = zeros(k, k)\n",
    "    for t in 1:k, j in 1:t\n",
    "        offer_targets[t, j] = pi(j, α) * prod([1 - pi(i, α) for i in j+1:t])\n",
    "    end\n",
    "    println(\"Tier selection probabilities for making offers:\")\n",
    "    display(offer_targets)\n",
    "    println()\n",
    "\n",
    "    println(\"Round 1 hiring probabilities:\")\n",
    "    display(q_it)\n",
    "    println()\n",
    "\n",
    "    \n",
    "    for i in 1:k+1\n",
    "        println(\"x_\", i - 1, \" = \", x_vec[i])\n",
    "    end\n",
    "    println()\n",
    "    for i in 1:k\n",
    "        println(\"F(x_\", i - 1, \") = \", Fx_vec[i])\n",
    "    end\n",
    "    println()\n",
    "    #for i in 1:k\n",
    "    #    println(\"α_\", i, \" = \", α[i])\n",
    "    #    println(\"  Est. graduates: \", α[i] * (M / normalizer - 1))\n",
    "    #    println(\"  Successful: \", sum(placements[:, i]))\n",
    "    #    println(\"  Unsuccessful: \", (α[i] * (M / normalizer - 1)) - sum(placements[:, i]))\n",
    "    #end\n",
    "    #println(\"Total estimated graduates: \", sum(α) * (M / normalizer - 1))\n",
    "    println(\"Total successful graduates: \", M)\n",
    "    #println(\"Total estimated unsuccessful graduates: \", (sum(α) * (M / normalizer - 1)) - M)\n",
    "    #println(\"β = \", β)\n",
    "    println()\n",
    "    println(\"actual placement rates:\")\n",
    "    display(placements)\n",
    "    println()\n",
    "    #println(\"difference between estimated and actual placement rates:\")\n",
    "    #display(exp_placements - placements)\n",
    "    #println()\n",
    "    println(\"chi-square p-value\")\n",
    "    println(1 - cdf(Chisq((size(placements)[1] - 1) * (size(placements)[2] - 1)), objective))\n",
    "end"
   ]
  },
  {
   "cell_type": "code",
   "execution_count": 8,
   "id": "48f9bfc3-9eef-4099-bbb6-cf506c36754d",
   "metadata": {},
   "outputs": [
    {
     "ename": "LoadError",
     "evalue": "BoundsError: attempt to access 11-element Vector{Float64} at index [12]",
     "output_type": "error",
     "traceback": [
      "BoundsError: attempt to access 11-element Vector{Float64} at index [12]",
      "",
      "Stacktrace:",
      "  [1] getindex",
      "    @ ./array.jl:924 [inlined]",
      "  [2] #11",
      "    @ ./none:0 [inlined]",
      "  [3] iterate",
      "    @ ./generator.jl:47 [inlined]",
      "  [4] collect_to!(dest::Vector{Float64}, itr::Base.Generator{UnitRange{Int64}, var\"#11#12\"{Float64, Vector{Float64}, Vector{Float64}, Vector{Float64}}}, offs::Int64, st::Int64)",
      "    @ Base ./array.jl:845",
      "  [5] collect_to_with_first!",
      "    @ ./array.jl:823 [inlined]",
      "  [6] collect(itr::Base.Generator{UnitRange{Int64}, var\"#11#12\"{Float64, Vector{Float64}, Vector{Float64}, Vector{Float64}}})",
      "    @ Base ./array.jl:797",
      "  [7] F(x::Float64, ρ::Vector{Float64}, μ::Vector{Float64}, σ::Vector{Float64}, K::Int64)",
      "    @ Main ./In[4]:2",
      "  [8] #23",
      "    @ ./In[6]:35 [inlined]",
      "  [9] Callable_Function",
      "    @ ~/.julia/packages/Roots/neTBD/src/functions.jl:29 [inlined]",
      " [10] init_state",
      "    @ ~/.julia/packages/Roots/neTBD/src/DerivativeFree/derivative_free.jl:6 [inlined]",
      " [11] #init#47",
      "    @ ~/.julia/packages/Roots/neTBD/src/hybrid.jl:16 [inlined]",
      " [12] #init#99",
      "    @ ~/.julia/packages/Roots/neTBD/src/DerivativeFree/order0.jl:37 [inlined]",
      " [13] #solve#46",
      "    @ ~/.julia/packages/Roots/neTBD/src/find_zero.jl:491 [inlined]",
      " [14] #find_zero#39",
      "    @ ~/.julia/packages/Roots/neTBD/src/find_zero.jl:220 [inlined]",
      " [15] find_zero (repeats 2 times)",
      "    @ ~/.julia/packages/Roots/neTBD/src/find_zero.jl:210 [inlined]",
      " [16] #find_zero#40",
      "    @ ~/.julia/packages/Roots/neTBD/src/find_zero.jl:243 [inlined]",
      " [17] find_zero",
      "    @ ~/.julia/packages/Roots/neTBD/src/find_zero.jl:243 [inlined]",
      " [18] estimate_likelihood(p_vec::Vector{Float64}, placements::Matrix{Int64}, k::Int64, K::Int64, M::Int64, L::Bool)",
      "    @ Main ./In[6]:35",
      " [19] (::var\"#27#29\")(p::Vector{Float64})",
      "    @ Main ./In[8]:4",
      " [20] fitness(x::Vector{Float64}, p::FunctionBasedProblem{var\"#27#29\", ScalarFitnessScheme{true}, ContinuousRectSearchSpace, Nothing})",
      "    @ BlackBoxOptim ~/.julia/packages/BlackBoxOptim/lZtsr/src/problem.jl:61",
      " [21] setup_problem(func::Function, parameters::ParamsDictChain)",
      "    @ BlackBoxOptim ~/.julia/packages/BlackBoxOptim/lZtsr/src/bboptimize.jl:37",
      " [22] bbsetup(functionOrProblem::Function, parameters::Dict{Symbol, Any}; kwargs::Base.Pairs{Symbol, Any, Tuple{Symbol, Symbol, Symbol}, NamedTuple{(:SearchRange, :MaxFuncEvals, :TraceInterval), Tuple{Vector{Tuple{Float64, Float64}}, Int64, Int64}}})",
      "    @ BlackBoxOptim ~/.julia/packages/BlackBoxOptim/lZtsr/src/bboptimize.jl:111",
      " [23] bboptimize(functionOrProblem::Function, parameters::Dict{Symbol, Any}; kwargs::Base.Pairs{Symbol, Any, Tuple{Symbol, Symbol, Symbol}, NamedTuple{(:SearchRange, :MaxFuncEvals, :TraceInterval), Tuple{Vector{Tuple{Float64, Float64}}, Int64, Int64}}})",
      "    @ BlackBoxOptim ~/.julia/packages/BlackBoxOptim/lZtsr/src/bboptimize.jl:92",
      " [24] top-level scope",
      "    @ In[8]:4"
     ]
    }
   ],
   "source": [
    "\n",
    "# all lower bounds are zero as these should be positive parameters\n",
    "# can swap estimate_likelihood for chi_square\n",
    "sol_res = bboptimize(p -> estimate_likelihood(p, adjusted_placement_rates, k, K, M, L),\n",
    "    SearchRange = [(0.0, upper[i]) for i in eachindex(upper)], MaxFuncEvals = 100000, TraceInterval = 5)\n",
    "sol = best_candidate(sol_res)"
   ]
  },
  {
   "cell_type": "code",
   "execution_count": 9,
   "id": "6e5c2dcc-2e8f-40e1-af70-c26463f031de",
   "metadata": {},
   "outputs": [
    {
     "ename": "LoadError",
     "evalue": "UndefVarError: sol not defined",
     "output_type": "error",
     "traceback": [
      "UndefVarError: sol not defined",
      "",
      "Stacktrace:",
      " [1] top-level scope",
      "   @ In[9]:4"
     ]
    }
   ],
   "source": [
    "# uncomment this after estimation if you want detailed estimates\n",
    "\n",
    "# ensure the correct metrics function is used based on the selected optimiz\n",
    "estimate_likelihood(sol,adjusted_placement_rates, 5,11,sum(adjusted_placement_rates),true)\n",
    "#print_metrics_maximum_likelihood(sol, adjusted_placement_rates)\n",
    "size(sol)"
   ]
  },
  {
   "cell_type": "code",
   "execution_count": 10,
   "id": "fbddecf5-e48e-4361-b38b-a63d5303ecad",
   "metadata": {},
   "outputs": [
    {
     "ename": "LoadError",
     "evalue": "UndefVarError: sol not defined",
     "output_type": "error",
     "traceback": [
      "UndefVarError: sol not defined",
      "",
      "Stacktrace:",
      " [1] top-level scope",
      "   @ ./In[10]:10"
     ]
    }
   ],
   "source": [
    "v_base = 1\n",
    "type_values = []\n",
    "type_headers = []\n",
    "row_names = [\"Graduate Values\"]\n",
    "for i in 1:k\n",
    " #   println(\"v\", i, \": \", v_base)\n",
    "    push!(type_values, v_base)\n",
    "    push!(type_headers, string(\"Tier \", i))\n",
    "    if i != k\n",
    "        v_base = sol[i] * v_base\n",
    "    end\n",
    "end\n",
    "data = Vector{Float64}(type_values)\n",
    "head = Vector{String}(type_headers)\n",
    "#println(size(data,2), \" \" , size(data,1))\n",
    "#println(Vector{String}(type_headers))\n",
    "#println(row_names)\n",
    "#pretty_table(data', header = head, row_names=row_names)\n",
    "means_by_type = []\n",
    "std_by_type = []\n",
    "for select_type in 1:k\n",
    "    push!(means_by_type, mean(truncated(Normal(sol[2k-1+select_type], sol[2k-1+select_type+K]), 0 ,1)))\n",
    "    push!(std_by_type, std(truncated(Normal(sol[2k-1+select_type], sol[2k-1+select_type+K]), 0 ,1)))\n",
    "   \n",
    "    #println(\"mean for type \", select_type, \": \", mean(truncated(Normal(sol[2k-1+select_type], sol[2k-1+select_type+K]), 0, 1)))\n",
    "    #println(\"stddev for type \", select_type, \": \", std(truncated(Normal(sol[2k-1+select_type], sol[2k-1+select_type+K]), 0, 1)))\n",
    "    #println()\n",
    "end\n",
    "datam = Vector{Float64}(means_by_type)\n",
    "datas = Vector{Float64}(std_by_type)\n",
    "shares = 1.0 * sol[k:2k-1] / sum(sol[k:2k-1]) # change 1.0 to scale number of graduates vs departments\n",
    "all_data = hcat(data, datam, datas, shares )\n",
    "push!(row_names, \"Mean offer value\")\n",
    "push!(row_names, \"Offers, std deviation\")\n",
    "push!(row_names, \"Tier Shares\")\n",
    "\n",
    "#println(all_data)    \n",
    "pretty_table(all_data', header = head, row_labels=row_names)\n",
    "\n",
    "#for select_type in k+1:K\n",
    "#    println(\"mean for sink \", select_type - k, \": \", mean(truncated(Normal(sol[2k-1+select_type], sol[2k-1+select_type+K]), 0, 1)))\n",
    "#    println(\"stddev for sink \", select_type - k, \": \", std(truncated(Normal(sol[2k-1+select_type], sol[2k-1+select_type+K]), 0, 1)))\n",
    "#    println()\n",
    "#end"
   ]
  },
  {
   "cell_type": "code",
   "execution_count": 11,
   "id": "8205916f-966e-4a25-b0ae-473df0f79cac",
   "metadata": {},
   "outputs": [
    {
     "ename": "LoadError",
     "evalue": "UndefVarError: all_data not defined",
     "output_type": "error",
     "traceback": [
      "UndefVarError: all_data not defined",
      "",
      "Stacktrace:",
      " [1] top-level scope",
      "   @ In[11]:1"
     ]
    }
   ],
   "source": [
    "save(files_path*\"current_estimates.jld\", \"all_data\", all_data)"
   ]
  },
  {
   "cell_type": "code",
   "execution_count": 12,
   "id": "e718a2b0-6204-4178-baff-8664580ee1f8",
   "metadata": {},
   "outputs": [
    {
     "ename": "LoadError",
     "evalue": "UndefVarError: all_data not defined",
     "output_type": "error",
     "traceback": [
      "UndefVarError: all_data not defined",
      "",
      "Stacktrace:",
      " [1] (::var\"#31#32\")(f::IOStream)",
      "   @ Main ./In[12]:2",
      " [2] open(::var\"#31#32\", ::String, ::Vararg{String}; kwargs::Base.Pairs{Symbol, Union{}, Tuple{}, NamedTuple{(), Tuple{}}})",
      "   @ Base ./io.jl:384",
      " [3] open(::Function, ::String, ::String)",
      "   @ Base ./io.jl:381",
      " [4] top-level scope",
      "   @ In[12]:1"
     ]
    }
   ],
   "source": [
    "open(files_path*\"current_estimates.tex\", \"w\") do f\n",
    "pretty_table(\n",
    "    f,\n",
    "    all_data',\n",
    "    header = head,\n",
    "        row_labels = row_names,\n",
    "    backend = Val(:latex)\n",
    "    )\n",
    "end"
   ]
  },
  {
   "cell_type": "code",
   "execution_count": 13,
   "id": "5426e1b6-b5c9-4b62-bfda-4f18259961fc",
   "metadata": {},
   "outputs": [
    {
     "ename": "LoadError",
     "evalue": "UndefVarError: sol not defined",
     "output_type": "error",
     "traceback": [
      "UndefVarError: sol not defined",
      "",
      "Stacktrace:",
      " [1] top-level scope",
      "   @ In[13]:5"
     ]
    }
   ],
   "source": [
    "# https://github.com/JuliaPlots/StatsPlots.jl/blob/master/README.md\n",
    "# https://docs.juliaplots.org/latest/tutorial/\n",
    "\n",
    "select_type = 1\n",
    "cdfs = plot(truncated(Normal(sol[2k-1+select_type], sol[2k-1+select_type+K]), 0, 1), func = cdf, title = \"CDFs of Types\", label = \"Type 1\")\n",
    "for select_type in 2:NUMBER_OF_TYPES # academic types\n",
    "    plot!(cdfs, truncated(Normal(sol[2k-1+select_type], sol[2k-1+select_type+K]), 0, 1), func = cdf, label = string(\"Type \", select_type))\n",
    "end\n",
    "\n",
    "for select_type in k+1:K # sinks\n",
    "    plot!(cdfs, truncated(Normal(sol[2k-1+select_type], sol[2k-1+select_type+K]), 0, 1), func = cdf, label = string(\"Sink \", select_type - k))\n",
    "end\n",
    "xlabel!(cdfs, \"offer value\")\n",
    "ylabel!(cdfs, \"F(offer value)\")\n",
    "savefig(cdfs, \"cdfs.png\")\n",
    "cdfs"
   ]
  },
  {
   "cell_type": "code",
   "execution_count": 14,
   "id": "9281df32-0b71-4f5d-a1c3-04bda540dcd4",
   "metadata": {},
   "outputs": [
    {
     "ename": "LoadError",
     "evalue": "UndefVarError: sol not defined",
     "output_type": "error",
     "traceback": [
      "UndefVarError: sol not defined",
      "",
      "Stacktrace:",
      " [1] top-level scope",
      "   @ ./In[14]:3"
     ]
    }
   ],
   "source": [
    "expected_offers = []\n",
    "for select_type in 1:K\n",
    "     push!(expected_offers,mean(truncated(Normal(sol[2k-1+select_type], sol[2k-1+select_type+K]), 0, 1)))\n",
    "end\n",
    "expected_offers\n",
    "save(files_path*\"expected_offers.jld\", \"expected_offers\", expected_offers)"
   ]
  },
  {
   "cell_type": "code",
   "execution_count": 15,
   "id": "60ac46ea-8e03-4f48-871b-104d34d6baa4",
   "metadata": {},
   "outputs": [
    {
     "ename": "LoadError",
     "evalue": "UndefVarError: sol not defined",
     "output_type": "error",
     "traceback": [
      "UndefVarError: sol not defined",
      "",
      "Stacktrace:",
      " [1] top-level scope",
      "   @ In[15]:2"
     ]
    }
   ],
   "source": [
    "select_type = 1\n",
    "pdfs = plot(truncated(Normal(sol[2k-1+select_type], sol[2k-1+select_type+K]), 0, 1), func = pdf, title = \"PDFs of Types\", label = \"Type 1\")\n",
    "for select_type in 2:k # academic types\n",
    "    plot!(pdfs, truncated(Normal(sol[2k-1+select_type], sol[2k-1+select_type+K]), 0, 1), func = pdf, \n",
    "        label = string(\"Type \", select_type))\n",
    "end\n",
    "\n",
    "for select_type in k+1:K # sinks\n",
    "    plot!(pdfs, truncated(Normal(sol[2k-1+select_type], sol[2k-1+select_type+K]), 0, 1), func = pdf, label = string(\"Sink \", select_type - k))\n",
    "end\n",
    "xlabel!(pdfs, \"offer value\")\n",
    "ylabel!(pdfs, \"f(offer value)\")\n",
    "savefig(pdfs, \"pdfs.png\")\n",
    "pdfs"
   ]
  }
 ],
 "metadata": {
  "kernelspec": {
   "display_name": "Julia 1.8.5",
   "language": "julia",
   "name": "julia-1.8"
  },
  "language_info": {
   "file_extension": ".jl",
   "mimetype": "application/julia",
   "name": "julia",
   "version": "1.8.5"
  }
 },
 "nbformat": 4,
 "nbformat_minor": 5
}
