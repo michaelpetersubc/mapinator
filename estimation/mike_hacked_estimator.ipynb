{
 "cells": [
  {
   "cell_type": "code",
   "execution_count": 31,
   "id": "0714a482-7a06-469b-b9bb-97ab684b7841",
   "metadata": {},
   "outputs": [
    {
     "data": {
      "text/plain": [
       "\"/home/peters/code/mapinator/estimation/current_estimates_and_files/\""
      ]
     },
     "execution_count": 31,
     "metadata": {},
     "output_type": "execute_result"
    }
   ],
   "source": [
    "using Pkg\n",
    "Pkg.instantiate()\n",
    "using HTTP, JSON, JLD, Roots, PrettyTables, DotEnv, Dates\n",
    "DEBUG_LEVEL = 1\n",
    "using Optim, Random\n",
    "Random.seed!(0)\n",
    "using BlackBoxOptim, Distributions, ForwardDiff, Integrals, Roots, StatsPlots, DelimitedFiles\n",
    "cfg = DotEnv.config(\"../.env\")\n",
    "files_path = cfg[\"files_path\"]"
   ]
  },
  {
   "cell_type": "markdown",
   "id": "103426ec-5f87-43e2-9780-07c28d8fcb81",
   "metadata": {},
   "source": [
    "# Version 2 Changes\n",
    "\n",
    "The second round is dropped in this version.  The unmatched are assumed to be all those in ocean and crow - reasoning is that they were matched with institutions that didn't participate in the international job market (because the never posted a job on econjobmarket and never graduated a student who registered with econjobmarket). \n",
    "\n",
    "Change in the way $\\alpha$  is computed.  The assumption that failed trades are recorded in ocean and crow means that the share \n",
    "$\\alpha$  of the market can be estimated by using the recorded number of outcomes for a tier in the adjusted adjacency matrix divided by the estimated level of demand. More accurately the proportion of the market that could be filled by type $i$  applicants is\n",
    "$$\n",
    "\\alpha_i = \\frac{m_i}{n}\n",
    "$$\n",
    "\n",
    "Change in the way $\\rho$ is computed.  Sometimes it seems using more variables just seems to give the algorithm a wierd direction to go in.  To avoid that, the $\\rho_i$ are now given by the proportion of all hires that were made by each tier.  Not perfect.\n",
    "\n",
    "The solution vector now has 27 elements 4 value ratios, 1 demand estimate, 11 estimated means and 1 estimated variances..  The parameters estimated for the means and variances are the mean and variance of a standard normal distribution.  This distribution is truncated so that all the values in its support lie in $[0,1]$.  This means that the mean and variance for each hiring tier nneed to be recomputed to get the mean and variance of the trucated distribution itself.\n",
    "\n",
    "Adjacency table is taken from the table created by scaling up each tier is the actual adjacency matrix according to the coverage rates for each tier.(mike_adjust_adjaceny.ipynb).  The adjusted adjacency matrix used here is created by shifting the 10th row to the bottom of the matrix to move the ocs outcomes to the bottom."
   ]
  },
  {
   "cell_type": "code",
   "execution_count": 2,
   "id": "494eddaf-9e69-4c04-b7e4-cf8dd0120f66",
   "metadata": {},
   "outputs": [
    {
     "data": {
      "text/plain": [
       "12"
      ]
     },
     "execution_count": 2,
     "metadata": {},
     "output_type": "execute_result"
    }
   ],
   "source": [
    "# change associated with ocs as failed to trade group\n",
    "raw_placement_rates = load(files_path*\"adjusted_placement_rates.jld\")[\"adjusted_placement_rates\"]\n",
    "unmatched_row_index = 10\n",
    "adjusted_placement_rates = \n",
    "vcat(raw_placement_rates[1:unmatched_row_index-1,:],\n",
    "raw_placement_rates[unmatched_row_index+1:size(raw_placement_rates)[1],:])\n",
    "# row names for reporting results\n",
    "\n",
    "#adjusted_placement_rates = load(files_path*\"adjusted_placement_rates.jld\")[\"adjusted_placement_rates\"]\n",
    "# number of academic types\n",
    "NUMBER_OF_TYPES = size(adjusted_placement_rates, 2)\n",
    "# add unmatched to make and additional row\n",
    "adjusted_placement_rates = vcat(adjusted_placement_rates, \n",
    "    raw_placement_rates[unmatched_row_index:unmatched_row_index, :])\n",
    "# number of rows in the adj matrix\n",
    "numtotal = size(adjusted_placement_rates, 1)"
   ]
  },
  {
   "cell_type": "code",
   "execution_count": 34,
   "id": "d79b77cc-3515-4679-8877-cd56cb5fb5a3",
   "metadata": {},
   "outputs": [
    {
     "data": {
      "text/plain": [
       "get_rho (generic function with 1 method)"
      ]
     },
     "execution_count": 34,
     "metadata": {},
     "output_type": "execute_result"
    }
   ],
   "source": [
    "# this hack gets beliefs rho by setting it equal to the proportion of all placements\n",
    "# used in estimation\n",
    "# notice it uses only the first K-1 of the rows of the adjusted adjacency matrix.\n",
    "function get_rho(adjusted_placement_rates)\n",
    "    a = sum(adjusted_placement_rates, dims = 2)\n",
    "    b = zeros(size(a)[1] - 1)\n",
    "    for i in 1:size(a)[1]-1\n",
    "        b[i] = a[i]\n",
    "    end\n",
    "    #experiment with rho\n",
    "    B = sum(b)\n",
    "    return b = b./B\n",
    "end"
   ]
  },
  {
   "cell_type": "code",
   "execution_count": 4,
   "id": "4ef1252b-0d50-4f0c-aabd-f40128c65855",
   "metadata": {},
   "outputs": [],
   "source": [
    "#setup stuff\n",
    "k = NUMBER_OF_TYPES\n",
    "# number of recruiter types, note this is one less that the number of rows in the adjacency matrix\n",
    "K = numtotal-1\n",
    "## sample size for computed expectations\n",
    "M = sum(adjusted_placement_rates)\n",
    "# need the column sums to calculate \\alpha\n",
    "workers = sum(adjusted_placement_rates, dims= 1)\n",
    "#maximum likelihood  true for ML false for chi-squared\n",
    "L = true\n",
    "#chi-squared\n",
    "#L = false\n",
    "\n",
    "# upper bound on the value ratios, which should all be less than 1\n",
    "# if any ratio turns out to be 1.0 or close to it at optimality, this could indicate that a lower tier has a higher value than a higher one\n",
    "# these bounds aren't actually used since the optimizer wouldn't accept abstract argument.  \n",
    "# They are copied into hard coded text instead.\n",
    "search_range = Tuple[]\n",
    "for i in 1:k-1\n",
    "    push!(search_range, (0.0, 1.0))\n",
    "end\n",
    "\n",
    "# upper bound on variables proportionate to alpha\n",
    "push!(search_range, (Float64(sum(workers)), Inf))\n",
    "\n",
    "# upper bound on the mu parameter of truncated normal, which is strictly within [0, 1] as the mean is greater than mu in truncated normal\n",
    "\n",
    "for i in k+1:k+K\n",
    "    push!(search_range , (.1,1.0))\n",
    "end\n",
    "\n",
    "# upper bound on the sigma parameter of truncated normal\n",
    "for i in k+K+1:k+2K\n",
    "    push!(search_range , (.1,5.0))\n",
    "end\n",
    "\n",
    "# these are parameters that generate beliefs, not the beliefs themselves\n",
    "#for i in k+2K+1:k+3K\n",
    "#   push!(search_range , (.1,1.))\n",
    "#end\n"
   ]
  },
  {
   "cell_type": "code",
   "execution_count": 5,
   "id": "7a88be54-e33d-4f59-b33d-5b2e63f8a56d",
   "metadata": {},
   "outputs": [
    {
     "name": "stdout",
     "output_type": "stream",
     "text": [
      "Tuple[(0.0, 1.0), (0.0, 1.0), (0.0, 1.0), (0.0, 1.0), (27489.0, Inf), (0.1, 1.0), (0.1, 1.0), (0.1, 1.0), (0.1, 1.0), (0.1, 1.0), (0.1, 1.0), (0.1, 1.0), (0.1, 1.0), (0.1, 1.0), (0.1, 1.0), (0.1, 1.0), (0.1, 5.0), (0.1, 5.0), (0.1, 5.0), (0.1, 5.0), (0.1, 5.0), (0.1, 5.0), (0.1, 5.0), (0.1, 5.0), (0.1, 5.0), (0.1, 5.0), (0.1, 5.0)]\n"
     ]
    },
    {
     "data": {
      "text/plain": [
       "(27,)"
      ]
     },
     "execution_count": 5,
     "metadata": {},
     "output_type": "execute_result"
    }
   ],
   "source": [
    "# this is needed to produce a hard coded array of ranges and is used in the optimizer below\n",
    "println(search_range)\n",
    "size(search_range)"
   ]
  },
  {
   "cell_type": "code",
   "execution_count": 6,
   "id": "6801400d-91fc-4ebd-a30e-b5f4d46fc15f",
   "metadata": {},
   "outputs": [
    {
     "data": {
      "text/plain": [
       "fi (generic function with 1 method)"
      ]
     },
     "execution_count": 6,
     "metadata": {},
     "output_type": "execute_result"
    }
   ],
   "source": [
    "# these are the core theoretical functions\n",
    "function F(x, ρ, μ, σ, K)\n",
    "    return sum([ρ[i] * cdf(truncated(Normal(μ[i], σ[i]), 0, 1), x) for i in 1:K])\n",
    "end\n",
    "\n",
    "function f(x, ρ, μ, σ, K)\n",
    "    return sum([ρ[i] * pdf(truncated(Normal(μ[i], σ[i]), 0, 1), x) for i in 1:K])\n",
    "end\n",
    "\n",
    "function G(Fim1, Fx, αsum)\n",
    "    return (Fim1 - Fx) / αsum\n",
    "end\n",
    "\n",
    "function κ(i, t, v_rel)\n",
    "    return sum([-log(v_rel[j]) for j in t:i-1])\n",
    "end\n",
    "\n",
    "function fi(x, μ, σ)\n",
    "    return pdf(truncated(Normal(μ, σ), 0, 1), x)\n",
    "end"
   ]
  },
  {
   "cell_type": "code",
   "execution_count": 7,
   "id": "94917d56-9391-4845-ba6c-b1d36ca38261",
   "metadata": {},
   "outputs": [
    {
     "data": {
      "text/plain": [
       "pi (generic function with 1 method)"
      ]
     },
     "execution_count": 7,
     "metadata": {},
     "output_type": "execute_result"
    }
   ],
   "source": [
    "function q(i, t, Fx_vec, x_vec, ρ, μ, σ, α, v_rel, k, K)\n",
    "    # Fx_vec = [F(x0)=1, F(x1), F(x2), F(x3), ..., F(xk-1)]\n",
    "    # x_vec = [x0 = 1, x1, x2, x3, ..., xk = 0]\n",
    "    # x_vec[s] = x_{s-1}, so the limits of integration are and must be offset by 1 below\n",
    "    # TODO: can some integrals be cached as a speed-up? can some integrals be computed in parallel?\n",
    "    return sum([(α[t]/sum(α[1:s])) * \n",
    "            solve(IntegralProblem{false}((x, p) -> exp(-(G(Fx_vec[s], F(x, ρ, μ, σ, K), sum(α[1:s])) + κ(s, t, v_rel))) *\n",
    "                    fi(x, μ[i], σ[i]), x_vec[s+1], x_vec[s]), HCubatureJL())[1] for s in t:k])\n",
    "end\n",
    "\n",
    "function Fx(t, α, v_rel)\n",
    "        return 1 - sum([-log(v_rel[j])*sum(α[1:j]) for j in 1:t])\n",
    "end\n",
    "\n",
    "function Q2(ratio, β)\n",
    "    return β * (1 - exp(-ratio)) / ratio\n",
    "end\n",
    "\n",
    "function pi(t, α)\n",
    "    return α[t] / sum(α[1:t])\n",
    "end"
   ]
  },
  {
   "cell_type": "code",
   "execution_count": 40,
   "id": "b0142842-3b45-4a65-aaf1-78a2ba99cda6",
   "metadata": {},
   "outputs": [
    {
     "data": {
      "text/plain": [
       "estimate_likelihood"
      ]
     },
     "execution_count": 40,
     "metadata": {},
     "output_type": "execute_result"
    }
   ],
   "source": [
    "\"\"\"\n",
    "Likelihood\n",
    "    p_vec -> k values,k alpha shares, K means, K variances, K beliefs\n",
    "    example -  for 5 academic tiers and six hiring tiers p_vec has 43 elements\n",
    "    - it assumes the last row of the adjacency matrix is for unmatched so the placement matrix in the example has dimension 12x5 not 11x5\n",
    "    placements -> the adjacency matrix with the unmatched row moved to the bottom\n",
    "    k -> number of academic tiers\n",
    "    K -> rows in the adjacency matrix - last row is treaed as unmatched\n",
    "    L -> true for likelihood, false for chi-squared maximization\n",
    "\"\"\"\n",
    "function estimate_likelihood(p_vec, placements, k, K, M, L, verify)\n",
    "    #values\n",
    "    v_rel = p_vec[1:k-1]\n",
    "    #println(v_rel)\n",
    "    #shares\n",
    "    α = []\n",
    "    for i in 1:k\n",
    "        push!(α, workers[i]/p_vec[k])\n",
    "    end\n",
    "    #means\n",
    "    μ = p_vec[k+1:k+K]\n",
    "    #variances\n",
    "    #println(μ)\n",
    "    σ = p_vec[k+K+1:k+2K]\n",
    "    #println(σ)\n",
    "    #setting rho exogenously\n",
    "    ρ = get_rho(placements)\n",
    "    Fx_vec = ones(k)\n",
    "    x_vec = ones(k+1)\n",
    "    x_vec[k+1] = 0.0\n",
    "    for t in 1:k-1\n",
    "        Fx_vec_candidate = Fx(t, α, v_rel)\n",
    "        #println(v_rel[t], \" \", -log(v_rel[t])*sum(α[1:t]))\n",
    "        if Fx_vec_candidate <= 0.0\n",
    "            Fx_vec[t+1:k] .= 0.0\n",
    "            x_vec[t+1:k] .= 0.0\n",
    "            break\n",
    "        end\n",
    "        Fx_vec[t+1] = Fx_vec_candidate\n",
    "        if  Fx_vec[t+1] > 0 && Fx_vec[t+1] < 1\n",
    "            x_vec[t+1] = find_zero(x -> F(x, ρ, μ, σ, K) - Fx_vec[t+1], 0.5)\n",
    "        else\n",
    "            x_vec[t+1] = 1\n",
    "        end\n",
    "    end    \n",
    "    objective = 0.0\n",
    "    o = 0.0\n",
    "    likelihood = 0.0\n",
    "    # a sanity checker\n",
    "    normalizer = zeros(K)\n",
    "    # recode\n",
    "    # 1-normalizer is now the probabiity a placement should end up in ocs  \n",
    "    q_it = zeros(K, k)\n",
    "    for i in 1:K, t in 1:k\n",
    "        prob = q(i, t, Fx_vec, x_vec, ρ, μ, σ, α, v_rel, k, K)\n",
    "        q_it[i, t] = prob\n",
    "        normalizer[i] +=  prob\n",
    "    end\n",
    "    #normalizer is the probability each recruiter type is placed, it should be less than 1\n",
    "    #check by rerunning this function with the optimal solution and set verify = to true\n",
    "    if verify\n",
    "        println(normalizer)\n",
    "    end\n",
    "    for i in 1:K, t in 1:k \n",
    "        expectation = M * ρ[i] * q_it[i, t] + .5\n",
    "        #println(expectation, \" \", placements[i,t], \" \",expectation-placements[i,t])\n",
    "        if L\n",
    "            # likelihood\n",
    "            objective += (placements[i, t] + 1) * log(ρ[i] * q_it[i, t]/normalizer[i])\n",
    "            objective -= log(factorial(big(placements[i, t])))\n",
    "        else\n",
    "            objective += (placements[i, t] - expectation) ^ 2 / expectation\n",
    "        end\n",
    "    end\n",
    "    ## this next bit is for the market failures, it is just commented out\n",
    "    ## so only placements are used to compute likelihood\n",
    "    if L\n",
    "        return Float64(-objective)\n",
    "    else \n",
    "        return Float64(objective)\n",
    "    end\n",
    "end\n"
   ]
  },
  {
   "cell_type": "code",
   "execution_count": 44,
   "id": "6e5c2dcc-2e8f-40e1-af70-c26463f031de",
   "metadata": {},
   "outputs": [
    {
     "name": "stdout",
     "output_type": "stream",
     "text": [
      "[0.502585890445317, 0.4261705082459622, 0.389590180530203, 0.25620504373282965, 0.17826277002229263, 0.3985442806815523, 0.40174460118160094, 0.2791644267605973, 0.21199141790006967, 0.37720291427281694, 0.2797195824694928]\n"
     ]
    },
    {
     "data": {
      "text/plain": [
       "202023.6208742913"
      ]
     },
     "execution_count": 44,
     "metadata": {},
     "output_type": "execute_result"
    }
   ],
   "source": [
    "# a sample solution for testing purposes\n",
    "v = [.68, .75, .75, .75] \n",
    "num = sum(workers)\n",
    "mu = [.88,.5, .4, .2, .05, .3, .8, .1, .3, .1, .1]\n",
    "sigma = [.3,.4, .5,.6,.7,.8,1,1.1,1.3,.1,.9]\n",
    "trial = vcat(v,num,mu,sigma)\n",
    "soln = estimate_likelihood(s, adjusted_placement_rates, k, K, M, true, true)"
   ]
  },
  {
   "cell_type": "code",
   "execution_count": 45,
   "id": "48f9bfc3-9eef-4099-bbb6-cf506c36754d",
   "metadata": {},
   "outputs": [
    {
     "name": "stdout",
     "output_type": "stream",
     "text": [
      "5 11 27489\n",
      "Starting optimization with optimizer DiffEvoOpt{FitPopulation{Float64}, RadiusLimitedSelector, BlackBoxOptim.AdaptiveDiffEvoRandBin{3}, RandomBound{ContinuousRectSearchSpace}}\n",
      "0.00 secs, 0 evals, 0 steps\n",
      "5.00 secs, 1053 evals, 979 steps, improv/step: 0.526 (last = 0.5260), fitness=204166.096224573\n",
      "10.01 secs, 2065 evals, 1991 steps, improv/step: 0.408 (last = 0.2935), fitness=203885.976180250\n",
      "15.01 secs, 3053 evals, 2979 steps, improv/step: 0.360 (last = 0.2642), fitness=203488.770660444\n",
      "20.01 secs, 4028 evals, 3954 steps, improv/step: 0.324 (last = 0.2144), fitness=203216.500468186\n",
      "25.01 secs, 4992 evals, 4918 steps, improv/step: 0.296 (last = 0.1815), fitness=203097.525303934\n",
      "30.02 secs, 5962 evals, 5888 steps, improv/step: 0.278 (last = 0.1856), fitness=202990.911688207\n",
      "35.03 secs, 6908 evals, 6834 steps, improv/step: 0.264 (last = 0.1755), fitness=202972.685628048\n",
      "40.03 secs, 7875 evals, 7801 steps, improv/step: 0.248 (last = 0.1324), fitness=202715.799654822\n",
      "45.03 secs, 8830 evals, 8756 steps, improv/step: 0.239 (last = 0.1696), fitness=202714.647802992\n",
      "50.04 secs, 9804 evals, 9730 steps, improv/step: 0.229 (last = 0.1437), fitness=202613.033664316\n",
      "55.04 secs, 10779 evals, 10705 steps, improv/step: 0.223 (last = 0.1590), fitness=202563.499171960\n",
      "60.04 secs, 11752 evals, 11678 steps, improv/step: 0.220 (last = 0.1860), fitness=202483.981218422\n",
      "65.04 secs, 12736 evals, 12662 steps, improv/step: 0.217 (last = 0.1799), fitness=202465.518940435\n",
      "70.05 secs, 13731 evals, 13657 steps, improv/step: 0.216 (last = 0.2070), fitness=202406.329308970\n",
      "75.05 secs, 14752 evals, 14678 steps, improv/step: 0.216 (last = 0.2116), fitness=202362.729681255\n",
      "80.05 secs, 15773 evals, 15699 steps, improv/step: 0.216 (last = 0.2145), fitness=202351.358730739\n",
      "85.06 secs, 16801 evals, 16727 steps, improv/step: 0.215 (last = 0.2004), fitness=202336.513063907\n",
      "90.06 secs, 17820 evals, 17746 steps, improv/step: 0.215 (last = 0.2139), fitness=202305.675590028\n",
      "95.06 secs, 18839 evals, 18765 steps, improv/step: 0.215 (last = 0.2169), fitness=202295.441394300\n",
      "100.06 secs, 19859 evals, 19785 steps, improv/step: 0.213 (last = 0.1824), fitness=202287.792068986\n",
      "105.07 secs, 20884 evals, 20810 steps, improv/step: 0.212 (last = 0.1854), fitness=202280.953218891\n",
      "110.07 secs, 21899 evals, 21825 steps, improv/step: 0.210 (last = 0.1744), fitness=202276.201663890\n",
      "115.07 secs, 22909 evals, 22835 steps, improv/step: 0.208 (last = 0.1574), fitness=202270.231963753\n",
      "120.07 secs, 23913 evals, 23839 steps, improv/step: 0.207 (last = 0.1813), fitness=202268.391538142\n",
      "125.08 secs, 24911 evals, 24837 steps, improv/step: 0.206 (last = 0.1804), fitness=202266.864339219\n",
      "130.08 secs, 25909 evals, 25835 steps, improv/step: 0.204 (last = 0.1653), fitness=202266.272716268\n",
      "135.08 secs, 26898 evals, 26824 steps, improv/step: 0.202 (last = 0.1598), fitness=202265.613753003\n",
      "140.08 secs, 27894 evals, 27820 steps, improv/step: 0.200 (last = 0.1476), fitness=202265.094332402\n",
      "145.08 secs, 28891 evals, 28817 steps, improv/step: 0.200 (last = 0.1775), fitness=202264.500858969\n",
      "150.08 secs, 29900 evals, 29828 steps, improv/step: 0.200 (last = 0.2087), fitness=202264.048109586\n",
      "155.09 secs, 30911 evals, 30839 steps, improv/step: 0.199 (last = 0.1780), fitness=202263.607266958\n",
      "160.09 secs, 31931 evals, 31859 steps, improv/step: 0.199 (last = 0.1794), fitness=202263.420081620\n",
      "165.09 secs, 32948 evals, 32876 steps, improv/step: 0.198 (last = 0.1750), fitness=202263.228250662\n",
      "170.09 secs, 33968 evals, 33896 steps, improv/step: 0.197 (last = 0.1588), fitness=202263.135677295\n",
      "175.10 secs, 34985 evals, 34913 steps, improv/step: 0.196 (last = 0.1731), fitness=202263.071386869\n",
      "180.10 secs, 36006 evals, 35934 steps, improv/step: 0.195 (last = 0.1694), fitness=202262.984865184\n",
      "185.10 secs, 37023 evals, 36951 steps, improv/step: 0.195 (last = 0.1790), fitness=202262.964078966\n",
      "190.11 secs, 38042 evals, 37970 steps, improv/step: 0.194 (last = 0.1560), fitness=202262.929077313\n",
      "195.11 secs, 39053 evals, 38981 steps, improv/step: 0.193 (last = 0.1573), fitness=202262.894597042\n",
      "200.11 secs, 40064 evals, 39992 steps, improv/step: 0.192 (last = 0.1672), fitness=202262.882219318\n",
      "205.11 secs, 41071 evals, 41000 steps, improv/step: 0.191 (last = 0.1577), fitness=202262.856325866\n",
      "210.12 secs, 42083 evals, 42012 steps, improv/step: 0.191 (last = 0.1798), fitness=202262.840725470\n",
      "215.12 secs, 43094 evals, 43024 steps, improv/step: 0.191 (last = 0.1858), fitness=202262.829952840\n",
      "220.12 secs, 44099 evals, 44029 steps, improv/step: 0.190 (last = 0.1692), fitness=202262.822953346\n",
      "225.12 secs, 45106 evals, 45036 steps, improv/step: 0.190 (last = 0.1807), fitness=202262.814241587\n",
      "230.12 secs, 46108 evals, 46038 steps, improv/step: 0.190 (last = 0.1866), fitness=202262.808878007\n",
      "235.12 secs, 47115 evals, 47045 steps, improv/step: 0.191 (last = 0.2264), fitness=202262.804204192\n",
      "240.13 secs, 48119 evals, 48049 steps, improv/step: 0.191 (last = 0.1863), fitness=202262.801512223\n",
      "245.13 secs, 49126 evals, 49056 steps, improv/step: 0.191 (last = 0.1897), fitness=202262.798439932\n",
      "250.13 secs, 50130 evals, 50060 steps, improv/step: 0.190 (last = 0.1564), fitness=202262.796518768\n",
      "255.14 secs, 51138 evals, 51068 steps, improv/step: 0.190 (last = 0.1825), fitness=202262.795468129\n",
      "260.14 secs, 52141 evals, 52071 steps, improv/step: 0.190 (last = 0.1874), fitness=202262.794369655\n",
      "265.14 secs, 53145 evals, 53075 steps, improv/step: 0.190 (last = 0.1693), fitness=202262.793477439\n",
      "270.16 secs, 54152 evals, 54082 steps, improv/step: 0.190 (last = 0.1897), fitness=202262.792437317\n",
      "275.16 secs, 55161 evals, 55091 steps, improv/step: 0.190 (last = 0.1913), fitness=202262.791417680\n",
      "280.16 secs, 56170 evals, 56100 steps, improv/step: 0.190 (last = 0.2002), fitness=202262.790611547\n",
      "285.16 secs, 57175 evals, 57105 steps, improv/step: 0.190 (last = 0.2100), fitness=202262.790293343\n",
      "290.17 secs, 58184 evals, 58114 steps, improv/step: 0.190 (last = 0.1883), fitness=202262.789681209\n",
      "295.17 secs, 59188 evals, 59118 steps, improv/step: 0.190 (last = 0.1633), fitness=202262.789349029\n",
      "300.17 secs, 60196 evals, 60126 steps, improv/step: 0.190 (last = 0.1895), fitness=202262.789220116\n",
      "305.18 secs, 61200 evals, 61130 steps, improv/step: 0.189 (last = 0.1803), fitness=202262.788918414\n",
      "310.18 secs, 62206 evals, 62136 steps, improv/step: 0.189 (last = 0.1600), fitness=202262.788874688\n",
      "315.18 secs, 63208 evals, 63138 steps, improv/step: 0.189 (last = 0.1906), fitness=202262.788687777\n",
      "320.19 secs, 64214 evals, 64144 steps, improv/step: 0.189 (last = 0.1660), fitness=202262.788622271\n",
      "325.19 secs, 65212 evals, 65142 steps, improv/step: 0.189 (last = 0.2004), fitness=202262.788527390\n",
      "330.19 secs, 66218 evals, 66148 steps, improv/step: 0.189 (last = 0.1720), fitness=202262.788460405\n",
      "335.21 secs, 67224 evals, 67154 steps, improv/step: 0.188 (last = 0.1759), fitness=202262.788400076\n",
      "340.21 secs, 68232 evals, 68162 steps, improv/step: 0.189 (last = 0.1994), fitness=202262.788357253\n",
      "345.21 secs, 69239 evals, 69169 steps, improv/step: 0.189 (last = 0.2075), fitness=202262.788331869\n",
      "350.21 secs, 70242 evals, 70172 steps, improv/step: 0.189 (last = 0.2154), fitness=202262.788290400\n",
      "355.21 secs, 71248 evals, 71178 steps, improv/step: 0.189 (last = 0.1958), fitness=202262.788275933\n",
      "360.22 secs, 72252 evals, 72182 steps, improv/step: 0.189 (last = 0.2032), fitness=202262.788270306\n",
      "365.22 secs, 73259 evals, 73189 steps, improv/step: 0.189 (last = 0.1817), fitness=202262.788253126\n",
      "370.22 secs, 74263 evals, 74193 steps, improv/step: 0.189 (last = 0.1843), fitness=202262.788242086\n",
      "375.22 secs, 75269 evals, 75199 steps, improv/step: 0.189 (last = 0.1899), fitness=202262.788229866\n",
      "380.22 secs, 76272 evals, 76202 steps, improv/step: 0.189 (last = 0.1715), fitness=202262.788227702\n",
      "385.23 secs, 77277 evals, 77207 steps, improv/step: 0.189 (last = 0.1721), fitness=202262.788223756\n",
      "390.24 secs, 78277 evals, 78207 steps, improv/step: 0.189 (last = 0.2000), fitness=202262.788220236\n",
      "395.24 secs, 79284 evals, 79214 steps, improv/step: 0.189 (last = 0.2016), fitness=202262.788217279\n",
      "400.25 secs, 80291 evals, 80221 steps, improv/step: 0.189 (last = 0.1946), fitness=202262.788214832\n",
      "405.25 secs, 81295 evals, 81225 steps, improv/step: 0.189 (last = 0.1843), fitness=202262.788212727\n",
      "410.25 secs, 82302 evals, 82232 steps, improv/step: 0.189 (last = 0.1738), fitness=202262.788212652\n",
      "415.26 secs, 83306 evals, 83236 steps, improv/step: 0.189 (last = 0.1932), fitness=202262.788210965\n",
      "420.26 secs, 84313 evals, 84243 steps, improv/step: 0.189 (last = 0.1986), fitness=202262.788210201\n",
      "425.26 secs, 85317 evals, 85247 steps, improv/step: 0.189 (last = 0.2052), fitness=202262.788209728\n",
      "430.26 secs, 86324 evals, 86254 steps, improv/step: 0.190 (last = 0.2205), fitness=202262.788209241\n",
      "435.26 secs, 87327 evals, 87257 steps, improv/step: 0.190 (last = 0.2014), fitness=202262.788208719\n",
      "440.27 secs, 88333 evals, 88263 steps, improv/step: 0.190 (last = 0.1998), fitness=202262.788208473\n",
      "445.27 secs, 89333 evals, 89263 steps, improv/step: 0.190 (last = 0.1720), fitness=202262.788208217\n",
      "450.27 secs, 90339 evals, 90269 steps, improv/step: 0.190 (last = 0.1769), fitness=202262.788208070\n",
      "455.27 secs, 91346 evals, 91276 steps, improv/step: 0.189 (last = 0.1668), fitness=202262.788207798\n",
      "460.27 secs, 92349 evals, 92279 steps, improv/step: 0.190 (last = 0.2094), fitness=202262.788207672\n",
      "465.27 secs, 93356 evals, 93286 steps, improv/step: 0.190 (last = 0.2056), fitness=202262.788207562\n",
      "470.27 secs, 94360 evals, 94290 steps, improv/step: 0.190 (last = 0.1813), fitness=202262.788207351\n",
      "475.28 secs, 95368 evals, 95298 steps, improv/step: 0.189 (last = 0.1726), fitness=202262.788207258\n",
      "480.28 secs, 96373 evals, 96303 steps, improv/step: 0.189 (last = 0.1781), fitness=202262.788207145\n",
      "485.28 secs, 97381 evals, 97311 steps, improv/step: 0.189 (last = 0.1954), fitness=202262.788207064\n",
      "490.28 secs, 98386 evals, 98316 steps, improv/step: 0.190 (last = 0.1990), fitness=202262.788206956\n",
      "495.28 secs, 99394 evals, 99324 steps, improv/step: 0.189 (last = 0.1726), fitness=202262.788206903\n",
      "\n",
      "Optimization stopped after 99931 steps and 498.30 seconds\n",
      "Termination reason: Max number of function evaluations (100000) reached\n",
      "Steps per second = 200.55\n",
      "Function evals per second = 200.69\n",
      "Improvements/step = Inf\n",
      "Total function evaluations = 100001\n",
      "\n",
      "\n",
      "Best candidate found: [0.605809, 0.761069, 0.7171, 0.709551, 30000.0, 1.0, 0.62815, 0.55177, 0.359468, 0.1, 0.575392, 0.703071, 0.265178, 0.1, 0.532012, 0.312526, 0.356625, 0.199632, 0.150444, 0.1, 0.1, 0.217875, 0.505153, 0.200409, 0.1, 0.301448, 0.158272]\n",
      "\n",
      "Fitness: 202262.788206865\n",
      "\n"
     ]
    },
    {
     "data": {
      "text/plain": [
       "27-element Vector{Float64}:\n",
       "     0.6058087089729725\n",
       "     0.7610693549628851\n",
       "     0.717100191084767\n",
       "     0.7095512542139258\n",
       " 29999.99999993654\n",
       "     0.9999999996066106\n",
       "     0.6281495027408868\n",
       "     0.5517704157777589\n",
       "     0.35946838157843275\n",
       "     0.10000000002760376\n",
       "     0.5753919816272435\n",
       "     0.7030706437832919\n",
       "     0.2651779400444991\n",
       "     ⋮\n",
       "     0.3125260801170404\n",
       "     0.35662476274389476\n",
       "     0.19963216973144735\n",
       "     0.1504438275326322\n",
       "     0.10000000000204336\n",
       "     0.10000000000882125\n",
       "     0.21787500525208914\n",
       "     0.5051533993365251\n",
       "     0.20040867659872774\n",
       "     0.10000000032310519\n",
       "     0.301447993865664\n",
       "     0.15827163057786978"
      ]
     },
     "execution_count": 45,
     "metadata": {},
     "output_type": "execute_result"
    }
   ],
   "source": [
    "\n",
    "# all lower bounds are zero as these should be positive parameters\n",
    "# can swap estimate_likelihood for chi_square - change the last argument to \n",
    "# true for maximum likelihood, false for chi-sqared estimation\n",
    "println(k, \" \",K,\" \",M)\n",
    "sol_res = bboptimize(p -> estimate_likelihood(p, adjusted_placement_rates, k, K, M, true, false),\n",
    "    SearchRange = [(0.0, 1.0), (0.0, 1.0), (0.0, 1.0), (0.0, 1.0), (27489.0, 30000), \n",
    "        (0.1, 1.0), (0.1, 1.0), (0.1, 1.0), (0.1, 1.0), (0.1, 1.0), (0.1, 1.0), (0.1, 1.0), \n",
    "        (0.1, 1.0), (0.1, 1.0), (0.1, 1.0), (0.1, 1.0), (0.1, 5.0), (0.1, 5.0), (0.1, 5.0), \n",
    "        (0.1, 5.0), (0.1, 5.0), (0.1, 5.0), (0.1, 5.0), (0.1, 5.0), (0.1, 5.0), (0.1, 5.0),\n",
    "        (0.1, 5.0)], \n",
    "    MaxFuncEvals = 100000, TraceInterval = 5)\n",
    "sol = best_candidate(sol_res)"
   ]
  },
  {
   "cell_type": "code",
   "execution_count": 68,
   "id": "a226b38f-413c-425b-acd4-58699c6628cb",
   "metadata": {},
   "outputs": [
    {
     "data": {
      "text/plain": [
       "print_solution"
      ]
     },
     "execution_count": 68,
     "metadata": {},
     "output_type": "execute_result"
    }
   ],
   "source": [
    "\"\"\"\n",
    "    sol_res -> created by by bboptimize\n",
    "    placements ->   the adjusted placements matrix including unmatched (i.e, K rows) \n",
    "        dimensions are computed from matrix sizescomputer from the size of this matrix\n",
    "    workers ->  the actual number of placements by workers in each tier. \n",
    "    This number divided by estimated demand is \\alpha in the theory\n",
    "\"\"\"\n",
    "function print_solution(sol_res, placements, workers) \n",
    "    k = size(placements)[2]\n",
    "    K = size(placements)[1]-1\n",
    "    M = sum(placements)\n",
    "    values_table = zeros(2,k)\n",
    "   \n",
    "    sol = best_candidate(sol_res)\n",
    "    println(\"fitness = \", best_fitness(sol_res))\n",
    "    println()\n",
    "    println(\"Estimated Demand: \", sol[k])\n",
    "    println()\n",
    "    println(\"Values Table:\")\n",
    "    head1 = []\n",
    "    row1 = [\"Values\", \"Alpha\"]\n",
    "    push!(head1, \"  Tier 1: \")\n",
    "    start = 1\n",
    "    values_table[1,1] = start\n",
    "    values_table[2,1] = workers[1]/sol[k]\n",
    "    for i in 1:k-1\n",
    "        start = start*sol[i]\n",
    "        push!(head1, \"  Tier \"* string(1+i)*\":\")\n",
    "        values_table[1, i+1] = start\n",
    "        values_table[2, i+1] = workers[i+1]/sol[k]\n",
    "    end\n",
    "    pretty_table(values_table, header = head1, row_labels=row1, backend = Val(:text))\n",
    "    \n",
    "    ρ = get_rho(placements)\n",
    "    hiring_table = zeros(K,5)\n",
    "    head2 = [\"Mean\", \"Variance\", \"Mean (Parameter)\", \"Variance(Parameter)\", \"Beliefs\"]\n",
    "    row_names = load(files_path*\"row_names.jld\")[\"names\"]\n",
    "    row2 = []\n",
    "    for i in 1:size(row_names)[1]\n",
    "        if i == 10\n",
    "            continue\n",
    "        end\n",
    "        push!(row2, row_names[i])\n",
    "    end\n",
    "\n",
    "    for i in 1:K\n",
    "        hiring_table[i,1] = mean(truncated(Normal(sol[k+i],sol[k+K+i]), 0, 1))\n",
    "        hiring_table[i,2] = var(truncated(Normal(sol[k+i],sol[k+K+i]), 0, 1))\n",
    "        hiring_table[i,3] = sol[k+i]\n",
    "        hiring_table[i,4] = sol[k+K+i]\n",
    "        hiring_table[i,5] = ρ[i]\n",
    "    end\n",
    "    pretty_table(hiring_table, header = head2, row_labels=row2, backend = Val(:text))\n",
    "   return values_table, hiring_table, head1, row1, head2, row2\n",
    "end"
   ]
  },
  {
   "cell_type": "code",
   "execution_count": 69,
   "id": "fbddecf5-e48e-4361-b38b-a63d5303ecad",
   "metadata": {},
   "outputs": [
    {
     "name": "stdout",
     "output_type": "stream",
     "text": [
      "fitness = 202262.7882068646\n",
      "\n",
      "Estimated Demand: 29999.99999993654\n",
      "\n",
      "Values Table:\n",
      "┌────────┬────────────┬───────────┬───────────┬───────────┬───────────┐\n",
      "│\u001b[1m        \u001b[0m│\u001b[1m   Tier 1:  \u001b[0m│\u001b[1m   Tier 2: \u001b[0m│\u001b[1m   Tier 3: \u001b[0m│\u001b[1m   Tier 4: \u001b[0m│\u001b[1m   Tier 5: \u001b[0m│\n",
      "├────────┼────────────┼───────────┼───────────┼───────────┼───────────┤\n",
      "│\u001b[1m Values \u001b[0m│        1.0 │  0.605809 │  0.461062 │  0.330628 │  0.234597 │\n",
      "│\u001b[1m  Alpha \u001b[0m│   0.227233 │    0.2585 │    0.2342 │    0.1296 │ 0.0667667 │\n",
      "└────────┴────────────┴───────────┴───────────┴───────────┴───────────┘\n",
      "┌───────────────────────────────────┬──────────┬────────────┬──────────────────┬─────────────────────┬───────────┐\n",
      "│\u001b[1m                                   \u001b[0m│\u001b[1m     Mean \u001b[0m│\u001b[1m   Variance \u001b[0m│\u001b[1m Mean (Parameter) \u001b[0m│\u001b[1m Variance(Parameter) \u001b[0m│\u001b[1m   Beliefs \u001b[0m│\n",
      "├───────────────────────────────────┼──────────┼────────────┼──────────────────┼─────────────────────┼───────────┤\n",
      "│\u001b[1m                 TYPE 1 (20 insts) \u001b[0m│ 0.719621 │  0.0429591 │              1.0 │            0.356625 │  0.102674 │\n",
      "│\u001b[1m                 TYPE 2 (62 insts) \u001b[0m│ 0.614215 │  0.0338945 │          0.62815 │            0.199632 │  0.143663 │\n",
      "│\u001b[1m                TYPE 3 (179 insts) \u001b[0m│ 0.551132 │  0.0222748 │          0.55177 │            0.150444 │  0.231644 │\n",
      "│\u001b[1m                TYPE 4 (352 insts) \u001b[0m│ 0.359531 │ 0.00997757 │         0.359468 │                 0.1 │  0.128791 │\n",
      "│\u001b[1m                TYPE 5 (568 insts) \u001b[0m│  0.12876 │ 0.00629686 │              0.1 │                 0.1 │ 0.0271469 │\n",
      "│\u001b[1m         Public Sector (159 insts) \u001b[0m│ 0.564719 │  0.0400839 │         0.575392 │            0.217875 │ 0.0944318 │\n",
      "│\u001b[1m        Private Sector (255 insts) \u001b[0m│ 0.557611 │  0.0712279 │         0.703071 │            0.505153 │ 0.0958205 │\n",
      "│\u001b[1m              Postdocs (635 insts) \u001b[0m│ 0.301803 │  0.0290039 │         0.265178 │            0.200409 │ 0.0331049 │\n",
      "│\u001b[1m             Lecturers (443 insts) \u001b[0m│  0.12876 │ 0.00629686 │              0.1 │                 0.1 │ 0.0215921 │\n",
      "│\u001b[1m           Other Groups (39 insts) \u001b[0m│ 0.520135 │  0.0570474 │         0.532012 │            0.301448 │ 0.0327017 │\n",
      "│\u001b[1m Teaching Universities (663 insts) \u001b[0m│ 0.321731 │  0.0220833 │         0.312526 │            0.158272 │  0.088429 │\n",
      "└───────────────────────────────────┴──────────┴────────────┴──────────────────┴─────────────────────┴───────────┘\n"
     ]
    }
   ],
   "source": [
    "values_table, hiring_table, head1, row1, head2, row2 = print_solution(sol_res,adjusted_placement_rates, workers);"
   ]
  },
  {
   "cell_type": "code",
   "execution_count": 70,
   "id": "8158f596-1ac6-4512-9b11-ac19b740f925",
   "metadata": {},
   "outputs": [],
   "source": [
    "all_data = []\n",
    "push!(all_data, values_table);\n",
    "push!(all_data, hiring_table);"
   ]
  },
  {
   "cell_type": "markdown",
   "id": "ac0b9949-4ea7-41eb-8406-ac00c2bd5c4f",
   "metadata": {},
   "source": [
    "## Saving Data\n",
    "For use in other worksheets, the estimation results are save.  They come as three files.\n",
    "\n",
    "1. current_estimates.jld - this is a file that contains a vector of dimension $k+2K$.  The first $k-1$ entries are relative values, \n",
    "$\\frac{v_2}{v_1}$  The actual values are derived from these ratios by assigning $v_1$ the value 1.  The $k^th$ value is estimated demand.  The next $K$ values are parameters that are used to derive the distributions of offer values for each tier.  This first $K$ represent the means of normal distributions which are then truncated so that the distribution fits on $[0,1]$.  The last $K$ elements are the variances of these distributions.\n",
    "\n",
    "2. all_data.jld  All the actual values as show in the two tables above.  The values table (as used above) is the matrix all_data[1] while the hiring table (as constructed in the print funtion) is in all_data[2]\n"
   ]
  },
  {
   "cell_type": "code",
   "execution_count": 75,
   "id": "8205916f-966e-4a25-b0ae-473df0f79cac",
   "metadata": {},
   "outputs": [],
   "source": [
    "#save the bboptimize solution vector\n",
    "s = best_candidate(sol_res);\n",
    "save(files_path*\"current_estimates.jld\", \"s\", s)\n",
    "save(files_path*\"all_data.jld\", \"all_data\", all_data)"
   ]
  },
  {
   "cell_type": "code",
   "execution_count": 72,
   "id": "e718a2b0-6204-4178-baff-8664580ee1f8",
   "metadata": {},
   "outputs": [],
   "source": [
    "# separately save the values and hiring tables since they are derived from the solution\n",
    "open(files_path*\"current_estimates_values.tex\", \"w\") do f\n",
    "pretty_table(\n",
    "    f,\n",
    "    all_data[1],\n",
    "    header = head1,\n",
    "    row_labels = row1,\n",
    "    backend = Val(:latex)\n",
    "    )\n",
    "end\n",
    "\n",
    "open(files_path*\"current_estimates_hiring.tex\", \"w\") do f\n",
    "pretty_table(\n",
    "    f,\n",
    "    all_data[2],\n",
    "    header = head2,\n",
    "    row_labels = row2,\n",
    "    backend = Val(:latex)\n",
    "    )\n",
    "end"
   ]
  },
  {
   "cell_type": "code",
   "execution_count": 17,
   "id": "5426e1b6-b5c9-4b62-bfda-4f18259961fc",
   "metadata": {},
   "outputs": [
    {
     "ename": "LoadError",
     "evalue": "BoundsError: attempt to access 27-element Vector{Float64} at index [28]",
     "output_type": "error",
     "traceback": [
      "BoundsError: attempt to access 27-element Vector{Float64} at index [28]",
      "",
      "Stacktrace:",
      " [1] getindex(A::Vector{Float64}, i1::Int64)",
      "   @ Base ./array.jl:924",
      " [2] top-level scope",
      "   @ ./In[17]:11"
     ]
    }
   ],
   "source": [
    "# https://github.com/JuliaPlots/StatsPlots.jl/blob/master/README.md\n",
    "# https://docs.juliaplots.org/latest/tutorial/\n",
    "\n",
    "select_type = 1\n",
    "cdfs = plot(truncated(Normal(sol[2k-1+select_type], sol[2k-1+select_type+K]), 0, 1), func = cdf, title = \"CDFs of Types\", label = \"Type 1\")\n",
    "for select_type in 2:NUMBER_OF_TYPES # academic types\n",
    "    plot!(cdfs, truncated(Normal(sol[2k-1+select_type], sol[2k-1+select_type+K]), 0, 1), func = cdf, label = string(\"Type \", select_type))\n",
    "end\n",
    "\n",
    "for select_type in k+1:K # sinks\n",
    "    plot!(cdfs, truncated(Normal(sol[2k-1+select_type], sol[2k-1+select_type+K]), 0, 1), func = cdf, label = string(\"Sink \", select_type - k))\n",
    "end\n",
    "xlabel!(cdfs, \"offer value\")\n",
    "ylabel!(cdfs, \"F(offer value)\")\n",
    "savefig(cdfs, \"cdfs.png\")\n",
    "cdfs"
   ]
  },
  {
   "cell_type": "code",
   "execution_count": 19,
   "id": "60ac46ea-8e03-4f48-871b-104d34d6baa4",
   "metadata": {},
   "outputs": [
    {
     "ename": "LoadError",
     "evalue": "BoundsError: attempt to access 27-element Vector{Float64} at index [28]",
     "output_type": "error",
     "traceback": [
      "BoundsError: attempt to access 27-element Vector{Float64} at index [28]",
      "",
      "Stacktrace:",
      " [1] getindex(A::Vector{Float64}, i1::Int64)",
      "   @ Base ./array.jl:924",
      " [2] top-level scope",
      "   @ ./In[19]:9"
     ]
    }
   ],
   "source": [
    "select_type = 1\n",
    "pdfs = plot(truncated(Normal(sol[2k-1+select_type], sol[2k-1+select_type+K]), 0, 1), func = pdf, title = \"PDFs of Types\", label = \"Type 1\")\n",
    "for select_type in 2:k # academic types\n",
    "    plot!(pdfs, truncated(Normal(sol[2k-1+select_type], sol[2k-1+select_type+K]), 0, 1), func = pdf, \n",
    "        label = string(\"Type \", select_type))\n",
    "end\n",
    "\n",
    "for select_type in k+1:K # sinks\n",
    "    plot!(pdfs, truncated(Normal(sol[2k-1+select_type], sol[2k-1+select_type+K]), 0, 1), func = pdf, label = string(\"Sink \", select_type - k))\n",
    "end\n",
    "xlabel!(pdfs, \"offer value\")\n",
    "ylabel!(pdfs, \"f(offer value)\")\n",
    "savefig(pdfs, \"pdfs.png\")"
   ]
  }
 ],
 "metadata": {
  "kernelspec": {
   "display_name": "Julia 1.8.5",
   "language": "julia",
   "name": "julia-1.8"
  },
  "language_info": {
   "file_extension": ".jl",
   "mimetype": "application/julia",
   "name": "julia",
   "version": "1.8.5"
  }
 },
 "nbformat": 4,
 "nbformat_minor": 5
}
