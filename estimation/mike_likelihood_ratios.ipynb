{
 "cells": [
  {
   "cell_type": "code",
   "execution_count": 1,
   "id": "f0723f9d-6b1a-48aa-8fb8-aa976a48b805",
   "metadata": {},
   "outputs": [],
   "source": [
    "using HTTP, JSON, PrettyTables, JLD, DotEnv, Distributions, LinearAlgebra, Dates"
   ]
  },
  {
   "cell_type": "code",
   "execution_count": 2,
   "id": "b49e4b89-77fe-4f46-91e1-e81d67fe43d0",
   "metadata": {},
   "outputs": [
    {
     "data": {
      "text/plain": [
       "Dict{String, Any} with 4 entries:\n",
       "  \"data_loaded\"        => DateTime(\"2024-06-18T18:21:53.103\")\n",
       "  \"institution_counts\" => [20, 58, 180, 334, 522, 152, 227, 598, 413, 1, 38, 64…\n",
       "  \"algorithm_run_id\"   => 5\n",
       "  \"num_years\"          => 24"
      ]
     },
     "execution_count": 2,
     "metadata": {},
     "output_type": "execute_result"
    }
   ],
   "source": [
    "cfg = DotEnv.config(\"../.env\")\n",
    "files_path = cfg[\"files_path\"]\n",
    "adjacency = load(files_path*\"placement_rates.jld\")[\"placement_rates\"]\n",
    "classification_properties = load(files_path*\"classification_properties.jld\")[\"classification_properties\"]"
   ]
  },
  {
   "cell_type": "markdown",
   "id": "921f10e2-ab6d-4ff9-a06e-a583445238b8",
   "metadata": {},
   "source": [
    "# Likelihood Ratios\n",
    "\n",
    "The objective is to calculate the probability of each individual university's profiles of hires and placements given the placement rates estimated for each of the tiers in the classification.  The probabilities are then compared across tiers by calculating the ratio of each of these probabilities to the probability they have given the tier in which the university was placed by the classification algorithm.  If a university is classified as tier 1, then the probabililty of its hires and placements should he bigher using the rates estimated for tier 1 than they are using the rates estimated for tier 2.\n",
    "\n",
    "We'll actually do it for hires and placements separately as well to check how restrictive is the assumption that universities who are the best at placing students are also best at hiring them.\n"
   ]
  },
  {
   "cell_type": "code",
   "execution_count": 3,
   "id": "7a74219e-ca30-4a1c-a68d-42cc0eeb9d7f",
   "metadata": {},
   "outputs": [
    {
     "data": {
      "text/plain": [
       "12×5 Matrix{Float64}:\n",
       "  2.4875       0.704167     0.358333     0.0895833    0.00833333\n",
       "  0.682471     0.612787     0.225575     0.0653736    0.00718391\n",
       "  0.24838      0.319676     0.228241     0.0337963    0.00787037\n",
       "  0.0336826    0.0631238    0.0562625    0.051023     0.00411677\n",
       "  0.0          0.00335249   0.00423052   0.00223499   0.0130109\n",
       "  0.155702     0.149397     0.078125     0.015625     0.00630482\n",
       "  0.142621     0.0809471    0.0422173    0.0100954    0.00477239\n",
       "  0.0059922    0.00905797   0.00940635   0.0039019    0.00188127\n",
       "  0.00343019   0.00595238   0.00696126   0.0041364    0.00484262\n",
       " 15.2917      24.9583      31.3333      17.2083      14.2083\n",
       "  0.230263     0.180921     0.0910088    0.0350877    0.00986842\n",
       "  0.0155763    0.0244678    0.0272586    0.0103193    0.00447819"
      ]
     },
     "execution_count": 3,
     "metadata": {},
     "output_type": "execute_result"
    }
   ],
   "source": [
    "# tier hiring rates\n",
    "# this is just for illustration - the hiring rate should be per year per university\n",
    "# adjacency is the matrix returned by the classification algorithm \n",
    "phr = zeros(size(adjacency)[1], size(adjacency)[2]);\n",
    "for i in 1:size(adjacency)[1], j in 1:size(adjacency)[2]\n",
    "    phr[i,j] = \n",
    "    adjacency[i,j]/(classification_properties[\"num_years\"]*classification_properties[\"institution_counts\"][i])\n",
    "end\n",
    "phr"
   ]
  },
  {
   "cell_type": "markdown",
   "id": "150bda21-1740-4338-9d78-4c12c6cdd9c8",
   "metadata": {},
   "source": [
    "The third to last row above aggragates all the placements that ended up in intitution 574 (ocean and crow). \n",
    "Each of these placements was either a applicant who never left a trail to show where they were hired, or an applicant\n",
    "who got a job in an institution that was not included in the econjobmarket list of institutions.\n",
    "\n",
    "This matrix says that each tier 1 university hired almost 2 and a half graduates every year from other tier 1 universities\n",
    "\n",
    "These tended to be institutions who never placed an ad on econjobmarket, and who were never mentioned as a graduating institution\n",
    "by any applicant who registered on econjobmarket.  Basically these were people who failed to get jobs on the international job market.\n",
    "This is not completely accurate, but no definition of the scope of a market is ever going to be good.\n",
    "\n",
    "The next computation just does the same thing for placements.  The third to last row"
   ]
  },
  {
   "cell_type": "code",
   "execution_count": 4,
   "id": "ce374db1-1f70-47a9-b4af-8bfbfbd631b9",
   "metadata": {},
   "outputs": [
    {
     "data": {
      "text/plain": [
       "12×5 Matrix{Float64}:\n",
       " 2.4875     0.242816   0.0398148  0.00536427  0.000319285\n",
       " 1.97917    0.612787   0.0726852  0.0113523   0.000798212\n",
       " 2.23542    0.992098   0.228241   0.0182136   0.00271392\n",
       " 0.5625     0.363506   0.104398   0.051023    0.0026341\n",
       " 0.0        0.0301724  0.0122685  0.00349301  0.0130109\n",
       " 1.18333    0.391523   0.0659722  0.00711078  0.00183589\n",
       " 1.61875    0.31681    0.0532407  0.00686128  0.00207535\n",
       " 0.179167   0.0933908  0.03125    0.00698603  0.00215517\n",
       " 0.0708333  0.0423851  0.0159722  0.00511477  0.00383142\n",
       " 0.764583   0.430316   0.174074   0.051522    0.027219\n",
       " 0.4375     0.118534   0.019213   0.00399202  0.000718391\n",
       " 0.5        0.270833   0.0972222  0.0198353   0.00550766"
      ]
     },
     "execution_count": 4,
     "metadata": {},
     "output_type": "execute_result"
    }
   ],
   "source": [
    "# tier placement rates \n",
    "ppr = zeros(size(adjacency)[1], size(adjacency)[2]);\n",
    "for i in 1:size(adjacency)[1], j in 1:size(adjacency)[2]\n",
    "    ppr[i,j] = \n",
    "    adjacency[i,j]/(classification_properties[\"num_years\"]*classification_properties[\"institution_counts\"][j])\n",
    "end\n",
    "ppr"
   ]
  },
  {
   "cell_type": "markdown",
   "id": "54bdc290-4fe5-4839-830f-b7414e375a9a",
   "metadata": {},
   "source": [
    "When doing the probability calculations, the number of years over which data is collected is constant for all \n",
    "observations.  So whenever we do ratios it will just cancel out.  By recomputing rates to exclude it we can use the poisson\n",
    "distribution directly for university level probability calculations."
   ]
  },
  {
   "cell_type": "code",
   "execution_count": 5,
   "id": "02cac477-697d-4ebe-95f9-b9dd44ddba23",
   "metadata": {},
   "outputs": [],
   "source": [
    "hiring_rates = zeros(size(adjacency)[1], size(adjacency)[2]);\n",
    "for i in 1:size(adjacency)[1], j in 1:size(adjacency)[2]\n",
    "    hiring_rates[i,j] = \n",
    "    adjacency[i,j]/classification_properties[\"institution_counts\"][i]\n",
    "end\n",
    "placement_rates = zeros(size(adjacency)[1], size(adjacency)[2]);\n",
    "for i in 1:size(adjacency)[1], j in 1:size(adjacency)[2]\n",
    "    placement_rates[i,j] = \n",
    "    adjacency[i,j]/classification_properties[\"institution_counts\"][j]\n",
    "end"
   ]
  },
  {
   "cell_type": "markdown",
   "id": "1aea523e-57f8-43d5-875f-51d8fcec1861",
   "metadata": {},
   "source": [
    "The next task is to load the academic placements and the tier information"
   ]
  },
  {
   "cell_type": "code",
   "execution_count": 6,
   "id": "6e2d356b-928b-4c09-87f7-d0a1d666f3be",
   "metadata": {},
   "outputs": [],
   "source": [
    "#academic_builder = load(files_path*\"academic_builder.jld\")[\"academic_builder\"];\n",
    "filtered_data = load(files_path*\"filtered_data.jld\")[\"filtered_data\"];\n",
    "sinks = load(files_path*\"sinks.jld\")[\"sinks\"];\n",
    "id_to_type_api = JSON.parsefile(files_path*\"id_to_type_api.json\");\n"
   ]
  },
  {
   "cell_type": "code",
   "execution_count": 7,
   "id": "1fbac8a9-f397-476c-8a70-4874bdcd95cd",
   "metadata": {},
   "outputs": [
    {
     "data": {
      "text/plain": [
       "institution_lookup (generic function with 1 method)"
      ]
     },
     "execution_count": 7,
     "metadata": {},
     "output_type": "execute_result"
    }
   ],
   "source": [
    "function hiring_outcomes(filtered_data, id_to_type_api, num_types, ejm_id)\n",
    "    cnt = zeros(Int32,num_types)\n",
    "    #println(\"ejm_is is \",typeof(ejm_id), \"\\n\")\n",
    "    for placement in filtered_data\n",
    "        if placement[\"to_institution_id\"] ==  ejm_id\n",
    "            #println(placement[\"from_institution_id\"], \" has type \", typeof(placement[\"from_institution_id\"]))\n",
    "            t = type_lookup(id_to_type_api,placement[\"from_institution_id\"])\n",
    "            #hack because from_institution_id = 1021 return nulls (Tech University of Brauschweig)\n",
    "            # and this is the only missing id 1021 is type 5\n",
    "            if t == 0 \n",
    "                t = 5\n",
    "            end\n",
    "            #println(placement[\"from_institution_id\"], \" returns \", t, \" which has type \",typeof(t))\n",
    "            cnt[t] += 1\n",
    "        end\n",
    "    end\n",
    "    return cnt\n",
    "end\n",
    "\n",
    "function placement_outcomes(filtered_data, sinks, id_to_type_api, num_types, ejm_id)\n",
    "    cnt = zeros(Int32, num_types)\n",
    "    for placement in filtered_data\n",
    "        if placement[\"from_institution_id\"] ==  string(ejm_id) || placement[\"from_institution_id\"] ==  ejm_id\n",
    "            #println(placement[\"to_name\"])\n",
    "            k = placement[\"to_institution_id\"]\n",
    "            t = type_lookup(id_to_type_api,string(k))\n",
    "            #println(placement[\"from_institution_id\"], \" returns \", t, \" which has type \",typeof(t))\n",
    "            if t > 0\n",
    "                cnt[t] += 1\n",
    "            else\n",
    "                p = placement[\"to_name\"]\n",
    "                #println(\"checking \", p)\n",
    "                n = 1\n",
    "                for sink in sinks\n",
    "                    if p in sink\n",
    "                        cnt[5+n] += 1 \n",
    "                        break \n",
    "                    else\n",
    "                        n += 1\n",
    "                    end\n",
    "                end\n",
    "            end\n",
    "        end\n",
    "    end\n",
    "    return cnt\n",
    "end\n",
    "\n",
    "function type_lookup(id_to_type_api, ejm_id)\n",
    "    for x in id_to_type_api\n",
    "        if x[\"institution_id\"] == ejm_id\n",
    "            return x[\"type\"]\n",
    "        end\n",
    "    end\n",
    "    return 0\n",
    "end\n",
    "\n",
    "function to_type_lookup(id_to_type_api, ejm_id)\n",
    "    for x in id_to_type_api\n",
    "        if x[\"institution_id\"] == string(ejm_id)\n",
    "            return x[\"type\"]\n",
    "        end\n",
    "    end\n",
    "    return 0\n",
    "end\n",
    "\n",
    "function name_lookup(id_to_type_api, ejm_id)\n",
    "    for x in id_to_type_api\n",
    "        if x[\"institution_id\"] == string(ejm_id)\n",
    "            return x[\"name\"]\n",
    "        end\n",
    "    end\n",
    "end\n",
    "\n",
    "function institution_lookup(id_to_type_api, ejm_id)\n",
    "    for x in id_to_type_api\n",
    "        if x[\"institution_id\"] == string(ejm_id)\n",
    "            return x\n",
    "        end\n",
    "    end\n",
    "end        "
   ]
  },
  {
   "cell_type": "code",
   "execution_count": 8,
   "id": "e719609e-18e2-41c1-bfb7-cc78acec7b38",
   "metadata": {},
   "outputs": [
    {
     "data": {
      "text/plain": [
       "likelihood_ratios (generic function with 1 method)"
      ]
     },
     "execution_count": 8,
     "metadata": {},
     "output_type": "execute_result"
    }
   ],
   "source": [
    "function likelihood_ratios(filtered_data, sinks, id_to_type_api, hiring_rates, placement_rates, institution_id)\n",
    "    \"\"\"\n",
    "        compute likelihood ratios by calculating the mutinomial probability of hires and placements using\n",
    "        the ml poission rates for each of the tiers.  Normally, the tier to which they are assigned should\n",
    "        have ratio 1, but with small numbers of placements or hires this breaks down\n",
    "    \n",
    "        In cases with no recorded hires, rates are set arbirarily to 1 for the tier, zero for everything else\n",
    "        Not sure yet what happens when placements or hires are small, eg 1 or 2\n",
    "    \"\"\"\n",
    "    \n",
    "    institution = institution_lookup(id_to_type_api, institution_id)\n",
    "    r = zeros(size(hiring_rates)[2])\n",
    "    p = zeros(size(hiring_rates)[2])\n",
    "    q = zeros(size(hiring_rates)[2])\n",
    "    euclid = zeros(size(hiring_rates)[2])\n",
    "    hiring = zeros(size(hiring_rates)[2])\n",
    "    placing = zeros(size(hiring_rates)[2])\n",
    "    t = institution[\"type\"]\n",
    "    name = institution[\"name\"]\n",
    "    #println(t, \" \", name)\n",
    "    \n",
    "    # start with hiring\n",
    "    a = hiring_outcomes(filtered_data, id_to_type_api, \n",
    "        size(hiring_rates)[2], parse(Int64, institution[\"institution_id\"]))\n",
    "    placements = placement_outcomes(filtered_data, sinks, id_to_type_api, \n",
    "        size(hiring_rates)[1], institution[\"institution_id\"])\n",
    "    if iszero(a)\n",
    "        for k in 1:size(hiring_rates)[2]\n",
    "            if k == t\n",
    "                r[k] = 1\n",
    "                break\n",
    "            end\n",
    "        end\n",
    "        return Dict(\"name\" => name, \"id\" => institution[\"institution_id\"],\n",
    "            \"tier\" => t, \"ratios\" => r , \"hires\" => a, \"placements\" => placements)\n",
    "    end \n",
    "    if iszero(placements)\n",
    "        for k in 1:size(hiring_rates)[2]\n",
    "            if k == t\n",
    "                r[k] = 1\n",
    "                break\n",
    "            end\n",
    "        end\n",
    "        return Dict(\"name\" => name, \"id\" => institution[\"institution_id\"],\n",
    "            \"tier\" => t, \"ratios\" => r , \"hires\" => a, \"placements\" => placements)\n",
    "    end\n",
    "    for i in 1:size(hiring_rates)[2]\n",
    "        prod = 1\n",
    "        for j in 1:length(a)\n",
    "            prod = pdf(Poisson(hiring_rates[i,j]), a[j])*prod\n",
    "        end\n",
    "        p[i] = prod\n",
    "    end\n",
    "    for j in 1:size(hiring_rates)[2]\n",
    "        hiring[j]=p[j]/p[t]\n",
    "    end\n",
    "    \n",
    "    for i in 1:size(hiring_rates)[2]\n",
    "        prod = 1\n",
    "        for j in 1:length(placements)\n",
    "            prod = pdf(Poisson(placement_rates[j,i]), placements[j])*prod\n",
    "        end\n",
    "        q[i] = prod\n",
    "    end\n",
    "    for j in 1:size(hiring_rates)[2]\n",
    "        placing[j]=q[j]/q[t]\n",
    "    end\n",
    "    for j in 1:size(hiring_rates)[2]\n",
    "        r[j]=(p[j]*q[j])/(p[t]*q[t])\n",
    "    end\n",
    "    for i in 1:size(hiring_rates)[2]\n",
    "        euclid[i] = norm(vcat(a,placements)-vcat(hiring_rates[i,:],placement_rates[:,i]))\n",
    "    end\n",
    "\n",
    "    return  Dict(\"name\" => name, \"id\" => institution[\"institution_id\"],\n",
    "        \"tier\" => t, \"ratios\" => r, \"hiring_ratios\" => hiring,\n",
    "        \"placement_ratios\" => placing, \"hires\" => a, \"placements\" => placements, \"euclidian\" => euclid)\n",
    "end"
   ]
  },
  {
   "cell_type": "code",
   "execution_count": 9,
   "id": "71fcd573-1c7d-40be-b15d-c2bf550bed9f",
   "metadata": {},
   "outputs": [
    {
     "data": {
      "text/plain": [
       "Dict{String, Any} with 9 entries:\n",
       "  \"name\"             => \"University of California, San Diego\"\n",
       "  \"ratios\"           => [8.24943e-50, 1.0, 2.15063e-33, 1.52353e-120, 0.0]\n",
       "  \"hiring_ratios\"    => [5.704e-5, 1.0, 8.10479e-7, 6.19834e-31, 0.0]\n",
       "  \"tier\"             => 2\n",
       "  \"placement_ratios\" => [1.44625e-45, 1.0, 2.65353e-27, 2.45796e-90, 6.25051e-1…\n",
       "  \"id\"               => \"1\"\n",
       "  \"hires\"            => Int32[28, 5, 5, 1, 0]\n",
       "  \"placements\"       => Int32[7, 16, 21, 4, 0, 7, 12, 2, 0, 7, 1, 6]\n",
       "  \"euclidian\"        => [86.7685, 17.449, 33.8214, 41.7691, 43.151]"
      ]
     },
     "execution_count": 9,
     "metadata": {},
     "output_type": "execute_result"
    }
   ],
   "source": [
    "# run various tests\n",
    "a = likelihood_ratios(filtered_data, sinks, id_to_type_api, hiring_rates, placement_rates, 1\n",
    ")\n",
    "#a = hiring_outcomes(filtered_data, id_to_type_api, size(placement_rates)[2], 1765)\n",
    "#a = placement_outcomes(filtered_data, sinks, id_to_type_api, size(placement_rates)[1], 32)\n",
    "#id_to_type_api[9][\"institution_id\"]\n",
    "#type_lookup(id_to_type_api,\"350\")"
   ]
  },
  {
   "cell_type": "code",
   "execution_count": 10,
   "id": "8b4abf0f-a395-41a2-887f-0c9edc3ed0dc",
   "metadata": {},
   "outputs": [],
   "source": [
    "#save the calculations for all institutions\n",
    "rep = []\n",
    "for institution in id_to_type_api\n",
    "    try\n",
    "        s = likelihood_ratios(filtered_data, sinks, id_to_type_api, hiring_rates,\n",
    "            placement_rates, institution[\"institution_id\"])\n",
    "        push!(rep, s)\n",
    "    catch e\n",
    "        println(institution)\n",
    "    end\n",
    "\n",
    "end\n",
    "  "
   ]
  },
  {
   "cell_type": "code",
   "execution_count": 11,
   "id": "aaecc0a2-223d-4cd4-b3b2-43a9aad8bf84",
   "metadata": {},
   "outputs": [],
   "source": [
    "open(files_path*\"likelihood_ratios.json\", \"w\") do f\n",
    "    write(f, JSON.json(rep))\n",
    "end;"
   ]
  },
  {
   "cell_type": "code",
   "execution_count": 13,
   "id": "374ec2ad-3568-4803-bdb3-ed0f669a2eaf",
   "metadata": {
    "scrolled": true,
    "tags": []
   },
   "outputs": [
    {
     "name": "stdout",
     "output_type": "stream",
     "text": [
      "There were 0 anomalies\n",
      "The proportion 0.0 were anomalous\n"
     ]
    }
   ],
   "source": [
    "n = 0\n",
    "m = 0\n",
    "# set this to the tier you want to view\n",
    "tier = 4\n",
    "# set the next variable to zero to see all universities in the tier\n",
    "# set it to 1 to see only those whose likelihood ratios don't support their tier assignment\n",
    "anomalous = 1\n",
    "for r in rep\n",
    "    if r[\"tier\"] == tier\n",
    "        m += 1\n",
    "        if maximum(r[\"ratios\"]) > r[\"ratios\"][r[\"tier\"]]\n",
    "            n +=1\n",
    "            println(r[\"name\"], \" \", r[\"id\"], \" \", r[\"tier\"])\n",
    "            println(\"Anomalous ratio\")\n",
    "            for k in keys(r)\n",
    "                println(k, \" => \", r[k])\n",
    "            end\n",
    "            println(\"\\n\\n\")\n",
    "        else\n",
    "            if anomalous == 1\n",
    "                continue\n",
    "            end\n",
    "            println(r[\"name\"], \" \", r[\"id\"], \" \", r[\"tier\"])\n",
    "            for k in keys(r)\n",
    "                println(k, \" => \", r[k])\n",
    "            end\n",
    "            println(\"\\n\\n\")\n",
    "        end\n",
    "    end\n",
    "end\n",
    "println(\"There were \", n, \" anomalies\")\n",
    "println(\"The proportion \", n/m, \" were anomalous\") "
   ]
  },
  {
   "cell_type": "code",
   "execution_count": null,
   "id": "4010389d-ca78-4a50-993f-5d82b1cc6dbe",
   "metadata": {},
   "outputs": [],
   "source": []
  }
 ],
 "metadata": {
  "kernelspec": {
   "display_name": "Julia 1.8.5",
   "language": "julia",
   "name": "julia-1.8"
  },
  "language_info": {
   "file_extension": ".jl",
   "mimetype": "application/julia",
   "name": "julia",
   "version": "1.8.5"
  }
 },
 "nbformat": 4,
 "nbformat_minor": 5
}
